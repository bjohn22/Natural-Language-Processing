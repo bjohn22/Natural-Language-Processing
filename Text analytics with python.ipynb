{
 "cells": [
  {
   "cell_type": "markdown",
   "metadata": {},
   "source": [
    "Text analytics with python"
   ]
  },
  {
   "cell_type": "markdown",
   "metadata": {},
   "source": [
    "Using anonymous function: lambdas\n",
    "The lambda\n",
    "keyword is used to define inline function objects that can be used just like regular\n",
    "functions, with a few differences. The general syntax for a lambda function is shown in the\n",
    "following code snippet:\n",
    "> lambda arg, arg2,... arg_n : <inline expression using args>\n",
    "    \n"
   ]
  },
  {
   "cell_type": "code",
   "execution_count": 8,
   "metadata": {},
   "outputs": [
    {
     "data": {
      "text/plain": [
       "25"
      ]
     },
     "execution_count": 8,
     "metadata": {},
     "output_type": "execute_result"
    }
   ],
   "source": [
    "# simple lambda function to square a number\n",
    "lambda_square = lambda n: n*n\n",
    "lambda_square(5)"
   ]
  },
  {
   "cell_type": "code",
   "execution_count": 9,
   "metadata": {},
   "outputs": [],
   "source": [
    "import functools\n",
    "from functools import reduce"
   ]
  },
  {
   "cell_type": "code",
   "execution_count": 10,
   "metadata": {
    "scrolled": true
   },
   "outputs": [
    {
     "data": {
      "text/plain": [
       "15"
      ]
     },
     "execution_count": 10,
     "metadata": {},
     "output_type": "execute_result"
    }
   ],
   "source": [
    "# lambda function to add numbers used for adding numbers in reduce function\n",
    "lambda_sum = lambda x, y: x + y\n",
    "reduce(lambda_sum, [1, 2, 3, 4, 5])"
   ]
  },
  {
   "cell_type": "code",
   "execution_count": 38,
   "metadata": {},
   "outputs": [
    {
     "data": {
      "text/plain": [
       "<map at 0x218ef2fd248>"
      ]
     },
     "execution_count": 38,
     "metadata": {},
     "output_type": "execute_result"
    }
   ],
   "source": [
    "# map function to square numbers using lambda\n",
    "map(lambda_square, [1, 2, 3, 4, 5])"
   ]
  },
  {
   "cell_type": "markdown",
   "metadata": {},
   "source": [
    "The join() method is a string method and returns a string in which the elements of sequence have been joined by str separator."
   ]
  },
  {
   "cell_type": "code",
   "execution_count": 15,
   "metadata": {},
   "outputs": [
    {
     "data": {
      "text/plain": [
       "'1-2-3-4'"
      ]
     },
     "execution_count": 15,
     "metadata": {},
     "output_type": "execute_result"
    }
   ],
   "source": [
    "list1 = ['1','2','3','4'] \n",
    "s = \"-\"\n",
    "# joins elements of list1 by '-'\n",
    "# and stores in sting s\n",
    "s = s.join(list1)\n",
    "s"
   ]
  },
  {
   "cell_type": "code",
   "execution_count": 16,
   "metadata": {},
   "outputs": [],
   "source": [
    "# lambda function to make a sentence from word tokens with reduce function\n",
    "lambda_sentence_maker = lambda word1, word2: ' '.join([word1,\n",
    "word2])"
   ]
  },
  {
   "cell_type": "code",
   "execution_count": 17,
   "metadata": {},
   "outputs": [
    {
     "data": {
      "text/plain": [
       "'I am making a sentence from words!'"
      ]
     },
     "execution_count": 17,
     "metadata": {},
     "output_type": "execute_result"
    }
   ],
   "source": [
    "reduce(lambda_sentence_maker, ['I', 'am', 'making', 'a',\n",
    "'sentence', 'from', 'words!'])"
   ]
  },
  {
   "cell_type": "markdown",
   "metadata": {},
   "source": [
    "# Iterators\n",
    "Iterators are constructs used to iterate through iterables. Iterables are objects that are\n",
    "basically sequences of other objects and data. A good example would be a for loop, which is\n",
    "actually an iterable that iterates through a list or sequence. Iterators are objects or constructs\n",
    "that can be used to iterate through iterables using the next() function, which returns the next\n",
    "item from the iterable at each call. Once it has iterated through the entire iterable, it returns\n",
    "a StopIteration exception. We have seen how a for loop works in general, however behind\n",
    "the abstraction, the for loop actually calls the iter() function on the iterable to create an\n",
    "iterator object and then traverses through it using the next() function.\n",
    "\n",
    "# Comprehensions\n",
    "Comprehensions are interesting constructs that are similar to for loops but more\n",
    "efficient. They fall rightly into the functional programming paradigm following the set\n",
    "builder notation.\n",
    "\n",
    "\n",
    "\n",
    "equivalent for loop statement\n",
    "for item in iterable:\n",
    "    expression"
   ]
  },
  {
   "cell_type": "markdown",
   "metadata": {},
   "source": [
    "typical comprehension syntax\n",
    "[ expression for item in iterable ]\n",
    "\n",
    "\n",
    "equivalent for loop statement\n",
    "for item in iterable:\n",
    "    expression\n",
    "\n",
    "\n",
    "complex and nested iterations\n",
    "[ expression for item1 in iterable1 if condition1\n",
    "    for item2 in iterable2 if condition2 ...\n",
    "    for itemN in iterableN if conditionN ]\n",
    "    \n",
    "    \n",
    "equivalent for loop statement\n",
    "for item1 in iterable1:\n",
    "    if condition1:\n",
    "        for item2 in iterable2:\n",
    "            if condition2:\n",
    "                ...\n",
    "                    for itemN in iterableN:\n",
    "                        if conditionN:\n",
    "                            expression"
   ]
  },
  {
   "cell_type": "code",
   "execution_count": 20,
   "metadata": {},
   "outputs": [
    {
     "data": {
      "text/plain": [
       "[0, 1, 4, 9, 16, 25]"
      ]
     },
     "execution_count": 20,
     "metadata": {},
     "output_type": "execute_result"
    }
   ],
   "source": [
    "# simple list comprehension to compute squares\n",
    "numbers = range(6)\n",
    "[num*num for num in numbers]"
   ]
  },
  {
   "cell_type": "code",
   "execution_count": 21,
   "metadata": {},
   "outputs": [
    {
     "data": {
      "text/plain": [
       "[0, 1, 0, 1, 0, 1]"
      ]
     },
     "execution_count": 21,
     "metadata": {},
     "output_type": "execute_result"
    }
   ],
   "source": [
    "# list comprehension to check if number is divisible by 2\n",
    "[num%2 for num in numbers]"
   ]
  },
  {
   "cell_type": "code",
   "execution_count": 22,
   "metadata": {},
   "outputs": [
    {
     "data": {
      "text/plain": [
       "{0, 1}"
      ]
     },
     "execution_count": 22,
     "metadata": {},
     "output_type": "execute_result"
    }
   ],
   "source": [
    "# set comprehension returns distinct values of the above operation\n",
    "set(num%2 for num in numbers)"
   ]
  },
  {
   "cell_type": "code",
   "execution_count": 23,
   "metadata": {
    "scrolled": true
   },
   "outputs": [
    {
     "data": {
      "text/plain": [
       "{0: 0, 1: 1, 2: 4, 3: 9, 4: 16, 5: 25}"
      ]
     },
     "execution_count": 23,
     "metadata": {},
     "output_type": "execute_result"
    }
   ],
   "source": [
    "# dictionary comprehension where key:value is number: square(number)\n",
    "{num: num*num for num in numbers}"
   ]
  },
  {
   "cell_type": "code",
   "execution_count": 28,
   "metadata": {},
   "outputs": [
    {
     "data": {
      "text/plain": [
       "[{'number': 0, 'square': 0, 'type': 'even'},\n",
       " {'number': 1, 'square': 1, 'type': 'odd'},\n",
       " {'number': 2, 'square': 4, 'type': 'even'},\n",
       " {'number': 3, 'square': 9, 'type': 'odd'},\n",
       " {'number': 4, 'square': 16, 'type': 'even'},\n",
       " {'number': 5, 'square': 25, 'type': 'odd'}]"
      ]
     },
     "execution_count": 28,
     "metadata": {},
     "output_type": "execute_result"
    }
   ],
   "source": [
    "# a more complex comprehension showcasing above operations in a single comprehension\n",
    "[{'number': num,\n",
    "'square': num*num,\n",
    "'type': 'even' if num%2 == 0 else 'odd'} for num in numbers]"
   ]
  },
  {
   "cell_type": "code",
   "execution_count": 29,
   "metadata": {},
   "outputs": [
    {
     "data": {
      "text/plain": [
       "[5, 6, 7, 8]"
      ]
     },
     "execution_count": 29,
     "metadata": {},
     "output_type": "execute_result"
    }
   ],
   "source": [
    "# nested list comprehension - flattening a list of lists\n",
    "list_of_lists = [[1, 2, 3, 4], [5, 6, 7, 8], [9, 10, 11, 12]]\n",
    "list_of_lists[1]"
   ]
  },
  {
   "cell_type": "code",
   "execution_count": 30,
   "metadata": {},
   "outputs": [
    {
     "data": {
      "text/plain": [
       "[1, 2, 3, 4, 5, 6, 7, 8, 9, 10, 11, 12]"
      ]
     },
     "execution_count": 30,
     "metadata": {},
     "output_type": "execute_result"
    }
   ],
   "source": [
    "[item for each_list in list_of_lists for item in each_list]"
   ]
  },
  {
   "cell_type": "code",
   "execution_count": 31,
   "metadata": {},
   "outputs": [
    {
     "data": {
      "text/plain": [
       "[1, 2, 3, 4, 5, 6, 7, 8, 9, 10, 11, 12]"
      ]
     },
     "execution_count": 31,
     "metadata": {},
     "output_type": "execute_result"
    }
   ],
   "source": [
    "#another way to express.\n",
    "[item for x in list_of_lists for item in x]"
   ]
  },
  {
   "cell_type": "markdown",
   "metadata": {},
   "source": [
    "## Generators\n",
    "They exist in two variants: functions and expressions. Generators work on a\n",
    "concept known as lazy evaluation —hence, they are more memory efficient and perform\n",
    "better in most cases because they do not require the entire object to be evaluated\n",
    "and loaded in one go, as in list comprehensions.\n",
    "Generator functions are implemented as regular functions using the def statement.\n",
    "However, they use the concept of lazy evaluation and return one object at a time using\n",
    "the yield statement. Unlike regular functions that have a return statement, which once\n",
    "executed ends the execution of the code block inside the function, generators use the\n",
    "yield statement, which suspends and resumes execution and the state after generating\n",
    "and returning each value or object. To be more precise, generator functions yield values\n",
    "at each step rather than returning them. This ensures that the current state including\n",
    "information about the local code block scope it retained and enables the generator to\n",
    "resume from where it left off."
   ]
  },
  {
   "cell_type": "code",
   "execution_count": 32,
   "metadata": {},
   "outputs": [],
   "source": [
    "numbers = [1, 2, 3, 4, 5]\n",
    "def generate_squares(numbers):\n",
    "    for number in numbers:\n",
    "        yield number*number   \n"
   ]
  },
  {
   "cell_type": "code",
   "execution_count": 41,
   "metadata": {},
   "outputs": [
    {
     "data": {
      "text/plain": [
       "<generator object generate_squares at 0x00000218EF49BD48>"
      ]
     },
     "execution_count": 41,
     "metadata": {},
     "output_type": "execute_result"
    }
   ],
   "source": [
    "gen_obj = generate_squares(numbers)\n",
    "gen_obj"
   ]
  },
  {
   "cell_type": "code",
   "execution_count": 42,
   "metadata": {},
   "outputs": [
    {
     "name": "stdout",
     "output_type": "stream",
     "text": [
      "1\n",
      "4\n",
      "9\n",
      "16\n",
      "25\n"
     ]
    }
   ],
   "source": [
    "for item in gen_obj:\n",
    "    print (item)"
   ]
  },
  {
   "cell_type": "markdown",
   "metadata": {},
   "source": [
    "The advantages of these generators are both memory efficiency and execution time, especially when iterables and objects are large in size and occupy substantial memory. You also do not need to load whole objects into the main memory for performing various operations on them. They often work very well on streaming data where you cannot keep all the data in memory at all times. The same applies for generator expressions, which are very similar to comprehensions except they are enclosed in parentheses."
   ]
  },
  {
   "cell_type": "code",
   "execution_count": 43,
   "metadata": {},
   "outputs": [],
   "source": [
    "csv_string = 'The,fox,jumps,over,the,dog'"
   ]
  },
  {
   "cell_type": "code",
   "execution_count": 44,
   "metadata": {},
   "outputs": [
    {
     "data": {
      "text/plain": [
       "['The', 'fox', 'jumps', 'over', 'the', 'dog']"
      ]
     },
     "execution_count": 44,
     "metadata": {},
     "output_type": "execute_result"
    }
   ],
   "source": [
    "# making a sentence using list comprehension\n",
    "list_cmp_obj = [item for item in csv_string.split(',')]\n",
    "list_cmp_obj"
   ]
  },
  {
   "cell_type": "code",
   "execution_count": 45,
   "metadata": {},
   "outputs": [
    {
     "data": {
      "text/plain": [
       "'The fox jumps over the dog'"
      ]
     },
     "execution_count": 45,
     "metadata": {},
     "output_type": "execute_result"
    }
   ],
   "source": [
    "' '.join(list_cmp_obj)"
   ]
  },
  {
   "cell_type": "code",
   "execution_count": 46,
   "metadata": {},
   "outputs": [
    {
     "data": {
      "text/plain": [
       "'The fox jumps over the dog'"
      ]
     },
     "execution_count": 46,
     "metadata": {},
     "output_type": "execute_result"
    }
   ],
   "source": [
    "# making a sentence using generator expression\n",
    "gen_obj = (item for item in csv_string.split(','))\n",
    "gen_obj\n",
    "' '.join(gen_obj)\n"
   ]
  },
  {
   "cell_type": "markdown",
   "metadata": {},
   "source": [
    "## The itertools and functools Modules\n",
    "Some of the popular ones include collections , itertools , and functools, which have various constructs and functions that can be used to boost productivity and reduce time spent writing extra code to solve problems. The itertools module is a complete module dedicated to building and operating on iterators. It has various functions that support different operations including\n",
    "slicing, chaining, grouping, and splitting iterators."
   ]
  },
  {
   "cell_type": "code",
   "execution_count": null,
   "metadata": {},
   "outputs": [],
   "source": []
  },
  {
   "cell_type": "markdown",
   "metadata": {},
   "source": [
    "# String Operations and Methods\n",
    "- Basic operations\n",
    "- Indexing and slicing\n",
    "- Methods\n",
    "- Formatting\n",
    "- Regular expressions"
   ]
  },
  {
   "cell_type": "code",
   "execution_count": 50,
   "metadata": {},
   "outputs": [
    {
     "data": {
      "text/plain": [
       "'Hello and welcome to Python!'"
      ]
     },
     "execution_count": 50,
     "metadata": {},
     "output_type": "execute_result"
    }
   ],
   "source": [
    "# Different ways of String concatenation\n",
    "'Hello' + ' and welcome ' + 'to Python!'\n"
   ]
  },
  {
   "cell_type": "code",
   "execution_count": 51,
   "metadata": {},
   "outputs": [
    {
     "data": {
      "text/plain": [
       "'Hello and welcome to Python!'"
      ]
     },
     "execution_count": 51,
     "metadata": {},
     "output_type": "execute_result"
    }
   ],
   "source": [
    "'Hello' ' and welcome ' 'to Python!'"
   ]
  },
  {
   "cell_type": "code",
   "execution_count": 52,
   "metadata": {},
   "outputs": [
    {
     "data": {
      "text/plain": [
       "'Hello Python!'"
      ]
     },
     "execution_count": 52,
     "metadata": {},
     "output_type": "execute_result"
    }
   ],
   "source": [
    "# concatenation of variables and literals\n",
    "s1 = 'Python!'\n",
    "'Hello ' + s1"
   ]
  },
  {
   "cell_type": "code",
   "execution_count": 53,
   "metadata": {},
   "outputs": [
    {
     "data": {
      "text/plain": [
       "True"
      ]
     },
     "execution_count": 53,
     "metadata": {},
     "output_type": "execute_result"
    }
   ],
   "source": [
    "# checking for substrings in a string\n",
    "s3 = ('This '\n",
    "      'is another way '\n",
    "      'to concatenate '\n",
    "      'several strings!')\n",
    "\n",
    "'way' in s3"
   ]
  },
  {
   "cell_type": "code",
   "execution_count": 54,
   "metadata": {},
   "outputs": [
    {
     "data": {
      "text/plain": [
       "51"
      ]
     },
     "execution_count": 54,
     "metadata": {},
     "output_type": "execute_result"
    }
   ],
   "source": [
    "# computing total length of the string\n",
    "len(s3)"
   ]
  },
  {
   "cell_type": "markdown",
   "metadata": {},
   "source": [
    "## Indexing and Slicing\n",
    "As mentioned, strings are iterables—ordered sequences of characters. Hence they can\n",
    "be indexed, sliced, and iterated through similarly to other iterables such as lists. Each\n",
    "character has a specific position in the string, called its index . Using indexes, we can\n",
    "access specific parts of the string. Accessing a single character using a specific position\n",
    "or index in the string is called indexing , and accessing a part of a string, for example,\n",
    "a substring using a start and end index, is called slicing.\n",
    "\n",
    "To access any particular character in the string, you need to use the corresponding\n",
    "index, and slices can be extracted using the syntax var[start:stop] , which extracts all\n",
    "characters in the string var from index start till index stop excluding the character at the\n",
    "stop index."
   ]
  },
  {
   "cell_type": "code",
   "execution_count": 56,
   "metadata": {},
   "outputs": [],
   "source": [
    "# creating a string\n",
    "s = 'PYTHON'"
   ]
  },
  {
   "cell_type": "code",
   "execution_count": 57,
   "metadata": {},
   "outputs": [
    {
     "name": "stdout",
     "output_type": "stream",
     "text": [
      "Character P: has index: 0\n",
      "Character Y: has index: 1\n",
      "Character T: has index: 2\n",
      "Character H: has index: 3\n",
      "Character O: has index: 4\n",
      "Character N: has index: 5\n"
     ]
    }
   ],
   "source": [
    "# depicting string indexes\n",
    "for index, character in enumerate(s):\n",
    "    print ('Character', character+':', 'has index:', index)"
   ]
  },
  {
   "cell_type": "code",
   "execution_count": 58,
   "metadata": {},
   "outputs": [
    {
     "data": {
      "text/plain": [
       "('P', 'Y', 'T', 'H', 'O', 'N')"
      ]
     },
     "execution_count": 58,
     "metadata": {},
     "output_type": "execute_result"
    }
   ],
   "source": [
    "# string indexing\n",
    "s[0], s[1], s[2], s[3], s[4], s[5]"
   ]
  },
  {
   "cell_type": "markdown",
   "metadata": {},
   "source": [
    "### Methods"
   ]
  },
  {
   "cell_type": "code",
   "execution_count": 59,
   "metadata": {},
   "outputs": [
    {
     "data": {
      "text/plain": [
       "'PYTHON IS GREAT'"
      ]
     },
     "execution_count": 59,
     "metadata": {},
     "output_type": "execute_result"
    }
   ],
   "source": [
    "# case conversions\n",
    "s = 'python is great'\n",
    "s.upper()"
   ]
  },
  {
   "cell_type": "code",
   "execution_count": 60,
   "metadata": {},
   "outputs": [
    {
     "data": {
      "text/plain": [
       "'analytics is great'"
      ]
     },
     "execution_count": 60,
     "metadata": {},
     "output_type": "execute_result"
    }
   ],
   "source": [
    "# string replace\n",
    "s.replace('python', 'analytics')"
   ]
  },
  {
   "cell_type": "code",
   "execution_count": 61,
   "metadata": {},
   "outputs": [
    {
     "data": {
      "text/plain": [
       "['I', 'am', 'a', 'comma', 'separated', 'string']"
      ]
     },
     "execution_count": 61,
     "metadata": {},
     "output_type": "execute_result"
    }
   ],
   "source": [
    "# string splitting and joining\n",
    "s = 'I,am,a,comma,separated,string'\n",
    "s.split(',')"
   ]
  },
  {
   "cell_type": "code",
   "execution_count": 62,
   "metadata": {},
   "outputs": [
    {
     "data": {
      "text/plain": [
       "'I am a comma separated string'"
      ]
     },
     "execution_count": 62,
     "metadata": {},
     "output_type": "execute_result"
    }
   ],
   "source": [
    "' '.join(s.split(','))"
   ]
  },
  {
   "cell_type": "code",
   "execution_count": 63,
   "metadata": {},
   "outputs": [
    {
     "data": {
      "text/plain": [
       "'I am surrounded by spaces'"
      ]
     },
     "execution_count": 63,
     "metadata": {},
     "output_type": "execute_result"
    }
   ],
   "source": [
    "# stripping whitespace characters\n",
    "s = '  I am surrounded by spaces  '\n",
    "s.strip()"
   ]
  },
  {
   "cell_type": "code",
   "execution_count": 65,
   "metadata": {},
   "outputs": [
    {
     "data": {
      "text/plain": [
       "'This Is In Lower Case'"
      ]
     },
     "execution_count": 65,
     "metadata": {},
     "output_type": "execute_result"
    }
   ],
   "source": [
    "# coverting to title case\n",
    "s = 'this is in lower case'\n",
    "s.title()"
   ]
  },
  {
   "cell_type": "markdown",
   "metadata": {},
   "source": [
    "### Formatting\n",
    "String formatting is used to substitute specific data objects and types in a string. This\n",
    "is mostly used when displaying text to the user. There are mainly two different types of\n",
    "formatting used for strings:\n",
    "- Formatting expressions : These expressions are typically of the\n",
    "syntax '...%s...%s...' %(values) , where the %s denotes a\n",
    "placeholder for substituting a string from the list of strings depicted\n",
    "in values . This is quite similar to the C style printf model and has\n",
    "been there in Python since the beginning. You can substitute values\n",
    "of other types with the respective alphabet following the % symbol,\n",
    "like %d for integers and %f for floating point numbers.\n",
    "- Formatting methods : These strings take the form of '...{}...\n",
    "{}...'.format(values) , which makes use of the braces {}\n",
    "for placeholders to place strings from values using the format\n",
    "method. These have been present in Python since version 2.6.x."
   ]
  },
  {
   "cell_type": "code",
   "execution_count": 66,
   "metadata": {},
   "outputs": [
    {
     "data": {
      "text/plain": [
       "'Hello Python!'"
      ]
     },
     "execution_count": 66,
     "metadata": {},
     "output_type": "execute_result"
    }
   ],
   "source": [
    "# simple string formatting expressions\n",
    "'Hello %s' %('Python!')"
   ]
  },
  {
   "cell_type": "code",
   "execution_count": 67,
   "metadata": {},
   "outputs": [
    {
     "data": {
      "text/plain": [
       "'We have 2 bottles containing 2.500 gallons of milk'"
      ]
     },
     "execution_count": 67,
     "metadata": {},
     "output_type": "execute_result"
    }
   ],
   "source": [
    "# formatting expressions with different data types\n",
    "'We have %d %s containing %.3f gallons of %s' %(2, 'bottles', 2.5, 'milk')"
   ]
  },
  {
   "cell_type": "markdown",
   "metadata": {},
   "source": [
    "Formatting methods : These strings take the form of '...{}... {}...'.format(values) , which makes use of the braces {} for placeholders to place strings from values using the format method. These have been present in Python since version 2.6.x."
   ]
  },
  {
   "cell_type": "code",
   "execution_count": 68,
   "metadata": {},
   "outputs": [
    {
     "data": {
      "text/plain": [
       "'Hello Mr. Jones, it is a great pleasure to meet you'"
      ]
     },
     "execution_count": 68,
     "metadata": {},
     "output_type": "execute_result"
    }
   ],
   "source": [
    "# formatting using the format method\n",
    "'Hello {} {}, it is a great {} to meet you'.format('Mr.', 'Jones',\n",
    "'pleasure')"
   ]
  },
  {
   "cell_type": "code",
   "execution_count": 69,
   "metadata": {},
   "outputs": [
    {
     "data": {
      "text/plain": [
       "'I have a sandwich and a soda with me'"
      ]
     },
     "execution_count": 69,
     "metadata": {},
     "output_type": "execute_result"
    }
   ],
   "source": [
    "# alternative ways of using format\n",
    "'I have a {food_item} and a {drink_item} with me'.format(drink_item='soda', food_item='sandwich')"
   ]
  },
  {
   "cell_type": "code",
   "execution_count": 70,
   "metadata": {},
   "outputs": [
    {
     "data": {
      "text/plain": [
       "\"The dog has the following attributes: ['lazy', 'loyal']\""
      ]
     },
     "execution_count": 70,
     "metadata": {},
     "output_type": "execute_result"
    }
   ],
   "source": [
    "'The {animal} has the following attributes: {attributes}'.format(animal='dog', attributes=['lazy', 'loyal'])"
   ]
  },
  {
   "cell_type": "markdown",
   "metadata": {},
   "source": [
    "### Regular Expressions (Regexes)\n",
    "Regular expressions, also called regexes , allow you to create string patterns and use them\n",
    "for searching and substituting specific pattern matches in textual data. Python offers a\n",
    "rich module named re for creating and using regular expressions. Entire books have been\n",
    "written on this topic because it is easy to use but difficult to master. Discussing every\n",
    "aspect of regular expressions would not be possible in these pages, but I will cover the\n",
    "main areas with sufficient examples."
   ]
  },
  {
   "cell_type": "markdown",
   "metadata": {},
   "source": [
    "- re.I or re.IGNORECASE is used to match patterns ignoring case\n",
    "sensitivity.\n",
    "- re.S or re.DOTALL causes the period ( . ) character to match any\n",
    "character including new lines.\n",
    "\n",
    "For pattern matching, various rules are used in regexes. Some popular ones include\n",
    "the following:\n",
    "\n",
    "- . for matching any single character\n",
    "- ^ for matching the start of the string\n",
    "- $ for matching the end of the string\n",
    "-   *for matching zero or more cases of the previous mentioned\n",
    "regex before the * symbol in the pattern\n",
    "- ? for matching zero or one case of the previous mentioned regex\n",
    "before the ? symbol in the pattern\n",
    "- [...] for matching any one of the set of characters inside the\n",
    "square brackets\n",
    "- [^...] for matching a character not present in the square\n",
    "brackets after the ^ symbol\n",
    "- | denotes the OR operator for matching either the preceding or\n",
    "the next regex\n",
    "- + for matching one or more cases of the previous mentioned regex\n",
    "before the + symbol in the pattern\n",
    "- \\d for matching decimal digits which is also depicted as [0-9]\n",
    "- \\D for matching non-digits, also depicted as [^0-9]\n",
    "- \\s for matching white space characters\n",
    "- \\S for matching non whitespace characters\n",
    "- \\w for matching alphanumeric characters also depicted as\n",
    "[a-zA-Z0-9_]\n",
    "- \\W for matching non alphanumeric characters also depicted as\n",
    "[^a-zA-Z0-9_]"
   ]
  },
  {
   "cell_type": "markdown",
   "metadata": {},
   "source": [
    "Regular expressions can be compiled into pattern objects and then used with a\n",
    "variety of methods for pattern search and substitution in strings. The main methods\n",
    "offered by the re module for performing these operations are as follows:\n",
    "- re.compile() : This method compiles a specified regular\n",
    "expression pattern into a regular expression object that can be\n",
    "used for matching and searching. Takes a pattern and optional\n",
    "flags as input, discussed earlier.\n",
    "- re.match() : This method is used to match patterns at the\n",
    "beginning of strings.\n",
    "- re.search() : This method is used to match patterns occurring at\n",
    "any position in the string.\n",
    "- re.findall() : This method returns all non-overlapping matches\n",
    "of the specified regex pattern in the string.\n",
    "- re.finditer() : This method returns all matched instances in the\n",
    "form of an iterator for a specific pattern in a string when scanned\n",
    "from left to right.\n",
    "- re.sub() : This method is used to substitute a specified regex\n",
    "pattern in a string with a replacement string. It only substitutes\n",
    "the leftmost occurrence of the pattern in the string."
   ]
  },
  {
   "cell_type": "code",
   "execution_count": 71,
   "metadata": {},
   "outputs": [],
   "source": [
    "import re"
   ]
  },
  {
   "cell_type": "code",
   "execution_count": 72,
   "metadata": {},
   "outputs": [],
   "source": [
    "# setting up a pattern we want to use as a regex\n",
    "# also creating two sample strings"
   ]
  },
  {
   "cell_type": "code",
   "execution_count": 73,
   "metadata": {},
   "outputs": [],
   "source": [
    "pattern = 'python'\n",
    "s1 = 'Python is an excellent language'\n",
    "s2 = 'I love the Python language. I also use Python to build applications at work!'"
   ]
  },
  {
   "cell_type": "code",
   "execution_count": 74,
   "metadata": {},
   "outputs": [],
   "source": [
    "# match only returns a match if regex match is found at the beginning of the string\n",
    "re.match(pattern, s1)"
   ]
  },
  {
   "cell_type": "code",
   "execution_count": 76,
   "metadata": {},
   "outputs": [
    {
     "data": {
      "text/plain": [
       "<re.Match object; span=(0, 6), match='Python'>"
      ]
     },
     "execution_count": 76,
     "metadata": {},
     "output_type": "execute_result"
    }
   ],
   "source": [
    "# pattern is in lower case hence ignore case flag helps\n",
    "# pattern is in lower case hence ignore case flag helps\n",
    "re.match(pattern, s1, flags=re.IGNORECASE)"
   ]
  },
  {
   "cell_type": "code",
   "execution_count": null,
   "metadata": {},
   "outputs": [],
   "source": []
  },
  {
   "cell_type": "code",
   "execution_count": null,
   "metadata": {},
   "outputs": [],
   "source": []
  },
  {
   "cell_type": "code",
   "execution_count": null,
   "metadata": {},
   "outputs": [],
   "source": []
  },
  {
   "cell_type": "code",
   "execution_count": null,
   "metadata": {},
   "outputs": [],
   "source": []
  },
  {
   "cell_type": "code",
   "execution_count": null,
   "metadata": {},
   "outputs": [],
   "source": []
  },
  {
   "cell_type": "code",
   "execution_count": null,
   "metadata": {},
   "outputs": [],
   "source": []
  },
  {
   "cell_type": "code",
   "execution_count": null,
   "metadata": {},
   "outputs": [],
   "source": []
  },
  {
   "cell_type": "code",
   "execution_count": null,
   "metadata": {},
   "outputs": [],
   "source": []
  },
  {
   "cell_type": "code",
   "execution_count": null,
   "metadata": {},
   "outputs": [],
   "source": []
  },
  {
   "cell_type": "code",
   "execution_count": null,
   "metadata": {},
   "outputs": [],
   "source": []
  },
  {
   "cell_type": "code",
   "execution_count": null,
   "metadata": {},
   "outputs": [],
   "source": []
  },
  {
   "cell_type": "code",
   "execution_count": null,
   "metadata": {},
   "outputs": [],
   "source": []
  },
  {
   "cell_type": "code",
   "execution_count": null,
   "metadata": {},
   "outputs": [],
   "source": []
  },
  {
   "cell_type": "code",
   "execution_count": null,
   "metadata": {},
   "outputs": [],
   "source": []
  }
 ],
 "metadata": {
  "kernelspec": {
   "display_name": "Python 3",
   "language": "python",
   "name": "python3"
  },
  "language_info": {
   "codemirror_mode": {
    "name": "ipython",
    "version": 3
   },
   "file_extension": ".py",
   "mimetype": "text/x-python",
   "name": "python",
   "nbconvert_exporter": "python",
   "pygments_lexer": "ipython3",
   "version": "3.7.6"
  }
 },
 "nbformat": 4,
 "nbformat_minor": 4
}
