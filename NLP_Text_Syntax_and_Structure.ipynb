{
  "nbformat": 4,
  "nbformat_minor": 0,
  "metadata": {
    "colab": {
      "name": "NLP: Text Syntax and Structure.ipynb",
      "provenance": [],
      "collapsed_sections": [],
      "authorship_tag": "ABX9TyOY5fKJnqnowhoidVttSbiy",
      "include_colab_link": true
    },
    "kernelspec": {
      "name": "python3",
      "display_name": "Python 3"
    },
    "language_info": {
      "name": "python"
    }
  },
  "cells": [
    {
      "cell_type": "markdown",
      "metadata": {
        "id": "view-in-github",
        "colab_type": "text"
      },
      "source": [
        "<a href=\"https://colab.research.google.com/github/bjohn22/Natural-Language-Processing/blob/main/NLP_Text_Syntax_and_Structure.ipynb\" target=\"_parent\"><img src=\"https://colab.research.google.com/assets/colab-badge.svg\" alt=\"Open In Colab\"/></a>"
      ]
    },
    {
      "cell_type": "markdown",
      "metadata": {
        "id": "8UW2eSMdlTFl"
      },
      "source": [
        "Exploring text syntax and structure is usually done after text processing and normalization.\n",
        "Techniques include:\n",
        "* Parts of speech (POS) tagging\n",
        "* Shallow parsing\n",
        "* Dependency-based parsing\n",
        "* Constituency-based parsing"
      ]
    },
    {
      "cell_type": "markdown",
      "metadata": {
        "id": "72qOetLqRZHf"
      },
      "source": [
        "Installing Dependencies"
      ]
    },
    {
      "cell_type": "code",
      "metadata": {
        "id": "IgUBI1AVRXCE",
        "colab": {
          "base_uri": "https://localhost:8080/"
        },
        "outputId": "b14d403b-30c9-4f47-8708-81f283ece73d"
      },
      "source": [
        "import nltk\n",
        "nltk.download('punkt')\n",
        "\n"
      ],
      "execution_count": 15,
      "outputs": [
        {
          "output_type": "stream",
          "text": [
            "[nltk_data] Downloading package punkt to /root/nltk_data...\n",
            "[nltk_data]   Package punkt is already up-to-date!\n",
            "[nltk_data] Downloading package averaged_perceptron_tagger to\n",
            "[nltk_data]     /root/nltk_data...\n",
            "[nltk_data]   Unzipping taggers/averaged_perceptron_tagger.zip.\n"
          ],
          "name": "stdout"
        },
        {
          "output_type": "execute_result",
          "data": {
            "text/plain": [
              "True"
            ]
          },
          "metadata": {
            "tags": []
          },
          "execution_count": 15
        }
      ]
    },
    {
      "cell_type": "code",
      "metadata": {
        "id": "9kW4kErSsFXj"
      },
      "source": [
        ""
      ],
      "execution_count": null,
      "outputs": []
    },
    {
      "cell_type": "code",
      "metadata": {
        "colab": {
          "base_uri": "https://localhost:8080/"
        },
        "id": "zdAweQR0RXJt",
        "outputId": "1d145782-4924-43f6-a8db-8ab20c733ebb"
      },
      "source": [
        "# download all dependencies and corpora\n",
        "nltk.download('all', halt_on_error=False)"
      ],
      "execution_count": 17,
      "outputs": [
        {
          "output_type": "stream",
          "text": [
            "[nltk_data] Downloading collection 'all'\n",
            "[nltk_data]    | \n",
            "[nltk_data]    | Downloading package abc to /root/nltk_data...\n",
            "[nltk_data]    |   Unzipping corpora/abc.zip.\n",
            "[nltk_data]    | Downloading package alpino to /root/nltk_data...\n",
            "[nltk_data]    |   Unzipping corpora/alpino.zip.\n",
            "[nltk_data]    | Downloading package biocreative_ppi to\n",
            "[nltk_data]    |     /root/nltk_data...\n",
            "[nltk_data]    |   Unzipping corpora/biocreative_ppi.zip.\n",
            "[nltk_data]    | Downloading package brown to /root/nltk_data...\n",
            "[nltk_data]    |   Unzipping corpora/brown.zip.\n",
            "[nltk_data]    | Downloading package brown_tei to /root/nltk_data...\n",
            "[nltk_data]    |   Unzipping corpora/brown_tei.zip.\n",
            "[nltk_data]    | Downloading package cess_cat to /root/nltk_data...\n",
            "[nltk_data]    |   Unzipping corpora/cess_cat.zip.\n",
            "[nltk_data]    | Downloading package cess_esp to /root/nltk_data...\n",
            "[nltk_data]    |   Unzipping corpora/cess_esp.zip.\n",
            "[nltk_data]    | Downloading package chat80 to /root/nltk_data...\n",
            "[nltk_data]    |   Unzipping corpora/chat80.zip.\n",
            "[nltk_data]    | Downloading package city_database to\n",
            "[nltk_data]    |     /root/nltk_data...\n",
            "[nltk_data]    |   Unzipping corpora/city_database.zip.\n",
            "[nltk_data]    | Downloading package cmudict to /root/nltk_data...\n",
            "[nltk_data]    |   Unzipping corpora/cmudict.zip.\n",
            "[nltk_data]    | Downloading package comparative_sentences to\n",
            "[nltk_data]    |     /root/nltk_data...\n",
            "[nltk_data]    |   Unzipping corpora/comparative_sentences.zip.\n",
            "[nltk_data]    | Downloading package comtrans to /root/nltk_data...\n",
            "[nltk_data]    | Downloading package conll2000 to /root/nltk_data...\n",
            "[nltk_data]    |   Unzipping corpora/conll2000.zip.\n",
            "[nltk_data]    | Downloading package conll2002 to /root/nltk_data...\n",
            "[nltk_data]    |   Unzipping corpora/conll2002.zip.\n",
            "[nltk_data]    | Downloading package conll2007 to /root/nltk_data...\n",
            "[nltk_data]    | Downloading package crubadan to /root/nltk_data...\n",
            "[nltk_data]    |   Unzipping corpora/crubadan.zip.\n",
            "[nltk_data]    | Downloading package dependency_treebank to\n",
            "[nltk_data]    |     /root/nltk_data...\n",
            "[nltk_data]    |   Unzipping corpora/dependency_treebank.zip.\n",
            "[nltk_data]    | Downloading package dolch to /root/nltk_data...\n",
            "[nltk_data]    |   Unzipping corpora/dolch.zip.\n",
            "[nltk_data]    | Downloading package europarl_raw to\n",
            "[nltk_data]    |     /root/nltk_data...\n",
            "[nltk_data]    |   Unzipping corpora/europarl_raw.zip.\n",
            "[nltk_data]    | Downloading package floresta to /root/nltk_data...\n",
            "[nltk_data]    |   Unzipping corpora/floresta.zip.\n",
            "[nltk_data]    | Downloading package framenet_v15 to\n",
            "[nltk_data]    |     /root/nltk_data...\n",
            "[nltk_data]    |   Unzipping corpora/framenet_v15.zip.\n",
            "[nltk_data]    | Downloading package framenet_v17 to\n",
            "[nltk_data]    |     /root/nltk_data...\n",
            "[nltk_data]    |   Unzipping corpora/framenet_v17.zip.\n",
            "[nltk_data]    | Downloading package gazetteers to /root/nltk_data...\n",
            "[nltk_data]    |   Unzipping corpora/gazetteers.zip.\n",
            "[nltk_data]    | Downloading package genesis to /root/nltk_data...\n",
            "[nltk_data]    |   Unzipping corpora/genesis.zip.\n",
            "[nltk_data]    | Downloading package gutenberg to /root/nltk_data...\n",
            "[nltk_data]    |   Unzipping corpora/gutenberg.zip.\n",
            "[nltk_data]    | Downloading package ieer to /root/nltk_data...\n",
            "[nltk_data]    |   Unzipping corpora/ieer.zip.\n",
            "[nltk_data]    | Downloading package inaugural to /root/nltk_data...\n",
            "[nltk_data]    |   Unzipping corpora/inaugural.zip.\n",
            "[nltk_data]    | Downloading package indian to /root/nltk_data...\n",
            "[nltk_data]    |   Unzipping corpora/indian.zip.\n",
            "[nltk_data]    | Downloading package jeita to /root/nltk_data...\n",
            "[nltk_data]    | Downloading package kimmo to /root/nltk_data...\n",
            "[nltk_data]    |   Unzipping corpora/kimmo.zip.\n",
            "[nltk_data]    | Downloading package knbc to /root/nltk_data...\n",
            "[nltk_data]    | Downloading package lin_thesaurus to\n",
            "[nltk_data]    |     /root/nltk_data...\n",
            "[nltk_data]    |   Unzipping corpora/lin_thesaurus.zip.\n",
            "[nltk_data]    | Downloading package mac_morpho to /root/nltk_data...\n",
            "[nltk_data]    |   Unzipping corpora/mac_morpho.zip.\n",
            "[nltk_data]    | Downloading package machado to /root/nltk_data...\n",
            "[nltk_data]    | Downloading package masc_tagged to /root/nltk_data...\n",
            "[nltk_data]    | Downloading package moses_sample to\n",
            "[nltk_data]    |     /root/nltk_data...\n",
            "[nltk_data]    |   Unzipping models/moses_sample.zip.\n",
            "[nltk_data]    | Downloading package movie_reviews to\n",
            "[nltk_data]    |     /root/nltk_data...\n",
            "[nltk_data]    |   Unzipping corpora/movie_reviews.zip.\n",
            "[nltk_data]    | Downloading package names to /root/nltk_data...\n",
            "[nltk_data]    |   Unzipping corpora/names.zip.\n",
            "[nltk_data]    | Downloading package nombank.1.0 to /root/nltk_data...\n",
            "[nltk_data]    | Downloading package nps_chat to /root/nltk_data...\n",
            "[nltk_data]    |   Unzipping corpora/nps_chat.zip.\n",
            "[nltk_data]    | Downloading package omw to /root/nltk_data...\n",
            "[nltk_data]    |   Unzipping corpora/omw.zip.\n",
            "[nltk_data]    | Downloading package opinion_lexicon to\n",
            "[nltk_data]    |     /root/nltk_data...\n",
            "[nltk_data]    |   Unzipping corpora/opinion_lexicon.zip.\n",
            "[nltk_data]    | Downloading package paradigms to /root/nltk_data...\n",
            "[nltk_data]    |   Unzipping corpora/paradigms.zip.\n",
            "[nltk_data]    | Downloading package pil to /root/nltk_data...\n",
            "[nltk_data]    |   Unzipping corpora/pil.zip.\n",
            "[nltk_data]    | Downloading package pl196x to /root/nltk_data...\n",
            "[nltk_data]    |   Unzipping corpora/pl196x.zip.\n",
            "[nltk_data]    | Downloading package ppattach to /root/nltk_data...\n",
            "[nltk_data]    |   Unzipping corpora/ppattach.zip.\n",
            "[nltk_data]    | Downloading package problem_reports to\n",
            "[nltk_data]    |     /root/nltk_data...\n",
            "[nltk_data]    |   Unzipping corpora/problem_reports.zip.\n",
            "[nltk_data]    | Downloading package propbank to /root/nltk_data...\n",
            "[nltk_data]    | Downloading package ptb to /root/nltk_data...\n",
            "[nltk_data]    |   Unzipping corpora/ptb.zip.\n",
            "[nltk_data]    | Downloading package product_reviews_1 to\n",
            "[nltk_data]    |     /root/nltk_data...\n",
            "[nltk_data]    |   Unzipping corpora/product_reviews_1.zip.\n",
            "[nltk_data]    | Downloading package product_reviews_2 to\n",
            "[nltk_data]    |     /root/nltk_data...\n",
            "[nltk_data]    |   Unzipping corpora/product_reviews_2.zip.\n",
            "[nltk_data]    | Downloading package pros_cons to /root/nltk_data...\n",
            "[nltk_data]    |   Unzipping corpora/pros_cons.zip.\n",
            "[nltk_data]    | Downloading package qc to /root/nltk_data...\n",
            "[nltk_data]    |   Unzipping corpora/qc.zip.\n",
            "[nltk_data]    | Downloading package reuters to /root/nltk_data...\n",
            "[nltk_data]    | Downloading package rte to /root/nltk_data...\n",
            "[nltk_data]    |   Unzipping corpora/rte.zip.\n",
            "[nltk_data]    | Downloading package semcor to /root/nltk_data...\n",
            "[nltk_data]    | Downloading package senseval to /root/nltk_data...\n",
            "[nltk_data]    |   Unzipping corpora/senseval.zip.\n",
            "[nltk_data]    | Downloading package sentiwordnet to\n",
            "[nltk_data]    |     /root/nltk_data...\n",
            "[nltk_data]    |   Unzipping corpora/sentiwordnet.zip.\n",
            "[nltk_data]    | Downloading package sentence_polarity to\n",
            "[nltk_data]    |     /root/nltk_data...\n",
            "[nltk_data]    |   Unzipping corpora/sentence_polarity.zip.\n",
            "[nltk_data]    | Downloading package shakespeare to /root/nltk_data...\n",
            "[nltk_data]    |   Unzipping corpora/shakespeare.zip.\n",
            "[nltk_data]    | Downloading package sinica_treebank to\n",
            "[nltk_data]    |     /root/nltk_data...\n",
            "[nltk_data]    |   Unzipping corpora/sinica_treebank.zip.\n",
            "[nltk_data]    | Downloading package smultron to /root/nltk_data...\n",
            "[nltk_data]    |   Unzipping corpora/smultron.zip.\n",
            "[nltk_data]    | Downloading package state_union to /root/nltk_data...\n",
            "[nltk_data]    |   Unzipping corpora/state_union.zip.\n",
            "[nltk_data]    | Downloading package stopwords to /root/nltk_data...\n",
            "[nltk_data]    |   Unzipping corpora/stopwords.zip.\n",
            "[nltk_data]    | Downloading package subjectivity to\n",
            "[nltk_data]    |     /root/nltk_data...\n",
            "[nltk_data]    |   Unzipping corpora/subjectivity.zip.\n",
            "[nltk_data]    | Downloading package swadesh to /root/nltk_data...\n",
            "[nltk_data]    |   Unzipping corpora/swadesh.zip.\n",
            "[nltk_data]    | Downloading package switchboard to /root/nltk_data...\n",
            "[nltk_data]    |   Unzipping corpora/switchboard.zip.\n",
            "[nltk_data]    | Downloading package timit to /root/nltk_data...\n",
            "[nltk_data]    |   Unzipping corpora/timit.zip.\n",
            "[nltk_data]    | Downloading package toolbox to /root/nltk_data...\n",
            "[nltk_data]    |   Unzipping corpora/toolbox.zip.\n",
            "[nltk_data]    | Downloading package treebank to /root/nltk_data...\n",
            "[nltk_data]    |   Unzipping corpora/treebank.zip.\n",
            "[nltk_data]    | Downloading package twitter_samples to\n",
            "[nltk_data]    |     /root/nltk_data...\n",
            "[nltk_data]    |   Unzipping corpora/twitter_samples.zip.\n",
            "[nltk_data]    | Downloading package udhr to /root/nltk_data...\n",
            "[nltk_data]    |   Unzipping corpora/udhr.zip.\n",
            "[nltk_data]    | Downloading package udhr2 to /root/nltk_data...\n",
            "[nltk_data]    |   Unzipping corpora/udhr2.zip.\n",
            "[nltk_data]    | Downloading package unicode_samples to\n",
            "[nltk_data]    |     /root/nltk_data...\n",
            "[nltk_data]    |   Unzipping corpora/unicode_samples.zip.\n",
            "[nltk_data]    | Downloading package universal_treebanks_v20 to\n",
            "[nltk_data]    |     /root/nltk_data...\n",
            "[nltk_data]    | Downloading package verbnet to /root/nltk_data...\n",
            "[nltk_data]    |   Unzipping corpora/verbnet.zip.\n",
            "[nltk_data]    | Downloading package verbnet3 to /root/nltk_data...\n",
            "[nltk_data]    |   Unzipping corpora/verbnet3.zip.\n",
            "[nltk_data]    | Downloading package webtext to /root/nltk_data...\n",
            "[nltk_data]    |   Unzipping corpora/webtext.zip.\n",
            "[nltk_data]    | Downloading package wordnet to /root/nltk_data...\n",
            "[nltk_data]    |   Unzipping corpora/wordnet.zip.\n",
            "[nltk_data]    | Downloading package wordnet_ic to /root/nltk_data...\n",
            "[nltk_data]    |   Unzipping corpora/wordnet_ic.zip.\n",
            "[nltk_data]    | Downloading package words to /root/nltk_data...\n",
            "[nltk_data]    |   Unzipping corpora/words.zip.\n",
            "[nltk_data]    | Downloading package ycoe to /root/nltk_data...\n",
            "[nltk_data]    |   Unzipping corpora/ycoe.zip.\n",
            "[nltk_data]    | Downloading package rslp to /root/nltk_data...\n",
            "[nltk_data]    |   Unzipping stemmers/rslp.zip.\n",
            "[nltk_data]    | Downloading package maxent_treebank_pos_tagger to\n",
            "[nltk_data]    |     /root/nltk_data...\n",
            "[nltk_data]    |   Unzipping taggers/maxent_treebank_pos_tagger.zip.\n",
            "[nltk_data]    | Downloading package universal_tagset to\n",
            "[nltk_data]    |     /root/nltk_data...\n",
            "[nltk_data]    |   Unzipping taggers/universal_tagset.zip.\n",
            "[nltk_data]    | Downloading package maxent_ne_chunker to\n",
            "[nltk_data]    |     /root/nltk_data...\n",
            "[nltk_data]    |   Unzipping chunkers/maxent_ne_chunker.zip.\n",
            "[nltk_data]    | Downloading package punkt to /root/nltk_data...\n",
            "[nltk_data]    |   Package punkt is already up-to-date!\n",
            "[nltk_data]    | Downloading package book_grammars to\n",
            "[nltk_data]    |     /root/nltk_data...\n",
            "[nltk_data]    |   Unzipping grammars/book_grammars.zip.\n",
            "[nltk_data]    | Downloading package sample_grammars to\n",
            "[nltk_data]    |     /root/nltk_data...\n",
            "[nltk_data]    |   Unzipping grammars/sample_grammars.zip.\n",
            "[nltk_data]    | Downloading package spanish_grammars to\n",
            "[nltk_data]    |     /root/nltk_data...\n",
            "[nltk_data]    |   Unzipping grammars/spanish_grammars.zip.\n",
            "[nltk_data]    | Downloading package basque_grammars to\n",
            "[nltk_data]    |     /root/nltk_data...\n",
            "[nltk_data]    |   Unzipping grammars/basque_grammars.zip.\n",
            "[nltk_data]    | Downloading package large_grammars to\n",
            "[nltk_data]    |     /root/nltk_data...\n",
            "[nltk_data]    |   Unzipping grammars/large_grammars.zip.\n",
            "[nltk_data]    | Downloading package tagsets to /root/nltk_data...\n",
            "[nltk_data]    |   Unzipping help/tagsets.zip.\n",
            "[nltk_data]    | Downloading package snowball_data to\n",
            "[nltk_data]    |     /root/nltk_data...\n",
            "[nltk_data]    | Downloading package bllip_wsj_no_aux to\n",
            "[nltk_data]    |     /root/nltk_data...\n",
            "[nltk_data]    |   Unzipping models/bllip_wsj_no_aux.zip.\n",
            "[nltk_data]    | Downloading package word2vec_sample to\n",
            "[nltk_data]    |     /root/nltk_data...\n",
            "[nltk_data]    |   Unzipping models/word2vec_sample.zip.\n",
            "[nltk_data]    | Downloading package panlex_swadesh to\n",
            "[nltk_data]    |     /root/nltk_data...\n",
            "[nltk_data]    | Downloading package mte_teip5 to /root/nltk_data...\n",
            "[nltk_data]    |   Unzipping corpora/mte_teip5.zip.\n",
            "[nltk_data]    | Downloading package averaged_perceptron_tagger to\n",
            "[nltk_data]    |     /root/nltk_data...\n",
            "[nltk_data]    |   Package averaged_perceptron_tagger is already up-\n",
            "[nltk_data]    |       to-date!\n",
            "[nltk_data]    | Downloading package averaged_perceptron_tagger_ru to\n",
            "[nltk_data]    |     /root/nltk_data...\n",
            "[nltk_data]    |   Unzipping\n",
            "[nltk_data]    |       taggers/averaged_perceptron_tagger_ru.zip.\n",
            "[nltk_data]    | Downloading package perluniprops to\n",
            "[nltk_data]    |     /root/nltk_data...\n",
            "[nltk_data]    |   Unzipping misc/perluniprops.zip.\n",
            "[nltk_data]    | Downloading package nonbreaking_prefixes to\n",
            "[nltk_data]    |     /root/nltk_data...\n",
            "[nltk_data]    |   Unzipping corpora/nonbreaking_prefixes.zip.\n",
            "[nltk_data]    | Downloading package vader_lexicon to\n",
            "[nltk_data]    |     /root/nltk_data...\n",
            "[nltk_data]    | Downloading package porter_test to /root/nltk_data...\n",
            "[nltk_data]    |   Unzipping stemmers/porter_test.zip.\n",
            "[nltk_data]    | Downloading package wmt15_eval to /root/nltk_data...\n",
            "[nltk_data]    |   Unzipping models/wmt15_eval.zip.\n",
            "[nltk_data]    | Downloading package mwa_ppdb to /root/nltk_data...\n",
            "[nltk_data]    |   Unzipping misc/mwa_ppdb.zip.\n",
            "[nltk_data]    | \n",
            "[nltk_data]  Done downloading collection all\n"
          ],
          "name": "stdout"
        },
        {
          "output_type": "execute_result",
          "data": {
            "text/plain": [
              "True"
            ]
          },
          "metadata": {
            "tags": []
          },
          "execution_count": 17
        }
      ]
    },
    {
      "cell_type": "code",
      "metadata": {
        "colab": {
          "base_uri": "https://localhost:8080/"
        },
        "id": "_VufOaDtRXNH",
        "outputId": "b0ee21e5-9142-49fa-cf68-f7b584a8411c"
      },
      "source": [
        "!pip install pattern"
      ],
      "execution_count": 25,
      "outputs": [
        {
          "output_type": "stream",
          "text": [
            "Collecting pattern\n",
            "\u001b[?25l  Downloading https://files.pythonhosted.org/packages/1e/07/b0e61b6c818ed4b6145fe01d1c341223aa6cfbc3928538ad1f2b890924a3/Pattern-3.6.0.tar.gz (22.2MB)\n",
            "\u001b[K     |████████████████████████████████| 22.3MB 1.4MB/s \n",
            "\u001b[?25hRequirement already satisfied: future in /usr/local/lib/python3.7/dist-packages (from pattern) (0.16.0)\n",
            "Collecting backports.csv\n",
            "  Downloading https://files.pythonhosted.org/packages/8e/26/a6bd68f13e0f38fbb643d6e497fc3462be83a0b6c4d43425c78bb51a7291/backports.csv-1.0.7-py2.py3-none-any.whl\n",
            "Collecting mysqlclient\n",
            "\u001b[?25l  Downloading https://files.pythonhosted.org/packages/3c/df/59cd2fa5e48d0804d213bdcb1acb4d08c403b61c7ff7ed4dd4a6a2deb3f7/mysqlclient-2.0.3.tar.gz (88kB)\n",
            "\u001b[K     |████████████████████████████████| 92kB 8.8MB/s \n",
            "\u001b[?25hRequirement already satisfied: beautifulsoup4 in /usr/local/lib/python3.7/dist-packages (from pattern) (4.6.3)\n",
            "Requirement already satisfied: lxml in /usr/local/lib/python3.7/dist-packages (from pattern) (4.2.6)\n",
            "Collecting feedparser\n",
            "\u001b[?25l  Downloading https://files.pythonhosted.org/packages/1c/21/faf1bac028662cc8adb2b5ef7a6f3999a765baa2835331df365289b0ca56/feedparser-6.0.2-py3-none-any.whl (80kB)\n",
            "\u001b[K     |████████████████████████████████| 81kB 8.0MB/s \n",
            "\u001b[?25hCollecting pdfminer.six\n",
            "\u001b[?25l  Downloading https://files.pythonhosted.org/packages/93/f3/4fec7dabe8802ebec46141345bf714cd1fc7d93cb74ddde917e4b6d97d88/pdfminer.six-20201018-py3-none-any.whl (5.6MB)\n",
            "\u001b[K     |████████████████████████████████| 5.6MB 22.2MB/s \n",
            "\u001b[?25hRequirement already satisfied: numpy in /usr/local/lib/python3.7/dist-packages (from pattern) (1.19.5)\n",
            "Requirement already satisfied: scipy in /usr/local/lib/python3.7/dist-packages (from pattern) (1.4.1)\n",
            "Requirement already satisfied: nltk in /usr/local/lib/python3.7/dist-packages (from pattern) (3.2.5)\n",
            "Collecting python-docx\n",
            "\u001b[?25l  Downloading https://files.pythonhosted.org/packages/e4/83/c66a1934ed5ed8ab1dbb9931f1779079f8bca0f6bbc5793c06c4b5e7d671/python-docx-0.8.10.tar.gz (5.5MB)\n",
            "\u001b[K     |████████████████████████████████| 5.5MB 37.0MB/s \n",
            "\u001b[?25hCollecting cherrypy\n",
            "\u001b[?25l  Downloading https://files.pythonhosted.org/packages/a8/f9/e11f893dcabe6bc222a1442bf5e14f0322a2d363c92910ed41947078a35a/CherryPy-18.6.0-py2.py3-none-any.whl (419kB)\n",
            "\u001b[K     |████████████████████████████████| 419kB 37.3MB/s \n",
            "\u001b[?25hRequirement already satisfied: requests in /usr/local/lib/python3.7/dist-packages (from pattern) (2.23.0)\n",
            "Collecting sgmllib3k\n",
            "  Downloading https://files.pythonhosted.org/packages/9e/bd/3704a8c3e0942d711c1299ebf7b9091930adae6675d7c8f476a7ce48653c/sgmllib3k-1.0.0.tar.gz\n",
            "Collecting cryptography\n",
            "\u001b[?25l  Downloading https://files.pythonhosted.org/packages/b2/26/7af637e6a7e87258b963f1731c5982fb31cd507f0d90d91836e446955d02/cryptography-3.4.7-cp36-abi3-manylinux2014_x86_64.whl (3.2MB)\n",
            "\u001b[K     |████████████████████████████████| 3.2MB 35.3MB/s \n",
            "\u001b[?25hRequirement already satisfied: chardet; python_version > \"3.0\" in /usr/local/lib/python3.7/dist-packages (from pdfminer.six->pattern) (3.0.4)\n",
            "Requirement already satisfied: sortedcontainers in /usr/local/lib/python3.7/dist-packages (from pdfminer.six->pattern) (2.3.0)\n",
            "Requirement already satisfied: six in /usr/local/lib/python3.7/dist-packages (from nltk->pattern) (1.15.0)\n",
            "Collecting cheroot>=8.2.1\n",
            "\u001b[?25l  Downloading https://files.pythonhosted.org/packages/46/95/86fe6480af78fea7b0e7e1bf02e6acd4cb9e561ea200bd6d6e1398fe5426/cheroot-8.5.2-py2.py3-none-any.whl (97kB)\n",
            "\u001b[K     |████████████████████████████████| 102kB 8.3MB/s \n",
            "\u001b[?25hCollecting zc.lockfile\n",
            "  Downloading https://files.pythonhosted.org/packages/6c/2a/268389776288f0f26c7272c70c36c96dcc0bdb88ab6216ea18e19df1fadd/zc.lockfile-2.0-py2.py3-none-any.whl\n",
            "Requirement already satisfied: more-itertools in /usr/local/lib/python3.7/dist-packages (from cherrypy->pattern) (8.7.0)\n",
            "Collecting portend>=2.1.1\n",
            "  Downloading https://files.pythonhosted.org/packages/b8/a1/fd29409cced540facdd29abb986d988cb1f22c8170d10022ea73af77fa55/portend-2.7.1-py3-none-any.whl\n",
            "Collecting jaraco.collections\n",
            "  Downloading https://files.pythonhosted.org/packages/d5/1a/a0d6861d2aca6df92643c755966c8a60e40353e4c5e7a5c2f4e5ed733817/jaraco.collections-3.3.0-py3-none-any.whl\n",
            "Requirement already satisfied: urllib3!=1.25.0,!=1.25.1,<1.26,>=1.21.1 in /usr/local/lib/python3.7/dist-packages (from requests->pattern) (1.24.3)\n",
            "Requirement already satisfied: idna<3,>=2.5 in /usr/local/lib/python3.7/dist-packages (from requests->pattern) (2.10)\n",
            "Requirement already satisfied: certifi>=2017.4.17 in /usr/local/lib/python3.7/dist-packages (from requests->pattern) (2020.12.5)\n",
            "Requirement already satisfied: cffi>=1.12 in /usr/local/lib/python3.7/dist-packages (from cryptography->pdfminer.six->pattern) (1.14.5)\n",
            "Collecting jaraco.functools\n",
            "  Downloading https://files.pythonhosted.org/packages/b5/da/e51e7b58c8fe132990edd1e3ef25bcd9801eb7f91d0f642ac7f8d97e4a36/jaraco.functools-3.3.0-py3-none-any.whl\n",
            "Requirement already satisfied: setuptools in /usr/local/lib/python3.7/dist-packages (from zc.lockfile->cherrypy->pattern) (54.2.0)\n",
            "Collecting tempora>=1.8\n",
            "  Downloading https://files.pythonhosted.org/packages/44/83/4d5c3de53bbc463f30ab6764e27bc2e8ed9b59736e8b40d95403ff802008/tempora-4.0.2-py3-none-any.whl\n",
            "Collecting jaraco.text\n",
            "  Downloading https://files.pythonhosted.org/packages/c1/74/2a3c4835c079df16db8a9c50263eebb0125849fee5b16de353a059b7545d/jaraco.text-3.5.0-py3-none-any.whl\n",
            "Collecting jaraco.classes\n",
            "  Downloading https://files.pythonhosted.org/packages/b8/74/bee5fc11594974746535117546404678fc7b899476e769c3c55bc0cfaa02/jaraco.classes-3.2.1-py3-none-any.whl\n",
            "Requirement already satisfied: pycparser in /usr/local/lib/python3.7/dist-packages (from cffi>=1.12->cryptography->pdfminer.six->pattern) (2.20)\n",
            "Requirement already satisfied: pytz in /usr/local/lib/python3.7/dist-packages (from tempora>=1.8->portend>=2.1.1->cherrypy->pattern) (2018.9)\n",
            "Building wheels for collected packages: pattern, mysqlclient, python-docx, sgmllib3k\n",
            "  Building wheel for pattern (setup.py) ... \u001b[?25l\u001b[?25hdone\n",
            "  Created wheel for pattern: filename=Pattern-3.6-cp37-none-any.whl size=22332724 sha256=2383c2f2061df08e89948c2e5c089ab2702dc2dccabf64be94afe722534f3325\n",
            "  Stored in directory: /root/.cache/pip/wheels/dc/9a/0e/5fb1a603ed4e3aa8722a88e9cf4a82da7d1b63e3d2cc34bee5\n",
            "  Building wheel for mysqlclient (setup.py) ... \u001b[?25l\u001b[?25hdone\n",
            "  Created wheel for mysqlclient: filename=mysqlclient-2.0.3-cp37-cp37m-linux_x86_64.whl size=100093 sha256=5870a5aabf4d56df97e57f248f781498dad3346562cbddf49a88b0127612b762\n",
            "  Stored in directory: /root/.cache/pip/wheels/75/ca/e8/ad4e7ce3df18bcd91c7d84dd28c7c08db491a2a2360efed363\n",
            "  Building wheel for python-docx (setup.py) ... \u001b[?25l\u001b[?25hdone\n",
            "  Created wheel for python-docx: filename=python_docx-0.8.10-cp37-none-any.whl size=184491 sha256=9ffea13fb30c5020858da347fc21580b53ee5f0561e7aaf057d4c8c63c1b4480\n",
            "  Stored in directory: /root/.cache/pip/wheels/18/0b/a0/1dd62ff812c857c9e487f27d80d53d2b40531bec1acecfa47b\n",
            "  Building wheel for sgmllib3k (setup.py) ... \u001b[?25l\u001b[?25hdone\n",
            "  Created wheel for sgmllib3k: filename=sgmllib3k-1.0.0-cp37-none-any.whl size=6067 sha256=46df7d3ed0b51fa96ab32fa32770e348443ecc5a572f24bbe21800fde0665051\n",
            "  Stored in directory: /root/.cache/pip/wheels/f1/80/5a/444ba08a550cdd241bd9baf8bae44be750efe370adb944506a\n",
            "Successfully built pattern mysqlclient python-docx sgmllib3k\n",
            "Installing collected packages: backports.csv, mysqlclient, sgmllib3k, feedparser, cryptography, pdfminer.six, python-docx, jaraco.functools, cheroot, zc.lockfile, tempora, portend, jaraco.text, jaraco.classes, jaraco.collections, cherrypy, pattern\n",
            "Successfully installed backports.csv-1.0.7 cheroot-8.5.2 cherrypy-18.6.0 cryptography-3.4.7 feedparser-6.0.2 jaraco.classes-3.2.1 jaraco.collections-3.3.0 jaraco.functools-3.3.0 jaraco.text-3.5.0 mysqlclient-2.0.3 pattern-3.6 pdfminer.six-20201018 portend-2.7.1 python-docx-0.8.10 sgmllib3k-1.0.0 tempora-4.0.2 zc.lockfile-2.0\n"
          ],
          "name": "stdout"
        }
      ]
    },
    {
      "cell_type": "code",
      "metadata": {
        "colab": {
          "base_uri": "https://localhost:8080/"
        },
        "id": "kZ2Z84WuRXP8",
        "outputId": "3773ec92-e33c-4899-8e26-0d3d2b6a5a76"
      },
      "source": [
        "!pip install spacy"
      ],
      "execution_count": 26,
      "outputs": [
        {
          "output_type": "stream",
          "text": [
            "Requirement already satisfied: spacy in /usr/local/lib/python3.7/dist-packages (2.2.4)\n",
            "Requirement already satisfied: cymem<2.1.0,>=2.0.2 in /usr/local/lib/python3.7/dist-packages (from spacy) (2.0.5)\n",
            "Requirement already satisfied: setuptools in /usr/local/lib/python3.7/dist-packages (from spacy) (54.2.0)\n",
            "Requirement already satisfied: plac<1.2.0,>=0.9.6 in /usr/local/lib/python3.7/dist-packages (from spacy) (1.1.3)\n",
            "Requirement already satisfied: srsly<1.1.0,>=1.0.2 in /usr/local/lib/python3.7/dist-packages (from spacy) (1.0.5)\n",
            "Requirement already satisfied: wasabi<1.1.0,>=0.4.0 in /usr/local/lib/python3.7/dist-packages (from spacy) (0.8.2)\n",
            "Requirement already satisfied: requests<3.0.0,>=2.13.0 in /usr/local/lib/python3.7/dist-packages (from spacy) (2.23.0)\n",
            "Requirement already satisfied: catalogue<1.1.0,>=0.0.7 in /usr/local/lib/python3.7/dist-packages (from spacy) (1.0.0)\n",
            "Requirement already satisfied: thinc==7.4.0 in /usr/local/lib/python3.7/dist-packages (from spacy) (7.4.0)\n",
            "Requirement already satisfied: preshed<3.1.0,>=3.0.2 in /usr/local/lib/python3.7/dist-packages (from spacy) (3.0.5)\n",
            "Requirement already satisfied: tqdm<5.0.0,>=4.38.0 in /usr/local/lib/python3.7/dist-packages (from spacy) (4.41.1)\n",
            "Requirement already satisfied: murmurhash<1.1.0,>=0.28.0 in /usr/local/lib/python3.7/dist-packages (from spacy) (1.0.5)\n",
            "Requirement already satisfied: numpy>=1.15.0 in /usr/local/lib/python3.7/dist-packages (from spacy) (1.19.5)\n",
            "Requirement already satisfied: blis<0.5.0,>=0.4.0 in /usr/local/lib/python3.7/dist-packages (from spacy) (0.4.1)\n",
            "Requirement already satisfied: urllib3!=1.25.0,!=1.25.1,<1.26,>=1.21.1 in /usr/local/lib/python3.7/dist-packages (from requests<3.0.0,>=2.13.0->spacy) (1.24.3)\n",
            "Requirement already satisfied: certifi>=2017.4.17 in /usr/local/lib/python3.7/dist-packages (from requests<3.0.0,>=2.13.0->spacy) (2020.12.5)\n",
            "Requirement already satisfied: chardet<4,>=3.0.2 in /usr/local/lib/python3.7/dist-packages (from requests<3.0.0,>=2.13.0->spacy) (3.0.4)\n",
            "Requirement already satisfied: idna<3,>=2.5 in /usr/local/lib/python3.7/dist-packages (from requests<3.0.0,>=2.13.0->spacy) (2.10)\n",
            "Requirement already satisfied: importlib-metadata>=0.20; python_version < \"3.8\" in /usr/local/lib/python3.7/dist-packages (from catalogue<1.1.0,>=0.0.7->spacy) (3.10.1)\n",
            "Requirement already satisfied: typing-extensions>=3.6.4; python_version < \"3.8\" in /usr/local/lib/python3.7/dist-packages (from importlib-metadata>=0.20; python_version < \"3.8\"->catalogue<1.1.0,>=0.0.7->spacy) (3.7.4.3)\n",
            "Requirement already satisfied: zipp>=0.5 in /usr/local/lib/python3.7/dist-packages (from importlib-metadata>=0.20; python_version < \"3.8\"->catalogue<1.1.0,>=0.0.7->spacy) (3.4.1)\n"
          ],
          "name": "stdout"
        }
      ]
    },
    {
      "cell_type": "code",
      "metadata": {
        "colab": {
          "base_uri": "https://localhost:8080/"
        },
        "id": "ajJ10TbkRXVb",
        "outputId": "a0bc552c-75e7-4575-a002-114342020333"
      },
      "source": [
        "import spacy.cli\n",
        "spacy.cli.download(\"en_core_web_sm\")"
      ],
      "execution_count": 27,
      "outputs": [
        {
          "output_type": "stream",
          "text": [
            "\u001b[38;5;2m✔ Download and installation successful\u001b[0m\n",
            "You can now load the model via spacy.load('en_core_web_sm')\n"
          ],
          "name": "stdout"
        }
      ]
    },
    {
      "cell_type": "code",
      "metadata": {
        "id": "1ydcI3kuRXbn"
      },
      "source": [
        "import graphviz"
      ],
      "execution_count": 28,
      "outputs": []
    },
    {
      "cell_type": "markdown",
      "metadata": {
        "id": "OEpjCP32VDLo"
      },
      "source": [
        "While the Stanza library implements accurate neural network modules for basic functionalities such as part-of-speech tagging and dependency parsing, the Stanford CoreNLP Java library has been developed for years and offers more complementary features such as coreference resolution and relation extraction. To unlock these features, the Stanza library also offers an officially maintained Python interface to the CoreNLP Java library. This interface allows you to get NLP anntotations from CoreNLP by writing native Python code.\n",
        "\n",
        "This tutorial walks you through the installation, setup and basic usage of this Python CoreNLP interface. If you want to learn how to use the neural network components in Stanza, please refer to other tutorials."
      ]
    },
    {
      "cell_type": "code",
      "metadata": {
        "colab": {
          "base_uri": "https://localhost:8080/"
        },
        "id": "_Rie8uiJRXez",
        "outputId": "883b18d8-5e5d-44e2-df1e-62afbc0e9d42"
      },
      "source": [
        "# Install stanza; note that the prefix \"!\" is not needed if you are running in a terminal\n",
        "!pip install stanza\n",
        "\n",
        "import stanza\n"
      ],
      "execution_count": 30,
      "outputs": [
        {
          "output_type": "stream",
          "text": [
            "Requirement already satisfied: stanza in /usr/local/lib/python3.7/dist-packages (1.2)\n",
            "Requirement already satisfied: torch>=1.3.0 in /usr/local/lib/python3.7/dist-packages (from stanza) (1.8.1+cu101)\n",
            "Requirement already satisfied: numpy in /usr/local/lib/python3.7/dist-packages (from stanza) (1.19.5)\n",
            "Requirement already satisfied: requests in /usr/local/lib/python3.7/dist-packages (from stanza) (2.23.0)\n",
            "Requirement already satisfied: tqdm in /usr/local/lib/python3.7/dist-packages (from stanza) (4.41.1)\n",
            "Requirement already satisfied: protobuf in /usr/local/lib/python3.7/dist-packages (from stanza) (3.12.4)\n",
            "Requirement already satisfied: typing-extensions in /usr/local/lib/python3.7/dist-packages (from torch>=1.3.0->stanza) (3.7.4.3)\n",
            "Requirement already satisfied: idna<3,>=2.5 in /usr/local/lib/python3.7/dist-packages (from requests->stanza) (2.10)\n",
            "Requirement already satisfied: urllib3!=1.25.0,!=1.25.1,<1.26,>=1.21.1 in /usr/local/lib/python3.7/dist-packages (from requests->stanza) (1.24.3)\n",
            "Requirement already satisfied: certifi>=2017.4.17 in /usr/local/lib/python3.7/dist-packages (from requests->stanza) (2020.12.5)\n",
            "Requirement already satisfied: chardet<4,>=3.0.2 in /usr/local/lib/python3.7/dist-packages (from requests->stanza) (3.0.4)\n",
            "Requirement already satisfied: setuptools in /usr/local/lib/python3.7/dist-packages (from protobuf->stanza) (54.2.0)\n",
            "Requirement already satisfied: six>=1.9 in /usr/local/lib/python3.7/dist-packages (from protobuf->stanza) (1.15.0)\n"
          ],
          "name": "stdout"
        }
      ]
    },
    {
      "cell_type": "code",
      "metadata": {
        "colab": {
          "base_uri": "https://localhost:8080/"
        },
        "id": "p3thNottVP4g",
        "outputId": "86cfb69d-9498-4233-dd9e-fd863df63cf9"
      },
      "source": [
        "# Download the Stanford CoreNLP package with Stanza's installation command\n",
        "# This'll take several minutes, depending on the network speed\n",
        "corenlp_dir = './corenlp'\n",
        "stanza.install_corenlp(dir=corenlp_dir)\n",
        "\n",
        "# Set the CORENLP_HOME environment variable to point to the installation location\n",
        "import os\n",
        "os.environ[\"CORENLP_HOME\"] = corenlp_dir"
      ],
      "execution_count": 8,
      "outputs": [
        {
          "output_type": "stream",
          "text": [
            "2021-04-20 00:06:20 INFO: Installing CoreNLP package into ./corenlp...\n",
            "Downloading http://nlp.stanford.edu/software/stanford-corenlp-latest.zip: 100%|██████████| 505M/505M [01:39<00:00, 5.05MB/s]\n",
            "2021-04-20 00:08:04 WARNING: For customized installation location, please set the `CORENLP_HOME` environment variable to the location of the installation. In Unix, this is done with `export CORENLP_HOME=./corenlp`.\n"
          ],
          "name": "stderr"
        }
      ]
    },
    {
      "cell_type": "code",
      "metadata": {
        "colab": {
          "base_uri": "https://localhost:8080/"
        },
        "id": "ivbEiSfuVSCi",
        "outputId": "83b1f95d-70ba-4554-abeb-45f82fafbddd"
      },
      "source": [
        "# Examine the CoreNLP installation folder to make sure the installation is successful\n",
        "!ls $CORENLP_HOME"
      ],
      "execution_count": 9,
      "outputs": [
        {
          "output_type": "stream",
          "text": [
            "build.xml\t\t\t\t  jollyday.jar\n",
            "corenlp.sh\t\t\t\t  LIBRARY-LICENSES\n",
            "CoreNLP-to-HTML.xsl\t\t\t  LICENSE.txt\n",
            "ejml-core-0.39.jar\t\t\t  Makefile\n",
            "ejml-core-0.39-sources.jar\t\t  patterns\n",
            "ejml-ddense-0.39.jar\t\t\t  pom-java-11.xml\n",
            "ejml-ddense-0.39-sources.jar\t\t  pom.xml\n",
            "ejml-simple-0.39.jar\t\t\t  protobuf.jar\n",
            "ejml-simple-0.39-sources.jar\t\t  README.txt\n",
            "input.txt\t\t\t\t  RESOURCE-LICENSES\n",
            "input.txt.out\t\t\t\t  SemgrexDemo.java\n",
            "input.txt.xml\t\t\t\t  ShiftReduceDemo.java\n",
            "javax.activation-api-1.2.0.jar\t\t  slf4j-api.jar\n",
            "javax.activation-api-1.2.0-sources.jar\t  slf4j-simple.jar\n",
            "javax.json-api-1.0-sources.jar\t\t  stanford-corenlp-4.2.0.jar\n",
            "javax.json.jar\t\t\t\t  stanford-corenlp-4.2.0-javadoc.jar\n",
            "jaxb-api-2.4.0-b180830.0359.jar\t\t  stanford-corenlp-4.2.0-models.jar\n",
            "jaxb-api-2.4.0-b180830.0359-sources.jar   stanford-corenlp-4.2.0-sources.jar\n",
            "jaxb-core-2.3.0.1.jar\t\t\t  StanfordCoreNlpDemo.java\n",
            "jaxb-core-2.3.0.1-sources.jar\t\t  StanfordDependenciesManual.pdf\n",
            "jaxb-impl-2.4.0-b180830.0438.jar\t  sutime\n",
            "jaxb-impl-2.4.0-b180830.0438-sources.jar  tokensregex\n",
            "joda-time-2.10.5-sources.jar\t\t  xom-1.3.2-sources.jar\n",
            "joda-time.jar\t\t\t\t  xom.jar\n",
            "jollyday-0.4.9-sources.jar\n"
          ],
          "name": "stdout"
        }
      ]
    },
    {
      "cell_type": "code",
      "metadata": {
        "id": "7dZ7eCSwVk2T",
        "colab": {
          "base_uri": "https://localhost:8080/",
          "height": 317
        },
        "outputId": "4a59d6b2-85f7-4327-e5ac-3bb7d6712399"
      },
      "source": [
        "#import client_module\n",
        "#from stanza.server import CoreNLPClient"
      ],
      "execution_count": 33,
      "outputs": [
        {
          "output_type": "error",
          "ename": "ModuleNotFoundError",
          "evalue": "ignored",
          "traceback": [
            "\u001b[0;31m---------------------------------------------------------------------------\u001b[0m",
            "\u001b[0;31mModuleNotFoundError\u001b[0m                       Traceback (most recent call last)",
            "\u001b[0;32m<ipython-input-33-dc64bb472307>\u001b[0m in \u001b[0;36m<module>\u001b[0;34m()\u001b[0m\n\u001b[0;32m----> 1\u001b[0;31m \u001b[0;32mimport\u001b[0m \u001b[0mclient_module\u001b[0m\u001b[0;34m\u001b[0m\u001b[0;34m\u001b[0m\u001b[0m\n\u001b[0m\u001b[1;32m      2\u001b[0m \u001b[0;32mfrom\u001b[0m \u001b[0mstanza\u001b[0m\u001b[0;34m.\u001b[0m\u001b[0mserver\u001b[0m \u001b[0;32mimport\u001b[0m \u001b[0mCoreNLPClient\u001b[0m\u001b[0;34m\u001b[0m\u001b[0;34m\u001b[0m\u001b[0m\n",
            "\u001b[0;31mModuleNotFoundError\u001b[0m: No module named 'client_module'",
            "",
            "\u001b[0;31m---------------------------------------------------------------------------\u001b[0;32m\nNOTE: If your import is failing due to a missing package, you can\nmanually install dependencies using either !pip or !apt.\n\nTo view examples of installing some common dependencies, click the\n\"Open Examples\" button below.\n\u001b[0;31m---------------------------------------------------------------------------\u001b[0m\n"
          ]
        }
      ]
    },
    {
      "cell_type": "code",
      "metadata": {
        "id": "wBM5pCm-Vk6V"
      },
      "source": [
        ""
      ],
      "execution_count": 10,
      "outputs": []
    },
    {
      "cell_type": "markdown",
      "metadata": {
        "id": "qzFFe9bXax3y"
      },
      "source": [
        "##Parts of Speech tagging\n",
        "***Parts of speech (POS)*** are specific lexical categories to which words are assigned based on their syntactic context and role.\n",
        "\n",
        "##### Usefulness:\n",
        "when we need to use the same annotated text later in NLP-based applications:\n",
        "* to filter by specific parts of speech\n",
        ">> * utilize that information to perform specific analysis, such as narrowing down upon nouns and seeing which ones are the most prominent, \n",
        ">> * word sense disambiguation, and\n",
        ">> * grammar analysis.\n",
        "\n"
      ]
    },
    {
      "cell_type": "markdown",
      "metadata": {
        "id": "C5QDlN4Go5ut"
      },
      "source": [
        "##### Recommended POS Taggers\n",
        "Penn Treebank notation with its 45 tags is the most popular\n",
        "* Let us show the POS tag for each word in a text"
      ]
    },
    {
      "cell_type": "code",
      "metadata": {
        "id": "R-O02nqYVk_C"
      },
      "source": [
        "sentence = 'The brown fox is quick and he is jumping over the lazy dog'"
      ],
      "execution_count": 41,
      "outputs": []
    },
    {
      "cell_type": "code",
      "metadata": {
        "id": "kvq6GtPva2Yp"
      },
      "source": [
        "import nltk\n",
        "tokens = nltk.word_tokenize(sentence)\n",
        "tagged_sent = nltk.pos_tag(tokens, tagset='universal')"
      ],
      "execution_count": 22,
      "outputs": []
    },
    {
      "cell_type": "code",
      "metadata": {
        "colab": {
          "base_uri": "https://localhost:8080/"
        },
        "id": "BCSq5Z2ra2cQ",
        "outputId": "8bc7b3ee-e559-4de3-da35-242563a08272"
      },
      "source": [
        "print (tagged_sent)"
      ],
      "execution_count": 23,
      "outputs": [
        {
          "output_type": "stream",
          "text": [
            "[('The', 'DET'), ('brown', 'ADJ'), ('fox', 'NOUN'), ('is', 'VERB'), ('quick', 'ADJ'), ('and', 'CONJ'), ('he', 'PRON'), ('is', 'VERB'), ('jumping', 'VERB'), ('over', 'ADP'), ('the', 'DET'), ('lazy', 'ADJ'), ('dog', 'NOUN')]\n"
          ],
          "name": "stdout"
        }
      ]
    },
    {
      "cell_type": "code",
      "metadata": {
        "id": "cKIDpZfzlD4U"
      },
      "source": [
        "#Alternative:\n",
        "#use the pattern module to get POS tags of a sentence\n",
        "from pattern.en import tag\n"
      ],
      "execution_count": 40,
      "outputs": []
    },
    {
      "cell_type": "code",
      "metadata": {
        "colab": {
          "base_uri": "https://localhost:8080/",
          "height": 426
        },
        "id": "En8UpTXFwtdn",
        "outputId": "e197cf08-778e-4acc-e817-cf7d1e20878c"
      },
      "source": [
        "#tagged_sent = tag(sentence)\n",
        "#tagged_sent\n",
        "#Did not work"
      ],
      "execution_count": 42,
      "outputs": [
        {
          "output_type": "error",
          "ename": "RuntimeError",
          "evalue": "ignored",
          "traceback": [
            "\u001b[0;31m---------------------------------------------------------------------------\u001b[0m",
            "\u001b[0;31mStopIteration\u001b[0m                             Traceback (most recent call last)",
            "\u001b[0;32m/usr/local/lib/python3.7/dist-packages/pattern/text/__init__.py\u001b[0m in \u001b[0;36m_read\u001b[0;34m(path, encoding, comment)\u001b[0m\n\u001b[1;32m    608\u001b[0m             \u001b[0;32myield\u001b[0m \u001b[0mline\u001b[0m\u001b[0;34m\u001b[0m\u001b[0;34m\u001b[0m\u001b[0m\n\u001b[0;32m--> 609\u001b[0;31m     \u001b[0;32mraise\u001b[0m \u001b[0mStopIteration\u001b[0m\u001b[0;34m\u001b[0m\u001b[0;34m\u001b[0m\u001b[0m\n\u001b[0m\u001b[1;32m    610\u001b[0m \u001b[0;34m\u001b[0m\u001b[0m\n",
            "\u001b[0;31mStopIteration\u001b[0m: ",
            "\nThe above exception was the direct cause of the following exception:\n",
            "\u001b[0;31mRuntimeError\u001b[0m                              Traceback (most recent call last)",
            "\u001b[0;32m<ipython-input-42-32c20149fb8a>\u001b[0m in \u001b[0;36m<module>\u001b[0;34m()\u001b[0m\n\u001b[0;32m----> 1\u001b[0;31m \u001b[0mtagged_sent\u001b[0m \u001b[0;34m=\u001b[0m \u001b[0mtag\u001b[0m\u001b[0;34m(\u001b[0m\u001b[0msentence\u001b[0m\u001b[0;34m)\u001b[0m\u001b[0;34m\u001b[0m\u001b[0;34m\u001b[0m\u001b[0m\n\u001b[0m\u001b[1;32m      2\u001b[0m \u001b[0;31m#tagged_sent\u001b[0m\u001b[0;34m\u001b[0m\u001b[0;34m\u001b[0m\u001b[0;34m\u001b[0m\u001b[0m\n\u001b[1;32m      3\u001b[0m \u001b[0;31m#Did not work\u001b[0m\u001b[0;34m\u001b[0m\u001b[0;34m\u001b[0m\u001b[0;34m\u001b[0m\u001b[0m\n",
            "\u001b[0;32m/usr/local/lib/python3.7/dist-packages/pattern/text/en/__init__.py\u001b[0m in \u001b[0;36mtag\u001b[0;34m(s, tokenize, encoding, **kwargs)\u001b[0m\n\u001b[1;32m    186\u001b[0m     \"\"\"\n\u001b[1;32m    187\u001b[0m     \u001b[0mtags\u001b[0m \u001b[0;34m=\u001b[0m \u001b[0;34m[\u001b[0m\u001b[0;34m]\u001b[0m\u001b[0;34m\u001b[0m\u001b[0;34m\u001b[0m\u001b[0m\n\u001b[0;32m--> 188\u001b[0;31m     \u001b[0;32mfor\u001b[0m \u001b[0msentence\u001b[0m \u001b[0;32min\u001b[0m \u001b[0mparse\u001b[0m\u001b[0;34m(\u001b[0m\u001b[0ms\u001b[0m\u001b[0;34m,\u001b[0m \u001b[0mtokenize\u001b[0m\u001b[0;34m,\u001b[0m \u001b[0;32mTrue\u001b[0m\u001b[0;34m,\u001b[0m \u001b[0;32mFalse\u001b[0m\u001b[0;34m,\u001b[0m \u001b[0;32mFalse\u001b[0m\u001b[0;34m,\u001b[0m \u001b[0;32mFalse\u001b[0m\u001b[0;34m,\u001b[0m \u001b[0mencoding\u001b[0m\u001b[0;34m,\u001b[0m \u001b[0;34m**\u001b[0m\u001b[0mkwargs\u001b[0m\u001b[0;34m)\u001b[0m\u001b[0;34m.\u001b[0m\u001b[0msplit\u001b[0m\u001b[0;34m(\u001b[0m\u001b[0;34m)\u001b[0m\u001b[0;34m:\u001b[0m\u001b[0;34m\u001b[0m\u001b[0;34m\u001b[0m\u001b[0m\n\u001b[0m\u001b[1;32m    189\u001b[0m         \u001b[0;32mfor\u001b[0m \u001b[0mtoken\u001b[0m \u001b[0;32min\u001b[0m \u001b[0msentence\u001b[0m\u001b[0;34m:\u001b[0m\u001b[0;34m\u001b[0m\u001b[0;34m\u001b[0m\u001b[0m\n\u001b[1;32m    190\u001b[0m             \u001b[0mtags\u001b[0m\u001b[0;34m.\u001b[0m\u001b[0mappend\u001b[0m\u001b[0;34m(\u001b[0m\u001b[0;34m(\u001b[0m\u001b[0mtoken\u001b[0m\u001b[0;34m[\u001b[0m\u001b[0;36m0\u001b[0m\u001b[0;34m]\u001b[0m\u001b[0;34m,\u001b[0m \u001b[0mtoken\u001b[0m\u001b[0;34m[\u001b[0m\u001b[0;36m1\u001b[0m\u001b[0;34m]\u001b[0m\u001b[0;34m)\u001b[0m\u001b[0;34m)\u001b[0m\u001b[0;34m\u001b[0m\u001b[0;34m\u001b[0m\u001b[0m\n",
            "\u001b[0;32m/usr/local/lib/python3.7/dist-packages/pattern/text/en/__init__.py\u001b[0m in \u001b[0;36mparse\u001b[0;34m(s, *args, **kwargs)\u001b[0m\n\u001b[1;32m    167\u001b[0m     \"\"\" Returns a tagged Unicode string.\n\u001b[1;32m    168\u001b[0m     \"\"\"\n\u001b[0;32m--> 169\u001b[0;31m     \u001b[0;32mreturn\u001b[0m \u001b[0mparser\u001b[0m\u001b[0;34m.\u001b[0m\u001b[0mparse\u001b[0m\u001b[0;34m(\u001b[0m\u001b[0ms\u001b[0m\u001b[0;34m,\u001b[0m \u001b[0;34m*\u001b[0m\u001b[0margs\u001b[0m\u001b[0;34m,\u001b[0m \u001b[0;34m**\u001b[0m\u001b[0mkwargs\u001b[0m\u001b[0;34m)\u001b[0m\u001b[0;34m\u001b[0m\u001b[0;34m\u001b[0m\u001b[0m\n\u001b[0m\u001b[1;32m    170\u001b[0m \u001b[0;34m\u001b[0m\u001b[0m\n\u001b[1;32m    171\u001b[0m \u001b[0;34m\u001b[0m\u001b[0m\n",
            "\u001b[0;32m/usr/local/lib/python3.7/dist-packages/pattern/text/__init__.py\u001b[0m in \u001b[0;36mparse\u001b[0;34m(self, s, tokenize, tags, chunks, relations, lemmata, encoding, **kwargs)\u001b[0m\n\u001b[1;32m   1170\u001b[0m             \u001b[0;31m# Tagger (required by chunker, labeler & lemmatizer).\u001b[0m\u001b[0;34m\u001b[0m\u001b[0;34m\u001b[0m\u001b[0;34m\u001b[0m\u001b[0m\n\u001b[1;32m   1171\u001b[0m             \u001b[0;32mif\u001b[0m \u001b[0mtags\u001b[0m \u001b[0;32mor\u001b[0m \u001b[0mchunks\u001b[0m \u001b[0;32mor\u001b[0m \u001b[0mrelations\u001b[0m \u001b[0;32mor\u001b[0m \u001b[0mlemmata\u001b[0m\u001b[0;34m:\u001b[0m\u001b[0;34m\u001b[0m\u001b[0;34m\u001b[0m\u001b[0m\n\u001b[0;32m-> 1172\u001b[0;31m                 \u001b[0ms\u001b[0m\u001b[0;34m[\u001b[0m\u001b[0mi\u001b[0m\u001b[0;34m]\u001b[0m \u001b[0;34m=\u001b[0m \u001b[0mself\u001b[0m\u001b[0;34m.\u001b[0m\u001b[0mfind_tags\u001b[0m\u001b[0;34m(\u001b[0m\u001b[0ms\u001b[0m\u001b[0;34m[\u001b[0m\u001b[0mi\u001b[0m\u001b[0;34m]\u001b[0m\u001b[0;34m,\u001b[0m \u001b[0;34m**\u001b[0m\u001b[0mkwargs\u001b[0m\u001b[0;34m)\u001b[0m\u001b[0;34m\u001b[0m\u001b[0;34m\u001b[0m\u001b[0m\n\u001b[0m\u001b[1;32m   1173\u001b[0m             \u001b[0;32melse\u001b[0m\u001b[0;34m:\u001b[0m\u001b[0;34m\u001b[0m\u001b[0;34m\u001b[0m\u001b[0m\n\u001b[1;32m   1174\u001b[0m                 \u001b[0ms\u001b[0m\u001b[0;34m[\u001b[0m\u001b[0mi\u001b[0m\u001b[0;34m]\u001b[0m \u001b[0;34m=\u001b[0m \u001b[0;34m[\u001b[0m\u001b[0;34m[\u001b[0m\u001b[0mw\u001b[0m\u001b[0;34m]\u001b[0m \u001b[0;32mfor\u001b[0m \u001b[0mw\u001b[0m \u001b[0;32min\u001b[0m \u001b[0ms\u001b[0m\u001b[0;34m[\u001b[0m\u001b[0mi\u001b[0m\u001b[0;34m]\u001b[0m\u001b[0;34m]\u001b[0m\u001b[0;34m\u001b[0m\u001b[0;34m\u001b[0m\u001b[0m\n",
            "\u001b[0;32m/usr/local/lib/python3.7/dist-packages/pattern/text/en/__init__.py\u001b[0m in \u001b[0;36mfind_tags\u001b[0;34m(self, tokens, **kwargs)\u001b[0m\n\u001b[1;32m    112\u001b[0m         \u001b[0;32mif\u001b[0m \u001b[0mkwargs\u001b[0m\u001b[0;34m.\u001b[0m\u001b[0mget\u001b[0m\u001b[0;34m(\u001b[0m\u001b[0;34m\"tagset\"\u001b[0m\u001b[0;34m)\u001b[0m \u001b[0;34m==\u001b[0m \u001b[0mUNIVERSAL\u001b[0m\u001b[0;34m:\u001b[0m\u001b[0;34m\u001b[0m\u001b[0;34m\u001b[0m\u001b[0m\n\u001b[1;32m    113\u001b[0m             \u001b[0mkwargs\u001b[0m\u001b[0;34m.\u001b[0m\u001b[0msetdefault\u001b[0m\u001b[0;34m(\u001b[0m\u001b[0;34m\"map\"\u001b[0m\u001b[0;34m,\u001b[0m \u001b[0;32mlambda\u001b[0m \u001b[0mtoken\u001b[0m\u001b[0;34m,\u001b[0m \u001b[0mtag\u001b[0m\u001b[0;34m:\u001b[0m \u001b[0mpenntreebank2universal\u001b[0m\u001b[0;34m(\u001b[0m\u001b[0mtoken\u001b[0m\u001b[0;34m,\u001b[0m \u001b[0mtag\u001b[0m\u001b[0;34m)\u001b[0m\u001b[0;34m)\u001b[0m\u001b[0;34m\u001b[0m\u001b[0;34m\u001b[0m\u001b[0m\n\u001b[0;32m--> 114\u001b[0;31m         \u001b[0;32mreturn\u001b[0m \u001b[0m_Parser\u001b[0m\u001b[0;34m.\u001b[0m\u001b[0mfind_tags\u001b[0m\u001b[0;34m(\u001b[0m\u001b[0mself\u001b[0m\u001b[0;34m,\u001b[0m \u001b[0mtokens\u001b[0m\u001b[0;34m,\u001b[0m \u001b[0;34m**\u001b[0m\u001b[0mkwargs\u001b[0m\u001b[0;34m)\u001b[0m\u001b[0;34m\u001b[0m\u001b[0;34m\u001b[0m\u001b[0m\n\u001b[0m\u001b[1;32m    115\u001b[0m \u001b[0;34m\u001b[0m\u001b[0m\n\u001b[1;32m    116\u001b[0m \u001b[0;34m\u001b[0m\u001b[0m\n",
            "\u001b[0;32m/usr/local/lib/python3.7/dist-packages/pattern/text/__init__.py\u001b[0m in \u001b[0;36mfind_tags\u001b[0;34m(self, tokens, **kwargs)\u001b[0m\n\u001b[1;32m   1118\u001b[0m                    \u001b[0mlanguage\u001b[0m \u001b[0;34m=\u001b[0m \u001b[0mkwargs\u001b[0m\u001b[0;34m.\u001b[0m\u001b[0mget\u001b[0m\u001b[0;34m(\u001b[0m\u001b[0;34m\"language\"\u001b[0m\u001b[0;34m,\u001b[0m \u001b[0mself\u001b[0m\u001b[0;34m.\u001b[0m\u001b[0mlanguage\u001b[0m\u001b[0;34m)\u001b[0m\u001b[0;34m,\u001b[0m\u001b[0;34m\u001b[0m\u001b[0;34m\u001b[0m\u001b[0m\n\u001b[1;32m   1119\u001b[0m                     \u001b[0mdefault\u001b[0m \u001b[0;34m=\u001b[0m \u001b[0mkwargs\u001b[0m\u001b[0;34m.\u001b[0m\u001b[0mget\u001b[0m\u001b[0;34m(\u001b[0m\u001b[0;34m\"default\"\u001b[0m\u001b[0;34m,\u001b[0m \u001b[0mself\u001b[0m\u001b[0;34m.\u001b[0m\u001b[0mdefault\u001b[0m\u001b[0;34m)\u001b[0m\u001b[0;34m,\u001b[0m\u001b[0;34m\u001b[0m\u001b[0;34m\u001b[0m\u001b[0m\n\u001b[0;32m-> 1120\u001b[0;31m                         map = kwargs.get(\"map\", None))\n\u001b[0m\u001b[1;32m   1121\u001b[0m \u001b[0;34m\u001b[0m\u001b[0m\n\u001b[1;32m   1122\u001b[0m     \u001b[0;32mdef\u001b[0m \u001b[0mfind_chunks\u001b[0m\u001b[0;34m(\u001b[0m\u001b[0mself\u001b[0m\u001b[0;34m,\u001b[0m \u001b[0mtokens\u001b[0m\u001b[0;34m,\u001b[0m \u001b[0;34m**\u001b[0m\u001b[0mkwargs\u001b[0m\u001b[0;34m)\u001b[0m\u001b[0;34m:\u001b[0m\u001b[0;34m\u001b[0m\u001b[0;34m\u001b[0m\u001b[0m\n",
            "\u001b[0;32m/usr/local/lib/python3.7/dist-packages/pattern/text/__init__.py\u001b[0m in \u001b[0;36mfind_tags\u001b[0;34m(tokens, lexicon, model, morphology, context, entities, default, language, map, **kwargs)\u001b[0m\n\u001b[1;32m   1538\u001b[0m     \u001b[0;31m# Tag named entities.\u001b[0m\u001b[0;34m\u001b[0m\u001b[0;34m\u001b[0m\u001b[0;34m\u001b[0m\u001b[0m\n\u001b[1;32m   1539\u001b[0m     \u001b[0;32mif\u001b[0m \u001b[0mentities\u001b[0m \u001b[0;32mis\u001b[0m \u001b[0;32mnot\u001b[0m \u001b[0;32mNone\u001b[0m\u001b[0;34m:\u001b[0m\u001b[0;34m\u001b[0m\u001b[0;34m\u001b[0m\u001b[0m\n\u001b[0;32m-> 1540\u001b[0;31m         \u001b[0mtagged\u001b[0m \u001b[0;34m=\u001b[0m \u001b[0mentities\u001b[0m\u001b[0;34m.\u001b[0m\u001b[0mapply\u001b[0m\u001b[0;34m(\u001b[0m\u001b[0mtagged\u001b[0m\u001b[0;34m)\u001b[0m\u001b[0;34m\u001b[0m\u001b[0;34m\u001b[0m\u001b[0m\n\u001b[0m\u001b[1;32m   1541\u001b[0m     \u001b[0;31m# Map tags with a custom function.\u001b[0m\u001b[0;34m\u001b[0m\u001b[0;34m\u001b[0m\u001b[0;34m\u001b[0m\u001b[0m\n\u001b[1;32m   1542\u001b[0m     \u001b[0;32mif\u001b[0m \u001b[0mmap\u001b[0m \u001b[0;32mis\u001b[0m \u001b[0;32mnot\u001b[0m \u001b[0;32mNone\u001b[0m\u001b[0;34m:\u001b[0m\u001b[0;34m\u001b[0m\u001b[0;34m\u001b[0m\u001b[0m\n",
            "\u001b[0;32m/usr/local/lib/python3.7/dist-packages/pattern/text/__init__.py\u001b[0m in \u001b[0;36mapply\u001b[0;34m(self, tokens)\u001b[0m\n\u001b[1;32m    974\u001b[0m             \u001b[0;32mor\u001b[0m \u001b[0mRE_ENTITY3\u001b[0m\u001b[0;34m.\u001b[0m\u001b[0mmatch\u001b[0m\u001b[0;34m(\u001b[0m\u001b[0mw\u001b[0m\u001b[0;34m)\u001b[0m\u001b[0;34m:\u001b[0m\u001b[0;34m\u001b[0m\u001b[0;34m\u001b[0m\u001b[0m\n\u001b[1;32m    975\u001b[0m                 \u001b[0mtokens\u001b[0m\u001b[0;34m[\u001b[0m\u001b[0mi\u001b[0m\u001b[0;34m]\u001b[0m\u001b[0;34m[\u001b[0m\u001b[0;36m1\u001b[0m\u001b[0;34m]\u001b[0m \u001b[0;34m=\u001b[0m \u001b[0mself\u001b[0m\u001b[0;34m.\u001b[0m\u001b[0mtag\u001b[0m\u001b[0;34m\u001b[0m\u001b[0;34m\u001b[0m\u001b[0m\n\u001b[0;32m--> 976\u001b[0;31m             \u001b[0;32mif\u001b[0m \u001b[0mw\u001b[0m \u001b[0;32min\u001b[0m \u001b[0mself\u001b[0m\u001b[0;34m:\u001b[0m\u001b[0;34m\u001b[0m\u001b[0;34m\u001b[0m\u001b[0m\n\u001b[0m\u001b[1;32m    977\u001b[0m                 \u001b[0;32mfor\u001b[0m \u001b[0me\u001b[0m \u001b[0;32min\u001b[0m \u001b[0mself\u001b[0m\u001b[0;34m[\u001b[0m\u001b[0mw\u001b[0m\u001b[0;34m]\u001b[0m\u001b[0;34m:\u001b[0m\u001b[0;34m\u001b[0m\u001b[0;34m\u001b[0m\u001b[0m\n\u001b[1;32m    978\u001b[0m                     \u001b[0;31m# Look ahead to see if successive words match the named entity.\u001b[0m\u001b[0;34m\u001b[0m\u001b[0;34m\u001b[0m\u001b[0;34m\u001b[0m\u001b[0m\n",
            "\u001b[0;32m/usr/local/lib/python3.7/dist-packages/pattern/text/__init__.py\u001b[0m in \u001b[0;36m__contains__\u001b[0;34m(self, *args)\u001b[0m\n\u001b[1;32m    380\u001b[0m \u001b[0;34m\u001b[0m\u001b[0m\n\u001b[1;32m    381\u001b[0m     \u001b[0;32mdef\u001b[0m \u001b[0m__contains__\u001b[0m\u001b[0;34m(\u001b[0m\u001b[0mself\u001b[0m\u001b[0;34m,\u001b[0m \u001b[0;34m*\u001b[0m\u001b[0margs\u001b[0m\u001b[0;34m)\u001b[0m\u001b[0;34m:\u001b[0m\u001b[0;34m\u001b[0m\u001b[0;34m\u001b[0m\u001b[0m\n\u001b[0;32m--> 382\u001b[0;31m         \u001b[0;32mreturn\u001b[0m \u001b[0mself\u001b[0m\u001b[0;34m.\u001b[0m\u001b[0m_lazy\u001b[0m\u001b[0;34m(\u001b[0m\u001b[0;34m\"__contains__\"\u001b[0m\u001b[0;34m,\u001b[0m \u001b[0;34m*\u001b[0m\u001b[0margs\u001b[0m\u001b[0;34m)\u001b[0m\u001b[0;34m\u001b[0m\u001b[0;34m\u001b[0m\u001b[0m\n\u001b[0m\u001b[1;32m    383\u001b[0m \u001b[0;34m\u001b[0m\u001b[0m\n\u001b[1;32m    384\u001b[0m     \u001b[0;32mdef\u001b[0m \u001b[0m__getitem__\u001b[0m\u001b[0;34m(\u001b[0m\u001b[0mself\u001b[0m\u001b[0;34m,\u001b[0m \u001b[0;34m*\u001b[0m\u001b[0margs\u001b[0m\u001b[0;34m)\u001b[0m\u001b[0;34m:\u001b[0m\u001b[0;34m\u001b[0m\u001b[0;34m\u001b[0m\u001b[0m\n",
            "\u001b[0;32m/usr/local/lib/python3.7/dist-packages/pattern/text/__init__.py\u001b[0m in \u001b[0;36m_lazy\u001b[0;34m(self, method, *args)\u001b[0m\n\u001b[1;32m    366\u001b[0m         \"\"\"\n\u001b[1;32m    367\u001b[0m         \u001b[0;32mif\u001b[0m \u001b[0mdict\u001b[0m\u001b[0;34m.\u001b[0m\u001b[0m__len__\u001b[0m\u001b[0;34m(\u001b[0m\u001b[0mself\u001b[0m\u001b[0;34m)\u001b[0m \u001b[0;34m==\u001b[0m \u001b[0;36m0\u001b[0m\u001b[0;34m:\u001b[0m\u001b[0;34m\u001b[0m\u001b[0;34m\u001b[0m\u001b[0m\n\u001b[0;32m--> 368\u001b[0;31m             \u001b[0mself\u001b[0m\u001b[0;34m.\u001b[0m\u001b[0mload\u001b[0m\u001b[0;34m(\u001b[0m\u001b[0;34m)\u001b[0m\u001b[0;34m\u001b[0m\u001b[0;34m\u001b[0m\u001b[0m\n\u001b[0m\u001b[1;32m    369\u001b[0m             \u001b[0msetattr\u001b[0m\u001b[0;34m(\u001b[0m\u001b[0mself\u001b[0m\u001b[0;34m,\u001b[0m \u001b[0mmethod\u001b[0m\u001b[0;34m,\u001b[0m \u001b[0mtypes\u001b[0m\u001b[0;34m.\u001b[0m\u001b[0mMethodType\u001b[0m\u001b[0;34m(\u001b[0m\u001b[0mgetattr\u001b[0m\u001b[0;34m(\u001b[0m\u001b[0mdict\u001b[0m\u001b[0;34m,\u001b[0m \u001b[0mmethod\u001b[0m\u001b[0;34m)\u001b[0m\u001b[0;34m,\u001b[0m \u001b[0mself\u001b[0m\u001b[0;34m)\u001b[0m\u001b[0;34m)\u001b[0m\u001b[0;34m\u001b[0m\u001b[0;34m\u001b[0m\u001b[0m\n\u001b[1;32m    370\u001b[0m         \u001b[0;32mreturn\u001b[0m \u001b[0mgetattr\u001b[0m\u001b[0;34m(\u001b[0m\u001b[0mdict\u001b[0m\u001b[0;34m,\u001b[0m \u001b[0mmethod\u001b[0m\u001b[0;34m)\u001b[0m\u001b[0;34m(\u001b[0m\u001b[0mself\u001b[0m\u001b[0;34m,\u001b[0m \u001b[0;34m*\u001b[0m\u001b[0margs\u001b[0m\u001b[0;34m)\u001b[0m\u001b[0;34m\u001b[0m\u001b[0;34m\u001b[0m\u001b[0m\n",
            "\u001b[0;32m/usr/local/lib/python3.7/dist-packages/pattern/text/__init__.py\u001b[0m in \u001b[0;36mload\u001b[0;34m(self)\u001b[0m\n\u001b[1;32m    957\u001b[0m         \u001b[0;31m# [\"Alexander\", \"the\", \"Great\", \"PERS\"]\u001b[0m\u001b[0;34m\u001b[0m\u001b[0;34m\u001b[0m\u001b[0;34m\u001b[0m\u001b[0m\n\u001b[1;32m    958\u001b[0m         \u001b[0;31m# {\"alexander\": [[\"alexander\", \"the\", \"great\", \"pers\"], ...]}\u001b[0m\u001b[0;34m\u001b[0m\u001b[0;34m\u001b[0m\u001b[0;34m\u001b[0m\u001b[0m\n\u001b[0;32m--> 959\u001b[0;31m         \u001b[0;32mfor\u001b[0m \u001b[0mx\u001b[0m \u001b[0;32min\u001b[0m \u001b[0m_read\u001b[0m\u001b[0;34m(\u001b[0m\u001b[0mself\u001b[0m\u001b[0;34m.\u001b[0m\u001b[0mpath\u001b[0m\u001b[0;34m)\u001b[0m\u001b[0;34m:\u001b[0m\u001b[0;34m\u001b[0m\u001b[0;34m\u001b[0m\u001b[0m\n\u001b[0m\u001b[1;32m    960\u001b[0m             \u001b[0mx\u001b[0m \u001b[0;34m=\u001b[0m \u001b[0;34m[\u001b[0m\u001b[0mx\u001b[0m\u001b[0;34m.\u001b[0m\u001b[0mlower\u001b[0m\u001b[0;34m(\u001b[0m\u001b[0;34m)\u001b[0m \u001b[0;32mfor\u001b[0m \u001b[0mx\u001b[0m \u001b[0;32min\u001b[0m \u001b[0mx\u001b[0m\u001b[0;34m.\u001b[0m\u001b[0msplit\u001b[0m\u001b[0;34m(\u001b[0m\u001b[0;34m)\u001b[0m\u001b[0;34m]\u001b[0m\u001b[0;34m\u001b[0m\u001b[0;34m\u001b[0m\u001b[0m\n\u001b[1;32m    961\u001b[0m             \u001b[0mdict\u001b[0m\u001b[0;34m.\u001b[0m\u001b[0msetdefault\u001b[0m\u001b[0;34m(\u001b[0m\u001b[0mself\u001b[0m\u001b[0;34m,\u001b[0m \u001b[0mx\u001b[0m\u001b[0;34m[\u001b[0m\u001b[0;36m0\u001b[0m\u001b[0;34m]\u001b[0m\u001b[0;34m,\u001b[0m \u001b[0;34m[\u001b[0m\u001b[0;34m]\u001b[0m\u001b[0;34m)\u001b[0m\u001b[0;34m.\u001b[0m\u001b[0mappend\u001b[0m\u001b[0;34m(\u001b[0m\u001b[0mx\u001b[0m\u001b[0;34m)\u001b[0m\u001b[0;34m\u001b[0m\u001b[0;34m\u001b[0m\u001b[0m\n",
            "\u001b[0;31mRuntimeError\u001b[0m: generator raised StopIteration"
          ]
        }
      ]
    },
    {
      "cell_type": "markdown",
      "metadata": {
        "id": "7d-q1kzMtaQ2"
      },
      "source": [
        "####Build your own tagger\n",
        "* We will leverage some classes provided by `nltk`\n",
        "* Evaluation of taggers: \n",
        ">> * using some test data from the `treebank` corpus in `nltk`.\n",
        "* We will also be using some training data for training some of our taggers."
      ]
    },
    {
      "cell_type": "code",
      "metadata": {
        "id": "Z6Mzcg5TlEH0"
      },
      "source": [
        "# preparing the data\n",
        "#read in the tagged \"treebank\" corpus\n",
        "from nltk.corpus import treebank\n",
        "data = treebank.tagged_sents()\n",
        "\n"
      ],
      "execution_count": 46,
      "outputs": []
    },
    {
      "cell_type": "code",
      "metadata": {
        "colab": {
          "base_uri": "https://localhost:8080/"
        },
        "id": "yPd3FoObyXG7",
        "outputId": "c8367d74-c416-4baf-8b7d-910e1f207380"
      },
      "source": [
        "data"
      ],
      "execution_count": 45,
      "outputs": [
        {
          "output_type": "execute_result",
          "data": {
            "text/plain": [
              "[[('Pierre', 'NNP'), ('Vinken', 'NNP'), (',', ','), ('61', 'CD'), ('years', 'NNS'), ('old', 'JJ'), (',', ','), ('will', 'MD'), ('join', 'VB'), ('the', 'DT'), ('board', 'NN'), ('as', 'IN'), ('a', 'DT'), ('nonexecutive', 'JJ'), ('director', 'NN'), ('Nov.', 'NNP'), ('29', 'CD'), ('.', '.')], [('Mr.', 'NNP'), ('Vinken', 'NNP'), ('is', 'VBZ'), ('chairman', 'NN'), ('of', 'IN'), ('Elsevier', 'NNP'), ('N.V.', 'NNP'), (',', ','), ('the', 'DT'), ('Dutch', 'NNP'), ('publishing', 'VBG'), ('group', 'NN'), ('.', '.')], ...]"
            ]
          },
          "metadata": {
            "tags": []
          },
          "execution_count": 45
        }
      ]
    },
    {
      "cell_type": "code",
      "metadata": {
        "colab": {
          "base_uri": "https://localhost:8080/"
        },
        "id": "guYlf79bybQy",
        "outputId": "e84c4c4a-de72-4249-cb93-9814f521ab27"
      },
      "source": [
        "train_data = data[:3500]\n",
        "test_data = data[3500:]\n",
        "print (train_data[0])"
      ],
      "execution_count": 49,
      "outputs": [
        {
          "output_type": "stream",
          "text": [
            "[('Pierre', 'NNP'), ('Vinken', 'NNP'), (',', ','), ('61', 'CD'), ('years', 'NNS'), ('old', 'JJ'), (',', ','), ('will', 'MD'), ('join', 'VB'), ('the', 'DT'), ('board', 'NN'), ('as', 'IN'), ('a', 'DT'), ('nonexecutive', 'JJ'), ('director', 'NN'), ('Nov.', 'NNP'), ('29', 'CD'), ('.', '.')]\n"
          ],
          "name": "stdout"
        }
      ]
    },
    {
      "cell_type": "code",
      "metadata": {
        "id": "oU8M4BunlEO5"
      },
      "source": [
        "# default tagger\n",
        "from nltk.tag import DefaultTagger\n",
        "dt = DefaultTagger('NN')"
      ],
      "execution_count": 37,
      "outputs": []
    },
    {
      "cell_type": "code",
      "metadata": {
        "colab": {
          "base_uri": "https://localhost:8080/"
        },
        "id": "sYYddwthlESI",
        "outputId": "8f72e698-4df6-4a26-9117-ff991e23458b"
      },
      "source": [
        "print (dt.evaluate(test_data))"
      ],
      "execution_count": 38,
      "outputs": [
        {
          "output_type": "stream",
          "text": [
            "0.1454158195372253\n"
          ],
          "name": "stdout"
        }
      ]
    },
    {
      "cell_type": "code",
      "metadata": {
        "colab": {
          "base_uri": "https://localhost:8080/"
        },
        "id": "lU1nvtshlEVW",
        "outputId": "49a77a52-4e13-4a39-ea6e-f058877fb8b8"
      },
      "source": [
        "print (dt.tag(tokens))"
      ],
      "execution_count": 39,
      "outputs": [
        {
          "output_type": "stream",
          "text": [
            "[('The', 'NN'), ('brown', 'NN'), ('fox', 'NN'), ('is', 'NN'), ('quick', 'NN'), ('and', 'NN'), ('he', 'NN'), ('is', 'NN'), ('jumping', 'NN'), ('over', 'NN'), ('the', 'NN'), ('lazy', 'NN'), ('dog', 'NN')]\n"
          ],
          "name": "stdout"
        }
      ]
    },
    {
      "cell_type": "code",
      "metadata": {
        "id": "znTUqDtKa2ib",
        "colab": {
          "base_uri": "https://localhost:8080/"
        },
        "outputId": "80fcd40e-f06b-4089-b7bd-4cb2ea1ae792"
      },
      "source": [
        "# remember tokens is obtained after tokenizing our sentence\n",
        "tokens = nltk.word_tokenize(sentence)\n",
        "tokens"
      ],
      "execution_count": 51,
      "outputs": [
        {
          "output_type": "execute_result",
          "data": {
            "text/plain": [
              "['The',\n",
              " 'brown',\n",
              " 'fox',\n",
              " 'is',\n",
              " 'quick',\n",
              " 'and',\n",
              " 'he',\n",
              " 'is',\n",
              " 'jumping',\n",
              " 'over',\n",
              " 'the',\n",
              " 'lazy',\n",
              " 'dog']"
            ]
          },
          "metadata": {
            "tags": []
          },
          "execution_count": 51
        }
      ]
    },
    {
      "cell_type": "markdown",
      "metadata": {
        "id": "fFbdj4VYz-0Y"
      },
      "source": [
        "* We will use the test data to evaluate our taggers and see how they work on our\n",
        "sample sentence by using its tokens as input.\n",
        "* All the taggers we will be leveraging from `nltk` are part of the `nltk.tag` package.\n",
        "* Each tagger is a child class of the base `TaggerI` class, and each tagger implements a `tag()` function.\n",
        "> It takes a list of sentence tokens as input and returns *the same* list of words *with their POS tags as output*.\n",
        "\n",
        "* Besides tagging, there is an *evaluate()* function that is used to evaluate the performance of the tagger.\n",
        ">>  This is done by tagging each input test sentence and then comparing the result with the actual tags of the sentence.\n",
        ">>  We will be using the very same function to test the performance of our taggers on *test_data*.\n",
        "\n",
        "We will first look at the `DefaultTagger`, which inherits from the\n",
        "`SequentialBackoffTagger` base class and assigns ***thesame*** user input POS tag to each word. This may seem really naïve, but it is an excellent way to form a baseline POS tagger and improve upon it:"
      ]
    },
    {
      "cell_type": "code",
      "metadata": {
        "id": "hbTnYjxGz8sS"
      },
      "source": [
        "from nltk.tag import DefaultTagger\n",
        "dt = DefaultTagger('NN')"
      ],
      "execution_count": 52,
      "outputs": []
    },
    {
      "cell_type": "code",
      "metadata": {
        "colab": {
          "base_uri": "https://localhost:8080/"
        },
        "id": "taxbNXbfz8ve",
        "outputId": "deac8935-dd66-40fa-ffdb-eac7c4c8427b"
      },
      "source": [
        "# accuracy on test data\n",
        "#14% Accuracy which i quite low\n",
        "dt.evaluate(test_data)"
      ],
      "execution_count": 53,
      "outputs": [
        {
          "output_type": "execute_result",
          "data": {
            "text/plain": [
              "0.1454158195372253"
            ]
          },
          "metadata": {
            "tags": []
          },
          "execution_count": 53
        }
      ]
    },
    {
      "cell_type": "code",
      "metadata": {
        "colab": {
          "base_uri": "https://localhost:8080/"
        },
        "id": "e7-RGHYVz8zH",
        "outputId": "71c62987-7483-4831-da98-cb465a852d79"
      },
      "source": [
        "# tagging our sample sentence\n",
        "dt.tag(tokens)"
      ],
      "execution_count": 54,
      "outputs": [
        {
          "output_type": "execute_result",
          "data": {
            "text/plain": [
              "[('The', 'NN'),\n",
              " ('brown', 'NN'),\n",
              " ('fox', 'NN'),\n",
              " ('is', 'NN'),\n",
              " ('quick', 'NN'),\n",
              " ('and', 'NN'),\n",
              " ('he', 'NN'),\n",
              " ('is', 'NN'),\n",
              " ('jumping', 'NN'),\n",
              " ('over', 'NN'),\n",
              " ('the', 'NN'),\n",
              " ('lazy', 'NN'),\n",
              " ('dog', 'NN')]"
            ]
          },
          "metadata": {
            "tags": []
          },
          "execution_count": 54
        }
      ]
    },
    {
      "cell_type": "markdown",
      "metadata": {
        "id": "3hvhkAg13DGE"
      },
      "source": [
        "We can see from the preceding output we have obtained 14 percent accuracy in\n",
        "correctly tagging words from the treebank test dataset—which is not that great, and theoutput tags on our sample sentence are all nouns, just as we expected because we fed the tagger with the same tag.\n",
        "We will now use regular expressions and the RegexpTagger to see if we can build a better performing tagger:"
      ]
    },
    {
      "cell_type": "code",
      "metadata": {
        "id": "iJpxuDG5z81Y"
      },
      "source": [
        "from nltk.tag import RegexpTagger\n"
      ],
      "execution_count": 56,
      "outputs": []
    },
    {
      "cell_type": "code",
      "metadata": {
        "id": "QpQ9tyi42z8V"
      },
      "source": [
        "# define regex tag patterns\n",
        "patterns = [\n",
        "        (r'.*ing$', 'VBG'),                 # gerunds\n",
        "        (r'.*ed$', 'VBD'),                 # simple past\n",
        "        (r'.*es$', 'VBZ'),                 # 3rd singular present\n",
        "        (r'.*ould$', 'MD'),                 # modals\n",
        "        (r'.*\\'s$', 'NN$'),                # possessive nouns\n",
        "        (r'.*s$', 'NNS'),                  # plural nouns\n",
        "        (r'^-?[0-9]+(.[0-9]+)?$', 'CD'),   # cardinal numbers\n",
        "        (r'.*', 'NN')                      # nouns (default) ... \n",
        "        ]"
      ],
      "execution_count": 55,
      "outputs": []
    },
    {
      "cell_type": "code",
      "metadata": {
        "id": "G2J9w_ZJ2z_u"
      },
      "source": [
        "rt = RegexpTagger(patterns)"
      ],
      "execution_count": 57,
      "outputs": []
    },
    {
      "cell_type": "code",
      "metadata": {
        "colab": {
          "base_uri": "https://localhost:8080/"
        },
        "id": "-aEGURwL20DO",
        "outputId": "4797ea66-b919-4f2f-f563-7b877601b060"
      },
      "source": [
        "# accuracy on test data\n",
        "rt.evaluate(test_data)"
      ],
      "execution_count": 58,
      "outputs": [
        {
          "output_type": "execute_result",
          "data": {
            "text/plain": [
              "0.24039113176493368"
            ]
          },
          "metadata": {
            "tags": []
          },
          "execution_count": 58
        }
      ]
    },
    {
      "cell_type": "code",
      "metadata": {
        "colab": {
          "base_uri": "https://localhost:8080/"
        },
        "id": "F87jzuul20LM",
        "outputId": "b3a063f2-6b5f-4d72-e2b5-88668f2bb5b9"
      },
      "source": [
        "# tagging our sample sentence\n",
        "#accuracy has now increased to 24 percent\n",
        "rt.tag(tokens)"
      ],
      "execution_count": 59,
      "outputs": [
        {
          "output_type": "execute_result",
          "data": {
            "text/plain": [
              "[('The', 'NN'),\n",
              " ('brown', 'NN'),\n",
              " ('fox', 'NN'),\n",
              " ('is', 'NNS'),\n",
              " ('quick', 'NN'),\n",
              " ('and', 'NN'),\n",
              " ('he', 'NN'),\n",
              " ('is', 'NNS'),\n",
              " ('jumping', 'VBG'),\n",
              " ('over', 'NN'),\n",
              " ('the', 'NN'),\n",
              " ('lazy', 'NN'),\n",
              " ('dog', 'NN')]"
            ]
          },
          "metadata": {
            "tags": []
          },
          "execution_count": 59
        }
      ]
    },
    {
      "cell_type": "markdown",
      "metadata": {
        "id": "1AjJUJJQ4U7X"
      },
      "source": [
        "We will now train some n-gram taggers\n",
        "* *n-grams* are contiguous sequences of *n* items from a sequence of text or speech.\n",
        "* These items could consist of *words, phonemes, letters, characters, or syllables.*\n",
        "* Shingles are n-grams where the items only consist of words.\n",
        "\n",
        "The `UnigramTagger`, `BigramTagger`, and `TrigramTagger` are classes that inherit from the base class `NGramTagger`, which itself inherits from the `ContextTagger` class, which inherits from the `SequentialBackoffTagger` class.\n",
        "\n",
        "* We will use *train_data* as training data to train the n-gram taggers based on sentence tokens and their POS tags.\n",
        "* Then we will evaluate the trained taggers on *test_data* and see the result\n",
        "on tagging our sample sentence\n",
        "\n"
      ]
    },
    {
      "cell_type": "code",
      "metadata": {
        "id": "cNzrzN1Fz837"
      },
      "source": [
        "from nltk.tag import UnigramTagger\n",
        "from nltk.tag import BigramTagger\n",
        "from nltk.tag import TrigramTagger"
      ],
      "execution_count": 60,
      "outputs": []
    },
    {
      "cell_type": "code",
      "metadata": {
        "id": "eBM-R31J4TwQ"
      },
      "source": [
        "ut = UnigramTagger(train_data)\n",
        "bt = BigramTagger(train_data)\n",
        "tt = TrigramTagger(train_data)"
      ],
      "execution_count": 61,
      "outputs": []
    },
    {
      "cell_type": "code",
      "metadata": {
        "colab": {
          "base_uri": "https://localhost:8080/"
        },
        "id": "C-edGzGy4Tzf",
        "outputId": "44d8a2f7-f4cb-4cdc-89c2-093fa324168b"
      },
      "source": [
        "# testing performance of unigram tagger\n",
        "ut.evaluate(test_data)"
      ],
      "execution_count": 62,
      "outputs": [
        {
          "output_type": "execute_result",
          "data": {
            "text/plain": [
              "0.8607803272340013"
            ]
          },
          "metadata": {
            "tags": []
          },
          "execution_count": 62
        }
      ]
    },
    {
      "cell_type": "code",
      "metadata": {
        "colab": {
          "base_uri": "https://localhost:8080/"
        },
        "id": "05VFljvg4T3M",
        "outputId": "c0fb7204-85aa-41d5-e14c-9e4d75cf0235"
      },
      "source": [
        "ut.tag(tokens)"
      ],
      "execution_count": 63,
      "outputs": [
        {
          "output_type": "execute_result",
          "data": {
            "text/plain": [
              "[('The', 'DT'),\n",
              " ('brown', None),\n",
              " ('fox', None),\n",
              " ('is', 'VBZ'),\n",
              " ('quick', 'JJ'),\n",
              " ('and', 'CC'),\n",
              " ('he', 'PRP'),\n",
              " ('is', 'VBZ'),\n",
              " ('jumping', 'VBG'),\n",
              " ('over', 'IN'),\n",
              " ('the', 'DT'),\n",
              " ('lazy', None),\n",
              " ('dog', None)]"
            ]
          },
          "metadata": {
            "tags": []
          },
          "execution_count": 63
        }
      ]
    },
    {
      "cell_type": "code",
      "metadata": {
        "colab": {
          "base_uri": "https://localhost:8080/"
        },
        "id": "4UE1SaI94T5s",
        "outputId": "bb26cde1-0707-49f9-94aa-4cfba608c9e4"
      },
      "source": [
        "# testing performance of bigram tagger\n",
        "bt.evaluate(test_data)"
      ],
      "execution_count": 64,
      "outputs": [
        {
          "output_type": "execute_result",
          "data": {
            "text/plain": [
              "0.13466937748087907"
            ]
          },
          "metadata": {
            "tags": []
          },
          "execution_count": 64
        }
      ]
    },
    {
      "cell_type": "code",
      "metadata": {
        "colab": {
          "base_uri": "https://localhost:8080/"
        },
        "id": "VZTXgrS74T8N",
        "outputId": "88d9c8bb-0793-489f-8e74-4ac3724a7975"
      },
      "source": [
        "bt.tag(tokens)"
      ],
      "execution_count": 65,
      "outputs": [
        {
          "output_type": "execute_result",
          "data": {
            "text/plain": [
              "[('The', 'DT'),\n",
              " ('brown', None),\n",
              " ('fox', None),\n",
              " ('is', None),\n",
              " ('quick', None),\n",
              " ('and', None),\n",
              " ('he', None),\n",
              " ('is', None),\n",
              " ('jumping', None),\n",
              " ('over', None),\n",
              " ('the', None),\n",
              " ('lazy', None),\n",
              " ('dog', None)]"
            ]
          },
          "metadata": {
            "tags": []
          },
          "execution_count": 65
        }
      ]
    },
    {
      "cell_type": "code",
      "metadata": {
        "colab": {
          "base_uri": "https://localhost:8080/"
        },
        "id": "qR-qwQjO6BSs",
        "outputId": "30f97533-f84e-4a33-c47b-08aa0fd3c605"
      },
      "source": [
        "# testing performance of trigram tagger\n",
        "tt.evaluate(test_data)\n",
        "tt.tag(tokens)"
      ],
      "execution_count": 67,
      "outputs": [
        {
          "output_type": "execute_result",
          "data": {
            "text/plain": [
              "[('The', 'DT'),\n",
              " ('brown', None),\n",
              " ('fox', None),\n",
              " ('is', None),\n",
              " ('quick', None),\n",
              " ('and', None),\n",
              " ('he', None),\n",
              " ('is', None),\n",
              " ('jumping', None),\n",
              " ('over', None),\n",
              " ('the', None),\n",
              " ('lazy', None),\n",
              " ('dog', None)]"
            ]
          },
          "metadata": {
            "tags": []
          },
          "execution_count": 67
        }
      ]
    },
    {
      "cell_type": "markdown",
      "metadata": {
        "id": "ATjSgsbo6Yql"
      },
      "source": [
        "The preceding output clearly shows that we obtain 86 percent accuracy on the test set using *UnigramTagger *tagger alone, which is really good compared to our last tagger.\n",
        "The *None* tag indicates the tagger was unable to tag that word, the reason being that it was unable to get a similar token in the training data. Accuracies of the bigram and trigram models are far less because it is not always the case that the same bigrams and trigrams it had observed in the training data will also be present in the same way in the testing data.\n",
        "\n",
        "#####Combine all the taggers\n",
        "* create a combined tagger with a list of taggers and use a backoff tagger;\n",
        "> i.e. create a chain of\n",
        "taggers, and each tagger would fall back on a backoff tagger if it cannot tag the input tokens\n"
      ]
    },
    {
      "cell_type": "code",
      "metadata": {
        "id": "5GCjgOoJ6Bbe"
      },
      "source": [
        "def combined_tagger(train_data, taggers, backoff=None):\n",
        "    for tagger in taggers:\n",
        "      backoff = tagger(train_data, backoff=backoff)\n",
        "    return backoff"
      ],
      "execution_count": 68,
      "outputs": []
    },
    {
      "cell_type": "code",
      "metadata": {
        "id": "mrXamimZ6Be7"
      },
      "source": [
        "ct = combined_tagger(train_data=train_data,\n",
        "                      taggers=[UnigramTagger, BigramTagger, TrigramTagger],\n",
        "                      backoff=rt\n",
        "                     )"
      ],
      "execution_count": 69,
      "outputs": []
    },
    {
      "cell_type": "code",
      "metadata": {
        "colab": {
          "base_uri": "https://localhost:8080/"
        },
        "id": "o0L0xts76BiU",
        "outputId": "931499e6-f95c-43cb-a531-0c206167fd46"
      },
      "source": [
        "# evaluating the new combined tagger with backoff taggers\n",
        "ct.evaluate(test_data)"
      ],
      "execution_count": 70,
      "outputs": [
        {
          "output_type": "execute_result",
          "data": {
            "text/plain": [
              "0.9094781682641108"
            ]
          },
          "metadata": {
            "tags": []
          },
          "execution_count": 70
        }
      ]
    },
    {
      "cell_type": "code",
      "metadata": {
        "colab": {
          "base_uri": "https://localhost:8080/"
        },
        "id": "qK_0GtyE6Blo",
        "outputId": "58f2177b-5436-4f28-c813-fea4cd33d6fe"
      },
      "source": [
        "ct.tag(tokens)"
      ],
      "execution_count": 71,
      "outputs": [
        {
          "output_type": "execute_result",
          "data": {
            "text/plain": [
              "[('The', 'DT'),\n",
              " ('brown', 'NN'),\n",
              " ('fox', 'NN'),\n",
              " ('is', 'VBZ'),\n",
              " ('quick', 'JJ'),\n",
              " ('and', 'CC'),\n",
              " ('he', 'PRP'),\n",
              " ('is', 'VBZ'),\n",
              " ('jumping', 'VBG'),\n",
              " ('over', 'IN'),\n",
              " ('the', 'DT'),\n",
              " ('lazy', 'NN'),\n",
              " ('dog', 'NN')]"
            ]
          },
          "metadata": {
            "tags": []
          },
          "execution_count": 71
        }
      ]
    },
    {
      "cell_type": "markdown",
      "metadata": {
        "id": "vV_u2dDR7yly"
      },
      "source": [
        "We now obtain an accuracy of 91 percent on the test data, which is excellent. Also we see that this new tagger is able to successfully tag all the tokens in our sample sentence \n",
        "\n",
        "```\n",
        "# This is formatted as code\n",
        "```\n",
        "\n",
        "(even though a couple of them are not correct, like brown should be an adjective)."
      ]
    },
    {
      "cell_type": "markdown",
      "metadata": {
        "id": "zgpmKDsl740e"
      },
      "source": [
        "Finally\n",
        "* we will use a supervised classification algorithm to train our tagger\n",
        ">> `ClassifierBasedPOSTagger` class lets us train a tagger by using a supervised\n",
        "learning algorithm in the `classifier_builder` parameter.\n",
        ">>> inherited from the ` ClassifierBasedTagger` and has a `feature_detector()` function that forms the core of the training process.\n",
        "\n",
        ">>>> * This function is used to generate various features from the training\n",
        "data, like *word, previous word, tag, previous tag, case*, and so on.\n",
        ">>>> * you can even build your own feature detector function and pass it to the `feature_detector` parameter when instantiating an object of the `ClassifierBasedPOSTagger` class.\n",
        "* we use the `NaiveBayesClassifier` classifier to build a probabilistic classifier, assuming features are independent.\n"
      ]
    },
    {
      "cell_type": "code",
      "metadata": {
        "id": "YfIr8WpK6BoN"
      },
      "source": [
        "from nltk.classify import NaiveBayesClassifier\n",
        "from nltk.tag.sequential import ClassifierBasedPOSTagger"
      ],
      "execution_count": 72,
      "outputs": []
    },
    {
      "cell_type": "code",
      "metadata": {
        "id": "1BLpqddq72N9"
      },
      "source": [
        "nbt = ClassifierBasedPOSTagger(train=train_data,\n",
        "                              classifier_builder=NaiveBayesClassifier.train\n",
        "                               )"
      ],
      "execution_count": 73,
      "outputs": []
    },
    {
      "cell_type": "code",
      "metadata": {
        "colab": {
          "base_uri": "https://localhost:8080/"
        },
        "id": "lTXM_hPr72QN",
        "outputId": "2eee4ba0-8920-41ea-d632-815af331fb38"
      },
      "source": [
        "# evaluate tagger on test data and sample sentence\n",
        "nbt.evaluate(test_data)"
      ],
      "execution_count": 74,
      "outputs": [
        {
          "output_type": "execute_result",
          "data": {
            "text/plain": [
              "0.9306806079969019"
            ]
          },
          "metadata": {
            "tags": []
          },
          "execution_count": 74
        }
      ]
    },
    {
      "cell_type": "code",
      "metadata": {
        "colab": {
          "base_uri": "https://localhost:8080/"
        },
        "id": "xJZp4eY972T0",
        "outputId": "f30a0153-df2f-4048-911b-bcd6fbe16a62"
      },
      "source": [
        "nbt.tag(tokens)"
      ],
      "execution_count": 75,
      "outputs": [
        {
          "output_type": "execute_result",
          "data": {
            "text/plain": [
              "[('The', 'DT'),\n",
              " ('brown', 'JJ'),\n",
              " ('fox', 'NN'),\n",
              " ('is', 'VBZ'),\n",
              " ('quick', 'JJ'),\n",
              " ('and', 'CC'),\n",
              " ('he', 'PRP'),\n",
              " ('is', 'VBZ'),\n",
              " ('jumping', 'VBG'),\n",
              " ('over', 'IN'),\n",
              " ('the', 'DT'),\n",
              " ('lazy', 'JJ'),\n",
              " ('dog', 'VBG')]"
            ]
          },
          "metadata": {
            "tags": []
          },
          "execution_count": 75
        }
      ]
    },
    {
      "cell_type": "markdown",
      "metadata": {
        "id": "XArbcVlc9v0x"
      },
      "source": [
        "we get an accuracy of 93 percent on our test data—the\n",
        "highest out of all our taggers. Also if you observe the output tags for our sample sentence, you will see they are correct and make perfect sense. This gives us an idea of how powerful and effective classifier-based POS taggers can be. Feel free to use a different classifier, like MaxentClassifier , and compare the performance with this tagger. There are also several other ways to build and use POS taggers using nltk and other packages.\n"
      ]
    },
    {
      "cell_type": "markdown",
      "metadata": {
        "id": "fnCHWsaS99gw"
      },
      "source": [
        "# Shallow Parsing (chunking)\n",
        "* Analyze and break down the structure of a sentence into its smallest constituents (i.e. tokens such as words) and thengroup them together into higher-level phrases.\n",
        "* There is more focus on identifying these phrases rather than further details of the internal syntax and relations inside the chunk like in grammer-based parse trees obtained from deep parsing.\n",
        "* The main objective is to find semantically meaninful phrases and observe relations among them.\n"
      ]
    },
    {
      "cell_type": "markdown",
      "metadata": {
        "id": "UGdl2JyzUsNc"
      },
      "source": [
        "### Recommended Shallow Parsers\n",
        "* We will use the `pattern` package to create a shallow parser."
      ]
    },
    {
      "cell_type": "code",
      "metadata": {
        "colab": {
          "base_uri": "https://localhost:8080/",
          "height": 35
        },
        "id": "y1-lyBc9z86Y",
        "outputId": "64f6b87f-90cb-4847-f5e9-51de9fa9c367"
      },
      "source": [
        "sentence"
      ],
      "execution_count": 76,
      "outputs": [
        {
          "output_type": "execute_result",
          "data": {
            "application/vnd.google.colaboratory.intrinsic+json": {
              "type": "string"
            },
            "text/plain": [
              "'The brown fox is quick and he is jumping over the lazy dog'"
            ]
          },
          "metadata": {
            "tags": []
          },
          "execution_count": 76
        }
      ]
    },
    {
      "cell_type": "code",
      "metadata": {
        "colab": {
          "base_uri": "https://localhost:8080/"
        },
        "id": "nt4S9qWgz882",
        "outputId": "913e8b8d-6f2e-4b38-c905-4af6ab727564"
      },
      "source": [
        "from pattern.en import parsetree\n",
        "tree = parsetree(sentence)\n",
        "tree"
      ],
      "execution_count": 78,
      "outputs": [
        {
          "output_type": "execute_result",
          "data": {
            "text/plain": [
              "[Sentence('The/DT/B-NP/O brown/JJ/I-NP/O fox/NN/I-NP/O is/VBZ/B-VP/O quick/JJ/B-ADJP/O and/CC/O/O he/PRP/B-NP/O is/VBZ/B-VP/O jumping/VBG/I-VP/O over/IN/B-PP/B-PNP the/DT/B-NP/I-PNP lazy/JJ/I-NP/I-PNP dog/NN/I-NP/I-PNP')]"
            ]
          },
          "metadata": {
            "tags": []
          },
          "execution_count": 78
        }
      ]
    },
    {
      "cell_type": "markdown",
      "metadata": {
        "id": "fSekzY8jVjsu"
      },
      "source": [
        "The preceding output is the raw shallow-parsed sentence tree for our sample\n",
        "sentence. Many of the tags will be quite familiar if you compare them to the earlier `POS `tags table. You will notice some new notations with `I , O ,` and `B` prefixes, the popular `IOB` notation used in chunking, that represent `Inside, Outside, and Beginning.` \n",
        "* B- prefix before a tag indicates it is the beginning of a chunk\n",
        "* I- prefix indicates that it is inside a chunk. \n",
        "* O tag indicates that the token does not belong to any chunk. \n",
        "* B- tag is always used when there are subsequent tags following it of the same type without the presence of O tags between them."
      ]
    },
    {
      "cell_type": "markdown",
      "metadata": {
        "id": "uUAJSj2vWGhY"
      },
      "source": [
        "Below snippet gets chunks in an easier-to-understand format."
      ]
    },
    {
      "cell_type": "code",
      "metadata": {
        "colab": {
          "base_uri": "https://localhost:8080/"
        },
        "id": "6BMhiKHvz8_W",
        "outputId": "55b64778-209b-4b7c-f03b-d4379415b01c"
      },
      "source": [
        "# print all chunks\n",
        "for sentence_tree in tree:\n",
        "  print(sentence_tree.chunks)"
      ],
      "execution_count": 80,
      "outputs": [
        {
          "output_type": "stream",
          "text": [
            "[Chunk('The brown fox/NP'), Chunk('is/VP'), Chunk('quick/ADJP'), Chunk('he/NP'), Chunk('is jumping/VP'), Chunk('over/PP'), Chunk('the lazy dog/NP')]\n"
          ],
          "name": "stdout"
        }
      ]
    },
    {
      "cell_type": "code",
      "metadata": {
        "colab": {
          "base_uri": "https://localhost:8080/"
        },
        "id": "qNx-qjGbWRZY",
        "outputId": "00f2de27-69c4-4533-be12-5f362f7a19d2"
      },
      "source": [
        "# Depict each phrase and its internal constituents\n",
        "#makes them easy to read\n",
        "for sentence_tree in tree:\n",
        "  for chunk in sentence_tree.chunks:\n",
        "    print (chunk.type, '->', [(word.string, word.type)\n",
        "                                    for word in chunk.words])"
      ],
      "execution_count": 82,
      "outputs": [
        {
          "output_type": "stream",
          "text": [
            "NP -> [('The', 'DT'), ('brown', 'JJ'), ('fox', 'NN')]\n",
            "VP -> [('is', 'VBZ')]\n",
            "ADJP -> [('quick', 'JJ')]\n",
            "NP -> [('he', 'PRP')]\n",
            "VP -> [('is', 'VBZ'), ('jumping', 'VBG')]\n",
            "PP -> [('over', 'IN')]\n",
            "NP -> [('the', 'DT'), ('lazy', 'JJ'), ('dog', 'NN')]\n"
          ],
          "name": "stdout"
        }
      ]
    },
    {
      "cell_type": "markdown",
      "metadata": {
        "id": "6ELL7ZLRXdHn"
      },
      "source": [
        "We can create some generic functions to **parse and visualize shallow parsed**\n",
        "**sentence trees** in a better way and also reuse them to parse any sentence in general. "
      ]
    },
    {
      "cell_type": "code",
      "metadata": {
        "id": "3P62DZKIWRgp"
      },
      "source": [
        "from pattern.en import parsetree, Chunk\n",
        "from nltk.tree import Tree"
      ],
      "execution_count": 83,
      "outputs": []
    },
    {
      "cell_type": "code",
      "metadata": {
        "id": "z6057kDoWRkJ"
      },
      "source": [
        "# create a shallow parsed sentence tree\n",
        "def create_sentence_tree(sentence, lemmatize=False):\n",
        "  sentence_tree = parsetree(sentence,\n",
        "                              relations=True,\n",
        "                              lemmata=lemmatize) # if you want to lemmatize the tokens\n",
        "  return sentence_tree[0]"
      ],
      "execution_count": 87,
      "outputs": []
    },
    {
      "cell_type": "code",
      "metadata": {
        "id": "VY67brvKWRnv"
      },
      "source": [
        "# get various constituents of the parse tree\n",
        "def get_sentence_tree_constituents(sentence_tree):\n",
        "      return sentence_tree.constituents()"
      ],
      "execution_count": 88,
      "outputs": []
    },
    {
      "cell_type": "code",
      "metadata": {
        "id": "xoHxQokjWRpc"
      },
      "source": [
        "# process the shallow parsed tree into an easy to understand format\n",
        "def process_sentence_tree(sentence_tree):\n",
        "  tree_constituents = get_sentence_tree_constituents(sentence_tree)\n",
        "  processed_tree = [(item.type,\n",
        "                    [\n",
        "                    (w.string, w.type)\n",
        "                    for w in item.words\n",
        "                    ]\n",
        "                    )\n",
        "                    if type(item) == Chunk\n",
        "                    else ('-',\n",
        "                      [\n",
        "                        (item.string, item.type)\n",
        "                      ]\n",
        "                      )\n",
        "                      for item in tree_constituents\n",
        "                  ]\n",
        "  return processed_tree"
      ],
      "execution_count": 89,
      "outputs": []
    },
    {
      "cell_type": "code",
      "metadata": {
        "id": "qLWh2GRbWRsq"
      },
      "source": [
        "# print the sentence tree using nltk's Tree syntax\n",
        "def print_sentence_tree(sentence_tree):\n",
        "    processed_tree = process_sentence_tree(sentence_tree)\n",
        "    processed_tree = [\n",
        "                          Tree( item[0],\n",
        "                          [\n",
        "                          Tree(x[1], [x[0]])\n",
        "                          for x in item[1]\n",
        "                          ]\n",
        "                          )\n",
        "                          for item in processed_tree\n",
        "                    ]\n",
        "    tree = Tree('S', processed_tree)\n",
        "    print (tree)"
      ],
      "execution_count": 93,
      "outputs": []
    },
    {
      "cell_type": "code",
      "metadata": {
        "id": "NLf592zkWRvm"
      },
      "source": [
        "# visualize the sentence tree using nltk's Tree syntax\n",
        "def visualize_sentence_tree(sentence_tree):\n",
        "    processed_tree = process_sentence_tree(sentence_tree)\n",
        "    processed_tree = [\n",
        "                        Tree(item[0],\n",
        "                        [\n",
        "                        Tree(x[1], [x[0]])\n",
        "                        for x in item[1]\n",
        "                        ]\n",
        "                        )\n",
        "                        for item in processed_tree\n",
        "                      ]\n",
        "    tree = Tree('S', processed_tree )\n",
        "    tree.draw()"
      ],
      "execution_count": 102,
      "outputs": []
    },
    {
      "cell_type": "code",
      "metadata": {
        "colab": {
          "base_uri": "https://localhost:8080/"
        },
        "id": "bpx8wuefWRx6",
        "outputId": "af8f0c14-b634-4bc9-f1b9-8d91e770004b"
      },
      "source": [
        "#let s apply these functions\n",
        "# raw shallow parsed tree\n",
        "t = create_sentence_tree(sentence)\n",
        "t"
      ],
      "execution_count": 96,
      "outputs": [
        {
          "output_type": "execute_result",
          "data": {
            "text/plain": [
              "Sentence('The/DT/B-NP/O/NP-SBJ-1 brown/JJ/I-NP/O/NP-SBJ-1 fox/NN/I-NP/O/NP-SBJ-1 is/VBZ/B-VP/O/VP-1 quick/JJ/B-ADJP/O/O and/CC/O/O/O he/PRP/B-NP/O/NP-SBJ-2 is/VBZ/B-VP/O/VP-2 jumping/VBG/I-VP/O/VP-2 over/IN/B-PP/B-PNP/O the/DT/B-NP/I-PNP/O lazy/JJ/I-NP/I-PNP/O dog/NN/I-NP/I-PNP/O')"
            ]
          },
          "metadata": {
            "tags": []
          },
          "execution_count": 96
        }
      ]
    },
    {
      "cell_type": "code",
      "metadata": {
        "colab": {
          "base_uri": "https://localhost:8080/"
        },
        "id": "1puiNn-KWR0E",
        "outputId": "38ef8cdf-907a-4972-a88c-01f048fd4352"
      },
      "source": [
        "# processed shallow parsed tree\n",
        "pt = process_sentence_tree(t)\n",
        "pt"
      ],
      "execution_count": 97,
      "outputs": [
        {
          "output_type": "execute_result",
          "data": {
            "text/plain": [
              "[('NP', [('The', 'DT'), ('brown', 'JJ'), ('fox', 'NN')]),\n",
              " ('VP', [('is', 'VBZ')]),\n",
              " ('ADJP', [('quick', 'JJ')]),\n",
              " ('-', [('and', 'CC')]),\n",
              " ('NP', [('he', 'PRP')]),\n",
              " ('VP', [('is', 'VBZ'), ('jumping', 'VBG')]),\n",
              " ('PP', [('over', 'IN')]),\n",
              " ('NP', [('the', 'DT'), ('lazy', 'JJ'), ('dog', 'NN')])]"
            ]
          },
          "metadata": {
            "tags": []
          },
          "execution_count": 97
        }
      ]
    },
    {
      "cell_type": "code",
      "metadata": {
        "colab": {
          "base_uri": "https://localhost:8080/"
        },
        "id": "cN1zTGWeWR2b",
        "outputId": "9e7c4dcf-6f27-46eb-96b1-012d1b710ae9"
      },
      "source": [
        "# print shallow parsed tree in an easy to understand format using nltk's Tree syntax\n",
        "print_sentence_tree(t)"
      ],
      "execution_count": 98,
      "outputs": [
        {
          "output_type": "stream",
          "text": [
            "(S\n",
            "  (NP (DT The) (JJ brown) (NN fox))\n",
            "  (VP (VBZ is))\n",
            "  (ADJP (JJ quick))\n",
            "  (- (CC and))\n",
            "  (NP (PRP he))\n",
            "  (VP (VBZ is) (VBG jumping))\n",
            "  (PP (IN over))\n",
            "  (NP (DT the) (JJ lazy) (NN dog)))\n"
          ],
          "name": "stdout"
        }
      ]
    },
    {
      "cell_type": "code",
      "metadata": {
        "colab": {
          "base_uri": "https://localhost:8080/",
          "height": 324
        },
        "id": "_CvaJI3HWSLi",
        "outputId": "0778df88-ea3d-4a70-d1b6-9aab376f2b76"
      },
      "source": [
        "# visualize the shallow parsed tree\n",
        "#visualize_sentence_tree(t) #did not work."
      ],
      "execution_count": 103,
      "outputs": [
        {
          "output_type": "error",
          "ename": "TclError",
          "evalue": "ignored",
          "traceback": [
            "\u001b[0;31m---------------------------------------------------------------------------\u001b[0m",
            "\u001b[0;31mTclError\u001b[0m                                  Traceback (most recent call last)",
            "\u001b[0;32m<ipython-input-103-01c04946c1da>\u001b[0m in \u001b[0;36m<module>\u001b[0;34m()\u001b[0m\n\u001b[1;32m      1\u001b[0m \u001b[0;31m# visualize the shallow parsed tree\u001b[0m\u001b[0;34m\u001b[0m\u001b[0;34m\u001b[0m\u001b[0;34m\u001b[0m\u001b[0m\n\u001b[0;32m----> 2\u001b[0;31m \u001b[0mvisualize_sentence_tree\u001b[0m\u001b[0;34m(\u001b[0m\u001b[0mt\u001b[0m\u001b[0;34m)\u001b[0m \u001b[0;31m#did not work.\u001b[0m\u001b[0;34m\u001b[0m\u001b[0;34m\u001b[0m\u001b[0m\n\u001b[0m",
            "\u001b[0;32m<ipython-input-102-6a0010ab40e1>\u001b[0m in \u001b[0;36mvisualize_sentence_tree\u001b[0;34m(sentence_tree)\u001b[0m\n\u001b[1;32m     12\u001b[0m                       ]\n\u001b[1;32m     13\u001b[0m     \u001b[0mtree\u001b[0m \u001b[0;34m=\u001b[0m \u001b[0mTree\u001b[0m\u001b[0;34m(\u001b[0m\u001b[0;34m'S'\u001b[0m\u001b[0;34m,\u001b[0m \u001b[0mprocessed_tree\u001b[0m \u001b[0;34m)\u001b[0m\u001b[0;34m\u001b[0m\u001b[0;34m\u001b[0m\u001b[0m\n\u001b[0;32m---> 14\u001b[0;31m     \u001b[0mtree\u001b[0m\u001b[0;34m.\u001b[0m\u001b[0mdraw\u001b[0m\u001b[0;34m(\u001b[0m\u001b[0;34m)\u001b[0m\u001b[0;34m\u001b[0m\u001b[0;34m\u001b[0m\u001b[0m\n\u001b[0m",
            "\u001b[0;32m/usr/local/lib/python3.7/dist-packages/nltk/tree.py\u001b[0m in \u001b[0;36mdraw\u001b[0;34m(self)\u001b[0m\n\u001b[1;32m    688\u001b[0m         \"\"\"\n\u001b[1;32m    689\u001b[0m         \u001b[0;32mfrom\u001b[0m \u001b[0mnltk\u001b[0m\u001b[0;34m.\u001b[0m\u001b[0mdraw\u001b[0m\u001b[0;34m.\u001b[0m\u001b[0mtree\u001b[0m \u001b[0;32mimport\u001b[0m \u001b[0mdraw_trees\u001b[0m\u001b[0;34m\u001b[0m\u001b[0;34m\u001b[0m\u001b[0m\n\u001b[0;32m--> 690\u001b[0;31m         \u001b[0mdraw_trees\u001b[0m\u001b[0;34m(\u001b[0m\u001b[0mself\u001b[0m\u001b[0;34m)\u001b[0m\u001b[0;34m\u001b[0m\u001b[0;34m\u001b[0m\u001b[0m\n\u001b[0m\u001b[1;32m    691\u001b[0m \u001b[0;34m\u001b[0m\u001b[0m\n\u001b[1;32m    692\u001b[0m     \u001b[0;32mdef\u001b[0m \u001b[0mpretty_print\u001b[0m\u001b[0;34m(\u001b[0m\u001b[0mself\u001b[0m\u001b[0;34m,\u001b[0m \u001b[0msentence\u001b[0m\u001b[0;34m=\u001b[0m\u001b[0;32mNone\u001b[0m\u001b[0;34m,\u001b[0m \u001b[0mhighlight\u001b[0m\u001b[0;34m=\u001b[0m\u001b[0;34m(\u001b[0m\u001b[0;34m)\u001b[0m\u001b[0;34m,\u001b[0m \u001b[0mstream\u001b[0m\u001b[0;34m=\u001b[0m\u001b[0;32mNone\u001b[0m\u001b[0;34m,\u001b[0m \u001b[0;34m**\u001b[0m\u001b[0mkwargs\u001b[0m\u001b[0;34m)\u001b[0m\u001b[0;34m:\u001b[0m\u001b[0;34m\u001b[0m\u001b[0;34m\u001b[0m\u001b[0m\n",
            "\u001b[0;32m/usr/local/lib/python3.7/dist-packages/nltk/draw/tree.py\u001b[0m in \u001b[0;36mdraw_trees\u001b[0;34m(*trees)\u001b[0m\n\u001b[1;32m    861\u001b[0m     \u001b[0;34m:\u001b[0m\u001b[0mrtype\u001b[0m\u001b[0;34m:\u001b[0m \u001b[0;32mNone\u001b[0m\u001b[0;34m\u001b[0m\u001b[0;34m\u001b[0m\u001b[0m\n\u001b[1;32m    862\u001b[0m     \"\"\"\n\u001b[0;32m--> 863\u001b[0;31m     \u001b[0mTreeView\u001b[0m\u001b[0;34m(\u001b[0m\u001b[0;34m*\u001b[0m\u001b[0mtrees\u001b[0m\u001b[0;34m)\u001b[0m\u001b[0;34m.\u001b[0m\u001b[0mmainloop\u001b[0m\u001b[0;34m(\u001b[0m\u001b[0;34m)\u001b[0m\u001b[0;34m\u001b[0m\u001b[0;34m\u001b[0m\u001b[0m\n\u001b[0m\u001b[1;32m    864\u001b[0m     \u001b[0;32mreturn\u001b[0m\u001b[0;34m\u001b[0m\u001b[0;34m\u001b[0m\u001b[0m\n\u001b[1;32m    865\u001b[0m \u001b[0;34m\u001b[0m\u001b[0m\n",
            "\u001b[0;32m/usr/local/lib/python3.7/dist-packages/nltk/draw/tree.py\u001b[0m in \u001b[0;36m__init__\u001b[0;34m(self, *trees)\u001b[0m\n\u001b[1;32m    754\u001b[0m         \u001b[0mself\u001b[0m\u001b[0;34m.\u001b[0m\u001b[0m_trees\u001b[0m \u001b[0;34m=\u001b[0m \u001b[0mtrees\u001b[0m\u001b[0;34m\u001b[0m\u001b[0;34m\u001b[0m\u001b[0m\n\u001b[1;32m    755\u001b[0m \u001b[0;34m\u001b[0m\u001b[0m\n\u001b[0;32m--> 756\u001b[0;31m         \u001b[0mself\u001b[0m\u001b[0;34m.\u001b[0m\u001b[0m_top\u001b[0m \u001b[0;34m=\u001b[0m \u001b[0mTk\u001b[0m\u001b[0;34m(\u001b[0m\u001b[0;34m)\u001b[0m\u001b[0;34m\u001b[0m\u001b[0;34m\u001b[0m\u001b[0m\n\u001b[0m\u001b[1;32m    757\u001b[0m         \u001b[0mself\u001b[0m\u001b[0;34m.\u001b[0m\u001b[0m_top\u001b[0m\u001b[0;34m.\u001b[0m\u001b[0mtitle\u001b[0m\u001b[0;34m(\u001b[0m\u001b[0;34m'NLTK'\u001b[0m\u001b[0;34m)\u001b[0m\u001b[0;34m\u001b[0m\u001b[0;34m\u001b[0m\u001b[0m\n\u001b[1;32m    758\u001b[0m         \u001b[0mself\u001b[0m\u001b[0;34m.\u001b[0m\u001b[0m_top\u001b[0m\u001b[0;34m.\u001b[0m\u001b[0mbind\u001b[0m\u001b[0;34m(\u001b[0m\u001b[0;34m'<Control-x>'\u001b[0m\u001b[0;34m,\u001b[0m \u001b[0mself\u001b[0m\u001b[0;34m.\u001b[0m\u001b[0mdestroy\u001b[0m\u001b[0;34m)\u001b[0m\u001b[0;34m\u001b[0m\u001b[0;34m\u001b[0m\u001b[0m\n",
            "\u001b[0;32m/usr/lib/python3.7/tkinter/__init__.py\u001b[0m in \u001b[0;36m__init__\u001b[0;34m(self, screenName, baseName, className, useTk, sync, use)\u001b[0m\n\u001b[1;32m   2021\u001b[0m                 \u001b[0mbaseName\u001b[0m \u001b[0;34m=\u001b[0m \u001b[0mbaseName\u001b[0m \u001b[0;34m+\u001b[0m \u001b[0mext\u001b[0m\u001b[0;34m\u001b[0m\u001b[0;34m\u001b[0m\u001b[0m\n\u001b[1;32m   2022\u001b[0m         \u001b[0minteractive\u001b[0m \u001b[0;34m=\u001b[0m \u001b[0;36m0\u001b[0m\u001b[0;34m\u001b[0m\u001b[0;34m\u001b[0m\u001b[0m\n\u001b[0;32m-> 2023\u001b[0;31m         \u001b[0mself\u001b[0m\u001b[0;34m.\u001b[0m\u001b[0mtk\u001b[0m \u001b[0;34m=\u001b[0m \u001b[0m_tkinter\u001b[0m\u001b[0;34m.\u001b[0m\u001b[0mcreate\u001b[0m\u001b[0;34m(\u001b[0m\u001b[0mscreenName\u001b[0m\u001b[0;34m,\u001b[0m \u001b[0mbaseName\u001b[0m\u001b[0;34m,\u001b[0m \u001b[0mclassName\u001b[0m\u001b[0;34m,\u001b[0m \u001b[0minteractive\u001b[0m\u001b[0;34m,\u001b[0m \u001b[0mwantobjects\u001b[0m\u001b[0;34m,\u001b[0m \u001b[0museTk\u001b[0m\u001b[0;34m,\u001b[0m \u001b[0msync\u001b[0m\u001b[0;34m,\u001b[0m \u001b[0muse\u001b[0m\u001b[0;34m)\u001b[0m\u001b[0;34m\u001b[0m\u001b[0;34m\u001b[0m\u001b[0m\n\u001b[0m\u001b[1;32m   2024\u001b[0m         \u001b[0;32mif\u001b[0m \u001b[0museTk\u001b[0m\u001b[0;34m:\u001b[0m\u001b[0;34m\u001b[0m\u001b[0;34m\u001b[0m\u001b[0m\n\u001b[1;32m   2025\u001b[0m             \u001b[0mself\u001b[0m\u001b[0;34m.\u001b[0m\u001b[0m_loadtk\u001b[0m\u001b[0;34m(\u001b[0m\u001b[0;34m)\u001b[0m\u001b[0;34m\u001b[0m\u001b[0;34m\u001b[0m\u001b[0m\n",
            "\u001b[0;31mTclError\u001b[0m: no display name and no $DISPLAY environment variable"
          ]
        }
      ]
    },
    {
      "cell_type": "markdown",
      "metadata": {
        "id": "6MVcXawgciQx"
      },
      "source": [
        "##Building Your Own Shallow Parsers\n",
        "\n",
        "Refer to the book for this.\n"
      ]
    },
    {
      "cell_type": "markdown",
      "metadata": {
        "id": "meExX2C1dFqA"
      },
      "source": [
        "# Dependency-based parsing\n",
        "Grammar helps in enabling both syntax and structure in language . It primarily consists of a set of rules used in determining how to position words, phrases, and clauses when constructing sentences for any natural language. Grammar is not restricted to the written word—it also operates verbally. Rules of grammar can be specific to a region, language, or dialect or be somewhat universal like the *Subject-Verb-Object (SVO) model*.\n",
        "Grammar can be subdivided into two main classes—***dependency grammars*** and\n",
        "***constituency grammars***—based on their representations for linguistic syntax and structure.\n",
        "\n",
        "### Dependency Grammers\n",
        "* These grammars are also known as word-based grammars.\n",
        "* These grammars do not focus on constituents like words, phrases, and clauses but place more emphasis on words.\n",
        "*  The basic principle behind a dependency grammar is that in any sentence in the language, all the words except one word has some relationship or dependency on other words in the sentence:\n",
        "> * The word that has no dependency (most commonly the verb) is called the `root` of the sentence.\n",
        "> * All the other words are directly or indirectly linked to the root verb using *links*, which are the dependencies\n",
        "\n",
        "> * Dependency grammars always have a one-to-one relationship correspondence for\n",
        "each word in the sentence.\n",
        "> * There are two aspects to this grammar representation:\n",
        ">> 1. syntax or structure of the sentence\n",
        ">> 1. semantics obtained from the relationships denoted between the words.\n",
        "\n",
        "Dependency syntax for `The brown fox is quick and he is jumping over the lazy dog`:\n",
        "\n",
        "\n",
        "![Dependency Grammer based syntax traa with POS.JPG](data:image/jpeg;base64,/9j/4AAQSkZJRgABAQEAYABgAAD/4REKRXhpZgAATU0AKgAAAAgABAE7AAIAAAAVAAAISodpAAQAAAABAAAIYJydAAEAAAAqAAAQ2OocAAcAAAgMAAAAPgAAAAAc6gAAAAgAAAAAAAAAAAAAAAAAAAAAAAAAAAAAAAAAAAAAAAAAAAAAAAAAAAAAAAAAAAAAAAAAAAAAAAAAAAAAAAAAAAAAAAAAAAAAAAAAAAAAAAAAAAAAAAAAAAAAAAAAAAAAAAAAAAAAAAAAAAAAAAAAAAAAAAAAAAAAAAAAAAAAAAAAAAAAAAAAAAAAAAAAAAAAAAAAAAAAAAAAAAAAAAAAAAAAAAAAAAAAAAAAAAAAAAAAAAAAAAAAAAAAAAAAAAAAAAAAAAAAAAAAAAAAAAAAAAAAAAAAAAAAAAAAAAAAAAAAAAAAAAAAAAAAAAAAAAAAAAAAAAAAAAAAAAAAAAAAAAAAAAAAAAAAAAAAAAAAAAAAAAAAAAAAAAAAAAAAAAAAAAAAAAAAAAAAAAAAAAAAAAAAAAAAAAAAAAAAAAAAAAAAAAAAAAAAAAAAAAAAAAAAAAAAAAAAAAAAAAAAAAAAAAAAAAAAAAAAAAAAAAAAAAAAAAAAAAAAAAAAAAAAAAAAAAAAAAAAAAAAAAAAAAAAAAAAAAAAAAAAAAAAAAAAAAAAAAAAAAAAAAAAAAAAAAAAAAAAAAAAAAAAAAAAAAAAAAAAAAAAAAAAAAAAAAAAAAAAAAAAAAAAAAAAAAAAAAAAAAAAAAAAAAAAAAAAAAAAAAAAAAAAAAAAAAAAAAAAAAAAAAAAAAAAAAAAAAAAAAAAAAAAAAAAAAAAAAAAAAAAAAAAAAAAAAAAAAAAAAAAAAAAAAAAAAAAAAAAAAAAAAAAAAAAAAAAAAAAAAAAAAAAAAAAAAAAAAAAAAAAAAAAAAAAAAAAAAAAAAAAAAAAAAAAAAAAAAAAAAAAAAAAAAAAAAAAAAAAAAAAAAAAAAAAAAAAAAAAAAAAAAAAAAAAAAAAAAAAAAAAAAAAAAAAAAAAAAAAAAAAAAAAAAAAAAAAAAAAAAAAAAAAAAAAAAAAAAAAAAAAAAAAAAAAAAAAAAAAAAAAAAAAAAAAAAAAAAAAAAAAAAAAAAAAAAAAAAAAAAAAAAAAAAAAAAAAAAAAAAAAAAAAAAAAAAAAAAAAAAAAAAAAAAAAAAAAAAAAAAAAAAAAAAAAAAAAAAAAAAAAAAAAAAAAAAAAAAAAAAAAAAAAAAAAAAAAAAAAAAAAAAAAAAAAAAAAAAAAAAAAAAAAAAAAAAAAAAAAAAAAAAAAAAAAAAAAAAAAAAAAAAAAAAAAAAAAAAAAAAAAAAAAAAAAAAAAAAAAAAAAAAAAAAAAAAAAAAAAAAAAAAAAAAAAAAAAAAAAAAAAAAAAAAAAAAAAAAAAAAAAAAAAAAAAAAAAAAAAAAAAAAAAAAAAAAAAAAAAAAAAAAAAAAAAAAAAAAAAAAAAAAAAAAAAAAAAAAAAAAAAAAAAAAAAAAAAAAAAAAAAAAAAAAAAAAAAAAAAAAAAAAAAAAAAAAAAAAAAAAAAAAAAAAAAAAAAAAAAAAAAAAAAAAAAAAAAAAAAAAAAAAAAAAAAAAAAAAAAAAAAAAAAAAAAAAAAAAAAAAAAAAAAAAAAAAAAAAAAAAAAAAAAAAAAAAAAAAAAAAAAAAAAAAAAAAAAAAAAAAAAAAAAAAAAAAAAAAAAAAAAAAAAAAAAAAAAAAAAAAAAAAAAAAAAAAAAAAAAAAAAAAAAAAAAAAAAAAAAAAAAAAAAAAAAAAAAAAAAAAAAAAAAAAAAAAAAAAAAAAAAAAAAAAAAAAAAAAAAAAAAAAAAAAAAAAAAAAAAAAAAAAAAAAAAAAAAAAAAAAAAAAAAAAAAAAAAAAAAAAAAAAAAAAAAAAAAAAAAAAAAAAAAAAAAAAAAAAAAAAAAAAAAAAAAAAAAAAAAAAAAAAAAAAAAAAAAAAAAAAAAAAAAAAAAAAAAAAAAAAAAAAAAAAAAAAAAAAAAAAAAAAAAAAAAAAAAAAAAAAAAAAAAAAAAAAAAAAAAAAAAAAAAAAAAAAAAAAAAAAAAAAAAAAAAAAAAAAAAAAAAAAAAAAAAAAAAAAAAAAAAAAAAAAAAAAAAAAAAAAAAAAAAAAAAAAAAAAAAAAAAAAAAAAAAAAAAAAAAAAAAAAAAAAAAAAAAAAAAAAAAAAAAAAAAAAAAAAAAAAAAAAAAAAAAAAAAAAAAAAAAAAAAAAAAAAAAAAAAAAAAAAAAAAAAAAAAAAAAAAAAAAAAAAAAAAAAAAAAAAAAAAAAAAAAAAAAAAAAAAAAAAAAAAAAAAAAAAAAAAAAAAAAAAAAAAAAAAAAAAAAAAAAAAAAAAAAAAAAAAAAAAAAAAAAAAAAAAAAAAAAAAAAAAAAAAAAAAAAAAAAAAAAAAAAAAAAAAAAAAAAAAAAAAAAAAAAAAAAAAAAAAAAAAAAAAAAAAAAAAAAAAAAAAAAAAAAAAAAAAAAAAAAAAAAAAAAAAAAAAAAAAAAAAAAAAAAAAAAAAAAAAAAAAAAAAAAAAAAAAAAAAAAAAAAAAAAAAAAAAAAAAAAAAAAAAAAAAAAAAAAAAAAAAAAAAAAAAAAAAAAAAAAAAAAAAAAAAAAAAAAAAAAAAAAAAAAAAAAAAAAAAAAAAAAAAAAAAAAAAAAAAAAAAAAAAAAAAAAAAAAAAAAAAAAAAAAAAAAAAAAAAAAAAAAAAAAAAAAAAAAAAAAAAAAAAAAAAAAAAAAAAAAAAAAAAAAAAAAAAAAAAAAAAAAAAAAAAAAAAAAAAAAAAAAAAAAAAAAAAAAAAAAAAAAAAAAAAAAAAAAAAAAAAAAAAAAAAAAAEJhYmF0dW5kZSBPbGFuaXBla3VuAAAABZADAAIAAAAUAAAQrpAEAAIAAAAUAAAQwpKRAAIAAAADMzMAAJKSAAIAAAADMzMAAOocAAcAAAgMAAAIogAAAAAc6gAAAAgAAAAAAAAAAAAAAAAAAAAAAAAAAAAAAAAAAAAAAAAAAAAAAAAAAAAAAAAAAAAAAAAAAAAAAAAAAAAAAAAAAAAAAAAAAAAAAAAAAAAAAAAAAAAAAAAAAAAAAAAAAAAAAAAAAAAAAAAAAAAAAAAAAAAAAAAAAAAAAAAAAAAAAAAAAAAAAAAAAAAAAAAAAAAAAAAAAAAAAAAAAAAAAAAAAAAAAAAAAAAAAAAAAAAAAAAAAAAAAAAAAAAAAAAAAAAAAAAAAAAAAAAAAAAAAAAAAAAAAAAAAAAAAAAAAAAAAAAAAAAAAAAAAAAAAAAAAAAAAAAAAAAAAAAAAAAAAAAAAAAAAAAAAAAAAAAAAAAAAAAAAAAAAAAAAAAAAAAAAAAAAAAAAAAAAAAAAAAAAAAAAAAAAAAAAAAAAAAAAAAAAAAAAAAAAAAAAAAAAAAAAAAAAAAAAAAAAAAAAAAAAAAAAAAAAAAAAAAAAAAAAAAAAAAAAAAAAAAAAAAAAAAAAAAAAAAAAAAAAAAAAAAAAAAAAAAAAAAAAAAAAAAAAAAAAAAAAAAAAAAAAAAAAAAAAAAAAAAAAAAAAAAAAAAAAAAAAAAAAAAAAAAAAAAAAAAAAAAAAAAAAAAAAAAAAAAAAAAAAAAAAAAAAAAAAAAAAAAAAAAAAAAAAAAAAAAAAAAAAAAAAAAAAAAAAAAAAAAAAAAAAAAAAAAAAAAAAAAAAAAAAAAAAAAAAAAAAAAAAAAAAAAAAAAAAAAAAAAAAAAAAAAAAAAAAAAAAAAAAAAAAAAAAAAAAAAAAAAAAAAAAAAAAAAAAAAAAAAAAAAAAAAAAAAAAAAAAAAAAAAAAAAAAAAAAAAAAAAAAAAAAAAAAAAAAAAAAAAAAAAAAAAAAAAAAAAAAAAAAAAAAAAAAAAAAAAAAAAAAAAAAAAAAAAAAAAAAAAAAAAAAAAAAAAAAAAAAAAAAAAAAAAAAAAAAAAAAAAAAAAAAAAAAAAAAAAAAAAAAAAAAAAAAAAAAAAAAAAAAAAAAAAAAAAAAAAAAAAAAAAAAAAAAAAAAAAAAAAAAAAAAAAAAAAAAAAAAAAAAAAAAAAAAAAAAAAAAAAAAAAAAAAAAAAAAAAAAAAAAAAAAAAAAAAAAAAAAAAAAAAAAAAAAAAAAAAAAAAAAAAAAAAAAAAAAAAAAAAAAAAAAAAAAAAAAAAAAAAAAAAAAAAAAAAAAAAAAAAAAAAAAAAAAAAAAAAAAAAAAAAAAAAAAAAAAAAAAAAAAAAAAAAAAAAAAAAAAAAAAAAAAAAAAAAAAAAAAAAAAAAAAAAAAAAAAAAAAAAAAAAAAAAAAAAAAAAAAAAAAAAAAAAAAAAAAAAAAAAAAAAAAAAAAAAAAAAAAAAAAAAAAAAAAAAAAAAAAAAAAAAAAAAAAAAAAAAAAAAAAAAAAAAAAAAAAAAAAAAAAAAAAAAAAAAAAAAAAAAAAAAAAAAAAAAAAAAAAAAAAAAAAAAAAAAAAAAAAAAAAAAAAAAAAAAAAAAAAAAAAAAAAAAAAAAAAAAAAAAAAAAAAAAAAAAAAAAAAAAAAAAAAAAAAAAAAAAAAAAAAAAAAAAAAAAAAAAAAAAAAAAAAAAAAAAAAAAAAAAAAAAAAAAAAAAAAAAAAAAAAAAAAAAAAAAAAAAAAAAAAAAAAAAAAAAAAAAAAAAAAAAAAAAAAAAAAAAAAAAAAAAAAAAAAAAAAAAAAAAAAAAAAAAAAAAAAAAAAAAAAAAAAAAAAAAAAAAAAAAAAAAAAAAAAAAAAAAAAAAAAAAAAAAAAAAAAAAAAAAAAAAAAAAAAAAAAAAAAAAAAAAAAAAAAAAAAAAAAAAAAAAAAAAAAAAAAAAAAAAAAAAAAAAAAAAAAAAAAAAAAAAAAAAAAAAAAAAAAAAAAAAAAAAAAAAAAAAAAAAAAAAAAAAAAAAAAAAAAAAAAAAAAAAAAAAAAAAAAAAAAAAAAAAAAAAAAAAAAAAAAAAAAAAAAAAAAAAAAAAAAAAAAAAAAAAAAAAAAAAAAAAAAAAAAAAAAAAAAAAAAAAAAAAAAAAAAAAAAAAAAAAAAAAAAAAAAAAAAAAAAAAAAAAAAAAAAAAAAAAAAAAAAAAAAAAAAAAAAAAAAAAAAAAAAAAAAAAAAAAAAAAAAAAAAAAAAAAAAAAAAAAAAAAAAAAAAAAAAAAAAAAAAAAAAAAAAAAAAAAAAAAAAAAAAAAAAAAAAAAAAAAAAAAAAAAAAAAAAAAAAAAAAAAAAAAAAAAAAAAAAAAAAAAAAAAAAAAAAAAAAAAAAAAAAAAAAAAAAAAAAAAAAAAAAAAAAAAAAAAAAAAAAAAAAAAAAAAAAAAAAAAAAAAAAAAAAAAAAAAAAAAAAAAAAAAAAAAAAAAAAAAAAAAAAAAAAAAAAAAAAAAAAAAAAAAAAAAAAAAAAAAAAAAAAAAAAAAAAAAAAAAAAAAAAAAAAAAAAAAAAAAAAAAAAAAAAAAAAAAAAAAAAAAAAAAAAAAAAAAAAAAAAAAAAAAAAAAAAAAAAAAAAAAAAAAAAAAAAAAAAAAAAAAAAAAAAAAAAAAAAAAAAAAAAAAAAAAAAAAAAAAAAAAAAAAAAAAAAAAAAAAAAAAAAAAAAAAAAAAAAAAAAAAAAAAAAAAAAAAAAAAAAAAAAAAAAAAAAAAAAAAAAAAAAAAAAAAAAAAAAAAAAAAAAAAAAAAAAAAAAAAAAAAAAAAAAAAAAAAAAAAAAAAAAAAAAAAAAAAAADIwMjE6MDQ6MjAgMDU6MTM6NDkAMjAyMTowNDoyMCAwNToxMzo0OQAAAEIAYQBiAGEAdAB1AG4AZABlACAATwBsAGEAbgBpAHAAZQBrAHUAbgAAAP/hCydodHRwOi8vbnMuYWRvYmUuY29tL3hhcC8xLjAvADw/eHBhY2tldCBiZWdpbj0n77u/JyBpZD0nVzVNME1wQ2VoaUh6cmVTek5UY3prYzlkJz8+DQo8eDp4bXBtZXRhIHhtbG5zOng9ImFkb2JlOm5zOm1ldGEvIj48cmRmOlJERiB4bWxuczpyZGY9Imh0dHA6Ly93d3cudzMub3JnLzE5OTkvMDIvMjItcmRmLXN5bnRheC1ucyMiPjxyZGY6RGVzY3JpcHRpb24gcmRmOmFib3V0PSJ1dWlkOmZhZjViZGQ1LWJhM2QtMTFkYS1hZDMxLWQzM2Q3NTE4MmYxYiIgeG1sbnM6ZGM9Imh0dHA6Ly9wdXJsLm9yZy9kYy9lbGVtZW50cy8xLjEvIi8+PHJkZjpEZXNjcmlwdGlvbiByZGY6YWJvdXQ9InV1aWQ6ZmFmNWJkZDUtYmEzZC0xMWRhLWFkMzEtZDMzZDc1MTgyZjFiIiB4bWxuczp4bXA9Imh0dHA6Ly9ucy5hZG9iZS5jb20veGFwLzEuMC8iPjx4bXA6Q3JlYXRlRGF0ZT4yMDIxLTA0LTIwVDA1OjEzOjQ5LjMzNDwveG1wOkNyZWF0ZURhdGU+PC9yZGY6RGVzY3JpcHRpb24+PHJkZjpEZXNjcmlwdGlvbiByZGY6YWJvdXQ9InV1aWQ6ZmFmNWJkZDUtYmEzZC0xMWRhLWFkMzEtZDMzZDc1MTgyZjFiIiB4bWxuczpkYz0iaHR0cDovL3B1cmwub3JnL2RjL2VsZW1lbnRzLzEuMS8iPjxkYzpjcmVhdG9yPjxyZGY6U2VxIHhtbG5zOnJkZj0iaHR0cDovL3d3dy53My5vcmcvMTk5OS8wMi8yMi1yZGYtc3ludGF4LW5zIyI+PHJkZjpsaT5CYWJhdHVuZGUgT2xhbmlwZWt1bjwvcmRmOmxpPjwvcmRmOlNlcT4NCgkJCTwvZGM6Y3JlYXRvcj48L3JkZjpEZXNjcmlwdGlvbj48L3JkZjpSREY+PC94OnhtcG1ldGE+DQogICAgICAgICAgICAgICAgICAgICAgICAgICAgICAgICAgICAgICAgICAgICAgICAgICAgICAgICAgICAgICAgICAgICAgICAgICAgICAgICAgICAgICAgICAgICAgICAgICAgCiAgICAgICAgICAgICAgICAgICAgICAgICAgICAgICAgICAgICAgICAgICAgICAgICAgICAgICAgICAgICAgICAgICAgICAgICAgICAgICAgICAgICAgICAgICAgICAgICAgICAKICAgICAgICAgICAgICAgICAgICAgICAgICAgICAgICAgICAgICAgICAgICAgICAgICAgICAgICAgICAgICAgICAgICAgICAgICAgICAgICAgICAgICAgICAgICAgICAgICAgIAogICAgICAgICAgICAgICAgICAgICAgICAgICAgICAgICAgICAgICAgICAgICAgICAgICAgICAgICAgICAgICAgICAgICAgICAgICAgICAgICAgICAgICAgICAgICAgICAgICAgCiAgICAgICAgICAgICAgICAgICAgICAgICAgICAgICAgICAgICAgICAgICAgICAgICAgICAgICAgICAgICAgICAgICAgICAgICAgICAgICAgICAgICAgICAgICAgICAgICAgICAKICAgICAgICAgICAgICAgICAgICAgICAgICAgICAgICAgICAgICAgICAgICAgICAgICAgICAgICAgICAgICAgICAgICAgICAgICAgICAgICAgICAgICAgICAgICAgICAgICAgIAogICAgICAgICAgICAgICAgICAgICAgICAgICAgICAgICAgICAgICAgICAgICAgICAgICAgICAgICAgICAgICAgICAgICAgICAgICAgICAgICAgICAgICAgICAgICAgICAgICAgCiAgICAgICAgICAgICAgICAgICAgICAgICAgICAgICAgICAgICAgICAgICAgICAgICAgICAgICAgICAgICAgICAgICAgICAgICAgICAgICAgICAgICAgICAgICAgICAgICAgICAKICAgICAgICAgICAgICAgICAgICAgICAgICAgICAgICAgICAgICAgICAgICAgICAgICAgICAgICAgICAgICAgICAgICAgICAgICAgICAgICAgICAgICAgICAgICAgICAgICAgIAogICAgICAgICAgICAgICAgICAgICAgICAgICAgICAgICAgICAgICAgICAgICAgICAgICAgICAgICAgICAgICAgICAgICAgICAgICAgICAgICAgICAgICAgICAgICAgICAgICAgCiAgICAgICAgICAgICAgICAgICAgICAgICAgICAgICAgICAgICAgICAgICAgICAgICAgICAgICAgICAgICAgICAgICAgICAgICAgICAgICAgICAgICAgICAgICAgICAgICAgICAKICAgICAgICAgICAgICAgICAgICAgICAgICAgICAgICAgICAgICAgICAgICAgICAgICAgICAgICAgICAgICAgICAgICAgICAgICAgICAgICAgICAgICAgICAgICAgICAgICAgIAogICAgICAgICAgICAgICAgICAgICAgICAgICAgICAgICAgICAgICAgICAgICAgICAgICAgICAgICAgICAgICAgICAgICAgICAgICAgICAgICAgICAgICAgICAgICAgICAgICAgCiAgICAgICAgICAgICAgICAgICAgICAgICAgICAgICAgICAgICAgICAgICAgICAgICAgICAgICAgICAgICAgICAgICAgICAgICAgICAgICAgICAgICAgICAgICAgICAgICAgICAKICAgICAgICAgICAgICAgICAgICAgICAgICAgICAgICAgICAgICAgICAgICAgICAgICAgICAgICAgICAgICAgICAgICAgICAgICAgICAgICAgICAgICAgICAgICAgICAgICAgIAogICAgICAgICAgICAgICAgICAgICAgICAgICAgICAgICAgICAgICAgICAgICAgICAgICAgICAgICAgICAgICAgICAgICAgICAgICAgICAgICAgICAgICAgICAgICAgICAgICAgCiAgICAgICAgICAgICAgICAgICAgICAgICAgICAgICAgICAgICAgICAgICAgICAgICAgICAgICAgICAgICAgICAgICAgICAgICAgICAgICAgICAgICAgICAgICAgICAgICAgICAKICAgICAgICAgICAgICAgICAgICAgICAgICAgICAgICAgICAgICAgICAgICAgICAgICAgICAgICAgICAgICAgICAgICAgICAgICAgICAgICAgICAgICAgICAgICAgICAgICAgIAogICAgICAgICAgICAgICAgICAgICAgICAgICAgICAgICAgICAgICAgICAgICAgICAgICAgICAgICAgICAgICAgICAgICAgICAgICAgICAgICAgICAgICAgICAgICAgICAgICAgCiAgICAgICAgICAgICAgICAgICAgICAgICAgICAgICAgICAgICAgICAgICAgICAgICAgICAgICAgICAgICAgICAgICAgICAgICAgICAgICAgICAgICAgICAgICAgICAgICAgICAKICAgICAgICAgICAgICAgICAgICAgICAgICAgIDw/eHBhY2tldCBlbmQ9J3cnPz7/2wBDAAcFBQYFBAcGBQYIBwcIChELCgkJChUPEAwRGBUaGRgVGBcbHichGx0lHRcYIi4iJSgpKywrGiAvMy8qMicqKyr/2wBDAQcICAoJChQLCxQqHBgcKioqKioqKioqKioqKioqKioqKioqKioqKioqKioqKioqKioqKioqKioqKioqKioqKir/wAARCAG1ArsDASIAAhEBAxEB/8QAHwAAAQUBAQEBAQEAAAAAAAAAAAECAwQFBgcICQoL/8QAtRAAAgEDAwIEAwUFBAQAAAF9AQIDAAQRBRIhMUEGE1FhByJxFDKBkaEII0KxwRVS0fAkM2JyggkKFhcYGRolJicoKSo0NTY3ODk6Q0RFRkdISUpTVFVWV1hZWmNkZWZnaGlqc3R1dnd4eXqDhIWGh4iJipKTlJWWl5iZmqKjpKWmp6ipqrKztLW2t7i5usLDxMXGx8jJytLT1NXW19jZ2uHi4+Tl5ufo6erx8vP09fb3+Pn6/8QAHwEAAwEBAQEBAQEBAQAAAAAAAAECAwQFBgcICQoL/8QAtREAAgECBAQDBAcFBAQAAQJ3AAECAxEEBSExBhJBUQdhcRMiMoEIFEKRobHBCSMzUvAVYnLRChYkNOEl8RcYGRomJygpKjU2Nzg5OkNERUZHSElKU1RVVldYWVpjZGVmZ2hpanN0dXZ3eHl6goOEhYaHiImKkpOUlZaXmJmaoqOkpaanqKmqsrO0tba3uLm6wsPExcbHyMnK0tPU1dbX2Nna4uPk5ebn6Onq8vP09fb3+Pn6/9oADAMBAAIRAxEAPwD6RooooAKKKKACiiigAooooAKKKKACiiigAooooAKKKKACiiigAooooAKKKKACiiigAooooAKKKKACiiigAooooAKKKKACignHXio/tMH/AD2j/wC+hQBJRUf2mD/ntH/30KPtMH/PaP8A76FAElFR/aYP+e0f/fQo+0wf89o/++hQBJRUf2mD/ntH/wB9Cj7TB/z2j/76FAElFRi4hJwJo/8AvoVJQAUUUUAFFFFABRRRQAUUUUAFFFFABRRRQAUUUUAFFFFABRRRQAUUUUAFFFFABRRRQAUUUUAFFFFABRRRQAUUUUAFFFFABRRRQAUUUUAFFFFABRRRQAUUUUAFFFFABRRRQAUUUUAFFFFABRRRQAUUUUAFFFFABRRRQAUUUUAFFFFABRRRQAUUUUAFFFFABRRRQAUUUUAFFFFABRRRQBm+JJZIPC+qSwO0ckdnKyOpwVIQ4Irj/Cfgyz1Xwbo+oXuqa69xdWUU0rDV7gbmZAScBvU11vij/kUdX/68pv8A0A1U8A/8k58Pf9g2D/0WKAKn/CvNL/6CWvf+Dm4/+Lo/4V5pf/QS17/wc3H/AMXXV0UAcp/wrzS/+glr3/g5uP8A4uj/AIV5pf8A0Ete/wDBzcf/ABddXmjNAHKf8K80v/oJa9/4Obj/AOLo/wCFeaX/ANBHXv8Awc3H/wAXXV5ooA8v8f8AhqLwz4Rl1TStV1uO6hngCM+qzuOZVBBBYg5BIr06P/VrnriuK+L/APyTi6/6+Lf/ANHJXax/6tfoKAHUUUUAFFFFABRRRQAUUUUAFFFFABRRRQAUUUUAFFFFABRRRQAUUUUAFFFFABRRRQAUUUUAFFFFABRRRQAUUUUAFFFFABRRRQAUUUUAFFFFABRRRQAUUUUAFFFFABRRRQAUUUUAFFFFABRRRQAUUUUAFFFFABRRRQAUUUUAFFFFABRRRQAUUUUAFFFFABRRRQAUUUUAFFFFABRRRQBleKP+RR1f/rym/wDQDVTwD/yTnw9/2DYP/RYq34o/5FHV/wDrym/9ANU/AP8AyTnw9/2DYP8A0WKAGePLy2sfDBmvrWa5h+0wKUhmMTAmQAHI7Akcd6j1DxbcWfiqLSYdOR1Z0QvNciJ33Yy0akfOFHXBzxVnxn4cufFOgjTrXURp586OVpfJEudjBgMEjuBzVXUPCeoapqMb32srLYrLFObY2o3LJGQco+flBK5IwetAE3iTV3h1fRtDtmKy6pM4dx1SJF3Nj3PA/GsUmXw98WFOoahejStWtgliks5MEdwM7o8diVAIz6GtrxLpElxq2ja1bKXm0qdiyDq8brtbHv3qx4n8N2PjDQTp968iRs6SxzRHa6MpyCD2Pb8aAMZrG6nOu69Z6jebCu6xikmLRKYwSXVewY8fQV0HhvWo/EXhnT9XhG1LyBZdv90kcj8803V4mt/Dktlp8RMkkJt4FA4UkbQT7DrT/Dmjx+H/AA3p+kwnclnAsQPrgc/rQBzfxe/5Jxdf9fNv/wCjkrtY/wDVr9BXFfF7/knF1/182/8A6OSu1j/1a/SgB1FFFABRRRQAUUUUAFFFFABRRRQAUUUUAFFFFABRRRQAUUUUAFFFFABRRRQAUUUUAFFFFABRRRQAUUUUAFFFFABRRRQAUUUUAFFFFABRRRQAUUUUAFFFFABRRRQAUUUUAFFFFABRRRQAUUUUAFFFFABRRRQAUUUUAFFFFABRRRQAUUUUAFFFFABRRRQAUUUUAFFFFABRRRQAUVU1LVbDR7J7vVbuG0t0GWkmcKBXO2vi+/8AEauPCujzfZyMJqeoKYYD7qn33/IA+tAGr4tnjg8G6u80ixr9imG5mwM7DVfwD/yTnw9/2DYP/RYrEuvht/bVrcyeLdVl1q9kidIVlXy7W3YggFYQcccckk8Vf0TS/Fei6BYaXHLo8q2dukAkYSgttUDOO3SgDrKK4rxJ4i8S+G9OjuJotJuZ7iVbe1tYRLvnlboo9OhJPYAmtSJvGDwo0qaLG5UFkDSttPcZ70AdDRWD/wAVb66L/wCRaP8AirfXRf8AyLQBu4pa5HW9R8Z6Ro9xfwWOlX5gXe0ELSh2UdduepA7d6l0vVPEOtaXBqGmz6JPbXCB43XzeRQBn/GJxF8M72R87Unt2bAzwJlzxXTaHr2meINOW60e7juoh8rbThkYdQynkH2Nc74n8PeJ/FGhvpd1caTbxSSxu0kayswCOGwAfXGKvax4E03VL3+0bWW40nVQoAvrCTy3OOm4fdcezA0AdPRXKRS+LdBs2N+kHiWKPo1ogt7kj/cY7GP0ZfpVnRPHGia5cG0ine01Bfv2N6hhmX/gLdfqMigDoqKM0UAFFFFABRRRQAUUUUAFFFFABRRRQAUUUUAFFFFABRRRQAUUUUAFFFFABRRRQAUUUUAFFFFABRRRQAUUUUAFFFFABRRRQAUUUUAFFFFABRRRQAUUUUAFFFFABRRRQAUUUUAFFFFABRRRQAUUUUAFFFFABRRRQAUUUUAFFFFABRRRQAUUUUAFFFFABRUF5e22n2r3N9cRW8EYy0krhVX6k1x7+MNR8UM1p4DtSYicPrV5CwtkHfy1ODKfTHy+9AHaSzRwRNJM6xxqMs7nAUe5rjZPG2o69M1t4E0k3qBtrapeZitV9Sv8Un4ce9W9M8CWcUn2nxDdXHiC9Y5Ml+26ND/sRfcUfhn3rqVRUUKihVAwABwKAOT07wPHLfJqfi67/t7UkOYmmjCw23tHH0H1OTXWAAAAcAdKWigAxTXcIpZiAByST0pxrhtbkn8Z+KW8N2jSR6PpzK+rzIcee5GVtgfQggt7EDvQBN4fu28Y+JptfMQOj6futtLZhzM5OJZx7cBVPpuPeuzqOCGO3gSKCNI441CoiLhVA6ADsKkoAKKKKADFcEEb4f8AiwGFT/wjWtXADqOlhducA+ySHA9mPvXe1Be2cGoWM1pdxrJBOhR0I4INAE2aXFcb4Q1a90/UZfCXiOZpdRs08y0u3P8Ax/W+cBs93Xow/HvXZUAGKytc8M6P4it/K1mwhucfcdhh0PqrDkfga1aKAOI+w+MvC3/IKuI/EunJ0tbx/Kuo19Fl6Pj/AGgD71raF4003W52s3WbTdST/WaffL5Uw9wDw491yK6GqeoaVp+qxeXqVlb3adhNEGx9M9KALlFcZP4R1TRJmvPB2sTpg5Ol6hK01tJ/sgnLR/gce1La/EOC0uUsvF9hP4eu2O1XuPmt5D/sTD5fwODQB2VFMjlSaJZIXWRGGVdTkEeoNPoAKKKKACiiigAooooAKKKKACiiigAooooAKKKKACiiigAooooAKKKKACiiigAooooAKKKKACiiigAooooAKKKKACiiigAooooAKKKKACiiigAooooAKKKKACiiigAooooAKKKKACiiigAooooAKKKKACiiigAooqGW7t4biKCWeNJps+VGzgM+OTgd6AJqKpanrGnaLam51a+t7KEcb55AgPsM9a5+98TapqqLb+C9NkmeX/mI30TRW0Q9QDhpD6BRj3oA6W+1C00yzkutRuYbW3jGXlmcKo/E1y1r4q1zxFcf8Uxooh07tqeplo1kHrHEPmYe5K5pbH4fwT3iaj4uvZfEF+h3J9oG23hP+xCPlH1OTXXgAAAAAAYGKAOWbwNbanqUd/4rum1yaL/UwyoEtoT3KxAkE+7FjXUIixoFRQqrwABgCnUUAFFFFABRRXlnxy8fXfgrQtNXR7kRajc3auoIzmNOWyO4JwD9aAOw8V+JJdHFpp+lQLd6zqUnl2luxwqgfekf0RRyfXgVoeH9HGiaQls0xuJ2Zpbi4ZcGaVzuZyPcnp2GB2rzL4NeL7Pxvq2qaxqSzN4gkxGR5LeRBAPupG3QZOScnJ/CvYKACiiigAooooAKKKKAMHxP4ZTxBDbTQXDWWp2MvnWV4i5Mb9wR3QjgjuKk8L6zcaxpkn9pWy2mo2kzW95ArZCuOcg/3WUhh7Gto14d8X/iC3w+8Zx3Hh4udUvLTy7yGaI+QyjPlyA8ZdeRx24PSgD3GivKvgN45u/F/he9g1m8a61OzuCXZ/vNG/KnHYA5H4V6rQAUUUUAGKhurS3vbZ7e8gjnhcYaORQysPcGpqKAOUtvBcui3LyeFdZuNOt2Of7PmQT2qn/ZUkMo9lYCornxfqnhyfHjDShHYscJqenbpowf+miY3J9eR712FIQCpDAEEYINAFXTdVsdYs0u9Lu4bu3fpJC4YfpVuuT1HwBp7Xran4dkfQtVzu+0WfCSH/ppH91x9Rmo7PXvFOlTC38T6EbuEcDUdJPmKfdoT84/DNAHYUVxuvfFPwroGjnULjUVlCzLC9tH/r0Y9jGcMCByQQK6HQtf0vxJpaahod9Fe2r8B42zg+hHUH2NAGjRRRQAUUUUAFFFFABRRRQAUUUUAFFFFABRRRQAUUUUAFFFFABRRRQAUUUUAFFFFABRRRQAUUUUAFFFFABRRRQAUUUUAFFFFABRRRQAUUUUAFFFFABRRRQAUUUUAcnd+P7WDVr3T7XRtZ1CSxkEU72dmXRW2hsZz6EfnTf+E+/6lbxJ/wCC/wD+vTfBf/IyeMf+wsP/AERHXYUAcj/wn3/UreJP/AD/AOvR/wAJ9/1K3iT/AMAP/r111FAHI/8ACff9St4k/wDAD/69H/Cff9St4k/8AP8A69ddRQByP/Cff9St4k/8AP8A69H/AAn3/UreJP8AwXn/ABrrqKAOIuPinothFdtq9pqOlNbWrXQS/t/KMyg4wnPJJwMe9fMOr/FLxDq3xAt/FTTiK4s3zaQgbo4E/u47gjr619JeJPDmkeJfi3p1tr1hFfQR6RLIsc2SobzVGcfjW/bfDzwfZsGtvDGlRn1Fon+FAGZ4R8O6RrNjY+Kb+5Ov391EJY7y5UbYgf4Y4/upjkevqau6j48s7DX7rR4dL1bULq0RHnFlamRUDjK859K6W3tobS3SC1hjhiQYWONQqqPYCuM8O/8AJYPGH/XCy/8AQDQBa/4T7/qVvEn/AIL/AP69H/Cff9St4k/8AP8A69ddRQByP/Cff9St4k/8AP8A69H/AAn3/UreJP8AwA/+vXXUUAcj/wAJ9/1K3iT/AMAP/r0f8J9/1K3iT/wA/wDr111FAHI/8J9/1K3iT/wX/wD168g8b6PqfxE+Jtvf6p4e1+Dw5aRCILHZnzZMcsAM/LknGfavo2igDgdE8RaZ4d0uPT9F8FeILS2iGAkenYyfUnOSfetD/hPv+pW8Sf8AgB/9euuooA5H/hPv+pW8Sf8AgB/9enWnxBs59csdLutJ1jT579mS3a8tNiOyruIzn0BrrK4fxr/yP3gb/r+n/wDRDUAdxRRRQBzOq+N7XTdcm0qLStV1C5t40kl+w2vmKgfO3JyOuDVf/hPv+pW8Sf8AgB/9el0X/kqXij/r0sf5S11tAHI/8J9/1K3iT/wX/wD16w/FV7onjPS2sdf8E+IZ06pINPw8Z9VbdkV6VRQB85/DrQ9U+HPxDu7u20TX7zQrq2aFWNiRKGyCuVzzjBGR6168PH3H/IreJP8AwX//AF666igDkf8AhPv+pW8Sf+AH/wBej/hPv+pW8Sf+AH/1666igDkf+E+/6lbxJ/4Af/Xo/wCE+/6lbxJ/4Af/AF666igDkf8AhPv+pW8Sf+AH/wBej/hP/wDqVvEn/gv/APr111FAHL6b46tb/XbXSp9J1bT7i7DmFr20MavsG5hnPXFdQa5HxD/yUjwh9bz/ANE111AHhHxo+GXi3xv4shu9D0+yazggCBzKqSSMeSWz1xwBXI/DKHx38N/GV7aJ4fvNQtF2JqNtbYfZkZVgQcbsGvqWuQ8L/wDI/wDjL/rva/8AomgAHj/jnwr4k6d7D/69L/wn3/UreJP/AAA/+vXXUUAcj/wn3/UreJP/AAA/+vR/wn3/AFK3iT/wA/8Ar111FAHI/wDCff8AUreJP/AD/wCvR/wn3/UreJP/AAA/+vXXUUAcj/wn3/UreJP/AAA/+vR/wn3/AFK3iT/wA/8Ar111FAHI/wDCff8AUreJP/AD/wCvR/wn3/UreJP/AAA/+vXXUUAcj/wn/wD1K3iT/wAAP/r1Lp/ju1vtbtdLn0nV9Pnuw/kte2hjV9oyRnPpXU1yHiX/AJKH4P8A9+7/APRNAHXiiiigAooooAKKKKACiiigAooooAKKKKACiiigAooooAKKKKACiiigAooooAKKKKACiiigAooooAKKKKACiiigAooooA4/wX/yMnjH/sLD/wBEx1reI/E1h4bht2vpIxJdTrBDG0ipuZuAST0X1NZPgv8A5GTxj/2Fh/6JjrK+LLaKjeGzq/2IM2rwDNyFyYsnd1/h6Z7UAdvZags6RJdeRb3UgLCBZ1ckZ4ZTxkEc5xUp1KxG7N5bjY21v3q8H0PPWvK9dXSbrRdegtxFH4ngvS2mmPAmxlTAYyOfL27QcfLjOaXWZ/Dmk+KYdS1GKwk0ySeK31fAXEV+ozHIR3xuOfqp7GgD1W9vIrCykuZyfLjGTgcnsAPcniuav/H1po/iay0fW7C8sPt/FveybDA7cYUsGypJOOQKu+KX8zRLSSFt8LX9mWZDwU89P0rL8SDQtX8XW+ga1PayfbLCVDbSSAMSWXBUdQ3BwetAGu3iGf8A4SKbSU0W8byofOF1ujETr7fNuznI6fpzWjpmpW+q2KXdo26NiQQRgqwOCCOxBrkvBzX9v4lvNH1RJ5JtKtEgjvJOl3HuJR8/3tuA3uDT/h2JRdeKc/8AHsdbm8gjoeF3Y/4FmgCW5/5LNY/9gSX/ANHLXYVx9z/yWax/7Akv/o5a7CgArh/Dv/JYPGH/AFwsv/QDXcVw/h3/AJLB4w/64WX/AKAaAO2lljhjaSZ1jRRlmc4AH1qIX1oZI0F1CXlGY1Egy/0HeuO8e39tY654f/t47dAklkW6ZxmLzNv7sSdtuc9eM1yMUenWVn4d1Jkigt7TxPcItyy4EMTNIAM/wqeBjpQB6xPqI2xNYrHdh5hE5SdRs9Tz1I9BzVpriFZ1gM0YmZSyxlgGYeoHXFeMXN5o9hqFxme3tIm8YxSRA/uww8qPcwHcZOSenNdFoVzpFx4mv4NfzH4hs9UeeItlXMGPkZW/55bc5xxnrQB1eg+LLLWtJe/l22CJdS2224kUZaNypOffFaeo6lb6ZbLNcsf3jrHGq9XdjgKPevFPCutaNGYP+Eo/s270KTV7sWkzkEW9yZCR5gPGGXkHtXoXjHcfF3gwnm0+3vux93f5R2fr0oA3tf8AEVj4Y0J9V1ljDbxlQ+0biCTj/P0pNe8QQ6D4Zn1s2817bwRiZkt9pYp13DcQOnPWsLxELjxFrr6Xo82kXIsrdheW16zNgy5A4X0APX+9XDweJ4IPhJ4p8Kaxqdm2p6JBLahlmBE0ZH7srk5PXb68UAd/N49h05LabX9G1HSbS4dUW7nEbxKWxjcY3baDnqeKmvvGQsvGFn4eXR764mvYzLBcRtF5RQY3MSXyAMjt9M1zfjXxBpesfDibQdGuIdW1LUbZLWC1tHEpDED5mxkKB1ycdKdYoLj4meHILWdbttG0qe0v5EOfKlAjG1vQnGfegDvNP1OHUHuIlDRz2snlzRP1U4yD7gjkGuU8a/8AI/eBv+v6f/0Q1WNH3f8AC2fEu3/VfYbLd6b/AN5+uMVX8a/8j94G/wCv6f8A9ENQB3FFFFAHJaL/AMlS8Uf9elj/AClrq5JY4Y2kldY0UZZmOAB9a5TRv+SpeKf+vSx/lLTviBcWkOjWcd9B5sdxfwxDexEKsTwZfVPUd+BQB0/2iEojeam1xlTuGG+nrTTeW32U3H2iHyB1l3jaOcdenWvENFv9PGieDrTVb+HMOv3UREjeX8gMgA254XlRjpyK1I7zR4fE1tZTvbHwwuqXiSKGBt0mKKUVx0AJLkZ4yaAPSdB8QR682oCKBohY3TWxYsGEmADuBHY5qZNbtH+2vvC21jkT3DHCKQMkfgOtcv8ADiKztz4mg0wKIE1aQxqv3QCqkY9vpWDZ6Tf658BdY06yVm1KaW7Dxk4MjiZiVP1Ax+IoA7NfGH+ifbpdE1OKwYKY7kxowcMeG2Bi4HOckCrF34mEeoS2emabdarLbhftP2VowISwyFJZhlsc4Ge3qKZpnivQr7TYBa30MshjUG1Q5lU4xtKdQQeDkcVz/hW4t/CWteJ7XxHew2j3epte20txIEE0TooG0nqVKlcdRgeooA07v4h6XbaKurrbXc1jHP5F5IqqGsW3BT5qEhgAT2B45rS1nxEdMhsprTTLrVYrx1RHs2jwu77pO5hwfUZrh9D+zx3PiTW9UZLXStd1e3W0juhsE6qyqW2ns3PXqOasJYah4Q1vTtBgie78O3l6slhMDuNiQdxib/Y67T26UAdJF4yM/jK78Nw6LfG5tYVneZmjERRuhB3Z5OR07Vt6ZqVvq1it1aElCxVlYYKMDgqR2INcd4dkTUvi9r+p2LCay/s+C285M7RKrvuT6juKsfD/AM7+1vF2f+PX+2pPIx0+6u//AMezQBP4h/5KR4Q+t5/6Jrrq5HxD/wAlI8IfW8/9E111ABXIeF/+R/8AGX/Xe1/9E119ch4X/wCR/wDGX/Xe1/8ARNAHS311LaiExQCYSSqj5lVNinq3PXHoOact9aMsTLdQkTHEZEg+c+g9a5nx9Gki+HywBxrNvj8TXn0T6Xb+EdPsdkK3en+KseSqfPbAzk9MZUFSPqKAPajdW4mWIzxiRiQqbxuJHXAoS6t5VLRzxuobYSrggN6fX2rx7xXcaCbS7vFu7X7VH4qhVJxKN6AiMOAc5AxnNVdeudEtvF+vWdtcW0VibrSppYoX+XJlw7YHtjJ/OgD2We+UafPc2Xl3ZjUlUSVQGYfw7jwPxqQ3kCIDNNHEcgMGccE9BXkWpQ6XYW/jq40KWGLw/PpS5MUn7hrshs7DnGSNucd6jvLzwzfS+N2uryym26bbtHulBw3knlffOOlAHsNxfWtoVF1cwwF/u+bIF3fTNI99apYPeGeM2yIXMoYFdo6nNeN+JL/RtW0HT7XVrrSZjqeg26JdahOF+ytlg0qEg7jnqBzlVz1rrvG0MNv8F7iLSWSW1jtoQHtsBXjDruIxxyoNAGjrfjxND/st5tE1GeHVJVigmh8varN90PuYbc9f/r1p6j4gksNesNLj0q8uXvVZhPEU8uIL135YEdR0B60zxHoMHibwfcaXu2ebCDBIvWOQcowPqCAaq+D5bnV7Jdc1KF4LieJYVifgxhfvfm2T9AKANvTtTh1KOYwhle3lMMsbdUYc4/Ig/jXOeJf+SieD/wDfu/8A0TVvw/n/AIS/xPt/1fnW/T+/5Q3fj92qniX/AJKJ4P8A9+6/9E0AdfRRRQAUUUUAFFFFABRRRQAUUUUAFFFFABRRRQAUUUUAFFFFABRRRQAUUUUAFFFFABRRRQAUUUUAFFFFABRRRQAUUUUAcf4L/wCRk8Y/9hYf+iY66ySCOU/vY0fHTcua4Hw74j0XRvFfi+HVtVs7KV9UDKk8yoSPJj5we1dH/wAJ34U4/wCKj0z/AMCk/wAaANzyY94by03AYBxyBSG3hYENFGQxycqOT61if8J14V25/wCEi0zH/X0n+NH/AAnfhT/oY9M/8Ck/xoA2p7aK5tXt5kDRONpXHamRWiRqm4CR0GBI4Bb86yP+E78Kf9DHpn/gUn+NH/Cd+FP+hj0z/wACk/xoA25ofOhZA7IWGN69RTbS0gsrdYLWNYo16Ko/M/X3rG/4TvwoOviLTB/29J/jR/wnnhP/AKGPS/8AwKT/ABoAzrn/AJLNY/8AYEl/9HLXYVwVrrOm6z8YrSTSb+2vUj0WVXa3lDhSZlxnHSu9oAK4fw7/AMlg8Yf9cLL/ANANdxXm9hr2laL8YPFn9r6ja2XmW9ns+0ShN2EOcZ60AejOiyKVcAg9iM1ieG/DC+HrO6tmv7jUI7i4e4xdKh2M53MBgDjJzTf+E78Kf9DHpn/gUn+NH/Cd+FP+hj0z/wACk/xoA22t4nxviRsdMqDSmJC24opOMZwOlYf/AAnfhT/oY9M/8Ck/xo/4Tvwp/wBDHpn/AIFJ/jQBtfZYNu3yI9uc42CmXdjb31v5NzGrpkMMjlSOhB7EetZH/Cd+FP8AoY9M/wDApP8AGj/hO/Cn/Qx6Z/4FJ/jQBtQwLCo/ifGGcgbm+po+ywEkmCPJ6/IOaxf+E78Kf9DHpn/gUn+NH/Cd+FP+hj0z/wACk/xoA244IojmKJEPfaoFL5SjcUAVm6sBzWH/AMJ34U/6GPTP/ApP8aP+E78Kf9DHpn/gUn+NAGtZ2ENkr+SuXkbdJI3LOfUnvXIeNf8AkfvA3/X9P/6Iatn/AITvwp/0Memf+BSf41yniLxFo2s/ELwRHpOqWl66Xs7MsEwcqPJYZ4oA9KooooA5LRf+SpeKf+vSx/lLXVsiuuHUMPQjNcJDr2k6L8UvEn9r6la2RltLLy/tEoTfgS5xnr1re/4Tvwp/0Memf+BSf40AbbW8LHLRIT1yVFH2eLaV8qPaxyQFGDWJ/wAJ34U/6GPTP/ApP8aP+E78Kf8AQx6Z/wCBSf40AbqoFztAH0qtBp0NteS3FuPLM3MqL91m/vY9ay/+E78Kf9DHpn/gUn+NH/Cd+FP+hj0z/wACk/xoA21gjRy6RornqwUZNLJDHLjzY1fHTcoOKw/+E78Kf9DHpn/gUn+NH/Cd+FP+hj0z/wACk/xoA3HijkUCRFYDoGGcU4j6Vg/8J34U/wChj0z/AMCk/wAaP+E78Kf9DHpn/gUn+NAG1JAHhdEJi3dWTg0lpaQWNusFrGsca9h3Pcn1PvWN/wAJ34U/6GPTP/ApP8aP+E78Kf8AQx6Z/wCBSf40AUPEP/JSPCH1vP8A0TXXVwF94g0fWviZ4TTSdTtL14/tZdYJg5UeT1OOld/QAVyHhf8A5H/xl/13tf8A0TXX15/pXiHR9F+Ifi6PV9TtbJ5JbVkW4mVCw8rGRmgDpJvDCXPiD+0ru/u54VdJYrGRgYYpFGA68ZH0zWz5Ue4nYuTyTjrWH/wnfhT/AKGPTP8AwKT/ABo/4Tzwp/0Memf+BSf40AbRtYD1hjPOeUHWsjxH4Yh8Q2MNv9pksTFcR3HmW6JuYocgHcDxkA/hTD478Kjr4i0wf9vSf40f8J34U/6GPTP/AAKT/GgDaW3jWARFFZQOQVGCfXFH2WDn9xHz1+Qc1i/8J34U/wChj0z/AMCk/wAaP+E78Kf9DFpn/gUn+NABfeFvterLe2+p3VmhULLbxBGjkA6feUlTyfu4rXisreGxFokSmALs2MMgj3Hesj/hO/Cn/Qx6Z/4FJ/jR/wAJ34U/6GPTP/ApP8aANeys0sbcQRMxiU/IrHOweg9hUzLlCqnbkcEdqwh468KknHiLTDjr/pSf40f8J34U/wChi0z/AMCk/wAaANezsobGJkgXBdt7serse5Pc1zHiX/kong//AH7v/wBE1of8J34U/wChj0z/AMCk/wAa57UvEGj6z8R/CaaTqlpevG90XWCUOVHldTigD0CiiigAooooAKKKKACiiigAooooAKKKKACiiigAooooAKKKKACiiigAooooAKKKKACiiigAooooAKKKKACiiigAooooApz6PptzMZbnT7WaRuryQKxP4kVR1Ky8N6Rp01/qVjp1tawLukle3QBR+VbROOtcCP8Ai4XizeRu8NaJP8v92+u1PX3SM/m30oAseFfCen3N1eeJNQ0q3WfUiBbwS2yj7Pbr/q1244J+8e+TjtXTf2Bo/wD0CbH/AMBk/wAK0BRQBn/2Bo//AECbH/wGT/Cj+wNH/wCgTY/+Ayf4VoUUAedahpNl4M8Vz6ncabay+G9SIa6Y26sNPnwF8zpny2wM9gefWuzj0TRJY1ki0ywZGAZWW3Qgg9+lXri3iuraS3uY1lhlUo6MMhlIwQa5HwjDdeGNXuPCl05lsFQ3GkTO2W8nOGhPqUJXHsw9KAOottMsbJy9nZW9uzDBaKJVJ/IVaoooAKqXGlafdymS7sbaeQjBeWFWP5kVbooAz/7A0f8A6BNj/wCAyf4Uf2Bo/wD0CbH/AMBk/wAK0KKAM/8AsDR/+gTY/wDgMn+FH9gaP/0CbH/wGT/CtCigDP8A7A0f/oE2P/gMn+FH9gaP/wBAmx/8Bk/wrQooAz/7A0f/AKBNj/4DJ/hR/YGj/wDQJsf/AAGT/CtCigDP/sDR/wDoE2P/AIDJ/hR/YGj/APQJsf8AwGT/AArQooAz/wCwNH/6BNj/AOAyf4VJBpGm2solttPtYZF6PHCqkfiBVyigAooooAq3Gl2F5J5l3Y2074xulhVjj0yRUP8AYGj/APQJsf8AwGT/AArQooAz/wCwNH/6BNj/AOAyf4Uf2Bo//QJsf/AZP8K0KKAM/wDsDR/+gTY/+Ayf4Uf2Bo//AECbH/wGT/CtCigDP/sDR/8AoE2P/gMn+FH9gaP/ANAmx/8AAZP8K0KKAM/+wNH/AOgTY/8AgMn+FH9gaP8A9Amx/wDAZP8ACtCigDP/ALA0f/oE2P8A4DJ/hR/YGj/9Amx/8Bk/wrQooAqW+k6daTebaWFrBJjG+OFVP5gVboooAKqXGk6ddymW7sLWeQjBeWFWP5kVbpryLGheRlVFGWZjgAepoAonQdGHXSbH/wABk/wrkdUvrHUt9h4E0PTdSvN/lSXrW6fZbQ9yzYw7D+4uT64pbjWdQ8e3UmneGS9roKtsvNXxg3Azho4PqMgydu1dpp+n2mlWEVlp1vHbW0K7Y4o1wqigDC8O+BtJ0TTDDcW9vf3czmW5up7dN0sh6nGMADoAOgFa39gaP/0CbH/wGT/CtCigDP8A7A0f/oE2P/gMn+FclYaNpZ+LeswnTbMxrpdqwQ26YBLyc4xXe1x+n/8AJYtb/wCwTa/+hyUAdB/YGj/9Amx/8Bk/wo/sDR/+gTY/+Ayf4VoUUAcz4h8AeH/EWm/Zp9PgtpI2EkFxbxKrwuOjDjn6HisjTL3TdN26f420Sw027V/JivWt0+zXp7Mr4wjH+42DnOM13tVdR02z1bT5bHUraO6tZl2yRSruVhQBANB0YjI0qx/8Bk/wqa30nTrSUS2thawSDgPHCqn8wK42G9k+G06WWqzXN14bmcLa30vznTz08qU9Sn91z05B7V3UcqTRrJC6yRsMq6nIYeoNAD6KKKACiiigAooooAKKKKACiiigAooooAKKKKACiiigAooooAKKKKACiiigAooooAKKKKACiiigAooooAKKKKACgmiuAm+LmiS31/pWkpJe6zbXYs4bEYBuHP8AEpz9wc5PUYPFAGn4q1Vr3VbTwlpzSfar8b7ySJsG2tQfmJPYvjYvfkntXR6fp9ppenw2Wn26W9rAgSOKMYVRWN4U8NPokd1ealOt5rGoSebe3KjAJ/hRfRFHAH1PeuioAKKKKACiiigArF8T+Hxr2mBbedrPULcmWyvE+9BLjAPuD0IPBFbVFAHOeDvEkmu6fNBqUX2bWNPfyL+26bXH8a+qMOQa6OuS8S6LPZ6vF4s0Ti9tIit5bgf8ftuOSn++vVT+HeodJ+KnhfXfF8Xh3R7w3dxLAZhMgHljAztz/ewentQB2dFFFABRRRQAUUUUAFFFFABRRRQAUUUUAFFFFABRRRQAUUUUAFFFFABRRRQAUUUUAFFFFABRRRQAUVU1TVLPRdNm1DU7hLe1gG6SVzwozj+ZFZmv+L9O0C3tzIZLy6vMC0s7Ub5bgn+6PT1J4FAGjq+r2OhaZNqGq3KW1tCMs7n9AO59q5WxttQ8dyvd+ILOWy8Plf8ARdNlYrJdZ/5aTgdB6IeOeRViz8Kz6xraa94ubzpYyHstLzuhseOp7PJ/tHgZIHrXX0AR29vDa28cFtEkMMahUjjUKqgdAAOgqSiigAooooAK4/T/APksWt/9gm1/9Dkrqrqf7Nayz7Gk8pC+xOrYGcCvBLX4++GYfHuo601jqhhurKC2SMRJvDIzk5G//aFAH0DRUNpcC7s4bgI8YmjVwjjDLkZwR61NQAUUUUARzwRXMDw3EaSxSKVdHXIYehB61x9/ot74Q26j4UMz6bbjddaGvzq6dzBnlGHXaPlOMYFdpRQBnaLrun+IdNS+0i5WeB+DjhkPdWHUEehrRrk9T8Hywa2dd8JXUemajIR9qhdCbe9H/TRR0b/bHPrmr2heKrbVry40y5T7Fq9mcXNlI2SB2dD/ABoezD8cGgDeorO0nXtM1xbltJvIroWszQTGNs7JF6g1o0AFFFFABRRRQAUUUUAFFFFABRRRQAUUUUAFFFFABRRRQAUUUUAFFFFABRRXnlhoy+JfFWuf2lqWqotrNshS21CWFVG+TshHoPyoA9DorlP+FeaZ/wBBPXv/AAcXH/xdH/CvNM/6Cevf+Di4/wDi6AOrorlP+FeaZ/0E9e/8HNx/8XR/wrzTP+gnr3/g5uP/AIugDq6K5T/hXmmf9BPXv/Bzcf8AxdH/AArzTP8AoJ69/wCDm4/+LoA1vE+sR+H/AAtqWqzHC2ls8v4gcfrivkf4eeCvE/jzxQ+paNO1j5U/mz6mSVETk5+XHVvb86+mb/4WaDqlqbXUbvWbq2Y5eGbVp2R/qC1PtPhjodjbLb2N1rNtAgwsUOqzoq/QBqAOo063ntdNt4Lu6a7mijCvO6hTIQOWIHHNWa5T/hXmmf8AQT17/wAHNx/8XR/wrzTP+gnr3/g5uP8A4ugDq6K4HTtN/sD4pW+n2d/qU1rPpckrxXd9JOu8SKAQHJxxXfUAFFFeY+D9ATxRFrN7quq6yZU1i6gQQ6pNGqor4UBVYAYFAHp1Fcn/AMK80z/oJ69/4Obj/wCLpf8AhXmmf9BPXv8Awc3H/wAXQBe8Z6NqGv8AhK+03R9SfTbueMqk6jrx90+gPTI5r5E0aHWPhl8TtMl1u0ls5rO5UuGHDxk7WKnowIJ6V9Wf8K80z/oJ69/4Obj/AOLqrqPwn8N6vbiHVn1S+iByEudTmkAP4tQB2kbrJGrocqwDA+oNOrkIPhtpNvbpDFqOurHGoVVGrzgADoMBqk/4V5pn/QT17/wc3H/xdAHV0Vyn/CvNM/6Cevf+Dm4/+Lo/4V5pn/QT17/wc3H/AMXQB1dFcn/wrzTP+gnr3/g5uP8A4uj/AIV5pn/QT17/AMHNx/8AF0AdZRXKf8K80z/oJ69/4Obj/wCLpP8AhXmmf9BPXv8Awc3H/wAXQB1lFcp4Wsf7J8T67p0V3e3FvFHbSRi7uXnKlhJuwWJIzgV1dABRRRQAUUUUAFFFFABRRRQAUUVxz+HIPEHiXWZL6/1WP7PPHFGlrqEsKKvkxt91GA6sTQB2NFcp/wAK80z/AKCevf8Ag5uP/i6P+FeaZ/0E9e/8HNx/8XQB1dFcp/wrzTP+gnr3/g4uP/i6P+FeaZ/0E9e/8HFx/wDF0AdXRXKf8K80z/oJ69/4Obj/AOLo/wCFeaZ/0E9e/wDBzcf/ABdAHV0Vyf8AwrzTP+gnr3/g5uP/AIug/DvTCONU18e/9sXH/wAXQB5H+0b4/Dung7TJMqCJb9lPU9Vj/qfwq7+zs2ptNdNrOiXb/ugtrq1wp+SMf8sQW/h7jHHWu7i+Cng2C+a9it75btm3NcC/l8wn1Lbs5rV/4V5pn/QT17/wcXH/AMXQB1dFeXePfDkfhnwyup6Tq2tpcx3lugMmqzupDSqCCpYg8E16gvTrnigBaKK4XxBYnW/idY6Zc32oQWg0qSfy7O8kg3OJVGTsIzwaAO6orlP+FeaZ/wBBPXv/AAc3H/xdH/CvNM/6Cevf+Dm4/wDi6AOqI618i+HvAb3n7QkugTQkW1nqEk8ikceSrbl/MbR+NfSH/CvNM/6Cevf+Dm4/+LqnH8KPD8OqzalHc6wt5MgjknGqTB2Udi27JH40AdvjHSiuU/4V5pn/AEE9e/8ABzcf/F0f8K80z/oJ69/4Obj/AOLoA6uiuU/4V5pn/QT17/wcXH/xdVvBML2HibxRpgvLy5trSeDyRd3LTMgaIEgMxJxmgDtKKKxPGlxLa+BdcuLaR4potPneN0bDKwjJBB7GgDbryD4/S31votnLoei3U2oqzbdUtVbdapj5lyvJ3DseO9dTpfgLT7nR7OebVNeaSWBHY/2xcckqCf4qtH4eaZ/0E9e/8HNx/wDF0AfPv7PvjKPw342m0nUZWjtdWURqWPyrMD8pOemckflX1dXA33wY8H6nKJdShvruRekk1/KzD8d2a0U+HWlooVdT1/A4A/ti44/8eoA62iuU/wCFeaZ/0E9e/wDBzcf/ABdJ/wAK80z/AKCevf8Ag5uP/i6AOsorlP8AhXmmf9BPXv8Awc3H/wAXR/wrzTP+gnr3/g5uP/i6AOrorlP+FeaZ/wBBPXv/AAc3H/xdH/CvNM/6Cevf+Dm4/wDi6AOrorlP+FeaZ/0E9e/8HNx/8XSf8K80z/oJ69/4Obj/AOLoA6yiuP8AA8T2eqeJdNF3d3MFnfokP2udpmRTBGxG5iTjLGuwoAKKKKACiiigAooooAKKKKACiiigArj/AAh/yNPib/r5H/ocldhXH+EP+Rp8Tf8AXyP/AEOSgDsKKyNf0YavboGv76zWHc/+h3BiLnHGSOoHpXA+GtNu7v4Zf2/ca7q0101jctKk12XR/lcD5egIwOnpQB6rRXF2PjUafOLHXLJ7OOLS1vop/ND+ZGuFbKjockdznNafhzxO+u3V1BNp1xaGILJHIyNskRunzFR8w7rz2oA6GiuXOoNrvjDUtESWWG30+1QyvE+xvMlzjB7YUH865PwHot/r/hCW+l8Ta1Hfrd3EMcxvC6qEkKrlDweAMigD1SivH9S1a71ibwXfzajq9oNUaWC+t9PlcBzGjfMqqM8sucjtXXWXhuLULZoodZ8RRQJNlkuLiSOUnb/eYBtvINAHZUV5v4A0efVdMlv7zXNYnkh1C5t9kt4zI8auygFfpznrkV03hDW5dVt9QtLtt91pV49nK/8Af24Kt9dpGffNAFG5/wCSy2H/AGB5f/Ri12Fcdc/8lmsP+wPL/wCjFrsaACuH+Fv/ACCdb/7Dt5/6MNdxXD/Cz/kEa3/2Hbz/ANGUAdxRXC+NLm6tfHfhRrGOS4kdrkfZ1l2CTEfGc8cGpLTx/PebLT+wpo9XFzJaT2TTriORYjIPn6EMO/vQB21Fcc/ja7MdzNa6N50Om4GqH7SA1uwUM6oMfOVBz2z2qveePNTtZtchTQFll02FLm3jF4AbyBs/Ovy8dMY65oA7miuKm8eXMGjrqp0hZrJoLdxJBdAkySsBsAwOgIOfetbSfEct94k1DRb2wazubWNJ4yJA4libIDcDg5BBFAG/RXNabqr634v1a3UkWmjtHCFBxvmZdzE/QEY/GuZ1b4jw6d4/tc6vYnRBKdPuYBMvmxzHpIVzkKD8p/OgD0uiuC8UWs1/8TNBsF1XUrW0vLK5eWK0ujGrNGUKnjv85/Sn2n9paJ48i8OT6pcX+lapYzSwmd8z2zoVBAfqVIbgnoRQB3VFeZeBrS9utH8RzS6zqN1c2mozwWr3VwXESxn5f8Ce4r0HSL9dV0Wy1BBhbq3SYD03KD/WgDK0r/kfPEP/AFws/wCUtdDXPaV/yPniH/rhZ/ylroaACiiigAooooAKKKKACiiigArG0f8A5D3iD/r7i/8ASeKtmsbR/wDkPeIP+vuL/wBJ4qANmjNc74sllgk0OS3R5JP7TQBFfbv/AHUnBPpVC38fxHSp5Lyxa21CG+bTzaK/mBpgMjDKORjnOKAOxorJ8O62dc0ZbyaznsZA7JJDMhUgqcErkDKnqDjmuD8R6xd618LtY8S2t9eafJDO/wBka1lKERxvs59QfmOPcUAepUV5PP8A2vBeTW2h6lrVxo8ukzy3dzclw1rOq5jMcrgHJPUDNUtA1fUCfCv/AAj2s6lqmp3Qjk1a0u5GeMW7L88nzgBcHpt60Aey0VxNqLzxf4j12K51G6stO0y5FpBDZSmJ3cIrM7sOerYA6d657W5delutX8Owa9dW95pclrPp9+jYLJMxXZMo4fBU/UGgD1eiuBi1abXrKDSPEM1zoviC0mjM1vazmMXC+YFLo38cZB6dR3xWvY6qdP8AHc3hyR2aKaz+22xY5K4ba659M4I+poAzvi9/yIJ/6/rX/wBHLXbr90VxHxe/5EE/9f1r/wCjlrt1+6KAFrkbj/kstn/2BJf/AEctddXI3H/JZbP/ALAkv/o5aAOuoorjtW1uDS/GF8yafcT3kOlrKHWY7HUyYxs5xg8lsdKAOxorG8Na3Nr2mm6nt4IsPtDW9ys8b+6sP64NYsEN14z8PapcR391p0stxNBZy28mxohG5RW/Erk0AdnmivM9DnvNW+H6aDNqOpQ+Io7n7LdSfaD50cqkFn3f3CpDDtgiupj36F4g0qwWeWe3vYXhYzvvcyxruDk+pUNmgDo65Dwv/wAj94y/6+Lb/wBECuvrkPC//I/eMv8Ar4tv/RAoA6+sDx3/AMk88Q/9g24/9FtW/WB47/5J54h/7Btx/wCi2oA0dD/5F/Tv+vWL/wBBFXqo6J/yL+nf9esf/oIrF1PxZdw3l9Ho2kNqUelkC+YTiNlJXftRSPmIUg4460AdRRXJWvjRr28V7ayjOl3Gmm+sr559vn425TbjKkbhzVW58fXVrFHE2is+oxRpNe2kUjOYFbkKrKh3OQM7ePrQB29FczB4qu73xDd6ZYaO8qWVxHHcTNMqhUdNwcA88elOvdUe78c23h+PcsUdob65YHG4btqL+eT+FAHSZozXAfEnxw/hqGKDSbq1+3wkTS20s6o0kZ+QKMnrlg30WpfFmsxa78IrvxBoOpXFuFszdQT2kpRgwHQ/Q8EUAd1RXmfiI6n4F8OWniTTNYvruCF4ftllfzecJkcgHaTyrDORjritfTpV0Px5cx6hq169vq1qLmxiu5y0cZXPmoo7EAofoT6UAdrRXCCC60rQtc8T/br+f793aW91OWSKNBuwF7bsH8CK7OwvI9R063vYM+VcRLKmfRhkfzoA5zwp/wAjV4w/7CUX/pNFXV1ynhT/AJGrxh/2Eov/AEmirq6ACiiigAooooAKKKKACiiigAooooAK4/wh/wAjT4m/6+R/6HJXYVx/hD/kafE3/XyP/Q5KAOm1KC6udOnhsbhba4dCqSvH5gQ+u3IzXM6H4M1DR/ANx4afWluN8UkMNybUKY1fOcruwx5NdhRQBw7+ALy81e3utW1iO5t00xtNmt0tNnmI3Vt244OQK2vDHh670G1MN/rN1qzL8kMlwoUxxjovHU+rdTW9RQBy7aLc2XjLUdSsJRF/a1okRkZN4imjztJHcEMfyrJ0PwFr+iaK+k2/itVtJJJJHeKwVJgXYs21txA6ntXe0tAHD6r4Bvpr7Q5dD1iLTrbQkItIHsxL8xQoSzbhnj9c1vadp+uQW90dR1iG6uZFCwPHa+WkWAedu45OT69q2qKAOV8HeG77wfpd3Bf6sNSieZ7ldtr5bKzks/QnIJPAqz4S0R9Kt9QurkYudUvHvJVznbnAVfwUCuhooA465/5LNYf9geX/ANGLXY1x9z/yWWw/7A8v/oxa7CgArh/hb/yCNb/7Dt5/6MruK4f4W/8AIJ1v/sO3n/oygDY8R+GpdZvdO1CwvzY3+mu7QO0YkQ7l2sGXIzx71nf8INcRalYX9pq2y5ivGvLySS3Dm6dk2Y6jaAuQAPauxooA5O68FSf2vqNxpmptZ2mr/wDIRtTEHEh27SyNkbGK8E81pX3hizvtf0zVXLxy6ejxoiHCyKwHyt6gEAitqigDi9T+H7S+E20PRdTNhE96128jwiU5Mm/aASMAHj6Vd0zwxqNp41udfvtXS5FxaJam3W1CBQpyG3bj3LfnXT0UAcrb6Pc6R4n1qazcRR60qSxy7NwinVdpyPQgKfzpdQ8Hyal4Dk0C5urdrmW38iS9NoOf9vZn73fOevNdTRQBwEPgLxFBeaPeL4qikudJtHtYpJdOB3q+3Jb5+uEWr/8AwhN811c6tJr8za9LALeG9MK+XbJuDFUi6YYjnJyfWuwooA5qy0UeGPDV3b2m67vbySSZ32482eTqcdFGa2dJsF0vRrKwQ5W1gSEH12qB/SrlFAHPaV/yPniH/rhZ/wApa6Gue0r/AJHzxD/1ws/5S10NABRRRQAUUUUAFFFFABRRRQAVi6P/AMh7xB/19xf+k8VbVYujH/if+IP+vuL/ANJ4qAF1/Rr3VpdOeyv0s/sV0Lg74PM8whSuOox941zafDe5ktNUS616QXF3qA1G2uba3Eb2k2MZHJ3DAAwfeu9ooAoaVp8thpyw3l3JfXBGZriQAGRu5wOAPauMk8CXtx4N1DwjbaiLC3e6kkWYwCXfC77woBIwQ2R+FehUlAGPPpGoXPg+XSZdRT7bLbGA3gt+ORjdsz6e9c5/wre4bw7pVt/bjxaxo+FsdVhtwrqg42OuSHUgcg13lFAHJjwjqVnfTalpGtLa6heqn28ta74bh1UL5gj3Da2ABwelQXHgS5+xXLWGsGPVb65iuLu/ntxKZPL5RAuQFUYGAO2fWuzooAx9R8OWurPplxqIV73TZkniuEXadw+8MehHUVTtNIN548m8QygqkNmLK3DDBb5tzt+eB+FdJRQBw/xe/wCRBP8A1/Wv/o5a7dfuiuI+Lv8AyILf9f1r/wCjlrt1+6KAFrkbj/kstn/2BJf/AEctddXI3H/JZbP/ALAkv/o5aAOurkb/AMJ6xc+LLrWrPxALQyWq20US2gbywHDZJLfNkggj0PtXXUUAYfhvw6dCF7NPci4ur6YTTtHH5Ue4DHyoCccdfU1F4W0+TQ0vdKlBKC7muYHxw0cjl8fUFiK6GkxzQBmwaDZ2/iS71qNSLm6hjik9PkLfN9SCB9FFQXNs9/4rsJgp8jTklcuR1kddoA/4CWraoHFABXIeF/8AkfvGX/Xxbf8AogV19ch4X/5H7xl/18W3/ogUAdfWB47/AOSeeIf+wbcf+i2rfrA8d/8AJPPEH/YNuP8A0W1AGjon/Iv6d/16x/8AoIrDvvB1w+uX99pGrSWEeqoq38PlB95C7Q6HI2Nt4zz0HFbmh/8AIv6d/wBesX/oIq9QBz9x4O06a10S2j8yGDRpVeFEP3wFK7G9Qc5I9qrav4PuLzxKutaRrVzpU0qLDexxorpcxr04P3WGSAwrqaKAOa0Pwzf6R4o1fVZtVW4g1IofsotgnlFBtX5skn5etF/pclr45tfEMIJSSzaxuABnaN25Gx3Gcg/WulooA53QvD17p7X8mrahBqkt3P5qyNaBDGOgXqcgDGK5qL4Z6xB4f1rRYfE0aWWrSySNGNPGIN5+YIN/Ar0eigDjm8D3eqtZJ4q1n+0bSxdZIrSC3EEbuv3TJyxbGAcZHNafijwlY+K7azivi8Zs7lLiJ4zhhjqv0I4PtW9RQBkeJbJtQ8MXulwfK97C1svHChhtJ+gBJ/Cr9haR6fp9vZwf6u3iWJPoox/SrFFAHKeFP+Rq8Yf9hKL/ANJoq6uuU8J/8jV4w/7CUX/pNFXV0AFFFFABRRRQAUUUUAFFFFABRRRQAVydtoWvaVrepXmlzadJFfSeYVuVkDIdznt1+8PyrrKKAMH/AIq300X85aP+Kt9NF/OWt6igDB/4q300X85aP+Kt9NF/OWt6igDB/wCKt9NF/OWj/irf+oL+ctb1FAGD/wAVb/1Bfzlo/wCKt/6gv5y1vUUAYP8AxVv/AFBfzlo/4q300X85a3qKAOXs9B1iXxrFrurz2IWGya1WG2V+dzBskt9K6iiigAri9A8OeI/DSahBYz6XPBd3814pmWRWXzG3bTj09a7SjFAGD/xVvpov5y0f8Vb6aL+ctb1FAGD/AMVb6aL+ctH/ABVvpov5y1vUUAYP/FW+mi/nLR/xVvpov5y1vUUAYP8AxVvpov5y0f8AFW+mi/nLW9RQBg/8Vb6aL+ctH/FW+mi/nLW9RQBg/wDFW/8AUF/OWj/irfTRf/Itb1FAGFoel6lbazqWpatJamS8WFFS2DYURhupb13Vu0UUAFFFFABRRRQAUUUUAFFFFABXPPYa9aaxqFzpb6c0F5IkmLkOGUiNUx8vB+7muhooAwf+Kt9NF/OWj/irf+oL+ctb1FAGD/xVv/UF/OWj/irfTRfzlreooAwf+Kt/6gv5y0f8Vb6aL+ctb1FAGD/xVvpov5y0f8Vb6aL+ctb1FAGD/wAVb6aL+ctH/FW+mi/nLW9RQBxXifw54m8U6ONNu59Jt4TPFKzxLIzfI4bAz64rtAMClooAK5nVtD1WTxlba7pE1nmKye0eK6D87nDZBX6V01FAGD/xVv8A1Bfzlo/4q300X85a3qKAMH/irfTRfzlo/wCKt/6gv5y1vUUAYP8AxVvpov5y0f8AFW+mi/nLW9RQBgn/AIS3/qC/nLUfhvQtQ03WNa1LVZrZ5tUlicR2yttjCRhOrdc4roqKACs7xDpj614a1LS45Fie8tZIFkYZCllK5I/GtGigDm7K28WWdhBbA6MwhjWMMfNGcDGf0qb/AIq300X85a3qKAMH/irfTRfzlo/4q3/qC/nLW9RQBg/8Vb6aL+ctH/FW+mi/nLW9RQBxvhzXPFHiPQ4dTgh0eFJWdQjNKSNrlfT2rU/4q300X85azvhd/wAk+sv+us//AKOeuvoAwf8AirfTRfzlo/4q3/qC/nLW9RQBg/8AFW/9QX85aP8AirfTRfzlreooAwPDWi32mXmr3mpzW8k+pXSzlLcMFjAjRMfNyfuZ/Gt+iigAooooAKKKKACiiigAooooAKKKKACiiigAooooAKKKKACiiigAooooAKKKKACiiigAooooAKKKKACiiigAooooAKKKKACiiigAooooAKKKKACiiigAooooAKKKKACiiigAooooAKKKKACiiigAooooAKKKKACiiigAooooAKKKKACiiigAooooAKKKKACiiigAooooAKKKKACiiigAooozQByHwu/5J9Zf9dZ//Rz119cj8L/+SfWWOnmz/wDo5666gAooooAKKKKACiiigAooooAKKKKACiiigAooooAKKKKACiiigAooooAKKKKACiiigAooooAKKKKACiiigAooooAKKKKACiiigAooooAKKKKACiiigAooooAKKKKACiiigAooooAKKKKACiiigAooooAKKKKACiiigAooooAKKKKACiiigAooooAKKKKACiiigAooooAKKKKACiiigAooooAKKKzPEGvWnhvR5NSv1leJGVNkKb3ZmIVQB3JJFAGnRXIf8LAA/wCZX8Sf+C4/40f8LAH/AEK/iT/wXH/GgDr68p+PV34l0fwrbaz4W1K6s1tZdt2IGwCjDhj9Dj866f8A4WAP+hX8Sf8AguP+NZ3iHxPb+IPDd/pNz4W8SGO8gaI/8S48ZHB6+uKAPLv2d9Z8T6z4slgudTupdGsbZ3eFm+TzHbj8eWP4V9I14b8Gnk8CeEpob/wxr7X93O0krRWBZdo4UA59O3vXof8AwsBf+hX8Sf8AguP+NAHX0VyH/CwB/wBCv4k/8Fx/xo/4WAv/AEK/iT/wXH/GgDr6K5nSPHFpq2uJpL6bqmn3UkTTIt9amIOq4zg59xXTUAFFFFABRRRQAUUUUAFFFFABRRRQAUUUUAFFFFABRRRQAUUUUAFFFFABRRRQAUUUUAFFFFABRRRQAUUUUAFFFFABRRRQAUUUUAFFFFABRRRQAUUUUAFFFFABRRRQAUUUUAFFFFABRRRQAUUUUAFFFFABRRRQAUUUUAFFFFABRRRQAUUUUAFFFFABRRRQAUUUUAFFFFABRRRQAVx/xP8A+ROX/sIWf/o9K7CuQ+J3/InL/wBhC0/9HpQB19FFY2u+I7fQ/sysouJZ7qK3MSSKHTzG2hyD2FAGzRUQuoDcm3E8ZnA3GLeNwHrjrTJdQsoJvKnu4I5ODseVQeenBNAFiiqeqanb6RYtdXZbYCFAQZJJ7AVz+q+PbTQNbsbDXNPvLKC+YJDfuEMAc9FYhsqeccjFAHWUVhy+IJk8Tf2NHo15IfJ84XQaMQ7c4/vbuvHStDTNTt9VtPtFqTgO0bqwwyOpwVI7EGgDmtS/5LFon/YMuf8A0Ja7GuO1L/ksWif9gy5/9CWuxoAKKKKACiiigAooooAKKKKACiiigAooooAKKKKACiiigAooooAKKKKACiiigAooooAKKKKACiiigAooooAKKKKACiiigAooooAKKKKACiiigAooooAKKKKACiiigAooooAKKKKACiiigAooooAKKKKACiiigAooooAKKKKACiiigAooooAKKKKACiiigAooooAKKKKACiiigArkPid/yJy/9hC0/wDR6V19cf8AE/8A5E5f+whZ/wDo9KAOtl3CF/L+/tO364rxiJtLvfC+l3N8qf8ACTQa7CL0v/x8JJ55GG/i2Y6dsV7VTPJj3l/LXcepwMmgDxmD7PeeELBrUbPHFvqKCbtciTzvn3dzGUJ68YxVi7g8P6n8RobXU7nSVu7LVmuDPdSKLibK8QbGGcDIwemAMc1695MYk8zYu/puxz+dc9a+DYba+ld7+6uLN5DKLOcq6qxbcfnI3EZPQnAoAXxVhbjRPM/1H25vM9P+PeXH64qt4ml0O98QWGia3cWjC8hlQ2k0gDSBhgYHXPoa6O9sLfUbU295CssTEEq3tRBZRxRoHHnNHwryAFsduaAOL8JXGqQ+NLjRtcgfztN08Rw3p5W7h8z5Hz2bAAYev1q/4K3/ANteLevk/wBsHy/T/Ux7sfjn8c11UsfmIyhihYY3L1FMtLOCxtxDaxiNMknHViepPqT60AcrqX/JYtE/7Blz/wChLXY1x2pf8li0T/sGXP8A6EtdjQAUUUUAFFFFABRRRQAUUUUAFFFFABRRRQAUUUUAFFFFABRRRQAUUUUAFFFFABRRRQAUUUUAFFFFABRRRQAUUUUAFFFFABRRRQAUUUUAFFFFABRRRQAUUUUAFFFFABRRRQAUUUUAFFFFABRRRQAUUUUAFFFFABRRRQAUUUUAFFFFABRRRQAUUUUAFFFFABRRRQAUUUUAFFFFABXG/FOWODwQZZnVI4760Z2Y4CgToSTXZVHPbw3ULRXMSTRt95JFDKfwNAGL/wAJz4V7+ItM/wDApP8AGj/hOvCv/QxaZ/4FJ/jV3/hH9G/6BNj/AOAyf4VU1Ow8PaTps99eaZYJFCuSfsyZPoo45JOAB3JoAafHPhYDnxDpg/7ek/xo/wCE68K/9DFpn/gUn+NY3gzwTBa2tzqniDS7L+1dUk86eLyEK2y/wRLx/COp7mun/wCEf0b/AKBFj/4DJ/hQBR/4Trwr/wBDFpn/AIFJ/jR/wnXhX/oYtM/8Ck/xq9/wj+jf9Aix/wDAZP8ACmS+G9EmieKTR7Ao6lWH2ZOQfwoAqHxz4VBwfEWmf+BSf40f8J14V/6GLTP/AAKT/GsDwla6baXD+F9d0qyTUbIMLR3t0/022U4WRTjkgYDDrkZ711n9gaMf+YTY/wDgMn+FAHI/23pes/GDRzpOoW16I9MuN/2eUPt+ZeuK7+qltpdhZSb7Oxtrd8Y3RQqh/MCrdABRRRQAUUUUAFFFFABRRRQAUUUUAFFFFABRRRQAUUUUAFFFFABRRRQAUUUUAFFFFABRRRQAUUUUAFFFFABRRRQAUUUUAFFFFABRRRQAUUUUAFFFFABRRRQAUUUUAFFFFABRRRQAUUUUAFFFFABRRRQAUUUUAFFFFABRRRQAUUUUAFFFFABRRRQAUUUUAFFFFABRRRQAUUUUAFFFFABmuEmY+OfHCQRknQfD84eVh927vF5VfdY+p/2vpWp4yutSmSz0LQZTBfam5V7kdbWBRmSQe/IUe7CtrSNIstD0uHT9MhENvEOFHJJPJYnqSTySepoAu4ooooAKKKKAOb8Z+HptZ0yK60p1g1nTZPtFhMePnHVD/ssMg/WrnhbxDB4m0GK/hQxSZMVxbt96CVeGQ+4P6YrYPSuL1u5HgzxPBrCQrHo+qSCDU2UYEU5wI5z9fuMf930oA7SikBz0paACiiigAooooAKKKKACiiigAooooAKKKKACiiigAooooAKKKKACiiigAooooAKKKKACiiigAooooAKKKKACiiigAooooAKKKKACiiigAooooAKKKKACiiigAooooAKKKKACiiigAooooAKKKKACiiigAooooAKKKKACiiigAooooAKKKKACiiigAooooAKKKKACiiigAooooAK4TWvi94X8P+K73QNXmlt7i0hEvmFcpISu7YCD97BHBx1ru6+OvGOjav8AEH4269a+H7ZrqVrwx7hwkaphNzHoB8tAH034TsL67vrrxRrX7u51KJFtrTOfsluOVQnuxJ3MRxnA7V1Vcp8O/CN34L8KxabqOrT6nPnczSNlYv8AYTPO0e/6V1dABRSUtABRRRQAVW1HT7XVdNuLDUIVmtrmMxyxsOGUjBFWaKAPM38cQfC/T5dH8ZzyXH2SAyaddIMvexA4EeO0i8Ak8Ec5616BpOpwazo9pqVmcwXUSyxn2YZr5x+OPww8QwahdeKYr2fV9O+9IsrZktFz0A6bB6jpXpnwB1z+1/hXawO+6XTpGtWHoByv6EUAenUUUUAFFFFABRRRQAUUUUAFFFFABRRRQAUUUUAFFFFABRRRQAUUUUAFFFFABRRRQAUUUUAFFFFABRRRQAUUUUAFFFFABRRRQAUUUUAFFFFABRRRQAUUUUAFFFFABRRRQAUUUUAFFFFABRRRQAUUUUAFFFFABRRRQAUUUUAFFFFABRRRQAUUUUAFFFFAHkHh7wTf+LrS71W48ZeILRnv7hBDb3bBECyEAAE9MVrf8Kjuf+h98T/+BhrY+GP/ACKk/wD2Erv/ANGtXY0Aebf8Kjuf+h98T/8AgYaP+FR3P/Q++J//AAMNek0UAebf8Kjuf+h98T/+Bho/4VHc/wDQ++J//Aw16TRQB5t/wqO67ePfE2f+vw1U0/4IJpcLR2HjLxBbh2LyeTcbN7HqTjqa9UooA82/4VHc/wDQ+eJ//Aw0f8Kjuf8AoffE/wD4GGvSaKAPJ73wjfeDta0C9i8W65qAn1KO3kgvLpmjZWDZyM89K9YrjviB/rvDP/Yah/8AQWrsaACvOPFej3nif4kwaTHr2p6TbxaYbj/QJ2Te3mAc84r0euO/5rQP+wKf/RooAx/+FR3P/Q++J/8AwMNH/Co7n/offE//AIGGvSaKAPNW+EVwylW8d+JmBGCDeHBqjp3wJg0iaZtL8X69ZrOQ0iQTiMM3qduMmvWKKAPNv+FR3P8A0Pvif/wMNH/Co7n/AKH3xP8A+Bhr0migDzb/AIVHc/8AQ++J/wDwMNH/AAqO5/6H3xP/AOBhr0migDzb/hUdz/0Pvif/AMDDR/wqO5/6H3xP/wCBhr0migDyseFb7wd4z8NSp4q1rU4729eCWC9uWdCvlO2cZ9QK9Urj/Gf/ACNPgz/sKP8A+iJK7CgAooooAKKKKACiiigAooooAKKKKACiiigAooooAKKKKACiiigAooooAKKKKACiiigAooooAKKKKACiiigAooooAKKKKACiiigAooooAKKKKACiiigAooooAKKKKACiiigAooooAKKKKACiiigAooooAKKKKACiiigAooooA474Y/8AIpz/APYSu/8A0a1Wtc8Sz2fiSDQobK4P2mxnuPtiY2x7AMdTnqR29Kq/DH/kU5/+wld/+jWq34h0PUrzWrfU9Ja2MkVlcWjR3JYA+ZtIOQD0KfrQBj+BvGwudC8O2msm7e91K2ZkvJY8RzSLksufXAz0rZ0rx1pOra+dIiMkdwyGS3ZypW4QdWUqT7cHB9q5aw8E+KLex8I2s/8AZLJoMjecRNJ+9RlK8fLwcMfyrovC2ha/pcgg1e60+SztB5dq1rAVllQDCmQnjIHXHU80Aat3ezTeIodKt2Mai2NzPIvUDdtRR9TuP/Aa4zQp/GGr6z4ltY/EyB9IvPIt1ksY9kuUDDfjnHOOK6u4SSz8aJebf3N3Y/Z95OFWRHLKD9Q7flXNaP4f8a6VquvXMP8AYyf21deeJfNkY2/yBQdpUBsAZxkc0AZOq+PdavfBdpq9nfpo15b6qul6lB5Kyor79rMC3QY5FdXp0Ws31rdR2Hi+O+BKKt0LWPdAc5bAHDZHrWHqnw81W18K6fovh6aznaPUF1G8u752R55g+8nCg9T+Qrr9HHiJ76WXXIdOt4QgCR2cjSF29WLKMACgDmdBk8VXvivWLGXxIZoNJuYYyjWcaecjoGbJHIPPGK6TRdZaXXtT0K7k33VgElRz1khfO0/UYINZ3hXRNd03xRr+o6z9gFvqckcka20jsyFF24OQBggZqTRNMabx7rXiLpDPBDZwf7YjyWb8zj8KAIfiB/rvDP8A2Gof/QWrsa4/4gf63w1/2Gof/QWrsKACuOP/ACWhf+wIf/Rorsa47/mtA/7Ah/8ARooA0fHV1c2PgbVrqwuHtriG3Lxyx9VIqvc+NLLSJtOtNSjuf9JWGNroJ+7WSThVJzkkn0Bx3qz410vUda8I32maP9mFzdp5e65Zgig9T8oJzXNat4I13V7cGWewWcPZSoW3MIjC2WjXjhTjdnrknNAG7e+M/sOrx2M2haqfOn8iKZUj2yH1Ub9xHXJxwBUdn4+tb3w/earFpepKLS5+yvavEqzF8gYC7vU+tU4dI8VJ4wudWvI9JmjciKCUzybrW343BU24LHkk59BUemWem678Qpdc0LUBc2Kwj7UkJ3RSXKkqrZ/vKuQfwoA3te11tOTTbaBcXuqXCwQq/VONzMR/sgGofF+q6nofhstoVuL7Uv8AllHIfvheXJ/AH8SKh8X6ZNLqGhazArP/AGTeeZKg6mN1KMfwzmi40B/EHiKabxFY6ZfaPHCFsVfLurE5ZiCMDIx0/uigA1DXZNW+G0+u+Hr4Wsn2JrqKTyw+0qpYoyn3GD6Vj6xfeKvCnhseIjqq63awRrNeWk1qkT+WcZMbL3Gc4PpVKx8GeKNIsvE2l6VFo8WlaqZDZ2xmkH2Xeu1ui4wfvYHfNaeoeHPE3ifRU0PXJdP07TGCJc/YXeWS4jGMoCwAQHHJ5oAjv9a1e9+Ifh+00rWTBpOq2L3bRC2Rmwm04DHkbtw+mK6HRtZaTxBqWg3cm+6sVSVHI5kifO0/UEEGqdv4Xuf+E0t9WupLdLTTLd7awihB3eW4XO/PGRtOMdRSaLpjT/EDWfEXSCW3isoD/fCElm+mTj8KAIvGf/I0+DP+wo//AKIkrsK4/wAZ/wDI0+DP+wo//oiSuwoAKKKKACiiigAooooAKKKKACiiigAooooAKKKKACiiigAooooAKKKKACiiigAooooAKKKKACiiigAooooAKKKKACiiigAooooAKKKKACiiigAooooAKKKKACiiigAooooAKKKKACiiigAooooAKKKKACiiigAooooAKKKKAOO+GH/Ipz/9hK6/9GtXY1574ZfxT4Z0+409vCFxeA3k8yTxX9uquryFhwzgjg1sf8JJ4m/6EW8/8GNr/wDF0AdVRXK/8JJ4m/6EW8/8GNr/APF0f8JJ4m/6EW8/8GNr/wDF0AdSyq4w6hh7ilFcr/wknib/AKEW8/8ABja//F0f8JJ4m/6EW8/8GNr/APF0AdVRXK/8JJ4m/wChFvP/AAY2v/xdH/CSeJv+hFvP/Bja/wDxdAHUkZyCMigAKoAGABgAdq5b/hJPE3/Qi3n/AIMbX/4uj/hJPE3/AEIt5/4MbX/4ugCD4gf67wz/ANhqH/0F67GuA1g+JvEeoaJHJ4Vn0+G01GO5mnlvYHCooPZXJPWu/oAK47/mtC/9gU/+jRXY1xWs2+u2HxDj1vTNCk1W2OnG1YRXMUTK28N0dhkYoA7WiuV/4STxN/0It5/4MbX/AOLo/wCEk8Tf9CLef+DG1/8Ai6AOqIyMHmora1gs4vKtII4I8ltkaBRk9TgVzX/CSeJv+hFvP/Bja/8AxdH/AAknib/oRbz/AMGNr/8AF0AdUeetIqhF2qMAdAK5b/hJPE3/AEIt5/4MbX/4uj/hJPE3/Qi3n/gxtf8A4ugDqqK5X/hJPE3/AEIt5/4MbX/4uj/hJPE3/Qi3n/gxtf8A4ugDqSMjBoVQqgKMAdAO1ct/wknib/oRbz/wY2v/AMXR/wAJJ4m/6EW8/wDBja//ABdAEPjP/kafBn/YUf8A9ESV2FcHeDxJ4g8T+HZrjwxNptrp141xNNNeQScGJlAARiTy1d5QAUUUUAFFFFABRRRQAUUUUAFFFFABRRRQAUUUUAFFFFABRRRQAUUUUAFFFFABRRRQAUUUUAFFFFABRRRQAUUUUAFFFFABRRRQAUUUUAFFFFABRRRQAUUUUAFFFFABRRRQAUUUUAFFFFABRRRQAUUUUAFFFFABRRRQAUUUUAFFFFABRRRQAUUUUAFFFFABRRRQAUUUUAFFFFABRRRQAUUUUAFFFFABRRRQAUUUUAFFFFABRRRQAUUUUAFcV8VPGGoeCfCC6no62kt5JdR28UN1GzrIWPQbWUg4BP4V2teWfFiyuvEPirwhoyafqM2nRagLq/uLe1mZIwoG0F0XgnLcg8e1G8kvND2TfkzpNQ1fxDo2+XUb/QPI+wSOHnRrVUufl8tWdpW+U/P2z8ta8HiC0tNIsJvEGpaZZ3NzCrnF0ojdiuT5ZYgsvofSuJ+JXhe4XwjJpeiWupX663qlst63mSXDwwjbuOWJO35B3wNxrlvFms29h8QNWuZ7e/sLE6Qml3WoQ2Qv4bYHll3Iw8pgCAQd2TztAxkvp/Xa/wCbSC239dbf5s9mHiLRGuIoBrFgZpn2Rxi6Tc7egGck+1Pl1zSYFnabVLKNbZ9k5e4QCJvRueDx0NeWJpMn/CceDv8AhHtOu9Q0HRtEaXT7zZ+6llkAVS78AHaA3r6CsWDQPElz8GL3TP7Gv49Y8R6xvvHlgIKb5cs7L/CgRF5PHzYp26f1vb/NiXd/1pf/ACPcU1XT5ElaO+tmWBQ8pWZSI1IyC3PAI5BNOsdRstTt/P028t7yHcV8y3lWRcjqMg4zXmXjvwo+mS+Hv7C0qR9OOoxzay9namaWcov7t5EXmQBsk9ecGu18J6NDpFnezxx3Ylv7prmea8YGWZiANxUABBgYCgcADPOaFZ3f9dP6+X3LXT+u/wDXzKt/40ez+JGm+Ek04TPfQPcNcifHkxqDyV285IwOa6iWQQwvIwJCKWIUZPHtXmnh+C61L4965rd5p+oQWkGnxWVhNcWUsaSj7zkMygcEEfjXc2Wmaha6rcXd1r13e28m7y7KSGBY4snIwyoHOBxyx96X2V8/zdvwG/ify/LU41PH3jf+0rSC4+Gz28F3OsSTSa1FkA/xFAhPC5JHbBr0auN8IT6tfw6t4k8QadcwXjTSxWVjIhV4rdPuqoP8TkZJ7/L2Arf8Oapda14ftNQ1DS59JuJ1LPZ3By8XJAB4HbnoOtPp/XUHv/XQl1u+OmaDfX6vHGbW3ebdIpZRtUnkAjPT1FcWvizxTZfDe08Y6mmmTxfZUvLuwhtpInEbYJ2SGRhkKc4K89Mir/xXe7k+HeoWGm2l3dXOoKtsFtbaSYqjMA7EIDgBSTzVPxQlx4n8Lf8ACIeG7G9ijuUS2ub26s5LeK2gGNxHmKpdiowAoPXnFSr628v+D+g9Lq/n+n/BOul1/Sbe0tbm81K1tYrtA8BuJlj8wEAjG4jPUUTeItFtprmK41iwiktE8y4SS6RTCv8AecE/KPc154mhz3XiDxDo+r2uqG1uHht7WK3tCIrizSNQENyVKou7eWUFW64znFQwzrN4/wDFmrWunXeoXdqItK0u3itZGhDpHklpMeWuGcjJIwM+vLf931/r70hK9tf6/rVnpk2t6VbadHf3Gp2cVnKAY7l7hVjcEZGGJweKRte0hLiK3fVbJZpojNFGbhAzxgZLgZyVxzkcV5hp3hzUvD+sW2jXx1M2kGiRWlrcafZGYPIzMZ1EhUpCWO3lscAcjFaq+GW/4Tm2lXS54tI8L6KsdlbAMyzTvyVUn/WbQijv8xHem7K/bX8L/wCS+8Fd/h+Nv8/wO9g1nTLrSzqVrqNpNYAEm6jnVogBwfnBxx9a5nRvEMus/EnUoNN1iK90Sz0+J2SHynRZ5Gbo6jPCpnGf4vpXHaHYaklr4Tt9Y0XUmsme51K9iFq7Ga9Yh0WRcfIoZ3wXwMoD6UyW28T3PhnxTcXOk3kd5qGtR/aljt3Ym0R0TbGvDSjy1JO3ghuOcgFrS/r0/W/yTDp/Xr+n42PUv+En0AWs9ydc03yLchZpftce2InoGOcDp3qxb6xpl1fNZWuo2k12kYla3jnVpFQ9GKg5wfWvN/EmgTav4dvItKttTkuvEVxa2M17cWxiaO2ViW/dbQYo1XcPmAJLc54yzWdL1eDXPEn/AAj2lXiSWGhCx0uUIQrFwXkdXP33LbRwScgk+6/r8L/5fj2Df+vO3+f9M9G/4SHRTLcRDV7DzLYbp0+0pmIZxlhn5eeOasR6lYzPbpFe27tdRmW3VZVJmQYJZefmHI5HHIrm9H07SdU0aOG30OW3ig077Gk97ZtBIFIG6MLIobGQCTjBOMZ7ZHwpsZL7w3ousX8LI1jpo0+08xcEqCPMk+jFFA9lz3qratdv+D/wPvFe6v8A10/4P3Ha3+u6Tpc8cOp6pZWcsgykdxcJGzjOMgEjPJA/Gq48W+HDvxr+l/u0Ej/6bH8qk4DHngZIGfWvLfE2oWknivxQNQmu7DQtWjhsbjVU09rqEhAVdVmVsQnLFSGVgCCfYdTY+HV1H4gazqt5p7T2en2EGn6bHcxkxz4UyM67uG5YKG/3qlbXf9f1oU97f10/4P3HXX/iPRNKm8rVNY0+ykKhtlxdJGcE4BwxHGaWfxFotrNcRXOsWEMlrGJJ0kukUwp/eYE/KOepryUWut3PhHQ7V9D1J5tU1VLrxBNJaOskjqxk8vBGQgKIm84QDbg4zjX1LTNVn1Lxr4nGmXT3wgTS9Ig8liThMGVRjkb5G+boAG7ZoaaX3/p+rt+IK1/67/5K56LHruky3lvaRapZPc3UXnQQrcIXmTGd6rnLLjuOKibxRoCo7trmmhUmEDMbuPCyHoh54b261w2n+Gn0Hxh4U0q3066msdG055WuxESklwwEZZnxjKoGwOvzKAMDjHXwpqWo+EZfPsr2LUfFuuebeM0TB7K18zfg8fJ8kSjnGSwHYVVlfTb/AINv8ybu2v8AWl/6+49ag1bTrrUJ7G1v7Wa8tgDPbxzK0kQPTcoOR+NQN4j0RNRGnvrGnretJ5YtjdIJC+M7duc5x2rzrU7fWbDVvGN5oGjXqT2mlx2GltHA2NoG9mj4+di0h4XJzHzyRmS0sLuPxl4TsbHRb2PQdLtZLiKSS3ZTLcEBDJKWHyHDu2GwxOeORSWtv67/AKL7/Qb0T/rt+rPQbfxHol3OsNrrGnzSvK0Cxx3SMzSKMlAAfvAckdcVha/rV3Y/EHQ7OPVBaac1rc3eoJIsYTy4wFUl2GV+Zx3H3ar/AA88P+Xa32vaxYsmp6nqU92ouosSW6FiiKAwyvyAenWs/UEnT4r6lrN7pGpXUdlp0VtpaRWrvHPKSXY7gNq4LINzEDqc/Lwtmv66f5j7/wBdf8juhrOmHSRqg1G0Onld4u/PXyivrvzjH40y31/R7uznu7TVrGe2tm2zzRXKMkRxnDMDgHBHWvNtI8P6poWs6Fp2p6dcX8VhYTXsawRM1u+oSyktufG1disdpbHUkZPFQaXaX938PJIdf03WbTUNX1OS8lvbaydmtbhX3xs0WC5QbI1+6QfpzTdtf662/wA/w7i8v62v/l+PY9T/ALa0o6YNRGp2f2FjgXX2hfKPOPv5x1460Sa1pUWmx6jLqdmljLjy7prhRE+emGzg5rzYR68Nb8PXGs2NzpqNpkryNpWnGcR30jjexUKwjcrzuYEDcwJ60+x0y70XxPJHa6DeummaUn9iwSI0kQmkLtPI8oBQSZ2g85wTtBzSeiv6/hf/AC/EP6++3+f5nT+B9XvNcuvEF1LqQv8ATY9Ra3091WPAREXcQyAbhuJGTn7tbj6/o8dxPbyatYpNbrvmja5QNEvqwzkDkda5z4aRXun/AA4tjqFhdR3xElxPHNH5ckszkyP8rYI+Ziozjp6YNZfhPSZLu81eGXTrj+xrqB57c6pZmK4tJp2JngBYAsuQGyMjOBk0S93Tsv0/UI2evd/hf+v6R3Mmt6VDFFLNqdnHHNEZona4UCSMYy4OeV5HI45FNg8QaNdT20Ftq9jNLdRmW3jjuUZpkHVkAPzD3FeV6Hb6pc/CGLVraxuJdRt9G/snTI1iLPliEeXA/hJC89ghPQ1r2HhmTQfF3hXSrbTrq4sdF02SU3QjJSS4YCMln6ZCBsL1+ZQBgcU0k2v66/pb77C1t/Xl+rf3HYaL4x0fX9S1O0026ilOnSCORxKpD/KCzLg8qMgE9M5HarVr4m0K9mkista064kjjMjpFdo5RAcFiAeBnjNeX2trqsvgfTLS+0fU47fVdbe41oC0kMhR3eQoYwN2zIjQtjBGe3Na2k3uo2njjxDq2teHNSMOy3sLKG3szIEgA3cY4bLP8xXKrtOTwMq39fJfqxv+vv8A8kegRa1pc5tRBqVnIbzd9m2TqfP2/e2YPzYwc46YrP1jxhpGia5p2kXtzGt3qDMEUyKvlqFJ3vkjAOMD1JxXNfDrTJ9H1DVdO1DRJYJo7ySeC6KFokgk+dY0kPBwzupVfQk4zzdmW8k+MP2qXTruS1stKEVvOIj5W6Ry0h3dCQI0G0c/N0xk0dV/XS//AAA6P+utv+CdHa+ItEv5Y4rHWNPuZJXaONIbpHLsoyygA8kDkjtUtprOl37zpY6laXLW/wDrlhnVzF1+9g8dD19DXlq+GdSg+EupanFpk51/Vrp7udDAWuYYpZvnRF+8D5RPyjBJJ7mp/EOkTT6T/aemWeqXInuLO3u5JLBkcWSOWaOO1Cq+wHGQRlgT1Ao8n5f16f8ABD08z02w1bTtVWRtLv7W9WJtsht5lkCHGcHaTg4qFPEOiyQ3kser2Dx2JxdutyhFufRzn5fxxWf4W02CGW/1RUvGuNQdDJc30flSSqq4UCLCmNVyQAQG6k+p831Gz1m60XW0bRtRH9peJVk1NvskhYWaSoqiNQCZQUQElMjBPfij7Vv63S/UOl/62f8Akeqar4g03TrO7MmrabbTwRB/9LuVRIy2fLL85Ckg898HFZkfjOzsr7RdG1m8sm1jUIPMk+ySgQoQoORuO7DEgKOpzXOeNNEu7rSdRvY7C6km165tLGWOCEvJBZI+WLAZxkFyfTcAehq4j38fxJ1PUpNGvfLstGigtdsJKc7pJArAYZtwjTauTntilsrv+rK/6oN9F/WqX+ZZ8IeJ2ll1Ztf1yBopNYlstLW4MULSLHhSq4A3nfu9TxXR+JNSfRvDGpanG8aNZ2zzhpULr8qk8gEE9PUV5bpvhbUdO8N+DtNvNNvbme9vv7T1VxETsdSZUhc9EHmODzgfK3c89f8AFgXV34FuNJ0+2vJ5tSlitm+y20kpjjaRfMY7VOAFz1olF8vL12/JX++44tc1+m/4v9CvY+MddtNR8KReIU0+SPxFbsxW1geJ7WRYvMOdztuXHHbHvV/Q/EOs+MLSfVNAaxstK8x4rR7u3eZ7racGT5ZECKSCAPmJHPHSp38FWU8Zunubu6vlsZLS0nu2H+io64O1FVQD0ySN3HWsbw1qF54W+HFlog0TUZdbsbf7KltHaSGKSUZw3nbfLCHruLd/XinJrW3y/H8tPvJjey/H+vP9PMk/4WQs/hPSdQjihtLrUdR/sxzcMWhtZgWDFiCNwyhwMjORyK6rSZNY+0XkWsi1dI3X7PcW0bRiVSuTlSzYweM559q4nR/D0fhvwpY+FPFGlSatp91byTXtxDaPcKbpn3FSEBYDk4bHYcg1ufDnTL7SPDk9reNdG0W8lOmx3ZPnRWuR5atnkd8A8gEA46Uaa/15f8Fd0D6f13d/u0fmaGk+MNI1rXtS0rT7qOWbTiokYSKQ5IyQuDkhcjJ6AnFXLPxFomo3htNP1iwurkKzGGC6R3wDgnaDnAPBry5YNYm8FzRXGk6pCus+IWk1YrayeaLdpWyoQDeV2JGpYDGGOO9WLqW+j8R+KL7UtGuLO0g0lNO0qIDyRtdSdqSY2mRnKKAucEAduZ6X/q9r/m7feVb3rf1vb/gno0PifQbm5+z2+t6bLPv2eUl3GzbskYwDnOQRj2NWbHVdO1Pzf7Nv7W88ltsv2eZZPLPXBweD9a8j8NXVmY7dNWh1R9U0bRTZx6LHpT2k/kOUSWRQXbzSMD7hHsMkV2/w6sLyw0m5gvoS0dvKLaxvZrYwXFzaoo8vzFIDZUllGQM4zjnm7LX+utv6+fYm/wDXyv8A1/wTsKKKKkYUUUUAFFFFABRRRQAUUUUAFFFFABRRRQAUUUUAFFFFABRRRQAUUUUAFFFFABRRRQAUUUUAFcy3gXTwNUhtry+trLVpHlvbKJ08uVnGHOWUsu4ddrCiigLnQWdpBYWUNpZxLDbwRrHFGo4RQMAD8Kmooo3DYKKKKACiiigAooooAKKKKACszQtCtvD9lNbWck0onuZbqSSZgWZ5HLN0A45wPYCiigDTooooAKKKKACiiigDP1fSTqyW6jUb6xEMm9vscgTzRggo2Qcrz2wc4IIxVyCCK1t44LeNY4olCIijAVQMACiigDnT4FsTY3OnLfXy6TdSPJLpoMZhO9izrkpvCliTgN34wOK6VVCKFQAKowAOwoooDrcWiiigAooooAKKKKACiiigAooooAKKKKACs/V9JOrJbqNRvrEQyb2+xyBPNGCCjZByvPbBzggjFFFAFyCCK1t44LeNY4olCIijAVQMACpKKKACiiigAooooAKKKKACiiigAooooAKKKKACiiigAooooAKz9b0W117Tvsd75ihZEmjkiba8UiMGV1PqCAeQR6g0UUAQWXh2K21ZdUu7y51G+SEwRz3QjBjQkFgBGijkqCSRniteiigAooooAKKKKACiiigAooooAKKKKACiiigAooooAKKKKACiiigAooooAKKKKAP/2Q==)\n",
        "\n",
        "Dependency tree is a *directed acyclic graph* (DAG).\n",
        "> * Every node in the tree has at most one incoming edge, except the root node.\n",
        "> * by nature dependency trees *do not depict the order of the words in the sentence but emphasize more the relationship between the words in the sentence.*\n",
        "\n",
        "\n",
        "\n"
      ]
    },
    {
      "cell_type": "markdown",
      "metadata": {
        "id": "KXY0gw102oDL"
      },
      "source": [
        "#### Constituency Grammars\n",
        "Each and every word usually belongs to a specific\n",
        "lexical category in the case and forms the head word of different phrases. These phrases are formed based on rules called phrase structure rules . Hence, constituency grammars are also called phrase structure grammars."
      ]
    },
    {
      "cell_type": "code",
      "metadata": {
        "id": "iC9sIsa0WSO0"
      },
      "source": [
        ""
      ],
      "execution_count": null,
      "outputs": []
    },
    {
      "cell_type": "code",
      "metadata": {
        "id": "XAaMwKZQWSTO"
      },
      "source": [
        ""
      ],
      "execution_count": null,
      "outputs": []
    },
    {
      "cell_type": "code",
      "metadata": {
        "id": "F-QTqd2sWSU2"
      },
      "source": [
        ""
      ],
      "execution_count": null,
      "outputs": []
    },
    {
      "cell_type": "code",
      "metadata": {
        "id": "JvTxyv9-WSW6"
      },
      "source": [
        ""
      ],
      "execution_count": null,
      "outputs": []
    },
    {
      "cell_type": "code",
      "metadata": {
        "id": "MAdcGde8WSZe"
      },
      "source": [
        ""
      ],
      "execution_count": null,
      "outputs": []
    },
    {
      "cell_type": "code",
      "metadata": {
        "id": "6rh07TVMWSec"
      },
      "source": [
        ""
      ],
      "execution_count": null,
      "outputs": []
    },
    {
      "cell_type": "code",
      "metadata": {
        "id": "jzdwrMHcWShU"
      },
      "source": [
        ""
      ],
      "execution_count": null,
      "outputs": []
    },
    {
      "cell_type": "code",
      "metadata": {
        "id": "DJEbhnOJWSjt"
      },
      "source": [
        ""
      ],
      "execution_count": null,
      "outputs": []
    },
    {
      "cell_type": "code",
      "metadata": {
        "id": "p9AFVQiJWSms"
      },
      "source": [
        ""
      ],
      "execution_count": null,
      "outputs": []
    },
    {
      "cell_type": "code",
      "metadata": {
        "id": "VBWXp5p4WSo9"
      },
      "source": [
        ""
      ],
      "execution_count": null,
      "outputs": []
    },
    {
      "cell_type": "code",
      "metadata": {
        "id": "rLEy3m3tWSuM"
      },
      "source": [
        ""
      ],
      "execution_count": null,
      "outputs": []
    }
  ]
}