{
  "nbformat": 4,
  "nbformat_minor": 0,
  "metadata": {
    "colab": {
      "name": "NLP: Text Syntax and Structure.ipynb",
      "provenance": [],
      "collapsed_sections": [],
      "authorship_tag": "ABX9TyPigdb1QKfu2P5IeRtwwIPR",
      "include_colab_link": true
    },
    "kernelspec": {
      "name": "python3",
      "display_name": "Python 3"
    },
    "language_info": {
      "name": "python"
    }
  },
  "cells": [
    {
      "cell_type": "markdown",
      "metadata": {
        "id": "view-in-github",
        "colab_type": "text"
      },
      "source": [
        "<a href=\"https://colab.research.google.com/github/bjohn22/Natural-Language-Processing/blob/main/NLP_Text_Syntax_and_Structure.ipynb\" target=\"_parent\"><img src=\"https://colab.research.google.com/assets/colab-badge.svg\" alt=\"Open In Colab\"/></a>"
      ]
    },
    {
      "cell_type": "markdown",
      "metadata": {
        "id": "8UW2eSMdlTFl"
      },
      "source": [
        "Exploring text syntax and structure is usually done after text processing and normalization.\n",
        "Techniques include:\n",
        "* Parts of speech (POS) tagging\n",
        "* Shallow parsing\n",
        "* Dependency-based parsing\n",
        "* Constituency-based parsing"
      ]
    },
    {
      "cell_type": "markdown",
      "metadata": {
        "id": "72qOetLqRZHf"
      },
      "source": [
        "Installing Dependencies"
      ]
    },
    {
      "cell_type": "code",
      "metadata": {
        "id": "IgUBI1AVRXCE",
        "colab": {
          "base_uri": "https://localhost:8080/"
        },
        "outputId": "9de53e9a-f018-49b8-8035-57900349c3c8"
      },
      "source": [
        "import nltk\n",
        "nltk.download('punkt')\n",
        "\n"
      ],
      "execution_count": null,
      "outputs": [
        {
          "output_type": "stream",
          "text": [
            "[nltk_data] Downloading package punkt to /root/nltk_data...\n",
            "[nltk_data]   Unzipping tokenizers/punkt.zip.\n"
          ],
          "name": "stdout"
        },
        {
          "output_type": "execute_result",
          "data": {
            "text/plain": [
              "True"
            ]
          },
          "metadata": {
            "tags": []
          },
          "execution_count": 1
        }
      ]
    },
    {
      "cell_type": "code",
      "metadata": {
        "id": "9kW4kErSsFXj"
      },
      "source": [
        ""
      ],
      "execution_count": null,
      "outputs": []
    },
    {
      "cell_type": "code",
      "metadata": {
        "colab": {
          "base_uri": "https://localhost:8080/"
        },
        "id": "zdAweQR0RXJt",
        "outputId": "e38a5537-fe9a-489b-d4d0-adc040019619"
      },
      "source": [
        "# download all dependencies and corpora\n",
        "nltk.download('all', halt_on_error=False)"
      ],
      "execution_count": null,
      "outputs": [
        {
          "output_type": "stream",
          "text": [
            "[nltk_data] Downloading collection 'all'\n",
            "[nltk_data]    | \n",
            "[nltk_data]    | Downloading package abc to /root/nltk_data...\n",
            "[nltk_data]    |   Unzipping corpora/abc.zip.\n",
            "[nltk_data]    | Downloading package alpino to /root/nltk_data...\n",
            "[nltk_data]    |   Unzipping corpora/alpino.zip.\n",
            "[nltk_data]    | Downloading package biocreative_ppi to\n",
            "[nltk_data]    |     /root/nltk_data...\n",
            "[nltk_data]    |   Unzipping corpora/biocreative_ppi.zip.\n",
            "[nltk_data]    | Downloading package brown to /root/nltk_data...\n",
            "[nltk_data]    |   Unzipping corpora/brown.zip.\n",
            "[nltk_data]    | Downloading package brown_tei to /root/nltk_data...\n",
            "[nltk_data]    |   Unzipping corpora/brown_tei.zip.\n",
            "[nltk_data]    | Downloading package cess_cat to /root/nltk_data...\n",
            "[nltk_data]    |   Unzipping corpora/cess_cat.zip.\n",
            "[nltk_data]    | Downloading package cess_esp to /root/nltk_data...\n",
            "[nltk_data]    |   Unzipping corpora/cess_esp.zip.\n",
            "[nltk_data]    | Downloading package chat80 to /root/nltk_data...\n",
            "[nltk_data]    |   Unzipping corpora/chat80.zip.\n",
            "[nltk_data]    | Downloading package city_database to\n",
            "[nltk_data]    |     /root/nltk_data...\n",
            "[nltk_data]    |   Unzipping corpora/city_database.zip.\n",
            "[nltk_data]    | Downloading package cmudict to /root/nltk_data...\n",
            "[nltk_data]    |   Unzipping corpora/cmudict.zip.\n",
            "[nltk_data]    | Downloading package comparative_sentences to\n",
            "[nltk_data]    |     /root/nltk_data...\n",
            "[nltk_data]    |   Unzipping corpora/comparative_sentences.zip.\n",
            "[nltk_data]    | Downloading package comtrans to /root/nltk_data...\n",
            "[nltk_data]    | Downloading package conll2000 to /root/nltk_data...\n",
            "[nltk_data]    |   Unzipping corpora/conll2000.zip.\n",
            "[nltk_data]    | Downloading package conll2002 to /root/nltk_data...\n",
            "[nltk_data]    |   Unzipping corpora/conll2002.zip.\n",
            "[nltk_data]    | Downloading package conll2007 to /root/nltk_data...\n",
            "[nltk_data]    | Downloading package crubadan to /root/nltk_data...\n",
            "[nltk_data]    |   Unzipping corpora/crubadan.zip.\n",
            "[nltk_data]    | Downloading package dependency_treebank to\n",
            "[nltk_data]    |     /root/nltk_data...\n",
            "[nltk_data]    |   Unzipping corpora/dependency_treebank.zip.\n",
            "[nltk_data]    | Downloading package dolch to /root/nltk_data...\n",
            "[nltk_data]    |   Unzipping corpora/dolch.zip.\n",
            "[nltk_data]    | Downloading package europarl_raw to\n",
            "[nltk_data]    |     /root/nltk_data...\n",
            "[nltk_data]    |   Unzipping corpora/europarl_raw.zip.\n",
            "[nltk_data]    | Downloading package floresta to /root/nltk_data...\n",
            "[nltk_data]    |   Unzipping corpora/floresta.zip.\n",
            "[nltk_data]    | Downloading package framenet_v15 to\n",
            "[nltk_data]    |     /root/nltk_data...\n",
            "[nltk_data]    |   Unzipping corpora/framenet_v15.zip.\n",
            "[nltk_data]    | Downloading package framenet_v17 to\n",
            "[nltk_data]    |     /root/nltk_data...\n",
            "[nltk_data]    |   Unzipping corpora/framenet_v17.zip.\n",
            "[nltk_data]    | Downloading package gazetteers to /root/nltk_data...\n",
            "[nltk_data]    |   Unzipping corpora/gazetteers.zip.\n",
            "[nltk_data]    | Downloading package genesis to /root/nltk_data...\n",
            "[nltk_data]    |   Unzipping corpora/genesis.zip.\n",
            "[nltk_data]    | Downloading package gutenberg to /root/nltk_data...\n",
            "[nltk_data]    |   Unzipping corpora/gutenberg.zip.\n",
            "[nltk_data]    | Downloading package ieer to /root/nltk_data...\n",
            "[nltk_data]    |   Unzipping corpora/ieer.zip.\n",
            "[nltk_data]    | Downloading package inaugural to /root/nltk_data...\n",
            "[nltk_data]    |   Unzipping corpora/inaugural.zip.\n",
            "[nltk_data]    | Downloading package indian to /root/nltk_data...\n",
            "[nltk_data]    |   Unzipping corpora/indian.zip.\n",
            "[nltk_data]    | Downloading package jeita to /root/nltk_data...\n",
            "[nltk_data]    | Downloading package kimmo to /root/nltk_data...\n",
            "[nltk_data]    |   Unzipping corpora/kimmo.zip.\n",
            "[nltk_data]    | Downloading package knbc to /root/nltk_data...\n",
            "[nltk_data]    | Downloading package lin_thesaurus to\n",
            "[nltk_data]    |     /root/nltk_data...\n",
            "[nltk_data]    |   Unzipping corpora/lin_thesaurus.zip.\n",
            "[nltk_data]    | Downloading package mac_morpho to /root/nltk_data...\n",
            "[nltk_data]    |   Unzipping corpora/mac_morpho.zip.\n",
            "[nltk_data]    | Downloading package machado to /root/nltk_data...\n",
            "[nltk_data]    | Downloading package masc_tagged to /root/nltk_data...\n",
            "[nltk_data]    | Downloading package moses_sample to\n",
            "[nltk_data]    |     /root/nltk_data...\n",
            "[nltk_data]    |   Unzipping models/moses_sample.zip.\n",
            "[nltk_data]    | Downloading package movie_reviews to\n",
            "[nltk_data]    |     /root/nltk_data...\n",
            "[nltk_data]    |   Unzipping corpora/movie_reviews.zip.\n",
            "[nltk_data]    | Downloading package names to /root/nltk_data...\n",
            "[nltk_data]    |   Unzipping corpora/names.zip.\n",
            "[nltk_data]    | Downloading package nombank.1.0 to /root/nltk_data...\n",
            "[nltk_data]    | Downloading package nps_chat to /root/nltk_data...\n",
            "[nltk_data]    |   Unzipping corpora/nps_chat.zip.\n",
            "[nltk_data]    | Downloading package omw to /root/nltk_data...\n",
            "[nltk_data]    |   Unzipping corpora/omw.zip.\n",
            "[nltk_data]    | Downloading package opinion_lexicon to\n",
            "[nltk_data]    |     /root/nltk_data...\n",
            "[nltk_data]    |   Unzipping corpora/opinion_lexicon.zip.\n",
            "[nltk_data]    | Downloading package paradigms to /root/nltk_data...\n",
            "[nltk_data]    |   Unzipping corpora/paradigms.zip.\n",
            "[nltk_data]    | Downloading package pil to /root/nltk_data...\n",
            "[nltk_data]    |   Unzipping corpora/pil.zip.\n",
            "[nltk_data]    | Downloading package pl196x to /root/nltk_data...\n",
            "[nltk_data]    |   Unzipping corpora/pl196x.zip.\n",
            "[nltk_data]    | Downloading package ppattach to /root/nltk_data...\n",
            "[nltk_data]    |   Unzipping corpora/ppattach.zip.\n",
            "[nltk_data]    | Downloading package problem_reports to\n",
            "[nltk_data]    |     /root/nltk_data...\n",
            "[nltk_data]    |   Unzipping corpora/problem_reports.zip.\n",
            "[nltk_data]    | Downloading package propbank to /root/nltk_data...\n",
            "[nltk_data]    | Downloading package ptb to /root/nltk_data...\n",
            "[nltk_data]    |   Unzipping corpora/ptb.zip.\n",
            "[nltk_data]    | Downloading package product_reviews_1 to\n",
            "[nltk_data]    |     /root/nltk_data...\n",
            "[nltk_data]    |   Unzipping corpora/product_reviews_1.zip.\n",
            "[nltk_data]    | Downloading package product_reviews_2 to\n",
            "[nltk_data]    |     /root/nltk_data...\n",
            "[nltk_data]    |   Unzipping corpora/product_reviews_2.zip.\n",
            "[nltk_data]    | Downloading package pros_cons to /root/nltk_data...\n",
            "[nltk_data]    |   Unzipping corpora/pros_cons.zip.\n",
            "[nltk_data]    | Downloading package qc to /root/nltk_data...\n",
            "[nltk_data]    |   Unzipping corpora/qc.zip.\n",
            "[nltk_data]    | Downloading package reuters to /root/nltk_data...\n",
            "[nltk_data]    | Downloading package rte to /root/nltk_data...\n",
            "[nltk_data]    |   Unzipping corpora/rte.zip.\n",
            "[nltk_data]    | Downloading package semcor to /root/nltk_data...\n",
            "[nltk_data]    | Downloading package senseval to /root/nltk_data...\n",
            "[nltk_data]    |   Unzipping corpora/senseval.zip.\n",
            "[nltk_data]    | Downloading package sentiwordnet to\n",
            "[nltk_data]    |     /root/nltk_data...\n",
            "[nltk_data]    |   Unzipping corpora/sentiwordnet.zip.\n",
            "[nltk_data]    | Downloading package sentence_polarity to\n",
            "[nltk_data]    |     /root/nltk_data...\n",
            "[nltk_data]    |   Unzipping corpora/sentence_polarity.zip.\n",
            "[nltk_data]    | Downloading package shakespeare to /root/nltk_data...\n",
            "[nltk_data]    |   Unzipping corpora/shakespeare.zip.\n",
            "[nltk_data]    | Downloading package sinica_treebank to\n",
            "[nltk_data]    |     /root/nltk_data...\n",
            "[nltk_data]    |   Unzipping corpora/sinica_treebank.zip.\n",
            "[nltk_data]    | Downloading package smultron to /root/nltk_data...\n",
            "[nltk_data]    |   Unzipping corpora/smultron.zip.\n",
            "[nltk_data]    | Downloading package state_union to /root/nltk_data...\n",
            "[nltk_data]    |   Unzipping corpora/state_union.zip.\n",
            "[nltk_data]    | Downloading package stopwords to /root/nltk_data...\n",
            "[nltk_data]    |   Unzipping corpora/stopwords.zip.\n",
            "[nltk_data]    | Downloading package subjectivity to\n",
            "[nltk_data]    |     /root/nltk_data...\n",
            "[nltk_data]    |   Unzipping corpora/subjectivity.zip.\n",
            "[nltk_data]    | Downloading package swadesh to /root/nltk_data...\n",
            "[nltk_data]    |   Unzipping corpora/swadesh.zip.\n",
            "[nltk_data]    | Downloading package switchboard to /root/nltk_data...\n",
            "[nltk_data]    |   Unzipping corpora/switchboard.zip.\n",
            "[nltk_data]    | Downloading package timit to /root/nltk_data...\n",
            "[nltk_data]    |   Unzipping corpora/timit.zip.\n",
            "[nltk_data]    | Downloading package toolbox to /root/nltk_data...\n",
            "[nltk_data]    |   Unzipping corpora/toolbox.zip.\n",
            "[nltk_data]    | Downloading package treebank to /root/nltk_data...\n",
            "[nltk_data]    |   Unzipping corpora/treebank.zip.\n",
            "[nltk_data]    | Downloading package twitter_samples to\n",
            "[nltk_data]    |     /root/nltk_data...\n",
            "[nltk_data]    |   Unzipping corpora/twitter_samples.zip.\n",
            "[nltk_data]    | Downloading package udhr to /root/nltk_data...\n",
            "[nltk_data]    |   Unzipping corpora/udhr.zip.\n",
            "[nltk_data]    | Downloading package udhr2 to /root/nltk_data...\n",
            "[nltk_data]    |   Unzipping corpora/udhr2.zip.\n",
            "[nltk_data]    | Downloading package unicode_samples to\n",
            "[nltk_data]    |     /root/nltk_data...\n",
            "[nltk_data]    |   Unzipping corpora/unicode_samples.zip.\n",
            "[nltk_data]    | Downloading package universal_treebanks_v20 to\n",
            "[nltk_data]    |     /root/nltk_data...\n",
            "[nltk_data]    | Downloading package verbnet to /root/nltk_data...\n",
            "[nltk_data]    |   Unzipping corpora/verbnet.zip.\n",
            "[nltk_data]    | Downloading package verbnet3 to /root/nltk_data...\n",
            "[nltk_data]    |   Unzipping corpora/verbnet3.zip.\n",
            "[nltk_data]    | Downloading package webtext to /root/nltk_data...\n",
            "[nltk_data]    |   Unzipping corpora/webtext.zip.\n",
            "[nltk_data]    | Downloading package wordnet to /root/nltk_data...\n",
            "[nltk_data]    |   Unzipping corpora/wordnet.zip.\n",
            "[nltk_data]    | Downloading package wordnet_ic to /root/nltk_data...\n",
            "[nltk_data]    |   Unzipping corpora/wordnet_ic.zip.\n",
            "[nltk_data]    | Downloading package words to /root/nltk_data...\n",
            "[nltk_data]    |   Unzipping corpora/words.zip.\n",
            "[nltk_data]    | Downloading package ycoe to /root/nltk_data...\n",
            "[nltk_data]    |   Unzipping corpora/ycoe.zip.\n",
            "[nltk_data]    | Downloading package rslp to /root/nltk_data...\n",
            "[nltk_data]    |   Unzipping stemmers/rslp.zip.\n",
            "[nltk_data]    | Downloading package maxent_treebank_pos_tagger to\n",
            "[nltk_data]    |     /root/nltk_data...\n",
            "[nltk_data]    |   Unzipping taggers/maxent_treebank_pos_tagger.zip.\n",
            "[nltk_data]    | Downloading package universal_tagset to\n",
            "[nltk_data]    |     /root/nltk_data...\n",
            "[nltk_data]    |   Unzipping taggers/universal_tagset.zip.\n",
            "[nltk_data]    | Downloading package maxent_ne_chunker to\n",
            "[nltk_data]    |     /root/nltk_data...\n",
            "[nltk_data]    |   Unzipping chunkers/maxent_ne_chunker.zip.\n",
            "[nltk_data]    | Downloading package punkt to /root/nltk_data...\n",
            "[nltk_data]    |   Package punkt is already up-to-date!\n",
            "[nltk_data]    | Downloading package book_grammars to\n",
            "[nltk_data]    |     /root/nltk_data...\n",
            "[nltk_data]    |   Unzipping grammars/book_grammars.zip.\n",
            "[nltk_data]    | Downloading package sample_grammars to\n",
            "[nltk_data]    |     /root/nltk_data...\n",
            "[nltk_data]    |   Unzipping grammars/sample_grammars.zip.\n",
            "[nltk_data]    | Downloading package spanish_grammars to\n",
            "[nltk_data]    |     /root/nltk_data...\n",
            "[nltk_data]    |   Unzipping grammars/spanish_grammars.zip.\n",
            "[nltk_data]    | Downloading package basque_grammars to\n",
            "[nltk_data]    |     /root/nltk_data...\n",
            "[nltk_data]    |   Unzipping grammars/basque_grammars.zip.\n",
            "[nltk_data]    | Downloading package large_grammars to\n",
            "[nltk_data]    |     /root/nltk_data...\n",
            "[nltk_data]    |   Unzipping grammars/large_grammars.zip.\n",
            "[nltk_data]    | Downloading package tagsets to /root/nltk_data...\n",
            "[nltk_data]    |   Unzipping help/tagsets.zip.\n",
            "[nltk_data]    | Downloading package snowball_data to\n",
            "[nltk_data]    |     /root/nltk_data...\n",
            "[nltk_data]    | Downloading package bllip_wsj_no_aux to\n",
            "[nltk_data]    |     /root/nltk_data...\n",
            "[nltk_data]    |   Unzipping models/bllip_wsj_no_aux.zip.\n",
            "[nltk_data]    | Downloading package word2vec_sample to\n",
            "[nltk_data]    |     /root/nltk_data...\n",
            "[nltk_data]    |   Unzipping models/word2vec_sample.zip.\n",
            "[nltk_data]    | Downloading package panlex_swadesh to\n",
            "[nltk_data]    |     /root/nltk_data...\n",
            "[nltk_data]    | Downloading package mte_teip5 to /root/nltk_data...\n",
            "[nltk_data]    |   Unzipping corpora/mte_teip5.zip.\n",
            "[nltk_data]    | Downloading package averaged_perceptron_tagger to\n",
            "[nltk_data]    |     /root/nltk_data...\n",
            "[nltk_data]    |   Unzipping taggers/averaged_perceptron_tagger.zip.\n",
            "[nltk_data]    | Downloading package averaged_perceptron_tagger_ru to\n",
            "[nltk_data]    |     /root/nltk_data...\n",
            "[nltk_data]    |   Unzipping\n",
            "[nltk_data]    |       taggers/averaged_perceptron_tagger_ru.zip.\n",
            "[nltk_data]    | Downloading package perluniprops to\n",
            "[nltk_data]    |     /root/nltk_data...\n",
            "[nltk_data]    |   Unzipping misc/perluniprops.zip.\n",
            "[nltk_data]    | Downloading package nonbreaking_prefixes to\n",
            "[nltk_data]    |     /root/nltk_data...\n",
            "[nltk_data]    |   Unzipping corpora/nonbreaking_prefixes.zip.\n",
            "[nltk_data]    | Downloading package vader_lexicon to\n",
            "[nltk_data]    |     /root/nltk_data...\n",
            "[nltk_data]    | Downloading package porter_test to /root/nltk_data...\n",
            "[nltk_data]    |   Unzipping stemmers/porter_test.zip.\n",
            "[nltk_data]    | Downloading package wmt15_eval to /root/nltk_data...\n",
            "[nltk_data]    |   Unzipping models/wmt15_eval.zip.\n",
            "[nltk_data]    | Downloading package mwa_ppdb to /root/nltk_data...\n",
            "[nltk_data]    |   Unzipping misc/mwa_ppdb.zip.\n",
            "[nltk_data]    | \n",
            "[nltk_data]  Done downloading collection all\n"
          ],
          "name": "stdout"
        },
        {
          "output_type": "execute_result",
          "data": {
            "text/plain": [
              "True"
            ]
          },
          "metadata": {
            "tags": []
          },
          "execution_count": 2
        }
      ]
    },
    {
      "cell_type": "code",
      "metadata": {
        "colab": {
          "base_uri": "https://localhost:8080/"
        },
        "id": "_VufOaDtRXNH",
        "outputId": "8ee3b3ee-4da7-46ba-c5db-f395f8260096"
      },
      "source": [
        "!pip install pattern"
      ],
      "execution_count": null,
      "outputs": [
        {
          "output_type": "stream",
          "text": [
            "Collecting pattern\n",
            "\u001b[?25l  Downloading https://files.pythonhosted.org/packages/1e/07/b0e61b6c818ed4b6145fe01d1c341223aa6cfbc3928538ad1f2b890924a3/Pattern-3.6.0.tar.gz (22.2MB)\n",
            "\u001b[K     |████████████████████████████████| 22.3MB 1.4MB/s \n",
            "\u001b[?25hRequirement already satisfied: future in /usr/local/lib/python3.7/dist-packages (from pattern) (0.16.0)\n",
            "Collecting backports.csv\n",
            "  Downloading https://files.pythonhosted.org/packages/8e/26/a6bd68f13e0f38fbb643d6e497fc3462be83a0b6c4d43425c78bb51a7291/backports.csv-1.0.7-py2.py3-none-any.whl\n",
            "Collecting mysqlclient\n",
            "\u001b[?25l  Downloading https://files.pythonhosted.org/packages/3c/df/59cd2fa5e48d0804d213bdcb1acb4d08c403b61c7ff7ed4dd4a6a2deb3f7/mysqlclient-2.0.3.tar.gz (88kB)\n",
            "\u001b[K     |████████████████████████████████| 92kB 8.6MB/s \n",
            "\u001b[?25hRequirement already satisfied: beautifulsoup4 in /usr/local/lib/python3.7/dist-packages (from pattern) (4.6.3)\n",
            "Requirement already satisfied: lxml in /usr/local/lib/python3.7/dist-packages (from pattern) (4.2.6)\n",
            "Collecting feedparser\n",
            "\u001b[?25l  Downloading https://files.pythonhosted.org/packages/1c/21/faf1bac028662cc8adb2b5ef7a6f3999a765baa2835331df365289b0ca56/feedparser-6.0.2-py3-none-any.whl (80kB)\n",
            "\u001b[K     |████████████████████████████████| 81kB 7.9MB/s \n",
            "\u001b[?25hCollecting pdfminer.six\n",
            "\u001b[?25l  Downloading https://files.pythonhosted.org/packages/93/f3/4fec7dabe8802ebec46141345bf714cd1fc7d93cb74ddde917e4b6d97d88/pdfminer.six-20201018-py3-none-any.whl (5.6MB)\n",
            "\u001b[K     |████████████████████████████████| 5.6MB 50.6MB/s \n",
            "\u001b[?25hRequirement already satisfied: numpy in /usr/local/lib/python3.7/dist-packages (from pattern) (1.19.5)\n",
            "Requirement already satisfied: scipy in /usr/local/lib/python3.7/dist-packages (from pattern) (1.4.1)\n",
            "Requirement already satisfied: nltk in /usr/local/lib/python3.7/dist-packages (from pattern) (3.2.5)\n",
            "Collecting python-docx\n",
            "\u001b[?25l  Downloading https://files.pythonhosted.org/packages/e4/83/c66a1934ed5ed8ab1dbb9931f1779079f8bca0f6bbc5793c06c4b5e7d671/python-docx-0.8.10.tar.gz (5.5MB)\n",
            "\u001b[K     |████████████████████████████████| 5.5MB 46.8MB/s \n",
            "\u001b[?25hCollecting cherrypy\n",
            "\u001b[?25l  Downloading https://files.pythonhosted.org/packages/a8/f9/e11f893dcabe6bc222a1442bf5e14f0322a2d363c92910ed41947078a35a/CherryPy-18.6.0-py2.py3-none-any.whl (419kB)\n",
            "\u001b[K     |████████████████████████████████| 419kB 32.8MB/s \n",
            "\u001b[?25hRequirement already satisfied: requests in /usr/local/lib/python3.7/dist-packages (from pattern) (2.23.0)\n",
            "Collecting sgmllib3k\n",
            "  Downloading https://files.pythonhosted.org/packages/9e/bd/3704a8c3e0942d711c1299ebf7b9091930adae6675d7c8f476a7ce48653c/sgmllib3k-1.0.0.tar.gz\n",
            "Collecting cryptography\n",
            "\u001b[?25l  Downloading https://files.pythonhosted.org/packages/b2/26/7af637e6a7e87258b963f1731c5982fb31cd507f0d90d91836e446955d02/cryptography-3.4.7-cp36-abi3-manylinux2014_x86_64.whl (3.2MB)\n",
            "\u001b[K     |████████████████████████████████| 3.2MB 47.4MB/s \n",
            "\u001b[?25hRequirement already satisfied: chardet; python_version > \"3.0\" in /usr/local/lib/python3.7/dist-packages (from pdfminer.six->pattern) (3.0.4)\n",
            "Requirement already satisfied: sortedcontainers in /usr/local/lib/python3.7/dist-packages (from pdfminer.six->pattern) (2.3.0)\n",
            "Requirement already satisfied: six in /usr/local/lib/python3.7/dist-packages (from nltk->pattern) (1.15.0)\n",
            "Requirement already satisfied: more-itertools in /usr/local/lib/python3.7/dist-packages (from cherrypy->pattern) (8.7.0)\n",
            "Collecting jaraco.collections\n",
            "  Downloading https://files.pythonhosted.org/packages/d5/1a/a0d6861d2aca6df92643c755966c8a60e40353e4c5e7a5c2f4e5ed733817/jaraco.collections-3.3.0-py3-none-any.whl\n",
            "Collecting cheroot>=8.2.1\n",
            "\u001b[?25l  Downloading https://files.pythonhosted.org/packages/46/95/86fe6480af78fea7b0e7e1bf02e6acd4cb9e561ea200bd6d6e1398fe5426/cheroot-8.5.2-py2.py3-none-any.whl (97kB)\n",
            "\u001b[K     |████████████████████████████████| 102kB 8.3MB/s \n",
            "\u001b[?25hCollecting zc.lockfile\n",
            "  Downloading https://files.pythonhosted.org/packages/6c/2a/268389776288f0f26c7272c70c36c96dcc0bdb88ab6216ea18e19df1fadd/zc.lockfile-2.0-py2.py3-none-any.whl\n",
            "Collecting portend>=2.1.1\n",
            "  Downloading https://files.pythonhosted.org/packages/b8/a1/fd29409cced540facdd29abb986d988cb1f22c8170d10022ea73af77fa55/portend-2.7.1-py3-none-any.whl\n",
            "Requirement already satisfied: idna<3,>=2.5 in /usr/local/lib/python3.7/dist-packages (from requests->pattern) (2.10)\n",
            "Requirement already satisfied: certifi>=2017.4.17 in /usr/local/lib/python3.7/dist-packages (from requests->pattern) (2020.12.5)\n",
            "Requirement already satisfied: urllib3!=1.25.0,!=1.25.1,<1.26,>=1.21.1 in /usr/local/lib/python3.7/dist-packages (from requests->pattern) (1.24.3)\n",
            "Requirement already satisfied: cffi>=1.12 in /usr/local/lib/python3.7/dist-packages (from cryptography->pdfminer.six->pattern) (1.14.5)\n",
            "Collecting jaraco.text\n",
            "  Downloading https://files.pythonhosted.org/packages/c1/74/2a3c4835c079df16db8a9c50263eebb0125849fee5b16de353a059b7545d/jaraco.text-3.5.0-py3-none-any.whl\n",
            "Collecting jaraco.classes\n",
            "  Downloading https://files.pythonhosted.org/packages/b8/74/bee5fc11594974746535117546404678fc7b899476e769c3c55bc0cfaa02/jaraco.classes-3.2.1-py3-none-any.whl\n",
            "Collecting jaraco.functools\n",
            "  Downloading https://files.pythonhosted.org/packages/b5/da/e51e7b58c8fe132990edd1e3ef25bcd9801eb7f91d0f642ac7f8d97e4a36/jaraco.functools-3.3.0-py3-none-any.whl\n",
            "Requirement already satisfied: setuptools in /usr/local/lib/python3.7/dist-packages (from zc.lockfile->cherrypy->pattern) (54.2.0)\n",
            "Collecting tempora>=1.8\n",
            "  Downloading https://files.pythonhosted.org/packages/44/83/4d5c3de53bbc463f30ab6764e27bc2e8ed9b59736e8b40d95403ff802008/tempora-4.0.2-py3-none-any.whl\n",
            "Requirement already satisfied: pycparser in /usr/local/lib/python3.7/dist-packages (from cffi>=1.12->cryptography->pdfminer.six->pattern) (2.20)\n",
            "Requirement already satisfied: pytz in /usr/local/lib/python3.7/dist-packages (from tempora>=1.8->portend>=2.1.1->cherrypy->pattern) (2018.9)\n",
            "Building wheels for collected packages: pattern, mysqlclient, python-docx, sgmllib3k\n",
            "  Building wheel for pattern (setup.py) ... \u001b[?25l\u001b[?25hdone\n",
            "  Created wheel for pattern: filename=Pattern-3.6-cp37-none-any.whl size=22332724 sha256=22d65d5ec62ed005ea6e8c9af27f75b6619a64ec190d8ed7782a28e8dbeab8df\n",
            "  Stored in directory: /root/.cache/pip/wheels/dc/9a/0e/5fb1a603ed4e3aa8722a88e9cf4a82da7d1b63e3d2cc34bee5\n",
            "  Building wheel for mysqlclient (setup.py) ... \u001b[?25l\u001b[?25hdone\n",
            "  Created wheel for mysqlclient: filename=mysqlclient-2.0.3-cp37-cp37m-linux_x86_64.whl size=100105 sha256=91647a986e092c6379dc84fa9aecb5f5b48a4daca1f5ac0e41ddefc7a5c30f75\n",
            "  Stored in directory: /root/.cache/pip/wheels/75/ca/e8/ad4e7ce3df18bcd91c7d84dd28c7c08db491a2a2360efed363\n",
            "  Building wheel for python-docx (setup.py) ... \u001b[?25l\u001b[?25hdone\n",
            "  Created wheel for python-docx: filename=python_docx-0.8.10-cp37-none-any.whl size=184491 sha256=ff462ce08cd7931e810eb909f217a9e28a92f2020b0caaf6142c0b212499702d\n",
            "  Stored in directory: /root/.cache/pip/wheels/18/0b/a0/1dd62ff812c857c9e487f27d80d53d2b40531bec1acecfa47b\n",
            "  Building wheel for sgmllib3k (setup.py) ... \u001b[?25l\u001b[?25hdone\n",
            "  Created wheel for sgmllib3k: filename=sgmllib3k-1.0.0-cp37-none-any.whl size=6067 sha256=ff860f5518ee1a57aaf021d537e277c3e62c3e5b59549cc79c139cfbaa4c95d4\n",
            "  Stored in directory: /root/.cache/pip/wheels/f1/80/5a/444ba08a550cdd241bd9baf8bae44be750efe370adb944506a\n",
            "Successfully built pattern mysqlclient python-docx sgmllib3k\n",
            "Installing collected packages: backports.csv, mysqlclient, sgmllib3k, feedparser, cryptography, pdfminer.six, python-docx, jaraco.functools, jaraco.text, jaraco.classes, jaraco.collections, cheroot, zc.lockfile, tempora, portend, cherrypy, pattern\n",
            "Successfully installed backports.csv-1.0.7 cheroot-8.5.2 cherrypy-18.6.0 cryptography-3.4.7 feedparser-6.0.2 jaraco.classes-3.2.1 jaraco.collections-3.3.0 jaraco.functools-3.3.0 jaraco.text-3.5.0 mysqlclient-2.0.3 pattern-3.6 pdfminer.six-20201018 portend-2.7.1 python-docx-0.8.10 sgmllib3k-1.0.0 tempora-4.0.2 zc.lockfile-2.0\n"
          ],
          "name": "stdout"
        }
      ]
    },
    {
      "cell_type": "code",
      "metadata": {
        "colab": {
          "base_uri": "https://localhost:8080/"
        },
        "id": "kZ2Z84WuRXP8",
        "outputId": "ce84e5b6-4c94-4397-e8bc-77e25c10047a"
      },
      "source": [
        "!pip install spacy"
      ],
      "execution_count": null,
      "outputs": [
        {
          "output_type": "stream",
          "text": [
            "Requirement already satisfied: spacy in /usr/local/lib/python3.7/dist-packages (2.2.4)\n",
            "Requirement already satisfied: murmurhash<1.1.0,>=0.28.0 in /usr/local/lib/python3.7/dist-packages (from spacy) (1.0.5)\n",
            "Requirement already satisfied: srsly<1.1.0,>=1.0.2 in /usr/local/lib/python3.7/dist-packages (from spacy) (1.0.5)\n",
            "Requirement already satisfied: wasabi<1.1.0,>=0.4.0 in /usr/local/lib/python3.7/dist-packages (from spacy) (0.8.2)\n",
            "Requirement already satisfied: plac<1.2.0,>=0.9.6 in /usr/local/lib/python3.7/dist-packages (from spacy) (1.1.3)\n",
            "Requirement already satisfied: catalogue<1.1.0,>=0.0.7 in /usr/local/lib/python3.7/dist-packages (from spacy) (1.0.0)\n",
            "Requirement already satisfied: setuptools in /usr/local/lib/python3.7/dist-packages (from spacy) (54.2.0)\n",
            "Requirement already satisfied: numpy>=1.15.0 in /usr/local/lib/python3.7/dist-packages (from spacy) (1.19.5)\n",
            "Requirement already satisfied: requests<3.0.0,>=2.13.0 in /usr/local/lib/python3.7/dist-packages (from spacy) (2.23.0)\n",
            "Requirement already satisfied: preshed<3.1.0,>=3.0.2 in /usr/local/lib/python3.7/dist-packages (from spacy) (3.0.5)\n",
            "Requirement already satisfied: cymem<2.1.0,>=2.0.2 in /usr/local/lib/python3.7/dist-packages (from spacy) (2.0.5)\n",
            "Requirement already satisfied: tqdm<5.0.0,>=4.38.0 in /usr/local/lib/python3.7/dist-packages (from spacy) (4.41.1)\n",
            "Requirement already satisfied: blis<0.5.0,>=0.4.0 in /usr/local/lib/python3.7/dist-packages (from spacy) (0.4.1)\n",
            "Requirement already satisfied: thinc==7.4.0 in /usr/local/lib/python3.7/dist-packages (from spacy) (7.4.0)\n",
            "Requirement already satisfied: importlib-metadata>=0.20; python_version < \"3.8\" in /usr/local/lib/python3.7/dist-packages (from catalogue<1.1.0,>=0.0.7->spacy) (3.10.1)\n",
            "Requirement already satisfied: chardet<4,>=3.0.2 in /usr/local/lib/python3.7/dist-packages (from requests<3.0.0,>=2.13.0->spacy) (3.0.4)\n",
            "Requirement already satisfied: idna<3,>=2.5 in /usr/local/lib/python3.7/dist-packages (from requests<3.0.0,>=2.13.0->spacy) (2.10)\n",
            "Requirement already satisfied: certifi>=2017.4.17 in /usr/local/lib/python3.7/dist-packages (from requests<3.0.0,>=2.13.0->spacy) (2020.12.5)\n",
            "Requirement already satisfied: urllib3!=1.25.0,!=1.25.1,<1.26,>=1.21.1 in /usr/local/lib/python3.7/dist-packages (from requests<3.0.0,>=2.13.0->spacy) (1.24.3)\n",
            "Requirement already satisfied: zipp>=0.5 in /usr/local/lib/python3.7/dist-packages (from importlib-metadata>=0.20; python_version < \"3.8\"->catalogue<1.1.0,>=0.0.7->spacy) (3.4.1)\n",
            "Requirement already satisfied: typing-extensions>=3.6.4; python_version < \"3.8\" in /usr/local/lib/python3.7/dist-packages (from importlib-metadata>=0.20; python_version < \"3.8\"->catalogue<1.1.0,>=0.0.7->spacy) (3.7.4.3)\n"
          ],
          "name": "stdout"
        }
      ]
    },
    {
      "cell_type": "code",
      "metadata": {
        "colab": {
          "base_uri": "https://localhost:8080/"
        },
        "id": "ajJ10TbkRXVb",
        "outputId": "04fde832-8540-4b88-a294-8d46b6a1f352"
      },
      "source": [
        "import spacy.cli\n",
        "spacy.cli.download(\"en_core_web_sm\")"
      ],
      "execution_count": null,
      "outputs": [
        {
          "output_type": "stream",
          "text": [
            "\u001b[38;5;2m✔ Download and installation successful\u001b[0m\n",
            "You can now load the model via spacy.load('en_core_web_sm')\n"
          ],
          "name": "stdout"
        }
      ]
    },
    {
      "cell_type": "code",
      "metadata": {
        "id": "1ydcI3kuRXbn"
      },
      "source": [
        "import graphviz"
      ],
      "execution_count": null,
      "outputs": []
    },
    {
      "cell_type": "markdown",
      "metadata": {
        "id": "OEpjCP32VDLo"
      },
      "source": [
        "While the Stanza library implements accurate neural network modules for basic functionalities such as part-of-speech tagging and dependency parsing, the Stanford CoreNLP Java library has been developed for years and offers more complementary features such as coreference resolution and relation extraction. To unlock these features, the Stanza library also offers an officially maintained Python interface to the CoreNLP Java library. This interface allows you to get NLP anntotations from CoreNLP by writing native Python code.\n",
        "\n",
        "This tutorial walks you through the installation, setup and basic usage of this Python CoreNLP interface. If you want to learn how to use the neural network components in Stanza, please refer to other tutorials."
      ]
    },
    {
      "cell_type": "code",
      "metadata": {
        "colab": {
          "base_uri": "https://localhost:8080/"
        },
        "id": "_Rie8uiJRXez",
        "outputId": "7ed3d3d6-1a85-4d82-85bd-22a38d0bb002"
      },
      "source": [
        "# Install stanza; note that the prefix \"!\" is not needed if you are running in a terminal\n",
        "!pip install stanza\n",
        "\n",
        "import stanza\n"
      ],
      "execution_count": null,
      "outputs": [
        {
          "output_type": "stream",
          "text": [
            "Collecting stanza\n",
            "\u001b[?25l  Downloading https://files.pythonhosted.org/packages/50/ae/a70a58ce6b4e2daad538688806ee0f238dbe601954582a74ea57cde6c532/stanza-1.2-py3-none-any.whl (282kB)\n",
            "\r\u001b[K     |█▏                              | 10kB 13.8MB/s eta 0:00:01\r\u001b[K     |██▎                             | 20kB 19.4MB/s eta 0:00:01\r\u001b[K     |███▌                            | 30kB 11.5MB/s eta 0:00:01\r\u001b[K     |████▋                           | 40kB 7.8MB/s eta 0:00:01\r\u001b[K     |█████▉                          | 51kB 4.6MB/s eta 0:00:01\r\u001b[K     |███████                         | 61kB 4.8MB/s eta 0:00:01\r\u001b[K     |████████▏                       | 71kB 4.9MB/s eta 0:00:01\r\u001b[K     |█████████▎                      | 81kB 5.4MB/s eta 0:00:01\r\u001b[K     |██████████▌                     | 92kB 5.2MB/s eta 0:00:01\r\u001b[K     |███████████▋                    | 102kB 4.3MB/s eta 0:00:01\r\u001b[K     |████████████▉                   | 112kB 4.3MB/s eta 0:00:01\r\u001b[K     |██████████████                  | 122kB 4.3MB/s eta 0:00:01\r\u001b[K     |███████████████                 | 133kB 4.3MB/s eta 0:00:01\r\u001b[K     |████████████████▎               | 143kB 4.3MB/s eta 0:00:01\r\u001b[K     |█████████████████▍              | 153kB 4.3MB/s eta 0:00:01\r\u001b[K     |██████████████████▋             | 163kB 4.3MB/s eta 0:00:01\r\u001b[K     |███████████████████▊            | 174kB 4.3MB/s eta 0:00:01\r\u001b[K     |█████████████████████           | 184kB 4.3MB/s eta 0:00:01\r\u001b[K     |██████████████████████          | 194kB 4.3MB/s eta 0:00:01\r\u001b[K     |███████████████████████▎        | 204kB 4.3MB/s eta 0:00:01\r\u001b[K     |████████████████████████▍       | 215kB 4.3MB/s eta 0:00:01\r\u001b[K     |█████████████████████████▋      | 225kB 4.3MB/s eta 0:00:01\r\u001b[K     |██████████████████████████▊     | 235kB 4.3MB/s eta 0:00:01\r\u001b[K     |███████████████████████████▉    | 245kB 4.3MB/s eta 0:00:01\r\u001b[K     |█████████████████████████████   | 256kB 4.3MB/s eta 0:00:01\r\u001b[K     |██████████████████████████████▏ | 266kB 4.3MB/s eta 0:00:01\r\u001b[K     |███████████████████████████████▍| 276kB 4.3MB/s eta 0:00:01\r\u001b[K     |████████████████████████████████| 286kB 4.3MB/s \n",
            "\u001b[?25hRequirement already satisfied: numpy in /usr/local/lib/python3.7/dist-packages (from stanza) (1.19.5)\n",
            "Requirement already satisfied: tqdm in /usr/local/lib/python3.7/dist-packages (from stanza) (4.41.1)\n",
            "Requirement already satisfied: torch>=1.3.0 in /usr/local/lib/python3.7/dist-packages (from stanza) (1.8.1+cu101)\n",
            "Requirement already satisfied: requests in /usr/local/lib/python3.7/dist-packages (from stanza) (2.23.0)\n",
            "Requirement already satisfied: protobuf in /usr/local/lib/python3.7/dist-packages (from stanza) (3.12.4)\n",
            "Requirement already satisfied: typing-extensions in /usr/local/lib/python3.7/dist-packages (from torch>=1.3.0->stanza) (3.7.4.3)\n",
            "Requirement already satisfied: chardet<4,>=3.0.2 in /usr/local/lib/python3.7/dist-packages (from requests->stanza) (3.0.4)\n",
            "Requirement already satisfied: certifi>=2017.4.17 in /usr/local/lib/python3.7/dist-packages (from requests->stanza) (2020.12.5)\n",
            "Requirement already satisfied: urllib3!=1.25.0,!=1.25.1,<1.26,>=1.21.1 in /usr/local/lib/python3.7/dist-packages (from requests->stanza) (1.24.3)\n",
            "Requirement already satisfied: idna<3,>=2.5 in /usr/local/lib/python3.7/dist-packages (from requests->stanza) (2.10)\n",
            "Requirement already satisfied: six>=1.9 in /usr/local/lib/python3.7/dist-packages (from protobuf->stanza) (1.15.0)\n",
            "Requirement already satisfied: setuptools in /usr/local/lib/python3.7/dist-packages (from protobuf->stanza) (54.2.0)\n",
            "Installing collected packages: stanza\n",
            "Successfully installed stanza-1.2\n"
          ],
          "name": "stdout"
        }
      ]
    },
    {
      "cell_type": "code",
      "metadata": {
        "colab": {
          "base_uri": "https://localhost:8080/"
        },
        "id": "p3thNottVP4g",
        "outputId": "a7b95009-7c6d-45fd-a72f-befcae8a17e6"
      },
      "source": [
        "# Download the Stanford CoreNLP package with Stanza's installation command\n",
        "# This'll take several minutes, depending on the network speed\n",
        "corenlp_dir = './corenlp'\n",
        "stanza.install_corenlp(dir=corenlp_dir)\n",
        "\n",
        "# Set the CORENLP_HOME environment variable to point to the installation location\n",
        "import os\n",
        "os.environ[\"CORENLP_HOME\"] = corenlp_dir"
      ],
      "execution_count": null,
      "outputs": [
        {
          "output_type": "stream",
          "text": [
            "2021-04-21 00:11:54 INFO: Installing CoreNLP package into ./corenlp...\n",
            "Downloading http://nlp.stanford.edu/software/stanford-corenlp-latest.zip: 100%|██████████| 505M/505M [02:03<00:00, 4.08MB/s]\n",
            "2021-04-21 00:14:01 WARNING: For customized installation location, please set the `CORENLP_HOME` environment variable to the location of the installation. In Unix, this is done with `export CORENLP_HOME=./corenlp`.\n"
          ],
          "name": "stderr"
        }
      ]
    },
    {
      "cell_type": "code",
      "metadata": {
        "colab": {
          "base_uri": "https://localhost:8080/"
        },
        "id": "ivbEiSfuVSCi",
        "outputId": "a08b6965-ba3a-4d4a-f2d1-301cfb9311dc"
      },
      "source": [
        "# Examine the CoreNLP installation folder to make sure the installation is successful\n",
        "!ls $CORENLP_HOME"
      ],
      "execution_count": null,
      "outputs": [
        {
          "output_type": "stream",
          "text": [
            "build.xml\t\t\t\t  jollyday.jar\n",
            "corenlp.sh\t\t\t\t  LIBRARY-LICENSES\n",
            "CoreNLP-to-HTML.xsl\t\t\t  LICENSE.txt\n",
            "ejml-core-0.39.jar\t\t\t  Makefile\n",
            "ejml-core-0.39-sources.jar\t\t  patterns\n",
            "ejml-ddense-0.39.jar\t\t\t  pom-java-11.xml\n",
            "ejml-ddense-0.39-sources.jar\t\t  pom.xml\n",
            "ejml-simple-0.39.jar\t\t\t  protobuf.jar\n",
            "ejml-simple-0.39-sources.jar\t\t  README.txt\n",
            "input.txt\t\t\t\t  RESOURCE-LICENSES\n",
            "input.txt.out\t\t\t\t  SemgrexDemo.java\n",
            "input.txt.xml\t\t\t\t  ShiftReduceDemo.java\n",
            "javax.activation-api-1.2.0.jar\t\t  slf4j-api.jar\n",
            "javax.activation-api-1.2.0-sources.jar\t  slf4j-simple.jar\n",
            "javax.json-api-1.0-sources.jar\t\t  stanford-corenlp-4.2.0.jar\n",
            "javax.json.jar\t\t\t\t  stanford-corenlp-4.2.0-javadoc.jar\n",
            "jaxb-api-2.4.0-b180830.0359.jar\t\t  stanford-corenlp-4.2.0-models.jar\n",
            "jaxb-api-2.4.0-b180830.0359-sources.jar   stanford-corenlp-4.2.0-sources.jar\n",
            "jaxb-core-2.3.0.1.jar\t\t\t  StanfordCoreNlpDemo.java\n",
            "jaxb-core-2.3.0.1-sources.jar\t\t  StanfordDependenciesManual.pdf\n",
            "jaxb-impl-2.4.0-b180830.0438.jar\t  sutime\n",
            "jaxb-impl-2.4.0-b180830.0438-sources.jar  tokensregex\n",
            "joda-time-2.10.5-sources.jar\t\t  xom-1.3.2-sources.jar\n",
            "joda-time.jar\t\t\t\t  xom.jar\n",
            "jollyday-0.4.9-sources.jar\n"
          ],
          "name": "stdout"
        }
      ]
    },
    {
      "cell_type": "code",
      "metadata": {
        "colab": {
          "base_uri": "https://localhost:8080/"
        },
        "id": "qWE7QUjK4dCH",
        "outputId": "f61b3086-8aa5-4e0b-c7af-41b17d37ff81"
      },
      "source": [
        "# Examine the CoreNLP installation folder to make sure the installation is successful\n",
        "!ls $CORENLP_HOME"
      ],
      "execution_count": null,
      "outputs": [
        {
          "output_type": "stream",
          "text": [
            "build.xml\t\t\t\t  jollyday.jar\n",
            "corenlp.sh\t\t\t\t  LIBRARY-LICENSES\n",
            "CoreNLP-to-HTML.xsl\t\t\t  LICENSE.txt\n",
            "ejml-core-0.39.jar\t\t\t  Makefile\n",
            "ejml-core-0.39-sources.jar\t\t  patterns\n",
            "ejml-ddense-0.39.jar\t\t\t  pom-java-11.xml\n",
            "ejml-ddense-0.39-sources.jar\t\t  pom.xml\n",
            "ejml-simple-0.39.jar\t\t\t  protobuf.jar\n",
            "ejml-simple-0.39-sources.jar\t\t  README.txt\n",
            "input.txt\t\t\t\t  RESOURCE-LICENSES\n",
            "input.txt.out\t\t\t\t  SemgrexDemo.java\n",
            "input.txt.xml\t\t\t\t  ShiftReduceDemo.java\n",
            "javax.activation-api-1.2.0.jar\t\t  slf4j-api.jar\n",
            "javax.activation-api-1.2.0-sources.jar\t  slf4j-simple.jar\n",
            "javax.json-api-1.0-sources.jar\t\t  stanford-corenlp-4.2.0.jar\n",
            "javax.json.jar\t\t\t\t  stanford-corenlp-4.2.0-javadoc.jar\n",
            "jaxb-api-2.4.0-b180830.0359.jar\t\t  stanford-corenlp-4.2.0-models.jar\n",
            "jaxb-api-2.4.0-b180830.0359-sources.jar   stanford-corenlp-4.2.0-sources.jar\n",
            "jaxb-core-2.3.0.1.jar\t\t\t  StanfordCoreNlpDemo.java\n",
            "jaxb-core-2.3.0.1-sources.jar\t\t  StanfordDependenciesManual.pdf\n",
            "jaxb-impl-2.4.0-b180830.0438.jar\t  sutime\n",
            "jaxb-impl-2.4.0-b180830.0438-sources.jar  tokensregex\n",
            "joda-time-2.10.5-sources.jar\t\t  xom-1.3.2-sources.jar\n",
            "joda-time.jar\t\t\t\t  xom.jar\n",
            "jollyday-0.4.9-sources.jar\n"
          ],
          "name": "stdout"
        }
      ]
    },
    {
      "cell_type": "code",
      "metadata": {
        "id": "7dZ7eCSwVk2T"
      },
      "source": [
        "#import client_module\n",
        "#from stanza.server import CoreNLPClient"
      ],
      "execution_count": null,
      "outputs": []
    },
    {
      "cell_type": "code",
      "metadata": {
        "id": "wBM5pCm-Vk6V"
      },
      "source": [
        ""
      ],
      "execution_count": null,
      "outputs": []
    },
    {
      "cell_type": "markdown",
      "metadata": {
        "id": "qzFFe9bXax3y"
      },
      "source": [
        "##Parts of Speech tagging\n",
        "***Parts of speech (POS)*** are specific lexical categories to which words are assigned based on their syntactic context and role.\n",
        "\n",
        "##### Usefulness:\n",
        "when we need to use the same annotated text later in NLP-based applications:\n",
        "* to filter by specific parts of speech\n",
        ">> * utilize that information to perform specific analysis, such as narrowing down upon nouns and seeing which ones are the most prominent, \n",
        ">> * word sense disambiguation, and\n",
        ">> * grammar analysis.\n",
        "\n"
      ]
    },
    {
      "cell_type": "markdown",
      "metadata": {
        "id": "C5QDlN4Go5ut"
      },
      "source": [
        "##### Recommended POS Taggers\n",
        "Penn Treebank notation with its 45 tags is the most popular\n",
        "* Let us show the POS tag for each word in a text"
      ]
    },
    {
      "cell_type": "code",
      "metadata": {
        "id": "R-O02nqYVk_C"
      },
      "source": [
        "sentence = 'The brown fox is quick and he is jumping over the lazy dog'"
      ],
      "execution_count": null,
      "outputs": []
    },
    {
      "cell_type": "code",
      "metadata": {
        "id": "kvq6GtPva2Yp"
      },
      "source": [
        "import nltk\n",
        "tokens = nltk.word_tokenize(sentence)\n",
        "tagged_sent = nltk.pos_tag(tokens, tagset='universal')"
      ],
      "execution_count": null,
      "outputs": []
    },
    {
      "cell_type": "code",
      "metadata": {
        "colab": {
          "base_uri": "https://localhost:8080/"
        },
        "id": "BCSq5Z2ra2cQ",
        "outputId": "3d7fee14-b1b4-46a6-edf7-700b17e54e64"
      },
      "source": [
        "print (tagged_sent)"
      ],
      "execution_count": null,
      "outputs": [
        {
          "output_type": "stream",
          "text": [
            "[('The', 'DET'), ('brown', 'ADJ'), ('fox', 'NOUN'), ('is', 'VERB'), ('quick', 'ADJ'), ('and', 'CONJ'), ('he', 'PRON'), ('is', 'VERB'), ('jumping', 'VERB'), ('over', 'ADP'), ('the', 'DET'), ('lazy', 'ADJ'), ('dog', 'NOUN')]\n"
          ],
          "name": "stdout"
        }
      ]
    },
    {
      "cell_type": "code",
      "metadata": {
        "id": "cKIDpZfzlD4U"
      },
      "source": [
        "#Alternative:\n",
        "#use the pattern module to get POS tags of a sentence\n",
        "from pattern.en import tag\n"
      ],
      "execution_count": null,
      "outputs": []
    },
    {
      "cell_type": "code",
      "metadata": {
        "id": "En8UpTXFwtdn"
      },
      "source": [
        "#tagged_sent = tag(sentence)\n",
        "#tagged_sent\n",
        "#Did not work"
      ],
      "execution_count": null,
      "outputs": []
    },
    {
      "cell_type": "markdown",
      "metadata": {
        "id": "7d-q1kzMtaQ2"
      },
      "source": [
        "####Build your own tagger\n",
        "* We will leverage some classes provided by `nltk`\n",
        "* Evaluation of taggers: \n",
        ">> * using some test data from the `treebank` corpus in `nltk`.\n",
        "* We will also be using some training data for training some of our taggers."
      ]
    },
    {
      "cell_type": "code",
      "metadata": {
        "id": "Z6Mzcg5TlEH0"
      },
      "source": [
        "# preparing the data\n",
        "#read in the tagged \"treebank\" corpus\n",
        "from nltk.corpus import treebank\n",
        "data = treebank.tagged_sents()\n",
        "\n"
      ],
      "execution_count": null,
      "outputs": []
    },
    {
      "cell_type": "code",
      "metadata": {
        "colab": {
          "base_uri": "https://localhost:8080/"
        },
        "id": "yPd3FoObyXG7",
        "outputId": "e201cd75-81ee-4cc8-c2f7-779d74dbf58a"
      },
      "source": [
        "data"
      ],
      "execution_count": null,
      "outputs": [
        {
          "output_type": "execute_result",
          "data": {
            "text/plain": [
              "[[('Pierre', 'NNP'), ('Vinken', 'NNP'), (',', ','), ('61', 'CD'), ('years', 'NNS'), ('old', 'JJ'), (',', ','), ('will', 'MD'), ('join', 'VB'), ('the', 'DT'), ('board', 'NN'), ('as', 'IN'), ('a', 'DT'), ('nonexecutive', 'JJ'), ('director', 'NN'), ('Nov.', 'NNP'), ('29', 'CD'), ('.', '.')], [('Mr.', 'NNP'), ('Vinken', 'NNP'), ('is', 'VBZ'), ('chairman', 'NN'), ('of', 'IN'), ('Elsevier', 'NNP'), ('N.V.', 'NNP'), (',', ','), ('the', 'DT'), ('Dutch', 'NNP'), ('publishing', 'VBG'), ('group', 'NN'), ('.', '.')], ...]"
            ]
          },
          "metadata": {
            "tags": []
          },
          "execution_count": 17
        }
      ]
    },
    {
      "cell_type": "code",
      "metadata": {
        "colab": {
          "base_uri": "https://localhost:8080/"
        },
        "id": "guYlf79bybQy",
        "outputId": "ead93a72-708c-40d1-8b7e-81a94f1debff"
      },
      "source": [
        "train_data = data[:3500]\n",
        "test_data = data[3500:]\n",
        "print (train_data[0])"
      ],
      "execution_count": null,
      "outputs": [
        {
          "output_type": "stream",
          "text": [
            "[('Pierre', 'NNP'), ('Vinken', 'NNP'), (',', ','), ('61', 'CD'), ('years', 'NNS'), ('old', 'JJ'), (',', ','), ('will', 'MD'), ('join', 'VB'), ('the', 'DT'), ('board', 'NN'), ('as', 'IN'), ('a', 'DT'), ('nonexecutive', 'JJ'), ('director', 'NN'), ('Nov.', 'NNP'), ('29', 'CD'), ('.', '.')]\n"
          ],
          "name": "stdout"
        }
      ]
    },
    {
      "cell_type": "code",
      "metadata": {
        "id": "oU8M4BunlEO5"
      },
      "source": [
        "# default tagger\n",
        "from nltk.tag import DefaultTagger\n",
        "dt = DefaultTagger('NN')"
      ],
      "execution_count": null,
      "outputs": []
    },
    {
      "cell_type": "code",
      "metadata": {
        "colab": {
          "base_uri": "https://localhost:8080/"
        },
        "id": "sYYddwthlESI",
        "outputId": "8ff18a32-79c9-4a97-95e3-020513f38ab0"
      },
      "source": [
        "print (dt.evaluate(test_data))"
      ],
      "execution_count": null,
      "outputs": [
        {
          "output_type": "stream",
          "text": [
            "0.1454158195372253\n"
          ],
          "name": "stdout"
        }
      ]
    },
    {
      "cell_type": "code",
      "metadata": {
        "colab": {
          "base_uri": "https://localhost:8080/"
        },
        "id": "lU1nvtshlEVW",
        "outputId": "5b179c4e-f4d6-45d4-bb29-17a9d6ed5d30"
      },
      "source": [
        "print (dt.tag(tokens))"
      ],
      "execution_count": null,
      "outputs": [
        {
          "output_type": "stream",
          "text": [
            "[('The', 'NN'), ('brown', 'NN'), ('fox', 'NN'), ('is', 'NN'), ('quick', 'NN'), ('and', 'NN'), ('he', 'NN'), ('is', 'NN'), ('jumping', 'NN'), ('over', 'NN'), ('the', 'NN'), ('lazy', 'NN'), ('dog', 'NN')]\n"
          ],
          "name": "stdout"
        }
      ]
    },
    {
      "cell_type": "code",
      "metadata": {
        "id": "znTUqDtKa2ib",
        "colab": {
          "base_uri": "https://localhost:8080/"
        },
        "outputId": "75c64d22-f2e7-4988-b850-dbbde64fca0e"
      },
      "source": [
        "# remember tokens is obtained after tokenizing our sentence\n",
        "tokens = nltk.word_tokenize(sentence)\n",
        "tokens"
      ],
      "execution_count": null,
      "outputs": [
        {
          "output_type": "execute_result",
          "data": {
            "text/plain": [
              "['The',\n",
              " 'brown',\n",
              " 'fox',\n",
              " 'is',\n",
              " 'quick',\n",
              " 'and',\n",
              " 'he',\n",
              " 'is',\n",
              " 'jumping',\n",
              " 'over',\n",
              " 'the',\n",
              " 'lazy',\n",
              " 'dog']"
            ]
          },
          "metadata": {
            "tags": []
          },
          "execution_count": 22
        }
      ]
    },
    {
      "cell_type": "markdown",
      "metadata": {
        "id": "fFbdj4VYz-0Y"
      },
      "source": [
        "* We will use the test data to evaluate our taggers and see how they work on our\n",
        "sample sentence by using its tokens as input.\n",
        "* All the taggers we will be leveraging from `nltk` are part of the `nltk.tag` package.\n",
        "* Each tagger is a child class of the base `TaggerI` class, and each tagger implements a `tag()` function.\n",
        "> It takes a list of sentence tokens as input and returns *the same* list of words *with their POS tags as output*.\n",
        "\n",
        "* Besides tagging, there is an *evaluate()* function that is used to evaluate the performance of the tagger.\n",
        ">>  This is done by tagging each input test sentence and then comparing the result with the actual tags of the sentence.\n",
        ">>  We will be using the very same function to test the performance of our taggers on *test_data*.\n",
        "\n",
        "We will first look at the `DefaultTagger`, which inherits from the\n",
        "`SequentialBackoffTagger` base class and assigns ***thesame*** user input POS tag to each word. This may seem really naïve, but it is an excellent way to form a baseline POS tagger and improve upon it:"
      ]
    },
    {
      "cell_type": "code",
      "metadata": {
        "id": "hbTnYjxGz8sS"
      },
      "source": [
        "from nltk.tag import DefaultTagger\n",
        "dt = DefaultTagger('NN')"
      ],
      "execution_count": null,
      "outputs": []
    },
    {
      "cell_type": "code",
      "metadata": {
        "colab": {
          "base_uri": "https://localhost:8080/"
        },
        "id": "taxbNXbfz8ve",
        "outputId": "1e6511c5-39b4-4037-ccfd-993e9cfd942b"
      },
      "source": [
        "# accuracy on test data\n",
        "#14% Accuracy which i quite low\n",
        "dt.evaluate(test_data)"
      ],
      "execution_count": null,
      "outputs": [
        {
          "output_type": "execute_result",
          "data": {
            "text/plain": [
              "0.1454158195372253"
            ]
          },
          "metadata": {
            "tags": []
          },
          "execution_count": 24
        }
      ]
    },
    {
      "cell_type": "code",
      "metadata": {
        "colab": {
          "base_uri": "https://localhost:8080/"
        },
        "id": "e7-RGHYVz8zH",
        "outputId": "8a58147d-8217-4bde-c257-0604b98e1d30"
      },
      "source": [
        "# tagging our sample sentence\n",
        "dt.tag(tokens)"
      ],
      "execution_count": null,
      "outputs": [
        {
          "output_type": "execute_result",
          "data": {
            "text/plain": [
              "[('The', 'NN'),\n",
              " ('brown', 'NN'),\n",
              " ('fox', 'NN'),\n",
              " ('is', 'NN'),\n",
              " ('quick', 'NN'),\n",
              " ('and', 'NN'),\n",
              " ('he', 'NN'),\n",
              " ('is', 'NN'),\n",
              " ('jumping', 'NN'),\n",
              " ('over', 'NN'),\n",
              " ('the', 'NN'),\n",
              " ('lazy', 'NN'),\n",
              " ('dog', 'NN')]"
            ]
          },
          "metadata": {
            "tags": []
          },
          "execution_count": 25
        }
      ]
    },
    {
      "cell_type": "markdown",
      "metadata": {
        "id": "3hvhkAg13DGE"
      },
      "source": [
        "We can see from the preceding output we have obtained 14 percent accuracy in\n",
        "correctly tagging words from the treebank test dataset—which is not that great, and theoutput tags on our sample sentence are all nouns, just as we expected because we fed the tagger with the same tag.\n",
        "We will now use regular expressions and the RegexpTagger to see if we can build a better performing tagger:"
      ]
    },
    {
      "cell_type": "code",
      "metadata": {
        "id": "iJpxuDG5z81Y"
      },
      "source": [
        "from nltk.tag import RegexpTagger\n"
      ],
      "execution_count": null,
      "outputs": []
    },
    {
      "cell_type": "code",
      "metadata": {
        "id": "QpQ9tyi42z8V"
      },
      "source": [
        "# define regex tag patterns\n",
        "patterns = [\n",
        "        (r'.*ing$', 'VBG'),                 # gerunds\n",
        "        (r'.*ed$', 'VBD'),                 # simple past\n",
        "        (r'.*es$', 'VBZ'),                 # 3rd singular present\n",
        "        (r'.*ould$', 'MD'),                 # modals\n",
        "        (r'.*\\'s$', 'NN$'),                # possessive nouns\n",
        "        (r'.*s$', 'NNS'),                  # plural nouns\n",
        "        (r'^-?[0-9]+(.[0-9]+)?$', 'CD'),   # cardinal numbers\n",
        "        (r'.*', 'NN')                      # nouns (default) ... \n",
        "        ]"
      ],
      "execution_count": null,
      "outputs": []
    },
    {
      "cell_type": "code",
      "metadata": {
        "id": "G2J9w_ZJ2z_u"
      },
      "source": [
        "rt = RegexpTagger(patterns)"
      ],
      "execution_count": null,
      "outputs": []
    },
    {
      "cell_type": "code",
      "metadata": {
        "colab": {
          "base_uri": "https://localhost:8080/"
        },
        "id": "-aEGURwL20DO",
        "outputId": "2b6c394f-5bbf-42ce-b3e0-b5cf307382a5"
      },
      "source": [
        "# accuracy on test data\n",
        "rt.evaluate(test_data)"
      ],
      "execution_count": null,
      "outputs": [
        {
          "output_type": "execute_result",
          "data": {
            "text/plain": [
              "0.24039113176493368"
            ]
          },
          "metadata": {
            "tags": []
          },
          "execution_count": 29
        }
      ]
    },
    {
      "cell_type": "code",
      "metadata": {
        "colab": {
          "base_uri": "https://localhost:8080/"
        },
        "id": "F87jzuul20LM",
        "outputId": "82c6263f-a4fc-4a10-be52-9c4bb3462f12"
      },
      "source": [
        "# tagging our sample sentence\n",
        "#accuracy has now increased to 24 percent\n",
        "rt.tag(tokens)"
      ],
      "execution_count": null,
      "outputs": [
        {
          "output_type": "execute_result",
          "data": {
            "text/plain": [
              "[('The', 'NN'),\n",
              " ('brown', 'NN'),\n",
              " ('fox', 'NN'),\n",
              " ('is', 'NNS'),\n",
              " ('quick', 'NN'),\n",
              " ('and', 'NN'),\n",
              " ('he', 'NN'),\n",
              " ('is', 'NNS'),\n",
              " ('jumping', 'VBG'),\n",
              " ('over', 'NN'),\n",
              " ('the', 'NN'),\n",
              " ('lazy', 'NN'),\n",
              " ('dog', 'NN')]"
            ]
          },
          "metadata": {
            "tags": []
          },
          "execution_count": 30
        }
      ]
    },
    {
      "cell_type": "markdown",
      "metadata": {
        "id": "1AjJUJJQ4U7X"
      },
      "source": [
        "We will now train some n-gram taggers\n",
        "* *n-grams* are contiguous sequences of *n* items from a sequence of text or speech.\n",
        "* These items could consist of *words, phonemes, letters, characters, or syllables.*\n",
        "* Shingles are n-grams where the items only consist of words.\n",
        "\n",
        "The `UnigramTagger`, `BigramTagger`, and `TrigramTagger` are classes that inherit from the base class `NGramTagger`, which itself inherits from the `ContextTagger` class, which inherits from the `SequentialBackoffTagger` class.\n",
        "\n",
        "* We will use *train_data* as training data to train the n-gram taggers based on sentence tokens and their POS tags.\n",
        "* Then we will evaluate the trained taggers on *test_data* and see the result\n",
        "on tagging our sample sentence\n",
        "\n"
      ]
    },
    {
      "cell_type": "code",
      "metadata": {
        "id": "cNzrzN1Fz837"
      },
      "source": [
        "from nltk.tag import UnigramTagger\n",
        "from nltk.tag import BigramTagger\n",
        "from nltk.tag import TrigramTagger"
      ],
      "execution_count": null,
      "outputs": []
    },
    {
      "cell_type": "code",
      "metadata": {
        "id": "eBM-R31J4TwQ"
      },
      "source": [
        "ut = UnigramTagger(train_data)\n",
        "bt = BigramTagger(train_data)\n",
        "tt = TrigramTagger(train_data)"
      ],
      "execution_count": null,
      "outputs": []
    },
    {
      "cell_type": "code",
      "metadata": {
        "colab": {
          "base_uri": "https://localhost:8080/"
        },
        "id": "C-edGzGy4Tzf",
        "outputId": "16210d72-341e-4246-ce35-2eb4df9b8bc8"
      },
      "source": [
        "# testing performance of unigram tagger\n",
        "ut.evaluate(test_data)"
      ],
      "execution_count": null,
      "outputs": [
        {
          "output_type": "execute_result",
          "data": {
            "text/plain": [
              "0.8607803272340013"
            ]
          },
          "metadata": {
            "tags": []
          },
          "execution_count": 33
        }
      ]
    },
    {
      "cell_type": "code",
      "metadata": {
        "colab": {
          "base_uri": "https://localhost:8080/"
        },
        "id": "05VFljvg4T3M",
        "outputId": "a0e1dbcb-f291-4418-8e4a-0ffaf0464608"
      },
      "source": [
        "ut.tag(tokens)"
      ],
      "execution_count": null,
      "outputs": [
        {
          "output_type": "execute_result",
          "data": {
            "text/plain": [
              "[('The', 'DT'),\n",
              " ('brown', None),\n",
              " ('fox', None),\n",
              " ('is', 'VBZ'),\n",
              " ('quick', 'JJ'),\n",
              " ('and', 'CC'),\n",
              " ('he', 'PRP'),\n",
              " ('is', 'VBZ'),\n",
              " ('jumping', 'VBG'),\n",
              " ('over', 'IN'),\n",
              " ('the', 'DT'),\n",
              " ('lazy', None),\n",
              " ('dog', None)]"
            ]
          },
          "metadata": {
            "tags": []
          },
          "execution_count": 34
        }
      ]
    },
    {
      "cell_type": "code",
      "metadata": {
        "colab": {
          "base_uri": "https://localhost:8080/"
        },
        "id": "4UE1SaI94T5s",
        "outputId": "211cdca3-0bbc-4903-fa85-3ab957aa368b"
      },
      "source": [
        "# testing performance of bigram tagger\n",
        "bt.evaluate(test_data)"
      ],
      "execution_count": null,
      "outputs": [
        {
          "output_type": "execute_result",
          "data": {
            "text/plain": [
              "0.13466937748087907"
            ]
          },
          "metadata": {
            "tags": []
          },
          "execution_count": 35
        }
      ]
    },
    {
      "cell_type": "code",
      "metadata": {
        "colab": {
          "base_uri": "https://localhost:8080/"
        },
        "id": "VZTXgrS74T8N",
        "outputId": "a1ecef7f-d968-43be-91d6-b73c2e193e0a"
      },
      "source": [
        "bt.tag(tokens)"
      ],
      "execution_count": null,
      "outputs": [
        {
          "output_type": "execute_result",
          "data": {
            "text/plain": [
              "[('The', 'DT'),\n",
              " ('brown', None),\n",
              " ('fox', None),\n",
              " ('is', None),\n",
              " ('quick', None),\n",
              " ('and', None),\n",
              " ('he', None),\n",
              " ('is', None),\n",
              " ('jumping', None),\n",
              " ('over', None),\n",
              " ('the', None),\n",
              " ('lazy', None),\n",
              " ('dog', None)]"
            ]
          },
          "metadata": {
            "tags": []
          },
          "execution_count": 36
        }
      ]
    },
    {
      "cell_type": "code",
      "metadata": {
        "colab": {
          "base_uri": "https://localhost:8080/"
        },
        "id": "qR-qwQjO6BSs",
        "outputId": "3c85bf0d-2bbc-4467-c6f5-5877826537c4"
      },
      "source": [
        "# testing performance of trigram tagger\n",
        "tt.evaluate(test_data)\n",
        "tt.tag(tokens)"
      ],
      "execution_count": null,
      "outputs": [
        {
          "output_type": "execute_result",
          "data": {
            "text/plain": [
              "[('The', 'DT'),\n",
              " ('brown', None),\n",
              " ('fox', None),\n",
              " ('is', None),\n",
              " ('quick', None),\n",
              " ('and', None),\n",
              " ('he', None),\n",
              " ('is', None),\n",
              " ('jumping', None),\n",
              " ('over', None),\n",
              " ('the', None),\n",
              " ('lazy', None),\n",
              " ('dog', None)]"
            ]
          },
          "metadata": {
            "tags": []
          },
          "execution_count": 37
        }
      ]
    },
    {
      "cell_type": "markdown",
      "metadata": {
        "id": "ATjSgsbo6Yql"
      },
      "source": [
        "The preceding output clearly shows that we obtain 86 percent accuracy on the test set using *UnigramTagger *tagger alone, which is really good compared to our last tagger.\n",
        "The *None* tag indicates the tagger was unable to tag that word, the reason being that it was unable to get a similar token in the training data. Accuracies of the bigram and trigram models are far less because it is not always the case that the same bigrams and trigrams it had observed in the training data will also be present in the same way in the testing data.\n",
        "\n",
        "#####Combine all the taggers\n",
        "* create a combined tagger with a list of taggers and use a backoff tagger;\n",
        "> i.e. create a chain of\n",
        "taggers, and each tagger would fall back on a backoff tagger if it cannot tag the input tokens\n"
      ]
    },
    {
      "cell_type": "code",
      "metadata": {
        "id": "5GCjgOoJ6Bbe"
      },
      "source": [
        "def combined_tagger(train_data, taggers, backoff=None):\n",
        "    for tagger in taggers:\n",
        "      backoff = tagger(train_data, backoff=backoff)\n",
        "    return backoff"
      ],
      "execution_count": null,
      "outputs": []
    },
    {
      "cell_type": "code",
      "metadata": {
        "id": "mrXamimZ6Be7"
      },
      "source": [
        "ct = combined_tagger(train_data=train_data,\n",
        "                      taggers=[UnigramTagger, BigramTagger, TrigramTagger],\n",
        "                      backoff=rt\n",
        "                     )"
      ],
      "execution_count": null,
      "outputs": []
    },
    {
      "cell_type": "code",
      "metadata": {
        "colab": {
          "base_uri": "https://localhost:8080/"
        },
        "id": "o0L0xts76BiU",
        "outputId": "3fb563a5-5c69-4318-c9c3-5f812973a295"
      },
      "source": [
        "# evaluating the new combined tagger with backoff taggers\n",
        "ct.evaluate(test_data)"
      ],
      "execution_count": null,
      "outputs": [
        {
          "output_type": "execute_result",
          "data": {
            "text/plain": [
              "0.9094781682641108"
            ]
          },
          "metadata": {
            "tags": []
          },
          "execution_count": 40
        }
      ]
    },
    {
      "cell_type": "code",
      "metadata": {
        "colab": {
          "base_uri": "https://localhost:8080/"
        },
        "id": "qK_0GtyE6Blo",
        "outputId": "4e4a8953-a171-4284-bb2b-0779cf528531"
      },
      "source": [
        "ct.tag(tokens)"
      ],
      "execution_count": null,
      "outputs": [
        {
          "output_type": "execute_result",
          "data": {
            "text/plain": [
              "[('The', 'DT'),\n",
              " ('brown', 'NN'),\n",
              " ('fox', 'NN'),\n",
              " ('is', 'VBZ'),\n",
              " ('quick', 'JJ'),\n",
              " ('and', 'CC'),\n",
              " ('he', 'PRP'),\n",
              " ('is', 'VBZ'),\n",
              " ('jumping', 'VBG'),\n",
              " ('over', 'IN'),\n",
              " ('the', 'DT'),\n",
              " ('lazy', 'NN'),\n",
              " ('dog', 'NN')]"
            ]
          },
          "metadata": {
            "tags": []
          },
          "execution_count": 41
        }
      ]
    },
    {
      "cell_type": "markdown",
      "metadata": {
        "id": "vV_u2dDR7yly"
      },
      "source": [
        "We now obtain an accuracy of 91 percent on the test data, which is excellent. Also we see that this new tagger is able to successfully tag all the tokens in our sample sentence \n",
        "\n",
        "```\n",
        "# This is formatted as code\n",
        "```\n",
        "\n",
        "(even though a couple of them are not correct, like brown should be an adjective)."
      ]
    },
    {
      "cell_type": "markdown",
      "metadata": {
        "id": "zgpmKDsl740e"
      },
      "source": [
        "Finally\n",
        "* we will use a supervised classification algorithm to train our tagger\n",
        ">> `ClassifierBasedPOSTagger` class lets us train a tagger by using a supervised\n",
        "learning algorithm in the `classifier_builder` parameter.\n",
        ">>> inherited from the ` ClassifierBasedTagger` and has a `feature_detector()` function that forms the core of the training process.\n",
        "\n",
        ">>>> * This function is used to generate various features from the training\n",
        "data, like *word, previous word, tag, previous tag, case*, and so on.\n",
        ">>>> * you can even build your own feature detector function and pass it to the `feature_detector` parameter when instantiating an object of the `ClassifierBasedPOSTagger` class.\n",
        "* we use the `NaiveBayesClassifier` classifier to build a probabilistic classifier, assuming features are independent.\n"
      ]
    },
    {
      "cell_type": "code",
      "metadata": {
        "id": "YfIr8WpK6BoN"
      },
      "source": [
        "from nltk.classify import NaiveBayesClassifier\n",
        "from nltk.tag.sequential import ClassifierBasedPOSTagger"
      ],
      "execution_count": null,
      "outputs": []
    },
    {
      "cell_type": "code",
      "metadata": {
        "id": "1BLpqddq72N9"
      },
      "source": [
        "nbt = ClassifierBasedPOSTagger(train=train_data,\n",
        "                              classifier_builder=NaiveBayesClassifier.train\n",
        "                               )"
      ],
      "execution_count": null,
      "outputs": []
    },
    {
      "cell_type": "code",
      "metadata": {
        "colab": {
          "base_uri": "https://localhost:8080/"
        },
        "id": "lTXM_hPr72QN",
        "outputId": "587dc73b-e61c-497b-8b8c-7930e203e7da"
      },
      "source": [
        "# evaluate tagger on test data and sample sentence\n",
        "nbt.evaluate(test_data)"
      ],
      "execution_count": null,
      "outputs": [
        {
          "output_type": "execute_result",
          "data": {
            "text/plain": [
              "0.9306806079969019"
            ]
          },
          "metadata": {
            "tags": []
          },
          "execution_count": 44
        }
      ]
    },
    {
      "cell_type": "code",
      "metadata": {
        "colab": {
          "base_uri": "https://localhost:8080/"
        },
        "id": "xJZp4eY972T0",
        "outputId": "1b04b93e-1994-47f4-8f28-f9ffefe8f058"
      },
      "source": [
        "nbt.tag(tokens)"
      ],
      "execution_count": null,
      "outputs": [
        {
          "output_type": "execute_result",
          "data": {
            "text/plain": [
              "[('The', 'DT'),\n",
              " ('brown', 'JJ'),\n",
              " ('fox', 'NN'),\n",
              " ('is', 'VBZ'),\n",
              " ('quick', 'JJ'),\n",
              " ('and', 'CC'),\n",
              " ('he', 'PRP'),\n",
              " ('is', 'VBZ'),\n",
              " ('jumping', 'VBG'),\n",
              " ('over', 'IN'),\n",
              " ('the', 'DT'),\n",
              " ('lazy', 'JJ'),\n",
              " ('dog', 'VBG')]"
            ]
          },
          "metadata": {
            "tags": []
          },
          "execution_count": 45
        }
      ]
    },
    {
      "cell_type": "markdown",
      "metadata": {
        "id": "XArbcVlc9v0x"
      },
      "source": [
        "we get an accuracy of 93 percent on our test data—the\n",
        "highest out of all our taggers. Also if you observe the output tags for our sample sentence, you will see they are correct and make perfect sense. This gives us an idea of how powerful and effective classifier-based POS taggers can be. Feel free to use a different classifier, like MaxentClassifier , and compare the performance with this tagger. There are also several other ways to build and use POS taggers using nltk and other packages.\n"
      ]
    },
    {
      "cell_type": "markdown",
      "metadata": {
        "id": "fnCHWsaS99gw"
      },
      "source": [
        "# Shallow Parsing (chunking)\n",
        "* Analyze and break down the structure of a sentence into its smallest constituents (i.e. tokens such as words) and thengroup them together into higher-level phrases.\n",
        "* There is more focus on identifying these phrases rather than further details of the internal syntax and relations inside the chunk like in grammer-based parse trees obtained from deep parsing.\n",
        "* The main objective is to find semantically meaninful phrases and observe relations among them.\n"
      ]
    },
    {
      "cell_type": "markdown",
      "metadata": {
        "id": "UGdl2JyzUsNc"
      },
      "source": [
        "### Recommended Shallow Parsers\n",
        "* We will use the `pattern` package to create a shallow parser."
      ]
    },
    {
      "cell_type": "code",
      "metadata": {
        "colab": {
          "base_uri": "https://localhost:8080/",
          "height": 35
        },
        "id": "y1-lyBc9z86Y",
        "outputId": "d144a798-f9a2-4895-c2c1-8c161bbd5725"
      },
      "source": [
        "sentence"
      ],
      "execution_count": null,
      "outputs": [
        {
          "output_type": "execute_result",
          "data": {
            "application/vnd.google.colaboratory.intrinsic+json": {
              "type": "string"
            },
            "text/plain": [
              "'The brown fox is quick and he is jumping over the lazy dog'"
            ]
          },
          "metadata": {
            "tags": []
          },
          "execution_count": 46
        }
      ]
    },
    {
      "cell_type": "code",
      "metadata": {
        "id": "nt4S9qWgz882"
      },
      "source": [
        "from pattern.en import parsetree\n",
        "from pattern.en import parsetree, Chunk\n",
        "from nltk.tree import Tree"
      ],
      "execution_count": null,
      "outputs": []
    },
    {
      "cell_type": "code",
      "metadata": {
        "colab": {
          "base_uri": "https://localhost:8080/"
        },
        "id": "0vGYlz7MywIL",
        "outputId": "be00131c-3bcf-457d-c40f-1398cdc48fe6"
      },
      "source": [
        "tree = parsetree(sentence)\n",
        "tree"
      ],
      "execution_count": null,
      "outputs": [
        {
          "output_type": "execute_result",
          "data": {
            "text/plain": [
              "[Sentence('The/DT/B-NP/O brown/JJ/I-NP/O fox/NN/I-NP/O is/VBZ/B-VP/O quick/JJ/B-ADJP/O and/CC/O/O he/PRP/B-NP/O is/VBZ/B-VP/O jumping/VBG/I-VP/O over/IN/B-PP/B-PNP the/DT/B-NP/I-PNP lazy/JJ/I-NP/I-PNP dog/NN/I-NP/I-PNP')]"
            ]
          },
          "metadata": {
            "tags": []
          },
          "execution_count": 52
        }
      ]
    },
    {
      "cell_type": "markdown",
      "metadata": {
        "id": "fSekzY8jVjsu"
      },
      "source": [
        "The preceding output is the raw shallow-parsed sentence tree for our sample\n",
        "sentence. Many of the tags will be quite familiar if you compare them to the earlier `POS `tags table. You will notice some new notations with `I , O ,` and `B` prefixes, the popular `IOB` notation used in chunking, that represent `Inside, Outside, and Beginning.` \n",
        "* B- prefix before a tag indicates it is the beginning of a chunk\n",
        "* I- prefix indicates that it is inside a chunk. \n",
        "* O tag indicates that the token does not belong to any chunk. \n",
        "* B- tag is always used when there are subsequent tags following it of the same type without the presence of O tags between them."
      ]
    },
    {
      "cell_type": "markdown",
      "metadata": {
        "id": "uUAJSj2vWGhY"
      },
      "source": [
        "Below snippet gets chunks in an easier-to-understand format."
      ]
    },
    {
      "cell_type": "code",
      "metadata": {
        "colab": {
          "base_uri": "https://localhost:8080/"
        },
        "id": "6BMhiKHvz8_W",
        "outputId": "918bf8ab-be33-4c0d-c9b7-371b72ab26a9"
      },
      "source": [
        "# print all chunks\n",
        "for sentence_tree in tree:\n",
        "  print(sentence_tree.chunks)"
      ],
      "execution_count": null,
      "outputs": [
        {
          "output_type": "stream",
          "text": [
            "[Chunk('The brown fox/NP'), Chunk('is/VP'), Chunk('quick/ADJP'), Chunk('he/NP'), Chunk('is jumping/VP'), Chunk('over/PP'), Chunk('the lazy dog/NP')]\n"
          ],
          "name": "stdout"
        }
      ]
    },
    {
      "cell_type": "code",
      "metadata": {
        "colab": {
          "base_uri": "https://localhost:8080/"
        },
        "id": "qNx-qjGbWRZY",
        "outputId": "b9775aad-b6b1-4c0d-f4a1-eec7640710dd"
      },
      "source": [
        "# Depict each phrase and its internal constituents\n",
        "#makes them easy to read\n",
        "for sentence_tree in tree:\n",
        "  for chunk in sentence_tree.chunks:\n",
        "    print (chunk.type, '->', [(word.string, word.type)\n",
        "                                    for word in chunk.words])"
      ],
      "execution_count": null,
      "outputs": [
        {
          "output_type": "stream",
          "text": [
            "NP -> [('The', 'DT'), ('brown', 'JJ'), ('fox', 'NN')]\n",
            "VP -> [('is', 'VBZ')]\n",
            "ADJP -> [('quick', 'JJ')]\n",
            "NP -> [('he', 'PRP')]\n",
            "VP -> [('is', 'VBZ'), ('jumping', 'VBG')]\n",
            "PP -> [('over', 'IN')]\n",
            "NP -> [('the', 'DT'), ('lazy', 'JJ'), ('dog', 'NN')]\n"
          ],
          "name": "stdout"
        }
      ]
    },
    {
      "cell_type": "markdown",
      "metadata": {
        "id": "6ELL7ZLRXdHn"
      },
      "source": [
        "We can create some generic functions to **parse and visualize shallow parsed**\n",
        "**sentence trees** in a better way and also reuse them to parse any sentence in general. "
      ]
    },
    {
      "cell_type": "code",
      "metadata": {
        "id": "3P62DZKIWRgp"
      },
      "source": [
        "from pattern.en import parsetree, Chunk\n",
        "from nltk.tree import Tree"
      ],
      "execution_count": null,
      "outputs": []
    },
    {
      "cell_type": "code",
      "metadata": {
        "id": "z6057kDoWRkJ"
      },
      "source": [
        "# create a shallow parsed sentence tree\n",
        "def create_sentence_tree(sentence, lemmatize=False):\n",
        "  sentence_tree = parsetree(sentence,\n",
        "                              relations=True,\n",
        "                              lemmata=lemmatize) # if you want to lemmatize the tokens\n",
        "  return sentence_tree[0]"
      ],
      "execution_count": null,
      "outputs": []
    },
    {
      "cell_type": "code",
      "metadata": {
        "id": "VY67brvKWRnv"
      },
      "source": [
        "# get various constituents of the parse tree\n",
        "def get_sentence_tree_constituents(sentence_tree):\n",
        "      return sentence_tree.constituents()"
      ],
      "execution_count": null,
      "outputs": []
    },
    {
      "cell_type": "code",
      "metadata": {
        "id": "xoHxQokjWRpc"
      },
      "source": [
        "# process the shallow parsed tree into an easy to understand format\n",
        "def process_sentence_tree(sentence_tree):\n",
        "  tree_constituents = get_sentence_tree_constituents(sentence_tree)\n",
        "  processed_tree = [(item.type,\n",
        "                    [\n",
        "                    (w.string, w.type)\n",
        "                    for w in item.words\n",
        "                    ]\n",
        "                    )\n",
        "                    if type(item) == Chunk\n",
        "                    else ('-',\n",
        "                      [\n",
        "                        (item.string, item.type)\n",
        "                      ]\n",
        "                      )\n",
        "                      for item in tree_constituents\n",
        "                  ]\n",
        "  return processed_tree"
      ],
      "execution_count": null,
      "outputs": []
    },
    {
      "cell_type": "code",
      "metadata": {
        "id": "qLWh2GRbWRsq"
      },
      "source": [
        "# print the sentence tree using nltk's Tree syntax\n",
        "def print_sentence_tree(sentence_tree):\n",
        "    processed_tree = process_sentence_tree(sentence_tree)\n",
        "    processed_tree = [\n",
        "                          Tree( item[0],\n",
        "                          [\n",
        "                          Tree(x[1], [x[0]])\n",
        "                          for x in item[1]\n",
        "                          ]\n",
        "                          )\n",
        "                          for item in processed_tree\n",
        "                    ]\n",
        "    tree = Tree('S', processed_tree)\n",
        "    print (tree)"
      ],
      "execution_count": null,
      "outputs": []
    },
    {
      "cell_type": "code",
      "metadata": {
        "id": "NLf592zkWRvm"
      },
      "source": [
        "# visualize the sentence tree using nltk's Tree syntax\n",
        "def visualize_sentence_tree(sentence_tree):\n",
        "    processed_tree = process_sentence_tree(sentence_tree)\n",
        "    processed_tree = [\n",
        "                        Tree(item[0],\n",
        "                        [\n",
        "                        Tree(x[1], [x[0]])\n",
        "                        for x in item[1]\n",
        "                        ]\n",
        "                        )\n",
        "                        for item in processed_tree\n",
        "                      ]\n",
        "    tree = Tree('S', processed_tree )\n",
        "    tree.draw()"
      ],
      "execution_count": null,
      "outputs": []
    },
    {
      "cell_type": "code",
      "metadata": {
        "colab": {
          "base_uri": "https://localhost:8080/"
        },
        "id": "bpx8wuefWRx6",
        "outputId": "40dd279b-dcbc-4034-86e5-eb4a28668315"
      },
      "source": [
        "#let s apply these functions\n",
        "# raw shallow parsed tree\n",
        "t = create_sentence_tree(sentence)\n",
        "t"
      ],
      "execution_count": null,
      "outputs": [
        {
          "output_type": "execute_result",
          "data": {
            "text/plain": [
              "Sentence('The/DT/B-NP/O/NP-SBJ-1 brown/JJ/I-NP/O/NP-SBJ-1 fox/NN/I-NP/O/NP-SBJ-1 is/VBZ/B-VP/O/VP-1 quick/JJ/B-ADJP/O/O and/CC/O/O/O he/PRP/B-NP/O/NP-SBJ-2 is/VBZ/B-VP/O/VP-2 jumping/VBG/I-VP/O/VP-2 over/IN/B-PP/B-PNP/O the/DT/B-NP/I-PNP/O lazy/JJ/I-NP/I-PNP/O dog/NN/I-NP/I-PNP/O')"
            ]
          },
          "metadata": {
            "tags": []
          },
          "execution_count": 61
        }
      ]
    },
    {
      "cell_type": "code",
      "metadata": {
        "colab": {
          "base_uri": "https://localhost:8080/"
        },
        "id": "1puiNn-KWR0E",
        "outputId": "88b5066f-bffe-46e5-9dff-f3b84124138d"
      },
      "source": [
        "# processed shallow parsed tree\n",
        "pt = process_sentence_tree(t)\n",
        "pt"
      ],
      "execution_count": null,
      "outputs": [
        {
          "output_type": "execute_result",
          "data": {
            "text/plain": [
              "[('NP', [('The', 'DT'), ('brown', 'JJ'), ('fox', 'NN')]),\n",
              " ('VP', [('is', 'VBZ')]),\n",
              " ('ADJP', [('quick', 'JJ')]),\n",
              " ('-', [('and', 'CC')]),\n",
              " ('NP', [('he', 'PRP')]),\n",
              " ('VP', [('is', 'VBZ'), ('jumping', 'VBG')]),\n",
              " ('PP', [('over', 'IN')]),\n",
              " ('NP', [('the', 'DT'), ('lazy', 'JJ'), ('dog', 'NN')])]"
            ]
          },
          "metadata": {
            "tags": []
          },
          "execution_count": 62
        }
      ]
    },
    {
      "cell_type": "code",
      "metadata": {
        "colab": {
          "base_uri": "https://localhost:8080/"
        },
        "id": "cN1zTGWeWR2b",
        "outputId": "0bbd6598-beb8-4305-b8a9-fd787d8c0163"
      },
      "source": [
        "# print shallow parsed tree in an easy to understand format using nltk's Tree syntax\n",
        "print_sentence_tree(t)"
      ],
      "execution_count": null,
      "outputs": [
        {
          "output_type": "stream",
          "text": [
            "(S\n",
            "  (NP (DT The) (JJ brown) (NN fox))\n",
            "  (VP (VBZ is))\n",
            "  (ADJP (JJ quick))\n",
            "  (- (CC and))\n",
            "  (NP (PRP he))\n",
            "  (VP (VBZ is) (VBG jumping))\n",
            "  (PP (IN over))\n",
            "  (NP (DT the) (JJ lazy) (NN dog)))\n"
          ],
          "name": "stdout"
        }
      ]
    },
    {
      "cell_type": "code",
      "metadata": {
        "id": "_CvaJI3HWSLi"
      },
      "source": [
        "# visualize the shallow parsed tree\n",
        "#visualize_sentence_tree(t) #did not work."
      ],
      "execution_count": null,
      "outputs": []
    },
    {
      "cell_type": "markdown",
      "metadata": {
        "id": "6MVcXawgciQx"
      },
      "source": [
        "##Building Your Own Shallow Parsers\n",
        "\n",
        "Refer to the book for this.\n"
      ]
    },
    {
      "cell_type": "markdown",
      "metadata": {
        "id": "meExX2C1dFqA"
      },
      "source": [
        "# Dependency-based parsing\n",
        "Grammar helps in enabling both syntax and structure in language . It primarily consists of a set of rules used in determining how to position words, phrases, and clauses when constructing sentences for any natural language. Grammar is not restricted to the written word—it also operates verbally. Rules of grammar can be specific to a region, language, or dialect or be somewhat universal like the *Subject-Verb-Object (SVO) model*.\n",
        "Grammar can be subdivided into two main classes—***dependency grammars*** and\n",
        "***constituency grammars***—based on their representations for linguistic syntax and structure.\n",
        "\n",
        "### Dependency Grammers\n",
        "* These grammars are also known as word-based grammars.\n",
        "* These grammars do not focus on constituents like words, phrases, and clauses but place more emphasis on words.\n",
        "*  The basic principle behind a dependency grammar is that in any sentence in the language, all the words except one word has some relationship or dependency on other words in the sentence:\n",
        "> * The word that has no dependency (most commonly the verb) is called the `root` of the sentence.\n",
        "> * All the other words are directly or indirectly linked to the root verb using *links*, which are the dependencies\n",
        "\n",
        "> * Dependency grammars always have a one-to-one relationship correspondence for\n",
        "each word in the sentence.\n",
        "> * There are two aspects to this grammar representation:\n",
        ">> 1. syntax or structure of the sentence\n",
        ">> 1. semantics obtained from the relationships denoted between the words.\n",
        "\n",
        "Dependency syntax for `The brown fox is quick and he is jumping over the lazy dog`:\n",
        "\n",
        "\n",
        "![Dependency Grammer based syntax traa with POS.JPG](data:image/jpeg;base64,/9j/4AAQSkZJRgABAQEAYABgAAD/4REKRXhpZgAATU0AKgAAAAgABAE7AAIAAAAVAAAISodpAAQAAAABAAAIYJydAAEAAAAqAAAQ2OocAAcAAAgMAAAAPgAAAAAc6gAAAAgAAAAAAAAAAAAAAAAAAAAAAAAAAAAAAAAAAAAAAAAAAAAAAAAAAAAAAAAAAAAAAAAAAAAAAAAAAAAAAAAAAAAAAAAAAAAAAAAAAAAAAAAAAAAAAAAAAAAAAAAAAAAAAAAAAAAAAAAAAAAAAAAAAAAAAAAAAAAAAAAAAAAAAAAAAAAAAAAAAAAAAAAAAAAAAAAAAAAAAAAAAAAAAAAAAAAAAAAAAAAAAAAAAAAAAAAAAAAAAAAAAAAAAAAAAAAAAAAAAAAAAAAAAAAAAAAAAAAAAAAAAAAAAAAAAAAAAAAAAAAAAAAAAAAAAAAAAAAAAAAAAAAAAAAAAAAAAAAAAAAAAAAAAAAAAAAAAAAAAAAAAAAAAAAAAAAAAAAAAAAAAAAAAAAAAAAAAAAAAAAAAAAAAAAAAAAAAAAAAAAAAAAAAAAAAAAAAAAAAAAAAAAAAAAAAAAAAAAAAAAAAAAAAAAAAAAAAAAAAAAAAAAAAAAAAAAAAAAAAAAAAAAAAAAAAAAAAAAAAAAAAAAAAAAAAAAAAAAAAAAAAAAAAAAAAAAAAAAAAAAAAAAAAAAAAAAAAAAAAAAAAAAAAAAAAAAAAAAAAAAAAAAAAAAAAAAAAAAAAAAAAAAAAAAAAAAAAAAAAAAAAAAAAAAAAAAAAAAAAAAAAAAAAAAAAAAAAAAAAAAAAAAAAAAAAAAAAAAAAAAAAAAAAAAAAAAAAAAAAAAAAAAAAAAAAAAAAAAAAAAAAAAAAAAAAAAAAAAAAAAAAAAAAAAAAAAAAAAAAAAAAAAAAAAAAAAAAAAAAAAAAAAAAAAAAAAAAAAAAAAAAAAAAAAAAAAAAAAAAAAAAAAAAAAAAAAAAAAAAAAAAAAAAAAAAAAAAAAAAAAAAAAAAAAAAAAAAAAAAAAAAAAAAAAAAAAAAAAAAAAAAAAAAAAAAAAAAAAAAAAAAAAAAAAAAAAAAAAAAAAAAAAAAAAAAAAAAAAAAAAAAAAAAAAAAAAAAAAAAAAAAAAAAAAAAAAAAAAAAAAAAAAAAAAAAAAAAAAAAAAAAAAAAAAAAAAAAAAAAAAAAAAAAAAAAAAAAAAAAAAAAAAAAAAAAAAAAAAAAAAAAAAAAAAAAAAAAAAAAAAAAAAAAAAAAAAAAAAAAAAAAAAAAAAAAAAAAAAAAAAAAAAAAAAAAAAAAAAAAAAAAAAAAAAAAAAAAAAAAAAAAAAAAAAAAAAAAAAAAAAAAAAAAAAAAAAAAAAAAAAAAAAAAAAAAAAAAAAAAAAAAAAAAAAAAAAAAAAAAAAAAAAAAAAAAAAAAAAAAAAAAAAAAAAAAAAAAAAAAAAAAAAAAAAAAAAAAAAAAAAAAAAAAAAAAAAAAAAAAAAAAAAAAAAAAAAAAAAAAAAAAAAAAAAAAAAAAAAAAAAAAAAAAAAAAAAAAAAAAAAAAAAAAAAAAAAAAAAAAAAAAAAAAAAAAAAAAAAAAAAAAAAAAAAAAAAAAAAAAAAAAAAAAAAAAAAAAAAAAAAAAAAAAAAAAAAAAAAAAAAAAAAAAAAAAAAAAAAAAAAAAAAAAAAAAAAAAAAAAAAAAAAAAAAAAAAAAAAAAAAAAAAAAAAAAAAAAAAAAAAAAAAAAAAAAAAAAAAAAAAAAAAAAAAAAAAAAAAAAAAAAAAAAAAAAAAAAAAAAAAAAAAAAAAAAAAAAAAAAAAAAAAAAAAAAAAAAAAAAAAAAAAAAAAAAAAAAAAAAAAAAAAAAAAAAAAAAAAAAAAAAAAAAAAAAAAAAAAAAAAAAAAAAAAAAAAAAAAAAAAAAAAAAAAAAAAAAAAAAAAAAAAAAAAAAAAAAAAAAAAAAAAAAAAAAAAAAAAAAAAAAAAAAAAAAAAAAAAAAAAAAAAAAAAAAAAAAAAAAAAAAAAAAAAAAAAAAAAAAAAAAAAAAAAAAAAAAAAAAAAAAAAAAAAAAAAAAAAAAAAAAAAAAAAAAAAAAAAAAAAAAAAAAAAAAAAAAAAAAAAAAAAAAAAAAAAAAAAAAAAAAAAAAAAAAAAAAAAAAAAAAAAAAAAAAAAAAAAAAAAAAAAAAAAAAAAAAAAAAAAAAAAAAAAAAAAAAAAAAAAAAAAAAAAAAAAAAAAAAAAAAAAAAAAAAAAAAAAAAAAAAAAAAAAAAAAAAAAAAAAAAAAAAAAAAAAAAAAAAAAAAAAAAAAAAAAAAAAAAAAAAAAAAAAAAAAAAAAAAAAAAAAAAAAAAAAAAAAAAAAAAAAAAAAAAAAAAAAAAAAAAAAAAAAAAAAAAAAAAAAAAAAAAAAAAAAAAAAAAAAAAAAAAAAAAAAAAAAAAAAAAAAAAAAAAAAAAAAAAAAAAAAAAAAAAAAAAAAAAAAAAAAAAAAAAAAAAAAAAAAAAAAAAAAAAAAAAAAAAAAAAAAAAAAAAAAAAAAAAAAAAAAAAAAAAAAAAAAAAAAAAAAAAAAAAAAAAAAAAAAAAAAAAAAAAAAAAAAAAAAAAAAAAAAAAAAAAAAAAAAAAAAAAAAAAAAAAAAAAAAAAAAAAAAAAAAAAAAAAAAAAAAAAAAAAAAAAAAAAAAAAAAAAAAAAAAAAAAAAAAAAAAAAAAAAAAAAAAAAAAAAAAAAAAAAAAAAAAAAAAAAAAAAAAAAAAAAAAAAAAAAAAAAAAAAAAAAAAAAAAAAAAAAAAAAAAAAAAAAAAAAAAAAAAAAAAAAAAAAAAAAAAAAAAAAAAAAAAAAAAAAAAAAAAAAAAAAAAAAAAAAAAAAAAAAAAAAAAAAEJhYmF0dW5kZSBPbGFuaXBla3VuAAAABZADAAIAAAAUAAAQrpAEAAIAAAAUAAAQwpKRAAIAAAADMzMAAJKSAAIAAAADMzMAAOocAAcAAAgMAAAIogAAAAAc6gAAAAgAAAAAAAAAAAAAAAAAAAAAAAAAAAAAAAAAAAAAAAAAAAAAAAAAAAAAAAAAAAAAAAAAAAAAAAAAAAAAAAAAAAAAAAAAAAAAAAAAAAAAAAAAAAAAAAAAAAAAAAAAAAAAAAAAAAAAAAAAAAAAAAAAAAAAAAAAAAAAAAAAAAAAAAAAAAAAAAAAAAAAAAAAAAAAAAAAAAAAAAAAAAAAAAAAAAAAAAAAAAAAAAAAAAAAAAAAAAAAAAAAAAAAAAAAAAAAAAAAAAAAAAAAAAAAAAAAAAAAAAAAAAAAAAAAAAAAAAAAAAAAAAAAAAAAAAAAAAAAAAAAAAAAAAAAAAAAAAAAAAAAAAAAAAAAAAAAAAAAAAAAAAAAAAAAAAAAAAAAAAAAAAAAAAAAAAAAAAAAAAAAAAAAAAAAAAAAAAAAAAAAAAAAAAAAAAAAAAAAAAAAAAAAAAAAAAAAAAAAAAAAAAAAAAAAAAAAAAAAAAAAAAAAAAAAAAAAAAAAAAAAAAAAAAAAAAAAAAAAAAAAAAAAAAAAAAAAAAAAAAAAAAAAAAAAAAAAAAAAAAAAAAAAAAAAAAAAAAAAAAAAAAAAAAAAAAAAAAAAAAAAAAAAAAAAAAAAAAAAAAAAAAAAAAAAAAAAAAAAAAAAAAAAAAAAAAAAAAAAAAAAAAAAAAAAAAAAAAAAAAAAAAAAAAAAAAAAAAAAAAAAAAAAAAAAAAAAAAAAAAAAAAAAAAAAAAAAAAAAAAAAAAAAAAAAAAAAAAAAAAAAAAAAAAAAAAAAAAAAAAAAAAAAAAAAAAAAAAAAAAAAAAAAAAAAAAAAAAAAAAAAAAAAAAAAAAAAAAAAAAAAAAAAAAAAAAAAAAAAAAAAAAAAAAAAAAAAAAAAAAAAAAAAAAAAAAAAAAAAAAAAAAAAAAAAAAAAAAAAAAAAAAAAAAAAAAAAAAAAAAAAAAAAAAAAAAAAAAAAAAAAAAAAAAAAAAAAAAAAAAAAAAAAAAAAAAAAAAAAAAAAAAAAAAAAAAAAAAAAAAAAAAAAAAAAAAAAAAAAAAAAAAAAAAAAAAAAAAAAAAAAAAAAAAAAAAAAAAAAAAAAAAAAAAAAAAAAAAAAAAAAAAAAAAAAAAAAAAAAAAAAAAAAAAAAAAAAAAAAAAAAAAAAAAAAAAAAAAAAAAAAAAAAAAAAAAAAAAAAAAAAAAAAAAAAAAAAAAAAAAAAAAAAAAAAAAAAAAAAAAAAAAAAAAAAAAAAAAAAAAAAAAAAAAAAAAAAAAAAAAAAAAAAAAAAAAAAAAAAAAAAAAAAAAAAAAAAAAAAAAAAAAAAAAAAAAAAAAAAAAAAAAAAAAAAAAAAAAAAAAAAAAAAAAAAAAAAAAAAAAAAAAAAAAAAAAAAAAAAAAAAAAAAAAAAAAAAAAAAAAAAAAAAAAAAAAAAAAAAAAAAAAAAAAAAAAAAAAAAAAAAAAAAAAAAAAAAAAAAAAAAAAAAAAAAAAAAAAAAAAAAAAAAAAAAAAAAAAAAAAAAAAAAAAAAAAAAAAAAAAAAAAAAAAAAAAAAAAAAAAAAAAAAAAAAAAAAAAAAAAAAAAAAAAAAAAAAAAAAAAAAAAAAAAAAAAAAAAAAAAAAAAAAAAAAAAAAAAAAAAAAAAAAAAAAAAAAAAAAAAAAAAAAAAAAAAAAAAAAAAAAAAAAAAAAAAAAAAAAAAAAAAAAAAAAAAAAAAAAAAAAAAAAAAAAAAAAAAAAAAAAAAAAAAAAAAAAAAAAAAAAAAAAAAAAAAAAAAAAAAAAAAAAAAAAAAAAAAAAAAAAAAAAAAAAAAAAAAAAAAAAAAAAAAAAAAAAAAAAAAAAAAAAAAAAAAAAAAAAAAAAAAAAAAAAAAAAAAAAAAAAAAAAAAAAAAAAAAAAAAAAAAAAAAAAAAAAAAAAAAAAAAAAAAAAAAAAAAAAAAAAAAAAAAAAAAAAAAAAAAAAAAAAAAAAAAAAAAAAAAAAAAAAAAAAAAAAAAAAAAAAAAAAAAAAAAAAAAAAAAAAAAAAAAAAAAAAAAAAAAAAAAAAAAAAAAAAAAAAAAAAAAAAAAAAAAAAAAAAAAAAAAAAAAAAAAAAAAAAAAAAAAAAAAAAAAAAAAAAAAAAAAAAAAAAAAAAAAAAAAAAAAAAAAAAAAAAAAAAAAAAAAAAAAAAAAAAAAAAAAAAAAAAAAAAAAAAAAAAAAAAAAAAAAAAAAAAAAAAAAAAAAAAAAAAAAAAAAAAAAAAAAAAAAAAAAAAAAAAAAAAAAAAAAAAAAAAAAAAAAAAAAAAAAAAAAAAAAAAAAAAAAAAAAAAAAAAAAAAAAAAAAAAAAAAAAAAAAAAAAAAAAAAAAAAAAAAAAAAAAAAAAAAAAAAAAAAAAAAAAAAAAAAAAAAAAAAAAAAAAAAAAAAAAAAAAAAAAAAAAAAAAAAAAAAAAAAAAAAAAAAAAAAAAAAAAAAAAAAAAAAAAAAAAAAAAAAAAAAAAAAAAAAAAAAAAAAAAAAAAAAAAAAAAAAAAAAAAAAAAAAAAAAAAAAAAAAAAAAAAAAAAAAAAAAAAAAAAAAAAAAAAAAAAAAAAAAAAAAAAAAAAAAAAAAAAAAAAAAAAAAAAAAAAAAAAAAAAAAAAAAAAAAAAAAAAAAAAAAAAAAAAAAAAAAAAAAAAAAAAAAAAAAAAAAAAAAAAAAAAAAAAAAAAAAAAAAAAAAAAAAAAAAAAAAAAAAAAAAAAAAAAAAAAAAAAAAAAAAAAAAAAAAAAAAAAAAAAAAADIwMjE6MDQ6MjAgMDU6MTM6NDkAMjAyMTowNDoyMCAwNToxMzo0OQAAAEIAYQBiAGEAdAB1AG4AZABlACAATwBsAGEAbgBpAHAAZQBrAHUAbgAAAP/hCydodHRwOi8vbnMuYWRvYmUuY29tL3hhcC8xLjAvADw/eHBhY2tldCBiZWdpbj0n77u/JyBpZD0nVzVNME1wQ2VoaUh6cmVTek5UY3prYzlkJz8+DQo8eDp4bXBtZXRhIHhtbG5zOng9ImFkb2JlOm5zOm1ldGEvIj48cmRmOlJERiB4bWxuczpyZGY9Imh0dHA6Ly93d3cudzMub3JnLzE5OTkvMDIvMjItcmRmLXN5bnRheC1ucyMiPjxyZGY6RGVzY3JpcHRpb24gcmRmOmFib3V0PSJ1dWlkOmZhZjViZGQ1LWJhM2QtMTFkYS1hZDMxLWQzM2Q3NTE4MmYxYiIgeG1sbnM6ZGM9Imh0dHA6Ly9wdXJsLm9yZy9kYy9lbGVtZW50cy8xLjEvIi8+PHJkZjpEZXNjcmlwdGlvbiByZGY6YWJvdXQ9InV1aWQ6ZmFmNWJkZDUtYmEzZC0xMWRhLWFkMzEtZDMzZDc1MTgyZjFiIiB4bWxuczp4bXA9Imh0dHA6Ly9ucy5hZG9iZS5jb20veGFwLzEuMC8iPjx4bXA6Q3JlYXRlRGF0ZT4yMDIxLTA0LTIwVDA1OjEzOjQ5LjMzNDwveG1wOkNyZWF0ZURhdGU+PC9yZGY6RGVzY3JpcHRpb24+PHJkZjpEZXNjcmlwdGlvbiByZGY6YWJvdXQ9InV1aWQ6ZmFmNWJkZDUtYmEzZC0xMWRhLWFkMzEtZDMzZDc1MTgyZjFiIiB4bWxuczpkYz0iaHR0cDovL3B1cmwub3JnL2RjL2VsZW1lbnRzLzEuMS8iPjxkYzpjcmVhdG9yPjxyZGY6U2VxIHhtbG5zOnJkZj0iaHR0cDovL3d3dy53My5vcmcvMTk5OS8wMi8yMi1yZGYtc3ludGF4LW5zIyI+PHJkZjpsaT5CYWJhdHVuZGUgT2xhbmlwZWt1bjwvcmRmOmxpPjwvcmRmOlNlcT4NCgkJCTwvZGM6Y3JlYXRvcj48L3JkZjpEZXNjcmlwdGlvbj48L3JkZjpSREY+PC94OnhtcG1ldGE+DQogICAgICAgICAgICAgICAgICAgICAgICAgICAgICAgICAgICAgICAgICAgICAgICAgICAgICAgICAgICAgICAgICAgICAgICAgICAgICAgICAgICAgICAgICAgICAgICAgICAgCiAgICAgICAgICAgICAgICAgICAgICAgICAgICAgICAgICAgICAgICAgICAgICAgICAgICAgICAgICAgICAgICAgICAgICAgICAgICAgICAgICAgICAgICAgICAgICAgICAgICAKICAgICAgICAgICAgICAgICAgICAgICAgICAgICAgICAgICAgICAgICAgICAgICAgICAgICAgICAgICAgICAgICAgICAgICAgICAgICAgICAgICAgICAgICAgICAgICAgICAgIAogICAgICAgICAgICAgICAgICAgICAgICAgICAgICAgICAgICAgICAgICAgICAgICAgICAgICAgICAgICAgICAgICAgICAgICAgICAgICAgICAgICAgICAgICAgICAgICAgICAgCiAgICAgICAgICAgICAgICAgICAgICAgICAgICAgICAgICAgICAgICAgICAgICAgICAgICAgICAgICAgICAgICAgICAgICAgICAgICAgICAgICAgICAgICAgICAgICAgICAgICAKICAgICAgICAgICAgICAgICAgICAgICAgICAgICAgICAgICAgICAgICAgICAgICAgICAgICAgICAgICAgICAgICAgICAgICAgICAgICAgICAgICAgICAgICAgICAgICAgICAgIAogICAgICAgICAgICAgICAgICAgICAgICAgICAgICAgICAgICAgICAgICAgICAgICAgICAgICAgICAgICAgICAgICAgICAgICAgICAgICAgICAgICAgICAgICAgICAgICAgICAgCiAgICAgICAgICAgICAgICAgICAgICAgICAgICAgICAgICAgICAgICAgICAgICAgICAgICAgICAgICAgICAgICAgICAgICAgICAgICAgICAgICAgICAgICAgICAgICAgICAgICAKICAgICAgICAgICAgICAgICAgICAgICAgICAgICAgICAgICAgICAgICAgICAgICAgICAgICAgICAgICAgICAgICAgICAgICAgICAgICAgICAgICAgICAgICAgICAgICAgICAgIAogICAgICAgICAgICAgICAgICAgICAgICAgICAgICAgICAgICAgICAgICAgICAgICAgICAgICAgICAgICAgICAgICAgICAgICAgICAgICAgICAgICAgICAgICAgICAgICAgICAgCiAgICAgICAgICAgICAgICAgICAgICAgICAgICAgICAgICAgICAgICAgICAgICAgICAgICAgICAgICAgICAgICAgICAgICAgICAgICAgICAgICAgICAgICAgICAgICAgICAgICAKICAgICAgICAgICAgICAgICAgICAgICAgICAgICAgICAgICAgICAgICAgICAgICAgICAgICAgICAgICAgICAgICAgICAgICAgICAgICAgICAgICAgICAgICAgICAgICAgICAgIAogICAgICAgICAgICAgICAgICAgICAgICAgICAgICAgICAgICAgICAgICAgICAgICAgICAgICAgICAgICAgICAgICAgICAgICAgICAgICAgICAgICAgICAgICAgICAgICAgICAgCiAgICAgICAgICAgICAgICAgICAgICAgICAgICAgICAgICAgICAgICAgICAgICAgICAgICAgICAgICAgICAgICAgICAgICAgICAgICAgICAgICAgICAgICAgICAgICAgICAgICAKICAgICAgICAgICAgICAgICAgICAgICAgICAgICAgICAgICAgICAgICAgICAgICAgICAgICAgICAgICAgICAgICAgICAgICAgICAgICAgICAgICAgICAgICAgICAgICAgICAgIAogICAgICAgICAgICAgICAgICAgICAgICAgICAgICAgICAgICAgICAgICAgICAgICAgICAgICAgICAgICAgICAgICAgICAgICAgICAgICAgICAgICAgICAgICAgICAgICAgICAgCiAgICAgICAgICAgICAgICAgICAgICAgICAgICAgICAgICAgICAgICAgICAgICAgICAgICAgICAgICAgICAgICAgICAgICAgICAgICAgICAgICAgICAgICAgICAgICAgICAgICAKICAgICAgICAgICAgICAgICAgICAgICAgICAgICAgICAgICAgICAgICAgICAgICAgICAgICAgICAgICAgICAgICAgICAgICAgICAgICAgICAgICAgICAgICAgICAgICAgICAgIAogICAgICAgICAgICAgICAgICAgICAgICAgICAgICAgICAgICAgICAgICAgICAgICAgICAgICAgICAgICAgICAgICAgICAgICAgICAgICAgICAgICAgICAgICAgICAgICAgICAgCiAgICAgICAgICAgICAgICAgICAgICAgICAgICAgICAgICAgICAgICAgICAgICAgICAgICAgICAgICAgICAgICAgICAgICAgICAgICAgICAgICAgICAgICAgICAgICAgICAgICAKICAgICAgICAgICAgICAgICAgICAgICAgICAgIDw/eHBhY2tldCBlbmQ9J3cnPz7/2wBDAAcFBQYFBAcGBQYIBwcIChELCgkJChUPEAwRGBUaGRgVGBcbHichGx0lHRcYIi4iJSgpKywrGiAvMy8qMicqKyr/2wBDAQcICAoJChQLCxQqHBgcKioqKioqKioqKioqKioqKioqKioqKioqKioqKioqKioqKioqKioqKioqKioqKioqKir/wAARCAG1ArsDASIAAhEBAxEB/8QAHwAAAQUBAQEBAQEAAAAAAAAAAAECAwQFBgcICQoL/8QAtRAAAgEDAwIEAwUFBAQAAAF9AQIDAAQRBRIhMUEGE1FhByJxFDKBkaEII0KxwRVS0fAkM2JyggkKFhcYGRolJicoKSo0NTY3ODk6Q0RFRkdISUpTVFVWV1hZWmNkZWZnaGlqc3R1dnd4eXqDhIWGh4iJipKTlJWWl5iZmqKjpKWmp6ipqrKztLW2t7i5usLDxMXGx8jJytLT1NXW19jZ2uHi4+Tl5ufo6erx8vP09fb3+Pn6/8QAHwEAAwEBAQEBAQEBAQAAAAAAAAECAwQFBgcICQoL/8QAtREAAgECBAQDBAcFBAQAAQJ3AAECAxEEBSExBhJBUQdhcRMiMoEIFEKRobHBCSMzUvAVYnLRChYkNOEl8RcYGRomJygpKjU2Nzg5OkNERUZHSElKU1RVVldYWVpjZGVmZ2hpanN0dXZ3eHl6goOEhYaHiImKkpOUlZaXmJmaoqOkpaanqKmqsrO0tba3uLm6wsPExcbHyMnK0tPU1dbX2Nna4uPk5ebn6Onq8vP09fb3+Pn6/9oADAMBAAIRAxEAPwD6RooooAKKKKACiiigAooooAKKKKACiiigAooooAKKKKACiiigAooooAKKKKACiiigAooooAKKKKACiiigAooooAKKKKACignHXio/tMH/AD2j/wC+hQBJRUf2mD/ntH/30KPtMH/PaP8A76FAElFR/aYP+e0f/fQo+0wf89o/++hQBJRUf2mD/ntH/wB9Cj7TB/z2j/76FAElFRi4hJwJo/8AvoVJQAUUUUAFFFFABRRRQAUUUUAFFFFABRRRQAUUUUAFFFFABRRRQAUUUUAFFFFABRRRQAUUUUAFFFFABRRRQAUUUUAFFFFABRRRQAUUUUAFFFFABRRRQAUUUUAFFFFABRRRQAUUUUAFFFFABRRRQAUUUUAFFFFABRRRQAUUUUAFFFFABRRRQAUUUUAFFFFABRRRQAUUUUAFFFFABRRRQBm+JJZIPC+qSwO0ckdnKyOpwVIQ4Irj/Cfgyz1Xwbo+oXuqa69xdWUU0rDV7gbmZAScBvU11vij/kUdX/68pv8A0A1U8A/8k58Pf9g2D/0WKAKn/CvNL/6CWvf+Dm4/+Lo/4V5pf/QS17/wc3H/AMXXV0UAcp/wrzS/+glr3/g5uP8A4uj/AIV5pf8A0Ete/wDBzcf/ABddXmjNAHKf8K80v/oJa9/4Obj/AOLo/wCFeaX/ANBHXv8Awc3H/wAXXV5ooA8v8f8AhqLwz4Rl1TStV1uO6hngCM+qzuOZVBBBYg5BIr06P/VrnriuK+L/APyTi6/6+Lf/ANHJXax/6tfoKAHUUUUAFFFFABRRRQAUUUUAFFFFABRRRQAUUUUAFFFFABRRRQAUUUUAFFFFABRRRQAUUUUAFFFFABRRRQAUUUUAFFFFABRRRQAUUUUAFFFFABRRRQAUUUUAFFFFABRRRQAUUUUAFFFFABRRRQAUUUUAFFFFABRRRQAUUUUAFFFFABRRRQAUUUUAFFFFABRRRQAUUUUAFFFFABRRRQBleKP+RR1f/rym/wDQDVTwD/yTnw9/2DYP/RYq34o/5FHV/wDrym/9ANU/AP8AyTnw9/2DYP8A0WKAGePLy2sfDBmvrWa5h+0wKUhmMTAmQAHI7Akcd6j1DxbcWfiqLSYdOR1Z0QvNciJ33Yy0akfOFHXBzxVnxn4cufFOgjTrXURp586OVpfJEudjBgMEjuBzVXUPCeoapqMb32srLYrLFObY2o3LJGQco+flBK5IwetAE3iTV3h1fRtDtmKy6pM4dx1SJF3Nj3PA/GsUmXw98WFOoahejStWtgliks5MEdwM7o8diVAIz6GtrxLpElxq2ja1bKXm0qdiyDq8brtbHv3qx4n8N2PjDQTp968iRs6SxzRHa6MpyCD2Pb8aAMZrG6nOu69Z6jebCu6xikmLRKYwSXVewY8fQV0HhvWo/EXhnT9XhG1LyBZdv90kcj8803V4mt/Dktlp8RMkkJt4FA4UkbQT7DrT/Dmjx+H/AA3p+kwnclnAsQPrgc/rQBzfxe/5Jxdf9fNv/wCjkrtY/wDVr9BXFfF7/knF1/182/8A6OSu1j/1a/SgB1FFFABRRRQAUUUUAFFFFABRRRQAUUUUAFFFFABRRRQAUUUUAFFFFABRRRQAUUUUAFFFFABRRRQAUUUUAFFFFABRRRQAUUUUAFFFFABRRRQAUUUUAFFFFABRRRQAUUUUAFFFFABRRRQAUUUUAFFFFABRRRQAUUUUAFFFFABRRRQAUUUUAFFFFABRRRQAUUUUAFFFFABRRRQAUVU1LVbDR7J7vVbuG0t0GWkmcKBXO2vi+/8AEauPCujzfZyMJqeoKYYD7qn33/IA+tAGr4tnjg8G6u80ixr9imG5mwM7DVfwD/yTnw9/2DYP/RYrEuvht/bVrcyeLdVl1q9kidIVlXy7W3YggFYQcccckk8Vf0TS/Fei6BYaXHLo8q2dukAkYSgttUDOO3SgDrKK4rxJ4i8S+G9OjuJotJuZ7iVbe1tYRLvnlboo9OhJPYAmtSJvGDwo0qaLG5UFkDSttPcZ70AdDRWD/wAVb66L/wCRaP8AirfXRf8AyLQBu4pa5HW9R8Z6Ro9xfwWOlX5gXe0ELSh2UdduepA7d6l0vVPEOtaXBqGmz6JPbXCB43XzeRQBn/GJxF8M72R87Unt2bAzwJlzxXTaHr2meINOW60e7juoh8rbThkYdQynkH2Nc74n8PeJ/FGhvpd1caTbxSSxu0kayswCOGwAfXGKvax4E03VL3+0bWW40nVQoAvrCTy3OOm4fdcezA0AdPRXKRS+LdBs2N+kHiWKPo1ogt7kj/cY7GP0ZfpVnRPHGia5cG0ine01Bfv2N6hhmX/gLdfqMigDoqKM0UAFFFFABRRRQAUUUUAFFFFABRRRQAUUUUAFFFFABRRRQAUUUUAFFFFABRRRQAUUUUAFFFFABRRRQAUUUUAFFFFABRRRQAUUUUAFFFFABRRRQAUUUUAFFFFABRRRQAUUUUAFFFFABRRRQAUUUUAFFFFABRRRQAUUUUAFFFFABRRRQAUUUUAFFFFABRUF5e22n2r3N9cRW8EYy0krhVX6k1x7+MNR8UM1p4DtSYicPrV5CwtkHfy1ODKfTHy+9AHaSzRwRNJM6xxqMs7nAUe5rjZPG2o69M1t4E0k3qBtrapeZitV9Sv8Un4ce9W9M8CWcUn2nxDdXHiC9Y5Ml+26ND/sRfcUfhn3rqVRUUKihVAwABwKAOT07wPHLfJqfi67/t7UkOYmmjCw23tHH0H1OTXWAAAAcAdKWigAxTXcIpZiAByST0pxrhtbkn8Z+KW8N2jSR6PpzK+rzIcee5GVtgfQggt7EDvQBN4fu28Y+JptfMQOj6futtLZhzM5OJZx7cBVPpuPeuzqOCGO3gSKCNI441CoiLhVA6ADsKkoAKKKKADFcEEb4f8AiwGFT/wjWtXADqOlhducA+ySHA9mPvXe1Be2cGoWM1pdxrJBOhR0I4INAE2aXFcb4Q1a90/UZfCXiOZpdRs08y0u3P8Ax/W+cBs93Xow/HvXZUAGKytc8M6P4it/K1mwhucfcdhh0PqrDkfga1aKAOI+w+MvC3/IKuI/EunJ0tbx/Kuo19Fl6Pj/AGgD71raF4003W52s3WbTdST/WaffL5Uw9wDw491yK6GqeoaVp+qxeXqVlb3adhNEGx9M9KALlFcZP4R1TRJmvPB2sTpg5Ol6hK01tJ/sgnLR/gce1La/EOC0uUsvF9hP4eu2O1XuPmt5D/sTD5fwODQB2VFMjlSaJZIXWRGGVdTkEeoNPoAKKKKACiiigAooooAKKKKACiiigAooooAKKKKACiiigAooooAKKKKACiiigAooooAKKKKACiiigAooooAKKKKACiiigAooooAKKKKACiiigAooooAKKKKACiiigAooooAKKKKACiiigAooooAKKKKACiiigAooqGW7t4biKCWeNJps+VGzgM+OTgd6AJqKpanrGnaLam51a+t7KEcb55AgPsM9a5+98TapqqLb+C9NkmeX/mI30TRW0Q9QDhpD6BRj3oA6W+1C00yzkutRuYbW3jGXlmcKo/E1y1r4q1zxFcf8Uxooh07tqeplo1kHrHEPmYe5K5pbH4fwT3iaj4uvZfEF+h3J9oG23hP+xCPlH1OTXXgAAAAAAYGKAOWbwNbanqUd/4rum1yaL/UwyoEtoT3KxAkE+7FjXUIixoFRQqrwABgCnUUAFFFFABRRXlnxy8fXfgrQtNXR7kRajc3auoIzmNOWyO4JwD9aAOw8V+JJdHFpp+lQLd6zqUnl2luxwqgfekf0RRyfXgVoeH9HGiaQls0xuJ2Zpbi4ZcGaVzuZyPcnp2GB2rzL4NeL7Pxvq2qaxqSzN4gkxGR5LeRBAPupG3QZOScnJ/CvYKACiiigAooooAKKKKAMHxP4ZTxBDbTQXDWWp2MvnWV4i5Mb9wR3QjgjuKk8L6zcaxpkn9pWy2mo2kzW95ArZCuOcg/3WUhh7Gto14d8X/iC3w+8Zx3Hh4udUvLTy7yGaI+QyjPlyA8ZdeRx24PSgD3GivKvgN45u/F/he9g1m8a61OzuCXZ/vNG/KnHYA5H4V6rQAUUUUAGKhurS3vbZ7e8gjnhcYaORQysPcGpqKAOUtvBcui3LyeFdZuNOt2Of7PmQT2qn/ZUkMo9lYCornxfqnhyfHjDShHYscJqenbpowf+miY3J9eR712FIQCpDAEEYINAFXTdVsdYs0u9Lu4bu3fpJC4YfpVuuT1HwBp7Xran4dkfQtVzu+0WfCSH/ppH91x9Rmo7PXvFOlTC38T6EbuEcDUdJPmKfdoT84/DNAHYUVxuvfFPwroGjnULjUVlCzLC9tH/r0Y9jGcMCByQQK6HQtf0vxJpaahod9Fe2r8B42zg+hHUH2NAGjRRRQAUUUUAFFFFABRRRQAUUUUAFFFFABRRRQAUUUUAFFFFABRRRQAUUUUAFFFFABRRRQAUUUUAFFFFABRRRQAUUUUAFFFFABRRRQAUUUUAFFFFABRRRQAUUUUAcnd+P7WDVr3T7XRtZ1CSxkEU72dmXRW2hsZz6EfnTf+E+/6lbxJ/wCC/wD+vTfBf/IyeMf+wsP/AERHXYUAcj/wn3/UreJP/AD/AOvR/wAJ9/1K3iT/AMAP/r111FAHI/8ACff9St4k/wDAD/69H/Cff9St4k/8AP8A69ddRQByP/Cff9St4k/8AP8A69H/AAn3/UreJP8AwXn/ABrrqKAOIuPinothFdtq9pqOlNbWrXQS/t/KMyg4wnPJJwMe9fMOr/FLxDq3xAt/FTTiK4s3zaQgbo4E/u47gjr619JeJPDmkeJfi3p1tr1hFfQR6RLIsc2SobzVGcfjW/bfDzwfZsGtvDGlRn1Fon+FAGZ4R8O6RrNjY+Kb+5Ov391EJY7y5UbYgf4Y4/upjkevqau6j48s7DX7rR4dL1bULq0RHnFlamRUDjK859K6W3tobS3SC1hjhiQYWONQqqPYCuM8O/8AJYPGH/XCy/8AQDQBa/4T7/qVvEn/AIL/AP69H/Cff9St4k/8AP8A69ddRQByP/Cff9St4k/8AP8A69H/AAn3/UreJP8AwA/+vXXUUAcj/wAJ9/1K3iT/AMAP/r0f8J9/1K3iT/wA/wDr111FAHI/8J9/1K3iT/wX/wD168g8b6PqfxE+Jtvf6p4e1+Dw5aRCILHZnzZMcsAM/LknGfavo2igDgdE8RaZ4d0uPT9F8FeILS2iGAkenYyfUnOSfetD/hPv+pW8Sf8AgB/9euuooA5H/hPv+pW8Sf8AgB/9enWnxBs59csdLutJ1jT579mS3a8tNiOyruIzn0BrrK4fxr/yP3gb/r+n/wDRDUAdxRRRQBzOq+N7XTdcm0qLStV1C5t40kl+w2vmKgfO3JyOuDVf/hPv+pW8Sf8AgB/9el0X/kqXij/r0sf5S11tAHI/8J9/1K3iT/wX/wD16w/FV7onjPS2sdf8E+IZ06pINPw8Z9VbdkV6VRQB85/DrQ9U+HPxDu7u20TX7zQrq2aFWNiRKGyCuVzzjBGR6168PH3H/IreJP8AwX//AF666igDkf8AhPv+pW8Sf+AH/wBej/hPv+pW8Sf+AH/1666igDkf+E+/6lbxJ/4Af/Xo/wCE+/6lbxJ/4Af/AF666igDkf8AhPv+pW8Sf+AH/wBej/hP/wDqVvEn/gv/APr111FAHL6b46tb/XbXSp9J1bT7i7DmFr20MavsG5hnPXFdQa5HxD/yUjwh9bz/ANE111AHhHxo+GXi3xv4shu9D0+yazggCBzKqSSMeSWz1xwBXI/DKHx38N/GV7aJ4fvNQtF2JqNtbYfZkZVgQcbsGvqWuQ8L/wDI/wDjL/rva/8AomgAHj/jnwr4k6d7D/69L/wn3/UreJP/AAA/+vXXUUAcj/wn3/UreJP/AAA/+vR/wn3/AFK3iT/wA/8Ar111FAHI/wDCff8AUreJP/AD/wCvR/wn3/UreJP/AAA/+vXXUUAcj/wn3/UreJP/AAA/+vR/wn3/AFK3iT/wA/8Ar111FAHI/wDCff8AUreJP/AD/wCvR/wn3/UreJP/AAA/+vXXUUAcj/wn/wD1K3iT/wAAP/r1Lp/ju1vtbtdLn0nV9Pnuw/kte2hjV9oyRnPpXU1yHiX/AJKH4P8A9+7/APRNAHXiiiigAooooAKKKKACiiigAooooAKKKKACiiigAooooAKKKKACiiigAooooAKKKKACiiigAooooAKKKKACiiigAooooA4/wX/yMnjH/sLD/wBEx1reI/E1h4bht2vpIxJdTrBDG0ipuZuAST0X1NZPgv8A5GTxj/2Fh/6JjrK+LLaKjeGzq/2IM2rwDNyFyYsnd1/h6Z7UAdvZags6RJdeRb3UgLCBZ1ckZ4ZTxkEc5xUp1KxG7N5bjY21v3q8H0PPWvK9dXSbrRdegtxFH4ngvS2mmPAmxlTAYyOfL27QcfLjOaXWZ/Dmk+KYdS1GKwk0ySeK31fAXEV+ozHIR3xuOfqp7GgD1W9vIrCykuZyfLjGTgcnsAPcniuav/H1po/iay0fW7C8sPt/FveybDA7cYUsGypJOOQKu+KX8zRLSSFt8LX9mWZDwU89P0rL8SDQtX8XW+ga1PayfbLCVDbSSAMSWXBUdQ3BwetAGu3iGf8A4SKbSU0W8byofOF1ujETr7fNuznI6fpzWjpmpW+q2KXdo26NiQQRgqwOCCOxBrkvBzX9v4lvNH1RJ5JtKtEgjvJOl3HuJR8/3tuA3uDT/h2JRdeKc/8AHsdbm8gjoeF3Y/4FmgCW5/5LNY/9gSX/ANHLXYVx9z/yWax/7Akv/o5a7CgArh/Dv/JYPGH/AFwsv/QDXcVw/h3/AJLB4w/64WX/AKAaAO2lljhjaSZ1jRRlmc4AH1qIX1oZI0F1CXlGY1Egy/0HeuO8e39tY654f/t47dAklkW6ZxmLzNv7sSdtuc9eM1yMUenWVn4d1Jkigt7TxPcItyy4EMTNIAM/wqeBjpQB6xPqI2xNYrHdh5hE5SdRs9Tz1I9BzVpriFZ1gM0YmZSyxlgGYeoHXFeMXN5o9hqFxme3tIm8YxSRA/uww8qPcwHcZOSenNdFoVzpFx4mv4NfzH4hs9UeeItlXMGPkZW/55bc5xxnrQB1eg+LLLWtJe/l22CJdS2224kUZaNypOffFaeo6lb6ZbLNcsf3jrHGq9XdjgKPevFPCutaNGYP+Eo/s270KTV7sWkzkEW9yZCR5gPGGXkHtXoXjHcfF3gwnm0+3vux93f5R2fr0oA3tf8AEVj4Y0J9V1ljDbxlQ+0biCTj/P0pNe8QQ6D4Zn1s2817bwRiZkt9pYp13DcQOnPWsLxELjxFrr6Xo82kXIsrdheW16zNgy5A4X0APX+9XDweJ4IPhJ4p8Kaxqdm2p6JBLahlmBE0ZH7srk5PXb68UAd/N49h05LabX9G1HSbS4dUW7nEbxKWxjcY3baDnqeKmvvGQsvGFn4eXR764mvYzLBcRtF5RQY3MSXyAMjt9M1zfjXxBpesfDibQdGuIdW1LUbZLWC1tHEpDED5mxkKB1ycdKdYoLj4meHILWdbttG0qe0v5EOfKlAjG1vQnGfegDvNP1OHUHuIlDRz2snlzRP1U4yD7gjkGuU8a/8AI/eBv+v6f/0Q1WNH3f8AC2fEu3/VfYbLd6b/AN5+uMVX8a/8j94G/wCv6f8A9ENQB3FFFFAHJaL/AMlS8Uf9elj/AClrq5JY4Y2kldY0UZZmOAB9a5TRv+SpeKf+vSx/lLTviBcWkOjWcd9B5sdxfwxDexEKsTwZfVPUd+BQB0/2iEojeam1xlTuGG+nrTTeW32U3H2iHyB1l3jaOcdenWvENFv9PGieDrTVb+HMOv3UREjeX8gMgA254XlRjpyK1I7zR4fE1tZTvbHwwuqXiSKGBt0mKKUVx0AJLkZ4yaAPSdB8QR682oCKBohY3TWxYsGEmADuBHY5qZNbtH+2vvC21jkT3DHCKQMkfgOtcv8ADiKztz4mg0wKIE1aQxqv3QCqkY9vpWDZ6Tf658BdY06yVm1KaW7Dxk4MjiZiVP1Ax+IoA7NfGH+ifbpdE1OKwYKY7kxowcMeG2Bi4HOckCrF34mEeoS2emabdarLbhftP2VowISwyFJZhlsc4Ge3qKZpnivQr7TYBa30MshjUG1Q5lU4xtKdQQeDkcVz/hW4t/CWteJ7XxHew2j3epte20txIEE0TooG0nqVKlcdRgeooA07v4h6XbaKurrbXc1jHP5F5IqqGsW3BT5qEhgAT2B45rS1nxEdMhsprTTLrVYrx1RHs2jwu77pO5hwfUZrh9D+zx3PiTW9UZLXStd1e3W0juhsE6qyqW2ns3PXqOasJYah4Q1vTtBgie78O3l6slhMDuNiQdxib/Y67T26UAdJF4yM/jK78Nw6LfG5tYVneZmjERRuhB3Z5OR07Vt6ZqVvq1it1aElCxVlYYKMDgqR2INcd4dkTUvi9r+p2LCay/s+C285M7RKrvuT6juKsfD/AM7+1vF2f+PX+2pPIx0+6u//AMezQBP4h/5KR4Q+t5/6Jrrq5HxD/wAlI8IfW8/9E111ABXIeF/+R/8AGX/Xe1/9E119ch4X/wCR/wDGX/Xe1/8ARNAHS311LaiExQCYSSqj5lVNinq3PXHoOact9aMsTLdQkTHEZEg+c+g9a5nx9Gki+HywBxrNvj8TXn0T6Xb+EdPsdkK3en+KseSqfPbAzk9MZUFSPqKAPajdW4mWIzxiRiQqbxuJHXAoS6t5VLRzxuobYSrggN6fX2rx7xXcaCbS7vFu7X7VH4qhVJxKN6AiMOAc5AxnNVdeudEtvF+vWdtcW0VibrSppYoX+XJlw7YHtjJ/OgD2We+UafPc2Xl3ZjUlUSVQGYfw7jwPxqQ3kCIDNNHEcgMGccE9BXkWpQ6XYW/jq40KWGLw/PpS5MUn7hrshs7DnGSNucd6jvLzwzfS+N2uryym26bbtHulBw3knlffOOlAHsNxfWtoVF1cwwF/u+bIF3fTNI99apYPeGeM2yIXMoYFdo6nNeN+JL/RtW0HT7XVrrSZjqeg26JdahOF+ytlg0qEg7jnqBzlVz1rrvG0MNv8F7iLSWSW1jtoQHtsBXjDruIxxyoNAGjrfjxND/st5tE1GeHVJVigmh8varN90PuYbc9f/r1p6j4gksNesNLj0q8uXvVZhPEU8uIL135YEdR0B60zxHoMHibwfcaXu2ebCDBIvWOQcowPqCAaq+D5bnV7Jdc1KF4LieJYVifgxhfvfm2T9AKANvTtTh1KOYwhle3lMMsbdUYc4/Ig/jXOeJf+SieD/wDfu/8A0TVvw/n/AIS/xPt/1fnW/T+/5Q3fj92qniX/AJKJ4P8A9+6/9E0AdfRRRQAUUUUAFFFFABRRRQAUUUUAFFFFABRRRQAUUUUAFFFFABRRRQAUUUUAFFFFABRRRQAUUUUAFFFFABRRRQAUUUUAcf4L/wCRk8Y/9hYf+iY66ySCOU/vY0fHTcua4Hw74j0XRvFfi+HVtVs7KV9UDKk8yoSPJj5we1dH/wAJ34U4/wCKj0z/AMCk/wAaANzyY94by03AYBxyBSG3hYENFGQxycqOT61if8J14V25/wCEi0zH/X0n+NH/AAnfhT/oY9M/8Ck/xoA2p7aK5tXt5kDRONpXHamRWiRqm4CR0GBI4Bb86yP+E78Kf9DHpn/gUn+NH/Cd+FP+hj0z/wACk/xoA25ofOhZA7IWGN69RTbS0gsrdYLWNYo16Ko/M/X3rG/4TvwoOviLTB/29J/jR/wnnhP/AKGPS/8AwKT/ABoAzrn/AJLNY/8AYEl/9HLXYVwVrrOm6z8YrSTSb+2vUj0WVXa3lDhSZlxnHSu9oAK4fw7/AMlg8Yf9cLL/ANANdxXm9hr2laL8YPFn9r6ja2XmW9ns+0ShN2EOcZ60AejOiyKVcAg9iM1ieG/DC+HrO6tmv7jUI7i4e4xdKh2M53MBgDjJzTf+E78Kf9DHpn/gUn+NH/Cd+FP+hj0z/wACk/xoA22t4nxviRsdMqDSmJC24opOMZwOlYf/AAnfhT/oY9M/8Ck/xo/4Tvwp/wBDHpn/AIFJ/jQBtfZYNu3yI9uc42CmXdjb31v5NzGrpkMMjlSOhB7EetZH/Cd+FP8AoY9M/wDApP8AGj/hO/Cn/Qx6Z/4FJ/jQBtQwLCo/ifGGcgbm+po+ywEkmCPJ6/IOaxf+E78Kf9DHpn/gUn+NH/Cd+FP+hj0z/wACk/xoA244IojmKJEPfaoFL5SjcUAVm6sBzWH/AMJ34U/6GPTP/ApP8aP+E78Kf9DHpn/gUn+NAGtZ2ENkr+SuXkbdJI3LOfUnvXIeNf8AkfvA3/X9P/6Iatn/AITvwp/0Memf+BSf41yniLxFo2s/ELwRHpOqWl66Xs7MsEwcqPJYZ4oA9KooooA5LRf+SpeKf+vSx/lLXVsiuuHUMPQjNcJDr2k6L8UvEn9r6la2RltLLy/tEoTfgS5xnr1re/4Tvwp/0Memf+BSf40AbbW8LHLRIT1yVFH2eLaV8qPaxyQFGDWJ/wAJ34U/6GPTP/ApP8aP+E78Kf8AQx6Z/wCBSf40AbqoFztAH0qtBp0NteS3FuPLM3MqL91m/vY9ay/+E78Kf9DHpn/gUn+NH/Cd+FP+hj0z/wACk/xoA21gjRy6RornqwUZNLJDHLjzY1fHTcoOKw/+E78Kf9DHpn/gUn+NH/Cd+FP+hj0z/wACk/xoA3HijkUCRFYDoGGcU4j6Vg/8J34U/wChj0z/AMCk/wAaP+E78Kf9DHpn/gUn+NAG1JAHhdEJi3dWTg0lpaQWNusFrGsca9h3Pcn1PvWN/wAJ34U/6GPTP/ApP8aP+E78Kf8AQx6Z/wCBSf40AUPEP/JSPCH1vP8A0TXXVwF94g0fWviZ4TTSdTtL14/tZdYJg5UeT1OOld/QAVyHhf8A5H/xl/13tf8A0TXX15/pXiHR9F+Ifi6PV9TtbJ5JbVkW4mVCw8rGRmgDpJvDCXPiD+0ru/u54VdJYrGRgYYpFGA68ZH0zWz5Ue4nYuTyTjrWH/wnfhT/AKGPTP8AwKT/ABo/4Tzwp/0Memf+BSf40AbRtYD1hjPOeUHWsjxH4Yh8Q2MNv9pksTFcR3HmW6JuYocgHcDxkA/hTD478Kjr4i0wf9vSf40f8J34U/6GPTP/AAKT/GgDaW3jWARFFZQOQVGCfXFH2WDn9xHz1+Qc1i/8J34U/wChj0z/AMCk/wAaP+E78Kf9DFpn/gUn+NABfeFvterLe2+p3VmhULLbxBGjkA6feUlTyfu4rXisreGxFokSmALs2MMgj3Hesj/hO/Cn/Qx6Z/4FJ/jR/wAJ34U/6GPTP/ApP8aANeys0sbcQRMxiU/IrHOweg9hUzLlCqnbkcEdqwh468KknHiLTDjr/pSf40f8J34U/wChi0z/AMCk/wAaANezsobGJkgXBdt7serse5Pc1zHiX/kong//AH7v/wBE1of8J34U/wChj0z/AMCk/wAa57UvEGj6z8R/CaaTqlpevG90XWCUOVHldTigD0CiiigAooooAKKKKACiiigAooooAKKKKACiiigAooooAKKKKACiiigAooooAKKKKACiiigAooooAKKKKACiiigAooooApz6PptzMZbnT7WaRuryQKxP4kVR1Ky8N6Rp01/qVjp1tawLukle3QBR+VbROOtcCP8Ai4XizeRu8NaJP8v92+u1PX3SM/m30oAseFfCen3N1eeJNQ0q3WfUiBbwS2yj7Pbr/q1244J+8e+TjtXTf2Bo/wD0CbH/AMBk/wAK0BRQBn/2Bo//AECbH/wGT/Cj+wNH/wCgTY/+Ayf4VoUUAedahpNl4M8Vz6ncabay+G9SIa6Y26sNPnwF8zpny2wM9gefWuzj0TRJY1ki0ywZGAZWW3Qgg9+lXri3iuraS3uY1lhlUo6MMhlIwQa5HwjDdeGNXuPCl05lsFQ3GkTO2W8nOGhPqUJXHsw9KAOottMsbJy9nZW9uzDBaKJVJ/IVaoooAKqXGlafdymS7sbaeQjBeWFWP5kVbooAz/7A0f8A6BNj/wCAyf4Uf2Bo/wD0CbH/AMBk/wAK0KKAM/8AsDR/+gTY/wDgMn+FH9gaP/0CbH/wGT/CtCigDP8A7A0f/oE2P/gMn+FH9gaP/wBAmx/8Bk/wrQooAz/7A0f/AKBNj/4DJ/hR/YGj/wDQJsf/AAGT/CtCigDP/sDR/wDoE2P/AIDJ/hR/YGj/APQJsf8AwGT/AArQooAz/wCwNH/6BNj/AOAyf4VJBpGm2solttPtYZF6PHCqkfiBVyigAooooAq3Gl2F5J5l3Y2074xulhVjj0yRUP8AYGj/APQJsf8AwGT/AArQooAz/wCwNH/6BNj/AOAyf4Uf2Bo//QJsf/AZP8K0KKAM/wDsDR/+gTY/+Ayf4Uf2Bo//AECbH/wGT/CtCigDP/sDR/8AoE2P/gMn+FH9gaP/ANAmx/8AAZP8K0KKAM/+wNH/AOgTY/8AgMn+FH9gaP8A9Amx/wDAZP8ACtCigDP/ALA0f/oE2P8A4DJ/hR/YGj/9Amx/8Bk/wrQooAqW+k6daTebaWFrBJjG+OFVP5gVboooAKqXGk6ddymW7sLWeQjBeWFWP5kVbpryLGheRlVFGWZjgAepoAonQdGHXSbH/wABk/wrkdUvrHUt9h4E0PTdSvN/lSXrW6fZbQ9yzYw7D+4uT64pbjWdQ8e3UmneGS9roKtsvNXxg3Azho4PqMgydu1dpp+n2mlWEVlp1vHbW0K7Y4o1wqigDC8O+BtJ0TTDDcW9vf3czmW5up7dN0sh6nGMADoAOgFa39gaP/0CbH/wGT/CtCigDP8A7A0f/oE2P/gMn+FclYaNpZ+LeswnTbMxrpdqwQ26YBLyc4xXe1x+n/8AJYtb/wCwTa/+hyUAdB/YGj/9Amx/8Bk/wo/sDR/+gTY/+Ayf4VoUUAcz4h8AeH/EWm/Zp9PgtpI2EkFxbxKrwuOjDjn6HisjTL3TdN26f420Sw027V/JivWt0+zXp7Mr4wjH+42DnOM13tVdR02z1bT5bHUraO6tZl2yRSruVhQBANB0YjI0qx/8Bk/wqa30nTrSUS2thawSDgPHCqn8wK42G9k+G06WWqzXN14bmcLa30vznTz08qU9Sn91z05B7V3UcqTRrJC6yRsMq6nIYeoNAD6KKKACiiigAooooAKKKKACiiigAooooAKKKKACiiigAooooAKKKKACiiigAooooAKKKKACiiigAooooAKKKKACgmiuAm+LmiS31/pWkpJe6zbXYs4bEYBuHP8AEpz9wc5PUYPFAGn4q1Vr3VbTwlpzSfar8b7ySJsG2tQfmJPYvjYvfkntXR6fp9ppenw2Wn26W9rAgSOKMYVRWN4U8NPokd1ealOt5rGoSebe3KjAJ/hRfRFHAH1PeuioAKKKKACiiigArF8T+Hxr2mBbedrPULcmWyvE+9BLjAPuD0IPBFbVFAHOeDvEkmu6fNBqUX2bWNPfyL+26bXH8a+qMOQa6OuS8S6LPZ6vF4s0Ti9tIit5bgf8ftuOSn++vVT+HeodJ+KnhfXfF8Xh3R7w3dxLAZhMgHljAztz/ewentQB2dFFFABRRRQAUUUUAFFFFABRRRQAUUUUAFFFFABRRRQAUUUUAFFFFABRRRQAUUUUAFFFFABRRRQAUVU1TVLPRdNm1DU7hLe1gG6SVzwozj+ZFZmv+L9O0C3tzIZLy6vMC0s7Ub5bgn+6PT1J4FAGjq+r2OhaZNqGq3KW1tCMs7n9AO59q5WxttQ8dyvd+ILOWy8Plf8ARdNlYrJdZ/5aTgdB6IeOeRViz8Kz6xraa94ubzpYyHstLzuhseOp7PJ/tHgZIHrXX0AR29vDa28cFtEkMMahUjjUKqgdAAOgqSiigAooooAK4/T/APksWt/9gm1/9Dkrqrqf7Nayz7Gk8pC+xOrYGcCvBLX4++GYfHuo601jqhhurKC2SMRJvDIzk5G//aFAH0DRUNpcC7s4bgI8YmjVwjjDLkZwR61NQAUUUUARzwRXMDw3EaSxSKVdHXIYehB61x9/ot74Q26j4UMz6bbjddaGvzq6dzBnlGHXaPlOMYFdpRQBnaLrun+IdNS+0i5WeB+DjhkPdWHUEehrRrk9T8Hywa2dd8JXUemajIR9qhdCbe9H/TRR0b/bHPrmr2heKrbVry40y5T7Fq9mcXNlI2SB2dD/ABoezD8cGgDeorO0nXtM1xbltJvIroWszQTGNs7JF6g1o0AFFFFABRRRQAUUUUAFFFFABRRRQAUUUUAFFFFABRRRQAUUUUAFFFFABRRXnlhoy+JfFWuf2lqWqotrNshS21CWFVG+TshHoPyoA9DorlP+FeaZ/wBBPXv/AAcXH/xdH/CvNM/6Cevf+Di4/wDi6AOrorlP+FeaZ/0E9e/8HNx/8XR/wrzTP+gnr3/g5uP/AIugDq6K5T/hXmmf9BPXv/Bzcf8AxdH/AArzTP8AoJ69/wCDm4/+LoA1vE+sR+H/AAtqWqzHC2ls8v4gcfrivkf4eeCvE/jzxQ+paNO1j5U/mz6mSVETk5+XHVvb86+mb/4WaDqlqbXUbvWbq2Y5eGbVp2R/qC1PtPhjodjbLb2N1rNtAgwsUOqzoq/QBqAOo063ntdNt4Lu6a7mijCvO6hTIQOWIHHNWa5T/hXmmf8AQT17/wAHNx/8XR/wrzTP+gnr3/g5uP8A4ugDq6K4HTtN/sD4pW+n2d/qU1rPpckrxXd9JOu8SKAQHJxxXfUAFFFeY+D9ATxRFrN7quq6yZU1i6gQQ6pNGqor4UBVYAYFAHp1Fcn/AMK80z/oJ69/4Obj/wCLpf8AhXmmf9BPXv8Awc3H/wAXQBe8Z6NqGv8AhK+03R9SfTbueMqk6jrx90+gPTI5r5E0aHWPhl8TtMl1u0ls5rO5UuGHDxk7WKnowIJ6V9Wf8K80z/oJ69/4Obj/AOLqrqPwn8N6vbiHVn1S+iByEudTmkAP4tQB2kbrJGrocqwDA+oNOrkIPhtpNvbpDFqOurHGoVVGrzgADoMBqk/4V5pn/QT17/wc3H/xdAHV0Vyn/CvNM/6Cevf+Dm4/+Lo/4V5pn/QT17/wc3H/AMXQB1dFcn/wrzTP+gnr3/g5uP8A4uj/AIV5pn/QT17/AMHNx/8AF0AdZRXKf8K80z/oJ69/4Obj/wCLpP8AhXmmf9BPXv8Awc3H/wAXQB1lFcp4Wsf7J8T67p0V3e3FvFHbSRi7uXnKlhJuwWJIzgV1dABRRRQAUUUUAFFFFABRRRQAUUVxz+HIPEHiXWZL6/1WP7PPHFGlrqEsKKvkxt91GA6sTQB2NFcp/wAK80z/AKCevf8Ag5uP/i6P+FeaZ/0E9e/8HNx/8XQB1dFcp/wrzTP+gnr3/g4uP/i6P+FeaZ/0E9e/8HFx/wDF0AdXRXKf8K80z/oJ69/4Obj/AOLo/wCFeaZ/0E9e/wDBzcf/ABdAHV0Vyf8AwrzTP+gnr3/g5uP/AIug/DvTCONU18e/9sXH/wAXQB5H+0b4/Dung7TJMqCJb9lPU9Vj/qfwq7+zs2ptNdNrOiXb/ugtrq1wp+SMf8sQW/h7jHHWu7i+Cng2C+a9it75btm3NcC/l8wn1Lbs5rV/4V5pn/QT17/wcXH/AMXQB1dFeXePfDkfhnwyup6Tq2tpcx3lugMmqzupDSqCCpYg8E16gvTrnigBaKK4XxBYnW/idY6Zc32oQWg0qSfy7O8kg3OJVGTsIzwaAO6orlP+FeaZ/wBBPXv/AAc3H/xdH/CvNM/6Cevf+Dm4/wDi6AOqI618i+HvAb3n7QkugTQkW1nqEk8ikceSrbl/MbR+NfSH/CvNM/6Cevf+Dm4/+LqnH8KPD8OqzalHc6wt5MgjknGqTB2Udi27JH40AdvjHSiuU/4V5pn/AEE9e/8ABzcf/F0f8K80z/oJ69/4Obj/AOLoA6uiuU/4V5pn/QT17/wcXH/xdVvBML2HibxRpgvLy5trSeDyRd3LTMgaIEgMxJxmgDtKKKxPGlxLa+BdcuLaR4potPneN0bDKwjJBB7GgDbryD4/S31votnLoei3U2oqzbdUtVbdapj5lyvJ3DseO9dTpfgLT7nR7OebVNeaSWBHY/2xcckqCf4qtH4eaZ/0E9e/8HNx/wDF0AfPv7PvjKPw342m0nUZWjtdWURqWPyrMD8pOemckflX1dXA33wY8H6nKJdShvruRekk1/KzD8d2a0U+HWlooVdT1/A4A/ti44/8eoA62iuU/wCFeaZ/0E9e/wDBzcf/ABdJ/wAK80z/AKCevf8Ag5uP/i6AOsorlP8AhXmmf9BPXv8Awc3H/wAXR/wrzTP+gnr3/g5uP/i6AOrorlP+FeaZ/wBBPXv/AAc3H/xdH/CvNM/6Cevf+Dm4/wDi6AOrorlP+FeaZ/0E9e/8HNx/8XSf8K80z/oJ69/4Obj/AOLoA6yiuP8AA8T2eqeJdNF3d3MFnfokP2udpmRTBGxG5iTjLGuwoAKKKKACiiigAooooAKKKKACiiigArj/AAh/yNPib/r5H/ocldhXH+EP+Rp8Tf8AXyP/AEOSgDsKKyNf0YavboGv76zWHc/+h3BiLnHGSOoHpXA+GtNu7v4Zf2/ca7q0101jctKk12XR/lcD5egIwOnpQB6rRXF2PjUafOLHXLJ7OOLS1vop/ND+ZGuFbKjockdznNafhzxO+u3V1BNp1xaGILJHIyNskRunzFR8w7rz2oA6GiuXOoNrvjDUtESWWG30+1QyvE+xvMlzjB7YUH865PwHot/r/hCW+l8Ta1Hfrd3EMcxvC6qEkKrlDweAMigD1SivH9S1a71ibwXfzajq9oNUaWC+t9PlcBzGjfMqqM8sucjtXXWXhuLULZoodZ8RRQJNlkuLiSOUnb/eYBtvINAHZUV5v4A0efVdMlv7zXNYnkh1C5t9kt4zI8auygFfpznrkV03hDW5dVt9QtLtt91pV49nK/8Af24Kt9dpGffNAFG5/wCSy2H/AGB5f/Ri12Fcdc/8lmsP+wPL/wCjFrsaACuH+Fv/ACCdb/7Dt5/6MNdxXD/Cz/kEa3/2Hbz/ANGUAdxRXC+NLm6tfHfhRrGOS4kdrkfZ1l2CTEfGc8cGpLTx/PebLT+wpo9XFzJaT2TTriORYjIPn6EMO/vQB21Fcc/ja7MdzNa6N50Om4GqH7SA1uwUM6oMfOVBz2z2qveePNTtZtchTQFll02FLm3jF4AbyBs/Ovy8dMY65oA7miuKm8eXMGjrqp0hZrJoLdxJBdAkySsBsAwOgIOfetbSfEct94k1DRb2wazubWNJ4yJA4libIDcDg5BBFAG/RXNabqr634v1a3UkWmjtHCFBxvmZdzE/QEY/GuZ1b4jw6d4/tc6vYnRBKdPuYBMvmxzHpIVzkKD8p/OgD0uiuC8UWs1/8TNBsF1XUrW0vLK5eWK0ujGrNGUKnjv85/Sn2n9paJ48i8OT6pcX+lapYzSwmd8z2zoVBAfqVIbgnoRQB3VFeZeBrS9utH8RzS6zqN1c2mozwWr3VwXESxn5f8Ce4r0HSL9dV0Wy1BBhbq3SYD03KD/WgDK0r/kfPEP/AFws/wCUtdDXPaV/yPniH/rhZ/ylroaACiiigAooooAKKKKACiiigArG0f8A5D3iD/r7i/8ASeKtmsbR/wDkPeIP+vuL/wBJ4qANmjNc74sllgk0OS3R5JP7TQBFfbv/AHUnBPpVC38fxHSp5Lyxa21CG+bTzaK/mBpgMjDKORjnOKAOxorJ8O62dc0ZbyaznsZA7JJDMhUgqcErkDKnqDjmuD8R6xd618LtY8S2t9eafJDO/wBka1lKERxvs59QfmOPcUAepUV5PP8A2vBeTW2h6lrVxo8ukzy3dzclw1rOq5jMcrgHJPUDNUtA1fUCfCv/AAj2s6lqmp3Qjk1a0u5GeMW7L88nzgBcHpt60Aey0VxNqLzxf4j12K51G6stO0y5FpBDZSmJ3cIrM7sOerYA6d657W5delutX8Owa9dW95pclrPp9+jYLJMxXZMo4fBU/UGgD1eiuBi1abXrKDSPEM1zoviC0mjM1vazmMXC+YFLo38cZB6dR3xWvY6qdP8AHc3hyR2aKaz+22xY5K4ba659M4I+poAzvi9/yIJ/6/rX/wBHLXbr90VxHxe/5EE/9f1r/wCjlrt1+6KAFrkbj/kstn/2BJf/AEctddXI3H/JZbP/ALAkv/o5aAOuoorjtW1uDS/GF8yafcT3kOlrKHWY7HUyYxs5xg8lsdKAOxorG8Na3Nr2mm6nt4IsPtDW9ys8b+6sP64NYsEN14z8PapcR391p0stxNBZy28mxohG5RW/Erk0AdnmivM9DnvNW+H6aDNqOpQ+Io7n7LdSfaD50cqkFn3f3CpDDtgiupj36F4g0qwWeWe3vYXhYzvvcyxruDk+pUNmgDo65Dwv/wAj94y/6+Lb/wBECuvrkPC//I/eMv8Ar4tv/RAoA6+sDx3/AMk88Q/9g24/9FtW/WB47/5J54h/7Btx/wCi2oA0dD/5F/Tv+vWL/wBBFXqo6J/yL+nf9esf/oIrF1PxZdw3l9Ho2kNqUelkC+YTiNlJXftRSPmIUg4460AdRRXJWvjRr28V7ayjOl3Gmm+sr559vn425TbjKkbhzVW58fXVrFHE2is+oxRpNe2kUjOYFbkKrKh3OQM7ePrQB29FczB4qu73xDd6ZYaO8qWVxHHcTNMqhUdNwcA88elOvdUe78c23h+PcsUdob65YHG4btqL+eT+FAHSZozXAfEnxw/hqGKDSbq1+3wkTS20s6o0kZ+QKMnrlg30WpfFmsxa78IrvxBoOpXFuFszdQT2kpRgwHQ/Q8EUAd1RXmfiI6n4F8OWniTTNYvruCF4ftllfzecJkcgHaTyrDORjritfTpV0Px5cx6hq169vq1qLmxiu5y0cZXPmoo7EAofoT6UAdrRXCCC60rQtc8T/br+f793aW91OWSKNBuwF7bsH8CK7OwvI9R063vYM+VcRLKmfRhkfzoA5zwp/wAjV4w/7CUX/pNFXV1ynhT/AJGrxh/2Eov/AEmirq6ACiiigAooooAKKKKACiiigAooooAK4/wh/wAjT4m/6+R/6HJXYVx/hD/kafE3/XyP/Q5KAOm1KC6udOnhsbhba4dCqSvH5gQ+u3IzXM6H4M1DR/ANx4afWluN8UkMNybUKY1fOcruwx5NdhRQBw7+ALy81e3utW1iO5t00xtNmt0tNnmI3Vt244OQK2vDHh670G1MN/rN1qzL8kMlwoUxxjovHU+rdTW9RQBy7aLc2XjLUdSsJRF/a1okRkZN4imjztJHcEMfyrJ0PwFr+iaK+k2/itVtJJJJHeKwVJgXYs21txA6ntXe0tAHD6r4Bvpr7Q5dD1iLTrbQkItIHsxL8xQoSzbhnj9c1vadp+uQW90dR1iG6uZFCwPHa+WkWAedu45OT69q2qKAOV8HeG77wfpd3Bf6sNSieZ7ldtr5bKzks/QnIJPAqz4S0R9Kt9QurkYudUvHvJVznbnAVfwUCuhooA465/5LNYf9geX/ANGLXY1x9z/yWWw/7A8v/oxa7CgArh/hb/yCNb/7Dt5/6MruK4f4W/8AIJ1v/sO3n/oygDY8R+GpdZvdO1CwvzY3+mu7QO0YkQ7l2sGXIzx71nf8INcRalYX9pq2y5ivGvLySS3Dm6dk2Y6jaAuQAPauxooA5O68FSf2vqNxpmptZ2mr/wDIRtTEHEh27SyNkbGK8E81pX3hizvtf0zVXLxy6ejxoiHCyKwHyt6gEAitqigDi9T+H7S+E20PRdTNhE96128jwiU5Mm/aASMAHj6Vd0zwxqNp41udfvtXS5FxaJam3W1CBQpyG3bj3LfnXT0UAcrb6Pc6R4n1qazcRR60qSxy7NwinVdpyPQgKfzpdQ8Hyal4Dk0C5urdrmW38iS9NoOf9vZn73fOevNdTRQBwEPgLxFBeaPeL4qikudJtHtYpJdOB3q+3Jb5+uEWr/8AwhN811c6tJr8za9LALeG9MK+XbJuDFUi6YYjnJyfWuwooA5qy0UeGPDV3b2m67vbySSZ32482eTqcdFGa2dJsF0vRrKwQ5W1gSEH12qB/SrlFAHPaV/yPniH/rhZ/wApa6Gue0r/AJHzxD/1ws/5S10NABRRRQAUUUUAFFFFABRRRQAVi6P/AMh7xB/19xf+k8VbVYujH/if+IP+vuL/ANJ4qAF1/Rr3VpdOeyv0s/sV0Lg74PM8whSuOox941zafDe5ktNUS616QXF3qA1G2uba3Eb2k2MZHJ3DAAwfeu9ooAoaVp8thpyw3l3JfXBGZriQAGRu5wOAPauMk8CXtx4N1DwjbaiLC3e6kkWYwCXfC77woBIwQ2R+FehUlAGPPpGoXPg+XSZdRT7bLbGA3gt+ORjdsz6e9c5/wre4bw7pVt/bjxaxo+FsdVhtwrqg42OuSHUgcg13lFAHJjwjqVnfTalpGtLa6heqn28ta74bh1UL5gj3Da2ABwelQXHgS5+xXLWGsGPVb65iuLu/ntxKZPL5RAuQFUYGAO2fWuzooAx9R8OWurPplxqIV73TZkniuEXadw+8MehHUVTtNIN548m8QygqkNmLK3DDBb5tzt+eB+FdJRQBw/xe/wCRBP8A1/Wv/o5a7dfuiuI+Lv8AyILf9f1r/wCjlrt1+6KAFrkbj/kstn/2BJf/AEctddXI3H/JZbP/ALAkv/o5aAOurkb/AMJ6xc+LLrWrPxALQyWq20US2gbywHDZJLfNkggj0PtXXUUAYfhvw6dCF7NPci4ur6YTTtHH5Ue4DHyoCccdfU1F4W0+TQ0vdKlBKC7muYHxw0cjl8fUFiK6GkxzQBmwaDZ2/iS71qNSLm6hjik9PkLfN9SCB9FFQXNs9/4rsJgp8jTklcuR1kddoA/4CWraoHFABXIeF/8AkfvGX/Xxbf8AogV19ch4X/5H7xl/18W3/ogUAdfWB47/AOSeeIf+wbcf+i2rfrA8d/8AJPPEH/YNuP8A0W1AGjon/Iv6d/16x/8AoIrDvvB1w+uX99pGrSWEeqoq38PlB95C7Q6HI2Nt4zz0HFbmh/8AIv6d/wBesX/oIq9QBz9x4O06a10S2j8yGDRpVeFEP3wFK7G9Qc5I9qrav4PuLzxKutaRrVzpU0qLDexxorpcxr04P3WGSAwrqaKAOa0Pwzf6R4o1fVZtVW4g1IofsotgnlFBtX5skn5etF/pclr45tfEMIJSSzaxuABnaN25Gx3Gcg/WulooA53QvD17p7X8mrahBqkt3P5qyNaBDGOgXqcgDGK5qL4Z6xB4f1rRYfE0aWWrSySNGNPGIN5+YIN/Ar0eigDjm8D3eqtZJ4q1n+0bSxdZIrSC3EEbuv3TJyxbGAcZHNafijwlY+K7azivi8Zs7lLiJ4zhhjqv0I4PtW9RQBkeJbJtQ8MXulwfK97C1svHChhtJ+gBJ/Cr9haR6fp9vZwf6u3iWJPoox/SrFFAHKeFP+Rq8Yf9hKL/ANJoq6uuU8J/8jV4w/7CUX/pNFXV0AFFFFABRRRQAUUUUAFFFFABRRRQAVydtoWvaVrepXmlzadJFfSeYVuVkDIdznt1+8PyrrKKAMH/AIq300X85aP+Kt9NF/OWt6igDB/4q300X85aP+Kt9NF/OWt6igDB/wCKt9NF/OWj/irf+oL+ctb1FAGD/wAVb/1Bfzlo/wCKt/6gv5y1vUUAYP8AxVv/AFBfzlo/4q300X85a3qKAOXs9B1iXxrFrurz2IWGya1WG2V+dzBskt9K6iiigAri9A8OeI/DSahBYz6XPBd3814pmWRWXzG3bTj09a7SjFAGD/xVvpov5y0f8Vb6aL+ctb1FAGD/AMVb6aL+ctH/ABVvpov5y1vUUAYP/FW+mi/nLR/xVvpov5y1vUUAYP8AxVvpov5y0f8AFW+mi/nLW9RQBg/8Vb6aL+ctH/FW+mi/nLW9RQBg/wDFW/8AUF/OWj/irfTRf/Itb1FAGFoel6lbazqWpatJamS8WFFS2DYURhupb13Vu0UUAFFFFABRRRQAUUUUAFFFFABXPPYa9aaxqFzpb6c0F5IkmLkOGUiNUx8vB+7muhooAwf+Kt9NF/OWj/irf+oL+ctb1FAGD/xVv/UF/OWj/irfTRfzlreooAwf+Kt/6gv5y0f8Vb6aL+ctb1FAGD/xVvpov5y0f8Vb6aL+ctb1FAGD/wAVb6aL+ctH/FW+mi/nLW9RQBxXifw54m8U6ONNu59Jt4TPFKzxLIzfI4bAz64rtAMClooAK5nVtD1WTxlba7pE1nmKye0eK6D87nDZBX6V01FAGD/xVv8A1Bfzlo/4q300X85a3qKAMH/irfTRfzlo/wCKt/6gv5y1vUUAYP8AxVvpov5y0f8AFW+mi/nLW9RQBgn/AIS3/qC/nLUfhvQtQ03WNa1LVZrZ5tUlicR2yttjCRhOrdc4roqKACs7xDpj614a1LS45Fie8tZIFkYZCllK5I/GtGigDm7K28WWdhBbA6MwhjWMMfNGcDGf0qb/AIq300X85a3qKAMH/irfTRfzlo/4q3/qC/nLW9RQBg/8Vb6aL+ctH/FW+mi/nLW9RQBxvhzXPFHiPQ4dTgh0eFJWdQjNKSNrlfT2rU/4q300X85azvhd/wAk+sv+us//AKOeuvoAwf8AirfTRfzlo/4q3/qC/nLW9RQBg/8AFW/9QX85aP8AirfTRfzlreooAwPDWi32mXmr3mpzW8k+pXSzlLcMFjAjRMfNyfuZ/Gt+iigAooooAKKKKACiiigAooooAKKKKACiiigAooooAKKKKACiiigAooooAKKKKACiiigAooooAKKKKACiiigAooooAKKKKACiiigAooooAKKKKACiiigAooooAKKKKACiiigAooooAKKKKACiiigAooooAKKKKACiiigAooooAKKKKACiiigAooooAKKKKACiiigAooooAKKKKACiiigAooozQByHwu/5J9Zf9dZ//Rz119cj8L/+SfWWOnmz/wDo5666gAooooAKKKKACiiigAooooAKKKKACiiigAooooAKKKKACiiigAooooAKKKKACiiigAooooAKKKKACiiigAooooAKKKKACiiigAooooAKKKKACiiigAooooAKKKKACiiigAooooAKKKKACiiigAooooAKKKKACiiigAooooAKKKKACiiigAooooAKKKKACiiigAooooAKKKKACiiigAooooAKKKzPEGvWnhvR5NSv1leJGVNkKb3ZmIVQB3JJFAGnRXIf8LAA/wCZX8Sf+C4/40f8LAH/AEK/iT/wXH/GgDr68p+PV34l0fwrbaz4W1K6s1tZdt2IGwCjDhj9Dj866f8A4WAP+hX8Sf8AguP+NZ3iHxPb+IPDd/pNz4W8SGO8gaI/8S48ZHB6+uKAPLv2d9Z8T6z4slgudTupdGsbZ3eFm+TzHbj8eWP4V9I14b8Gnk8CeEpob/wxr7X93O0krRWBZdo4UA59O3vXof8AwsBf+hX8Sf8AguP+NAHX0VyH/CwB/wBCv4k/8Fx/xo/4WAv/AEK/iT/wXH/GgDr6K5nSPHFpq2uJpL6bqmn3UkTTIt9amIOq4zg59xXTUAFFFFABRRRQAUUUUAFFFFABRRRQAUUUUAFFFFABRRRQAUUUUAFFFFABRRRQAUUUUAFFFFABRRRQAUUUUAFFFFABRRRQAUUUUAFFFFABRRRQAUUUUAFFFFABRRRQAUUUUAFFFFABRRRQAUUUUAFFFFABRRRQAUUUUAFFFFABRRRQAUUUUAFFFFABRRRQAUUUUAFFFFABRRRQAVx/xP8A+ROX/sIWf/o9K7CuQ+J3/InL/wBhC0/9HpQB19FFY2u+I7fQ/sysouJZ7qK3MSSKHTzG2hyD2FAGzRUQuoDcm3E8ZnA3GLeNwHrjrTJdQsoJvKnu4I5ODseVQeenBNAFiiqeqanb6RYtdXZbYCFAQZJJ7AVz+q+PbTQNbsbDXNPvLKC+YJDfuEMAc9FYhsqeccjFAHWUVhy+IJk8Tf2NHo15IfJ84XQaMQ7c4/vbuvHStDTNTt9VtPtFqTgO0bqwwyOpwVI7EGgDmtS/5LFon/YMuf8A0Ja7GuO1L/ksWif9gy5/9CWuxoAKKKKACiiigAooooAKKKKACiiigAooooAKKKKACiiigAooooAKKKKACiiigAooooAKKKKACiiigAooooAKKKKACiiigAooooAKKKKACiiigAooooAKKKKACiiigAooooAKKKKACiiigAooooAKKKKACiiigAooooAKKKKACiiigAooooAKKKKACiiigAooooAKKKKACiiigArkPid/yJy/9hC0/wDR6V19cf8AE/8A5E5f+whZ/wDo9KAOtl3CF/L+/tO364rxiJtLvfC+l3N8qf8ACTQa7CL0v/x8JJ55GG/i2Y6dsV7VTPJj3l/LXcepwMmgDxmD7PeeELBrUbPHFvqKCbtciTzvn3dzGUJ68YxVi7g8P6n8RobXU7nSVu7LVmuDPdSKLibK8QbGGcDIwemAMc1695MYk8zYu/puxz+dc9a+DYba+ld7+6uLN5DKLOcq6qxbcfnI3EZPQnAoAXxVhbjRPM/1H25vM9P+PeXH64qt4ml0O98QWGia3cWjC8hlQ2k0gDSBhgYHXPoa6O9sLfUbU295CssTEEq3tRBZRxRoHHnNHwryAFsduaAOL8JXGqQ+NLjRtcgfztN08Rw3p5W7h8z5Hz2bAAYev1q/4K3/ANteLevk/wBsHy/T/Ux7sfjn8c11UsfmIyhihYY3L1FMtLOCxtxDaxiNMknHViepPqT60AcrqX/JYtE/7Blz/wChLXY1x2pf8li0T/sGXP8A6EtdjQAUUUUAFFFFABRRRQAUUUUAFFFFABRRRQAUUUUAFFFFABRRRQAUUUUAFFFFABRRRQAUUUUAFFFFABRRRQAUUUUAFFFFABRRRQAUUUUAFFFFABRRRQAUUUUAFFFFABRRRQAUUUUAFFFFABRRRQAUUUUAFFFFABRRRQAUUUUAFFFFABRRRQAUUUUAFFFFABRRRQAUUUUAFFFFABXG/FOWODwQZZnVI4760Z2Y4CgToSTXZVHPbw3ULRXMSTRt95JFDKfwNAGL/wAJz4V7+ItM/wDApP8AGj/hOvCv/QxaZ/4FJ/jV3/hH9G/6BNj/AOAyf4VU1Ow8PaTps99eaZYJFCuSfsyZPoo45JOAB3JoAafHPhYDnxDpg/7ek/xo/wCE68K/9DFpn/gUn+NY3gzwTBa2tzqniDS7L+1dUk86eLyEK2y/wRLx/COp7mun/wCEf0b/AKBFj/4DJ/hQBR/4Trwr/wBDFpn/AIFJ/jR/wnXhX/oYtM/8Ck/xq9/wj+jf9Aix/wDAZP8ACmS+G9EmieKTR7Ao6lWH2ZOQfwoAqHxz4VBwfEWmf+BSf40f8J14V/6GLTP/AAKT/GsDwla6baXD+F9d0qyTUbIMLR3t0/022U4WRTjkgYDDrkZ711n9gaMf+YTY/wDgMn+FAHI/23pes/GDRzpOoW16I9MuN/2eUPt+ZeuK7+qltpdhZSb7Oxtrd8Y3RQqh/MCrdABRRRQAUUUUAFFFFABRRRQAUUUUAFFFFABRRRQAUUUUAFFFFABRRRQAUUUUAFFFFABRRRQAUUUUAFFFFABRRRQAUUUUAFFFFABRRRQAUUUUAFFFFABRRRQAUUUUAFFFFABRRRQAUUUUAFFFFABRRRQAUUUUAFFFFABRRRQAUUUUAFFFFABRRRQAUUUUAFFFFABRRRQAUUUUAFFFFABmuEmY+OfHCQRknQfD84eVh927vF5VfdY+p/2vpWp4yutSmSz0LQZTBfam5V7kdbWBRmSQe/IUe7CtrSNIstD0uHT9MhENvEOFHJJPJYnqSTySepoAu4ooooAKKKKAOb8Z+HptZ0yK60p1g1nTZPtFhMePnHVD/ssMg/WrnhbxDB4m0GK/hQxSZMVxbt96CVeGQ+4P6YrYPSuL1u5HgzxPBrCQrHo+qSCDU2UYEU5wI5z9fuMf930oA7SikBz0paACiiigAooooAKKKKACiiigAooooAKKKKACiiigAooooAKKKKACiiigAooooAKKKKACiiigAooooAKKKKACiiigAooooAKKKKACiiigAooooAKKKKACiiigAooooAKKKKACiiigAooooAKKKKACiiigAooooAKKKKACiiigAooooAKKKKACiiigAooooAKKKKACiiigAooooAK4TWvi94X8P+K73QNXmlt7i0hEvmFcpISu7YCD97BHBx1ru6+OvGOjav8AEH4269a+H7ZrqVrwx7hwkaphNzHoB8tAH034TsL67vrrxRrX7u51KJFtrTOfsluOVQnuxJ3MRxnA7V1Vcp8O/CN34L8KxabqOrT6nPnczSNlYv8AYTPO0e/6V1dABRSUtABRRRQAVW1HT7XVdNuLDUIVmtrmMxyxsOGUjBFWaKAPM38cQfC/T5dH8ZzyXH2SAyaddIMvexA4EeO0i8Ak8Ec5616BpOpwazo9pqVmcwXUSyxn2YZr5x+OPww8QwahdeKYr2fV9O+9IsrZktFz0A6bB6jpXpnwB1z+1/hXawO+6XTpGtWHoByv6EUAenUUUUAFFFFABRRRQAUUUUAFFFFABRRRQAUUUUAFFFFABRRRQAUUUUAFFFFABRRRQAUUUUAFFFFABRRRQAUUUUAFFFFABRRRQAUUUUAFFFFABRRRQAUUUUAFFFFABRRRQAUUUUAFFFFABRRRQAUUUUAFFFFABRRRQAUUUUAFFFFABRRRQAUUUUAFFFFAHkHh7wTf+LrS71W48ZeILRnv7hBDb3bBECyEAAE9MVrf8Kjuf+h98T/+BhrY+GP/ACKk/wD2Erv/ANGtXY0Aebf8Kjuf+h98T/8AgYaP+FR3P/Q++J//AAMNek0UAebf8Kjuf+h98T/+Bho/4VHc/wDQ++J//Aw16TRQB5t/wqO67ePfE2f+vw1U0/4IJpcLR2HjLxBbh2LyeTcbN7HqTjqa9UooA82/4VHc/wDQ+eJ//Aw0f8Kjuf8AoffE/wD4GGvSaKAPJ73wjfeDta0C9i8W65qAn1KO3kgvLpmjZWDZyM89K9YrjviB/rvDP/Yah/8AQWrsaACvOPFej3nif4kwaTHr2p6TbxaYbj/QJ2Te3mAc84r0euO/5rQP+wKf/RooAx/+FR3P/Q++J/8AwMNH/Co7n/offE//AIGGvSaKAPNW+EVwylW8d+JmBGCDeHBqjp3wJg0iaZtL8X69ZrOQ0iQTiMM3qduMmvWKKAPNv+FR3P8A0Pvif/wMNH/Co7n/AKH3xP8A+Bhr0migDzb/AIVHc/8AQ++J/wDwMNH/AAqO5/6H3xP/AOBhr0migDzb/hUdz/0Pvif/AMDDR/wqO5/6H3xP/wCBhr0migDyseFb7wd4z8NSp4q1rU4729eCWC9uWdCvlO2cZ9QK9Urj/Gf/ACNPgz/sKP8A+iJK7CgAooooAKKKKACiiigAooooAKKKKACiiigAooooAKKKKACiiigAooooAKKKKACiiigAooooAKKKKACiiigAooooAKKKKACiiigAooooAKKKKACiiigAooooAKKKKACiiigAooooAKKKKACiiigAooooAKKKKACiiigAooooA474Y/8AIpz/APYSu/8A0a1Wtc8Sz2fiSDQobK4P2mxnuPtiY2x7AMdTnqR29Kq/DH/kU5/+wld/+jWq34h0PUrzWrfU9Ja2MkVlcWjR3JYA+ZtIOQD0KfrQBj+BvGwudC8O2msm7e91K2ZkvJY8RzSLksufXAz0rZ0rx1pOra+dIiMkdwyGS3ZypW4QdWUqT7cHB9q5aw8E+KLex8I2s/8AZLJoMjecRNJ+9RlK8fLwcMfyrovC2ha/pcgg1e60+SztB5dq1rAVllQDCmQnjIHXHU80Aat3ezTeIodKt2Mai2NzPIvUDdtRR9TuP/Aa4zQp/GGr6z4ltY/EyB9IvPIt1ksY9kuUDDfjnHOOK6u4SSz8aJebf3N3Y/Z95OFWRHLKD9Q7flXNaP4f8a6VquvXMP8AYyf21deeJfNkY2/yBQdpUBsAZxkc0AZOq+PdavfBdpq9nfpo15b6qul6lB5Kyor79rMC3QY5FdXp0Ws31rdR2Hi+O+BKKt0LWPdAc5bAHDZHrWHqnw81W18K6fovh6aznaPUF1G8u752R55g+8nCg9T+Qrr9HHiJ76WXXIdOt4QgCR2cjSF29WLKMACgDmdBk8VXvivWLGXxIZoNJuYYyjWcaecjoGbJHIPPGK6TRdZaXXtT0K7k33VgElRz1khfO0/UYINZ3hXRNd03xRr+o6z9gFvqckcka20jsyFF24OQBggZqTRNMabx7rXiLpDPBDZwf7YjyWb8zj8KAIfiB/rvDP8A2Gof/QWrsa4/4gf63w1/2Gof/QWrsKACuOP/ACWhf+wIf/Rorsa47/mtA/7Ah/8ARooA0fHV1c2PgbVrqwuHtriG3Lxyx9VIqvc+NLLSJtOtNSjuf9JWGNroJ+7WSThVJzkkn0Bx3qz410vUda8I32maP9mFzdp5e65Zgig9T8oJzXNat4I13V7cGWewWcPZSoW3MIjC2WjXjhTjdnrknNAG7e+M/sOrx2M2haqfOn8iKZUj2yH1Ub9xHXJxwBUdn4+tb3w/earFpepKLS5+yvavEqzF8gYC7vU+tU4dI8VJ4wudWvI9JmjciKCUzybrW343BU24LHkk59BUemWem678Qpdc0LUBc2Kwj7UkJ3RSXKkqrZ/vKuQfwoA3te11tOTTbaBcXuqXCwQq/VONzMR/sgGofF+q6nofhstoVuL7Uv8AllHIfvheXJ/AH8SKh8X6ZNLqGhazArP/AGTeeZKg6mN1KMfwzmi40B/EHiKabxFY6ZfaPHCFsVfLurE5ZiCMDIx0/uigA1DXZNW+G0+u+Hr4Wsn2JrqKTyw+0qpYoyn3GD6Vj6xfeKvCnhseIjqq63awRrNeWk1qkT+WcZMbL3Gc4PpVKx8GeKNIsvE2l6VFo8WlaqZDZ2xmkH2Xeu1ui4wfvYHfNaeoeHPE3ifRU0PXJdP07TGCJc/YXeWS4jGMoCwAQHHJ5oAjv9a1e9+Ifh+00rWTBpOq2L3bRC2Rmwm04DHkbtw+mK6HRtZaTxBqWg3cm+6sVSVHI5kifO0/UEEGqdv4Xuf+E0t9WupLdLTTLd7awihB3eW4XO/PGRtOMdRSaLpjT/EDWfEXSCW3isoD/fCElm+mTj8KAIvGf/I0+DP+wo//AKIkrsK4/wAZ/wDI0+DP+wo//oiSuwoAKKKKACiiigAooooAKKKKACiiigAooooAKKKKACiiigAooooAKKKKACiiigAooooAKKKKACiiigAooooAKKKKACiiigAooooAKKKKACiiigAooooAKKKKACiiigAooooAKKKKACiiigAooooAKKKKACiiigAooooAKKKKAOO+GH/Ipz/9hK6/9GtXY1574ZfxT4Z0+409vCFxeA3k8yTxX9uquryFhwzgjg1sf8JJ4m/6EW8/8GNr/wDF0AdVRXK/8JJ4m/6EW8/8GNr/APF0f8JJ4m/6EW8/8GNr/wDF0AdSyq4w6hh7ilFcr/wknib/AKEW8/8ABja//F0f8JJ4m/6EW8/8GNr/APF0AdVRXK/8JJ4m/wChFvP/AAY2v/xdH/CSeJv+hFvP/Bja/wDxdAHUkZyCMigAKoAGABgAdq5b/hJPE3/Qi3n/AIMbX/4uj/hJPE3/AEIt5/4MbX/4ugCD4gf67wz/ANhqH/0F67GuA1g+JvEeoaJHJ4Vn0+G01GO5mnlvYHCooPZXJPWu/oAK47/mtC/9gU/+jRXY1xWs2+u2HxDj1vTNCk1W2OnG1YRXMUTK28N0dhkYoA7WiuV/4STxN/0It5/4MbX/AOLo/wCEk8Tf9CLef+DG1/8Ai6AOqIyMHmora1gs4vKtII4I8ltkaBRk9TgVzX/CSeJv+hFvP/Bja/8AxdH/AAknib/oRbz/AMGNr/8AF0AdUeetIqhF2qMAdAK5b/hJPE3/AEIt5/4MbX/4uj/hJPE3/Qi3n/gxtf8A4ugDqqK5X/hJPE3/AEIt5/4MbX/4uj/hJPE3/Qi3n/gxtf8A4ugDqSMjBoVQqgKMAdAO1ct/wknib/oRbz/wY2v/AMXR/wAJJ4m/6EW8/wDBja//ABdAEPjP/kafBn/YUf8A9ESV2FcHeDxJ4g8T+HZrjwxNptrp141xNNNeQScGJlAARiTy1d5QAUUUUAFFFFABRRRQAUUUUAFFFFABRRRQAUUUUAFFFFABRRRQAUUUUAFFFFABRRRQAUUUUAFFFFABRRRQAUUUUAFFFFABRRRQAUUUUAFFFFABRRRQAUUUUAFFFFABRRRQAUUUUAFFFFABRRRQAUUUUAFFFFABRRRQAUUUUAFFFFABRRRQAUUUUAFFFFABRRRQAUUUUAFFFFABRRRQAUUUUAFFFFABRRRQAUUUUAFFFFABRRRQAUUUUAFcV8VPGGoeCfCC6no62kt5JdR28UN1GzrIWPQbWUg4BP4V2teWfFiyuvEPirwhoyafqM2nRagLq/uLe1mZIwoG0F0XgnLcg8e1G8kvND2TfkzpNQ1fxDo2+XUb/QPI+wSOHnRrVUufl8tWdpW+U/P2z8ta8HiC0tNIsJvEGpaZZ3NzCrnF0ojdiuT5ZYgsvofSuJ+JXhe4XwjJpeiWupX663qlst63mSXDwwjbuOWJO35B3wNxrlvFms29h8QNWuZ7e/sLE6Qml3WoQ2Qv4bYHll3Iw8pgCAQd2TztAxkvp/Xa/wCbSC239dbf5s9mHiLRGuIoBrFgZpn2Rxi6Tc7egGck+1Pl1zSYFnabVLKNbZ9k5e4QCJvRueDx0NeWJpMn/CceDv8AhHtOu9Q0HRtEaXT7zZ+6llkAVS78AHaA3r6CsWDQPElz8GL3TP7Gv49Y8R6xvvHlgIKb5cs7L/CgRF5PHzYp26f1vb/NiXd/1pf/ACPcU1XT5ElaO+tmWBQ8pWZSI1IyC3PAI5BNOsdRstTt/P028t7yHcV8y3lWRcjqMg4zXmXjvwo+mS+Hv7C0qR9OOoxzay9namaWcov7t5EXmQBsk9ecGu18J6NDpFnezxx3Ylv7prmea8YGWZiANxUABBgYCgcADPOaFZ3f9dP6+X3LXT+u/wDXzKt/40ez+JGm+Ek04TPfQPcNcifHkxqDyV285IwOa6iWQQwvIwJCKWIUZPHtXmnh+C61L4965rd5p+oQWkGnxWVhNcWUsaSj7zkMygcEEfjXc2Wmaha6rcXd1r13e28m7y7KSGBY4snIwyoHOBxyx96X2V8/zdvwG/ify/LU41PH3jf+0rSC4+Gz28F3OsSTSa1FkA/xFAhPC5JHbBr0auN8IT6tfw6t4k8QadcwXjTSxWVjIhV4rdPuqoP8TkZJ7/L2Arf8Oapda14ftNQ1DS59JuJ1LPZ3By8XJAB4HbnoOtPp/XUHv/XQl1u+OmaDfX6vHGbW3ebdIpZRtUnkAjPT1FcWvizxTZfDe08Y6mmmTxfZUvLuwhtpInEbYJ2SGRhkKc4K89Mir/xXe7k+HeoWGm2l3dXOoKtsFtbaSYqjMA7EIDgBSTzVPxQlx4n8Lf8ACIeG7G9ijuUS2ub26s5LeK2gGNxHmKpdiowAoPXnFSr628v+D+g9Lq/n+n/BOul1/Sbe0tbm81K1tYrtA8BuJlj8wEAjG4jPUUTeItFtprmK41iwiktE8y4SS6RTCv8AecE/KPc154mhz3XiDxDo+r2uqG1uHht7WK3tCIrizSNQENyVKou7eWUFW64znFQwzrN4/wDFmrWunXeoXdqItK0u3itZGhDpHklpMeWuGcjJIwM+vLf931/r70hK9tf6/rVnpk2t6VbadHf3Gp2cVnKAY7l7hVjcEZGGJweKRte0hLiK3fVbJZpojNFGbhAzxgZLgZyVxzkcV5hp3hzUvD+sW2jXx1M2kGiRWlrcafZGYPIzMZ1EhUpCWO3lscAcjFaq+GW/4Tm2lXS54tI8L6KsdlbAMyzTvyVUn/WbQijv8xHem7K/bX8L/wCS+8Fd/h+Nv8/wO9g1nTLrSzqVrqNpNYAEm6jnVogBwfnBxx9a5nRvEMus/EnUoNN1iK90Sz0+J2SHynRZ5Gbo6jPCpnGf4vpXHaHYaklr4Tt9Y0XUmsme51K9iFq7Ga9Yh0WRcfIoZ3wXwMoD6UyW28T3PhnxTcXOk3kd5qGtR/aljt3Ym0R0TbGvDSjy1JO3ghuOcgFrS/r0/W/yTDp/Xr+n42PUv+En0AWs9ydc03yLchZpftce2InoGOcDp3qxb6xpl1fNZWuo2k12kYla3jnVpFQ9GKg5wfWvN/EmgTav4dvItKttTkuvEVxa2M17cWxiaO2ViW/dbQYo1XcPmAJLc54yzWdL1eDXPEn/AAj2lXiSWGhCx0uUIQrFwXkdXP33LbRwScgk+6/r8L/5fj2Df+vO3+f9M9G/4SHRTLcRDV7DzLYbp0+0pmIZxlhn5eeOasR6lYzPbpFe27tdRmW3VZVJmQYJZefmHI5HHIrm9H07SdU0aOG30OW3ig077Gk97ZtBIFIG6MLIobGQCTjBOMZ7ZHwpsZL7w3ousX8LI1jpo0+08xcEqCPMk+jFFA9lz3qratdv+D/wPvFe6v8A10/4P3Ha3+u6Tpc8cOp6pZWcsgykdxcJGzjOMgEjPJA/Gq48W+HDvxr+l/u0Ej/6bH8qk4DHngZIGfWvLfE2oWknivxQNQmu7DQtWjhsbjVU09rqEhAVdVmVsQnLFSGVgCCfYdTY+HV1H4gazqt5p7T2en2EGn6bHcxkxz4UyM67uG5YKG/3qlbXf9f1oU97f10/4P3HXX/iPRNKm8rVNY0+ykKhtlxdJGcE4BwxHGaWfxFotrNcRXOsWEMlrGJJ0kukUwp/eYE/KOepryUWut3PhHQ7V9D1J5tU1VLrxBNJaOskjqxk8vBGQgKIm84QDbg4zjX1LTNVn1Lxr4nGmXT3wgTS9Ig8liThMGVRjkb5G+boAG7ZoaaX3/p+rt+IK1/67/5K56LHruky3lvaRapZPc3UXnQQrcIXmTGd6rnLLjuOKibxRoCo7trmmhUmEDMbuPCyHoh54b261w2n+Gn0Hxh4U0q3066msdG055WuxESklwwEZZnxjKoGwOvzKAMDjHXwpqWo+EZfPsr2LUfFuuebeM0TB7K18zfg8fJ8kSjnGSwHYVVlfTb/AINv8ybu2v8AWl/6+49ag1bTrrUJ7G1v7Wa8tgDPbxzK0kQPTcoOR+NQN4j0RNRGnvrGnretJ5YtjdIJC+M7duc5x2rzrU7fWbDVvGN5oGjXqT2mlx2GltHA2NoG9mj4+di0h4XJzHzyRmS0sLuPxl4TsbHRb2PQdLtZLiKSS3ZTLcEBDJKWHyHDu2GwxOeORSWtv67/AKL7/Qb0T/rt+rPQbfxHol3OsNrrGnzSvK0Cxx3SMzSKMlAAfvAckdcVha/rV3Y/EHQ7OPVBaac1rc3eoJIsYTy4wFUl2GV+Zx3H3ar/AA88P+Xa32vaxYsmp6nqU92ouosSW6FiiKAwyvyAenWs/UEnT4r6lrN7pGpXUdlp0VtpaRWrvHPKSXY7gNq4LINzEDqc/Lwtmv66f5j7/wBdf8juhrOmHSRqg1G0Onld4u/PXyivrvzjH40y31/R7uznu7TVrGe2tm2zzRXKMkRxnDMDgHBHWvNtI8P6poWs6Fp2p6dcX8VhYTXsawRM1u+oSyktufG1disdpbHUkZPFQaXaX938PJIdf03WbTUNX1OS8lvbaydmtbhX3xs0WC5QbI1+6QfpzTdtf662/wA/w7i8v62v/l+PY9T/ALa0o6YNRGp2f2FjgXX2hfKPOPv5x1460Sa1pUWmx6jLqdmljLjy7prhRE+emGzg5rzYR68Nb8PXGs2NzpqNpkryNpWnGcR30jjexUKwjcrzuYEDcwJ60+x0y70XxPJHa6DeummaUn9iwSI0kQmkLtPI8oBQSZ2g85wTtBzSeiv6/hf/AC/EP6++3+f5nT+B9XvNcuvEF1LqQv8ATY9Ra3091WPAREXcQyAbhuJGTn7tbj6/o8dxPbyatYpNbrvmja5QNEvqwzkDkda5z4aRXun/AA4tjqFhdR3xElxPHNH5ckszkyP8rYI+Ziozjp6YNZfhPSZLu81eGXTrj+xrqB57c6pZmK4tJp2JngBYAsuQGyMjOBk0S93Tsv0/UI2evd/hf+v6R3Mmt6VDFFLNqdnHHNEZona4UCSMYy4OeV5HI45FNg8QaNdT20Ftq9jNLdRmW3jjuUZpkHVkAPzD3FeV6Hb6pc/CGLVraxuJdRt9G/snTI1iLPliEeXA/hJC89ghPQ1r2HhmTQfF3hXSrbTrq4sdF02SU3QjJSS4YCMln6ZCBsL1+ZQBgcU0k2v66/pb77C1t/Xl+rf3HYaL4x0fX9S1O0026ilOnSCORxKpD/KCzLg8qMgE9M5HarVr4m0K9mkista064kjjMjpFdo5RAcFiAeBnjNeX2trqsvgfTLS+0fU47fVdbe41oC0kMhR3eQoYwN2zIjQtjBGe3Na2k3uo2njjxDq2teHNSMOy3sLKG3szIEgA3cY4bLP8xXKrtOTwMq39fJfqxv+vv8A8kegRa1pc5tRBqVnIbzd9m2TqfP2/e2YPzYwc46YrP1jxhpGia5p2kXtzGt3qDMEUyKvlqFJ3vkjAOMD1JxXNfDrTJ9H1DVdO1DRJYJo7ySeC6KFokgk+dY0kPBwzupVfQk4zzdmW8k+MP2qXTruS1stKEVvOIj5W6Ry0h3dCQI0G0c/N0xk0dV/XS//AAA6P+utv+CdHa+ItEv5Y4rHWNPuZJXaONIbpHLsoyygA8kDkjtUtprOl37zpY6laXLW/wDrlhnVzF1+9g8dD19DXlq+GdSg+EupanFpk51/Vrp7udDAWuYYpZvnRF+8D5RPyjBJJ7mp/EOkTT6T/aemWeqXInuLO3u5JLBkcWSOWaOO1Cq+wHGQRlgT1Ao8n5f16f8ABD08z02w1bTtVWRtLv7W9WJtsht5lkCHGcHaTg4qFPEOiyQ3kser2Dx2JxdutyhFufRzn5fxxWf4W02CGW/1RUvGuNQdDJc30flSSqq4UCLCmNVyQAQG6k+p831Gz1m60XW0bRtRH9peJVk1NvskhYWaSoqiNQCZQUQElMjBPfij7Vv63S/UOl/62f8Akeqar4g03TrO7MmrabbTwRB/9LuVRIy2fLL85Ckg898HFZkfjOzsr7RdG1m8sm1jUIPMk+ySgQoQoORuO7DEgKOpzXOeNNEu7rSdRvY7C6km165tLGWOCEvJBZI+WLAZxkFyfTcAehq4j38fxJ1PUpNGvfLstGigtdsJKc7pJArAYZtwjTauTntilsrv+rK/6oN9F/WqX+ZZ8IeJ2ll1Ztf1yBopNYlstLW4MULSLHhSq4A3nfu9TxXR+JNSfRvDGpanG8aNZ2zzhpULr8qk8gEE9PUV5bpvhbUdO8N+DtNvNNvbme9vv7T1VxETsdSZUhc9EHmODzgfK3c89f8AFgXV34FuNJ0+2vJ5tSlitm+y20kpjjaRfMY7VOAFz1olF8vL12/JX++44tc1+m/4v9CvY+MddtNR8KReIU0+SPxFbsxW1geJ7WRYvMOdztuXHHbHvV/Q/EOs+MLSfVNAaxstK8x4rR7u3eZ7racGT5ZECKSCAPmJHPHSp38FWU8Zunubu6vlsZLS0nu2H+io64O1FVQD0ySN3HWsbw1qF54W+HFlog0TUZdbsbf7KltHaSGKSUZw3nbfLCHruLd/XinJrW3y/H8tPvJjey/H+vP9PMk/4WQs/hPSdQjihtLrUdR/sxzcMWhtZgWDFiCNwyhwMjORyK6rSZNY+0XkWsi1dI3X7PcW0bRiVSuTlSzYweM559q4nR/D0fhvwpY+FPFGlSatp91byTXtxDaPcKbpn3FSEBYDk4bHYcg1ufDnTL7SPDk9reNdG0W8lOmx3ZPnRWuR5atnkd8A8gEA46Uaa/15f8Fd0D6f13d/u0fmaGk+MNI1rXtS0rT7qOWbTiokYSKQ5IyQuDkhcjJ6AnFXLPxFomo3htNP1iwurkKzGGC6R3wDgnaDnAPBry5YNYm8FzRXGk6pCus+IWk1YrayeaLdpWyoQDeV2JGpYDGGOO9WLqW+j8R+KL7UtGuLO0g0lNO0qIDyRtdSdqSY2mRnKKAucEAduZ6X/q9r/m7feVb3rf1vb/gno0PifQbm5+z2+t6bLPv2eUl3GzbskYwDnOQRj2NWbHVdO1Pzf7Nv7W88ltsv2eZZPLPXBweD9a8j8NXVmY7dNWh1R9U0bRTZx6LHpT2k/kOUSWRQXbzSMD7hHsMkV2/w6sLyw0m5gvoS0dvKLaxvZrYwXFzaoo8vzFIDZUllGQM4zjnm7LX+utv6+fYm/wDXyv8A1/wTsKKKKkYUUUUAFFFFABRRRQAUUUUAFFFFABRRRQAUUUUAFFFFABRRRQAUUUUAFFFFABRRRQAUUUUAFcy3gXTwNUhtry+trLVpHlvbKJ08uVnGHOWUsu4ddrCiigLnQWdpBYWUNpZxLDbwRrHFGo4RQMAD8Kmooo3DYKKKKACiiigAooooAKKKKACszQtCtvD9lNbWck0onuZbqSSZgWZ5HLN0A45wPYCiigDTooooAKKKKACiiigDP1fSTqyW6jUb6xEMm9vscgTzRggo2Qcrz2wc4IIxVyCCK1t44LeNY4olCIijAVQMACiigDnT4FsTY3OnLfXy6TdSPJLpoMZhO9izrkpvCliTgN34wOK6VVCKFQAKowAOwoooDrcWiiigAooooAKKKKACiiigAooooAKKKKACs/V9JOrJbqNRvrEQyb2+xyBPNGCCjZByvPbBzggjFFFAFyCCK1t44LeNY4olCIijAVQMACpKKKACiiigAooooAKKKKACiiigAooooAKKKKACiiigAooooAKz9b0W117Tvsd75ihZEmjkiba8UiMGV1PqCAeQR6g0UUAQWXh2K21ZdUu7y51G+SEwRz3QjBjQkFgBGijkqCSRniteiigAooooAKKKKACiiigAooooAKKKKACiiigAooooAKKKKACiiigAooooAKKKKAP/2Q==)\n",
        "\n",
        "Dependency tree is a *directed acyclic graph* (DAG).\n",
        "> * Every node in the tree has at most one incoming edge, except the root node.\n",
        "> * by nature dependency trees *do not depict the order of the words in the sentence but emphasize more the relationship between the words in the sentence.*\n",
        "\n",
        "DAG:\n",
        "\n",
        "\n",
        "\n",
        "![image.png](data:image/png;base64,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)\n",
        "\n",
        "\n",
        "\n"
      ]
    },
    {
      "cell_type": "markdown",
      "metadata": {
        "id": "tQurtfDnvGh2"
      },
      "source": [
        "Recommended Dependency Parsers\n"
      ]
    },
    {
      "cell_type": "code",
      "metadata": {
        "id": "co4cunhMwF_2"
      },
      "source": [
        "sentence = 'The brown fox is quick and he is jumping over the lazy dog'"
      ],
      "execution_count": null,
      "outputs": []
    },
    {
      "cell_type": "code",
      "metadata": {
        "colab": {
          "base_uri": "https://localhost:8080/",
          "height": 317
        },
        "id": "OY8JmzggwGDu",
        "outputId": "17628da1-f47c-45f0-bb19-02bad6d99c40"
      },
      "source": [
        "# load dependencies\n",
        "#from spacy.en import English #didnot work"
      ],
      "execution_count": null,
      "outputs": [
        {
          "output_type": "error",
          "ename": "ModuleNotFoundError",
          "evalue": "ignored",
          "traceback": [
            "\u001b[0;31m---------------------------------------------------------------------------\u001b[0m",
            "\u001b[0;31mModuleNotFoundError\u001b[0m                       Traceback (most recent call last)",
            "\u001b[0;32m<ipython-input-79-2f3b5f1c7e6f>\u001b[0m in \u001b[0;36m<module>\u001b[0;34m()\u001b[0m\n\u001b[1;32m      1\u001b[0m \u001b[0;31m# load dependencies\u001b[0m\u001b[0;34m\u001b[0m\u001b[0;34m\u001b[0m\u001b[0;34m\u001b[0m\u001b[0m\n\u001b[0;32m----> 2\u001b[0;31m \u001b[0;32mfrom\u001b[0m \u001b[0mspacy\u001b[0m\u001b[0;34m.\u001b[0m\u001b[0men\u001b[0m \u001b[0;32mimport\u001b[0m \u001b[0mEnglish\u001b[0m\u001b[0;34m\u001b[0m\u001b[0;34m\u001b[0m\u001b[0m\n\u001b[0m",
            "\u001b[0;31mModuleNotFoundError\u001b[0m: No module named 'spacy.en'",
            "",
            "\u001b[0;31m---------------------------------------------------------------------------\u001b[0;32m\nNOTE: If your import is failing due to a missing package, you can\nmanually install dependencies using either !pip or !apt.\n\nTo view examples of installing some common dependencies, click the\n\"Open Examples\" button below.\n\u001b[0;31m---------------------------------------------------------------------------\u001b[0m\n"
          ]
        }
      ]
    },
    {
      "cell_type": "code",
      "metadata": {
        "colab": {
          "base_uri": "https://localhost:8080/"
        },
        "id": "GrFlaC2DzQdZ",
        "outputId": "a1fa698c-8f85-4333-d679-04f6599db392"
      },
      "source": [
        "import spacy\n",
        "spacy.load('en')"
      ],
      "execution_count": null,
      "outputs": [
        {
          "output_type": "execute_result",
          "data": {
            "text/plain": [
              "<spacy.lang.en.English at 0x7fe5d167cb10>"
            ]
          },
          "metadata": {
            "tags": []
          },
          "execution_count": 80
        }
      ]
    },
    {
      "cell_type": "code",
      "metadata": {
        "id": "UZd8BV_Dzkug"
      },
      "source": [
        "# load dependencies\n",
        "from spacy.lang.en import English\n",
        "#from spacy.en import English"
      ],
      "execution_count": null,
      "outputs": []
    },
    {
      "cell_type": "code",
      "metadata": {
        "id": "TifYGWniwGIy"
      },
      "source": [
        "parser = English()\n",
        "parsed_sent = parser(str(sentence))"
      ],
      "execution_count": null,
      "outputs": []
    },
    {
      "cell_type": "code",
      "metadata": {
        "colab": {
          "base_uri": "https://localhost:8080/"
        },
        "id": "KuMidfdg1Ea4",
        "outputId": "e409b127-75e8-4fae-d092-da2503d07d51"
      },
      "source": [
        "parsed_sent"
      ],
      "execution_count": null,
      "outputs": [
        {
          "output_type": "execute_result",
          "data": {
            "text/plain": [
              "The brown fox is quick and he is jumping over the lazy dog"
            ]
          },
          "metadata": {
            "tags": []
          },
          "execution_count": 85
        }
      ]
    },
    {
      "cell_type": "code",
      "metadata": {
        "colab": {
          "base_uri": "https://localhost:8080/"
        },
        "id": "FA0DyzT4wGLm",
        "outputId": "54c24c60-a5e0-4e29-cdc0-adbc4e20fbb4"
      },
      "source": [
        "dependency_pattern = '{left}<---{word}[{w_type}]--->{right}\\n--------'\n",
        "for token in parsed_sent:\n",
        "    print (\n",
        "        dependency_pattern.format(word=token.orth_,\n",
        "                                  w_type=token.dep_,\n",
        "                                  left=[t.orth_ \n",
        "                                            for t \n",
        "                                            in token.lefts],\n",
        "                                  right=[t.orth_ \n",
        "                                             for t \n",
        "                                             in token.rights])\n",
        "            )\n",
        "    #This did not work as it should\n",
        "                                             \n"
      ],
      "execution_count": null,
      "outputs": [
        {
          "output_type": "stream",
          "text": [
            "[]<---The[]--->[]\n",
            "--------\n",
            "[]<---brown[]--->[]\n",
            "--------\n",
            "[]<---fox[]--->[]\n",
            "--------\n",
            "[]<---is[]--->[]\n",
            "--------\n",
            "[]<---quick[]--->[]\n",
            "--------\n",
            "[]<---and[]--->[]\n",
            "--------\n",
            "[]<---he[]--->[]\n",
            "--------\n",
            "[]<---is[]--->[]\n",
            "--------\n",
            "[]<---jumping[]--->[]\n",
            "--------\n",
            "[]<---over[]--->[]\n",
            "--------\n",
            "[]<---the[]--->[]\n",
            "--------\n",
            "[]<---lazy[]--->[]\n",
            "--------\n",
            "[]<---dog[]--->[]\n",
            "--------\n"
          ],
          "name": "stdout"
        }
      ]
    },
    {
      "cell_type": "markdown",
      "metadata": {
        "id": "0q6QgUNL2Lvl"
      },
      "source": [
        "using nltk and the Stanford Parser to generate the dependency tree"
      ]
    },
    {
      "cell_type": "code",
      "metadata": {
        "id": "uzva-T5FwGOV"
      },
      "source": [
        "# set java path\n",
        "import os\n",
        "java_path = r'C:\\Program Files\\Java\\jdk1.8.0_102\\bin\\java.exe'\n",
        "os.environ['JAVAHOME'] = java_path"
      ],
      "execution_count": null,
      "outputs": []
    },
    {
      "cell_type": "code",
      "metadata": {
        "id": "kqVqW1wTwGRa"
      },
      "source": [
        "# perform dependency parsing\n",
        "from nltk.parse.stanford import StanfordDependencyParser"
      ],
      "execution_count": null,
      "outputs": []
    },
    {
      "cell_type": "code",
      "metadata": {
        "colab": {
          "base_uri": "https://localhost:8080/",
          "height": 341
        },
        "id": "BTSUDEJf46bq",
        "outputId": "ff8c92f7-9908-43f2-9bf4-bd151883adcf"
      },
      "source": [
        "#did not work\n",
        "sdp = StanfordDependencyParser(path_to_jar='E:/stanford/stanford-parser-full-2015-04-20/stanford-parser.jar',\n",
        "                               path_to_models_jar='E:/stanford/stanford-parser-full-2015-04-20/stanford-parser-3.5.2-models.jar')    \n",
        "result = list(sdp.raw_parse(sentence))  "
      ],
      "execution_count": null,
      "outputs": [
        {
          "output_type": "error",
          "ename": "LookupError",
          "evalue": "ignored",
          "traceback": [
            "\u001b[0;31m---------------------------------------------------------------------------\u001b[0m",
            "\u001b[0;31mLookupError\u001b[0m                               Traceback (most recent call last)",
            "\u001b[0;32m<ipython-input-92-1404102682b5>\u001b[0m in \u001b[0;36m<module>\u001b[0;34m()\u001b[0m\n\u001b[1;32m      1\u001b[0m sdp = StanfordDependencyParser(path_to_jar='E:/stanford/stanford-parser-full-2015-04-20/stanford-parser.jar',\n\u001b[0;32m----> 2\u001b[0;31m                                path_to_models_jar='E:/stanford/stanford-parser-full-2015-04-20/stanford-parser-3.5.2-models.jar')    \n\u001b[0m\u001b[1;32m      3\u001b[0m \u001b[0mresult\u001b[0m \u001b[0;34m=\u001b[0m \u001b[0mlist\u001b[0m\u001b[0;34m(\u001b[0m\u001b[0msdp\u001b[0m\u001b[0;34m.\u001b[0m\u001b[0mraw_parse\u001b[0m\u001b[0;34m(\u001b[0m\u001b[0msentence\u001b[0m\u001b[0;34m)\u001b[0m\u001b[0;34m)\u001b[0m\u001b[0;34m\u001b[0m\u001b[0;34m\u001b[0m\u001b[0m\n",
            "\u001b[0;32m/usr/local/lib/python3.7/dist-packages/nltk/parse/stanford.py\u001b[0m in \u001b[0;36m__init__\u001b[0;34m(self, path_to_jar, path_to_models_jar, model_path, encoding, verbose, java_options, corenlp_options)\u001b[0m\n\u001b[1;32m     50\u001b[0m                 \u001b[0mverbose\u001b[0m\u001b[0;34m=\u001b[0m\u001b[0mverbose\u001b[0m\u001b[0;34m,\u001b[0m \u001b[0mis_regex\u001b[0m\u001b[0;34m=\u001b[0m\u001b[0;32mTrue\u001b[0m\u001b[0;34m\u001b[0m\u001b[0;34m\u001b[0m\u001b[0m\n\u001b[1;32m     51\u001b[0m             ),\n\u001b[0;32m---> 52\u001b[0;31m             \u001b[0mkey\u001b[0m\u001b[0;34m=\u001b[0m\u001b[0;32mlambda\u001b[0m \u001b[0mmodel_path\u001b[0m\u001b[0;34m:\u001b[0m \u001b[0mos\u001b[0m\u001b[0;34m.\u001b[0m\u001b[0mpath\u001b[0m\u001b[0;34m.\u001b[0m\u001b[0mdirname\u001b[0m\u001b[0;34m(\u001b[0m\u001b[0mmodel_path\u001b[0m\u001b[0;34m)\u001b[0m\u001b[0;34m\u001b[0m\u001b[0;34m\u001b[0m\u001b[0m\n\u001b[0m\u001b[1;32m     53\u001b[0m         )\n\u001b[1;32m     54\u001b[0m \u001b[0;34m\u001b[0m\u001b[0m\n",
            "\u001b[0;32m/usr/local/lib/python3.7/dist-packages/nltk/__init__.py\u001b[0m in \u001b[0;36mfind_jar_iter\u001b[0;34m(name_pattern, path_to_jar, env_vars, searchpath, url, verbose, is_regex)\u001b[0m\n\u001b[1;32m    635\u001b[0m         \u001b[0;32melse\u001b[0m\u001b[0;34m:\u001b[0m\u001b[0;34m\u001b[0m\u001b[0;34m\u001b[0m\u001b[0m\n\u001b[1;32m    636\u001b[0m             raise LookupError('Could not find %s jar file at %s' %\n\u001b[0;32m--> 637\u001b[0;31m                             (name_pattern, path_to_jar))\n\u001b[0m\u001b[1;32m    638\u001b[0m \u001b[0;34m\u001b[0m\u001b[0m\n\u001b[1;32m    639\u001b[0m     \u001b[0;31m# Check environment variables\u001b[0m\u001b[0;34m\u001b[0m\u001b[0;34m\u001b[0m\u001b[0;34m\u001b[0m\u001b[0m\n",
            "\u001b[0;31mLookupError\u001b[0m: Could not find stanford-parser\\.jar jar file at E:/stanford/stanford-parser-full-2015-04-20/stanford-parser.jar"
          ]
        }
      ]
    },
    {
      "cell_type": "code",
      "metadata": {
        "colab": {
          "base_uri": "https://localhost:8080/",
          "height": 181
        },
        "id": "zR-8RmHGwGU2",
        "outputId": "8883aff6-6b95-4765-9ce9-24d839daf296"
      },
      "source": [
        "# generate annotated dependency parse tree\n",
        "result[0]"
      ],
      "execution_count": null,
      "outputs": [
        {
          "output_type": "error",
          "ename": "NameError",
          "evalue": "ignored",
          "traceback": [
            "\u001b[0;31m---------------------------------------------------------------------------\u001b[0m",
            "\u001b[0;31mNameError\u001b[0m                                 Traceback (most recent call last)",
            "\u001b[0;32m<ipython-input-93-f3740fb3a36c>\u001b[0m in \u001b[0;36m<module>\u001b[0;34m()\u001b[0m\n\u001b[1;32m      1\u001b[0m \u001b[0;31m# generate annotated dependency parse tree\u001b[0m\u001b[0;34m\u001b[0m\u001b[0;34m\u001b[0m\u001b[0;34m\u001b[0m\u001b[0m\n\u001b[0;32m----> 2\u001b[0;31m \u001b[0mresult\u001b[0m\u001b[0;34m[\u001b[0m\u001b[0;36m0\u001b[0m\u001b[0;34m]\u001b[0m\u001b[0;34m\u001b[0m\u001b[0;34m\u001b[0m\u001b[0m\n\u001b[0m",
            "\u001b[0;31mNameError\u001b[0m: name 'result' is not defined"
          ]
        }
      ]
    },
    {
      "cell_type": "markdown",
      "metadata": {
        "id": "6tkqUsJn5TR2"
      },
      "source": [
        "###Build your own dependency parser\n",
        "It is not very easy to build your own dependency grammar–based parsers from scratch because you need sufficient data, and just checking based on grammar production rules would not always scale well. The following example snippet shows how to build your own dependency parser. To do this, we first leverage nltk’s `DependencyGrammar` class to generate production rules from a user input grammar. Once this is done, we use `ProjectiveDependencyParser`, a projective, production rule-based dependency parser to perform the dependency based parsing:"
      ]
    },
    {
      "cell_type": "code",
      "metadata": {
        "id": "HIau-qM6wGaL"
      },
      "source": [
        "import nltk\n",
        "tokens = nltk.word_tokenize(sentence)"
      ],
      "execution_count": null,
      "outputs": []
    },
    {
      "cell_type": "code",
      "metadata": {
        "id": "Mbo2D-oMwGdk"
      },
      "source": [
        "dependency_rules = \"\"\"\n",
        "'fox' -> 'The' | 'brown'\n",
        "'quick' -> 'fox' | 'is' | 'and' | 'jumping'\n",
        "'jumping' -> 'he' | 'is' | 'dog'\n",
        "'dog' -> 'over' | 'the' | 'lazy'\n",
        "\"\"\""
      ],
      "execution_count": null,
      "outputs": []
    },
    {
      "cell_type": "code",
      "metadata": {
        "id": "_xpxKvufwGfq"
      },
      "source": [
        "dependency_grammar = nltk.grammar.DependencyGrammar.fromstring(dependency_rules)"
      ],
      "execution_count": null,
      "outputs": []
    },
    {
      "cell_type": "code",
      "metadata": {
        "colab": {
          "base_uri": "https://localhost:8080/"
        },
        "id": "WYUWHm7iwGiN",
        "outputId": "e1396bc6-c7c3-4d21-f5f2-1bdc65e834b9"
      },
      "source": [
        "# print production rules\n",
        "print (dependency_grammar)"
      ],
      "execution_count": null,
      "outputs": [
        {
          "output_type": "stream",
          "text": [
            "Dependency grammar with 12 productions\n",
            "  'fox' -> 'The'\n",
            "  'fox' -> 'brown'\n",
            "  'quick' -> 'fox'\n",
            "  'quick' -> 'is'\n",
            "  'quick' -> 'and'\n",
            "  'quick' -> 'jumping'\n",
            "  'jumping' -> 'he'\n",
            "  'jumping' -> 'is'\n",
            "  'jumping' -> 'dog'\n",
            "  'dog' -> 'over'\n",
            "  'dog' -> 'the'\n",
            "  'dog' -> 'lazy'\n"
          ],
          "name": "stdout"
        }
      ]
    },
    {
      "cell_type": "code",
      "metadata": {
        "id": "c5iDhlPkwGkO"
      },
      "source": [
        "# build dependency parser\n",
        "dp = nltk.ProjectiveDependencyParser(dependency_grammar)"
      ],
      "execution_count": null,
      "outputs": []
    },
    {
      "cell_type": "code",
      "metadata": {
        "id": "CRBILW8E63GG"
      },
      "source": [
        "# parse our sample sentence\n",
        "res = [item for item in dp.parse(tokens)]\n",
        "tree = res[0]"
      ],
      "execution_count": null,
      "outputs": []
    },
    {
      "cell_type": "code",
      "metadata": {
        "colab": {
          "base_uri": "https://localhost:8080/"
        },
        "id": "iFcr2geI63Je",
        "outputId": "05a9fc85-9e0b-40f5-c9aa-490b31431ae7"
      },
      "source": [
        "# print dependency parse tree\n",
        "print (tree)"
      ],
      "execution_count": null,
      "outputs": [
        {
          "output_type": "stream",
          "text": [
            "(quick (fox The brown) is and (jumping he is (dog over the lazy)))\n"
          ],
          "name": "stdout"
        }
      ]
    },
    {
      "cell_type": "markdown",
      "metadata": {
        "id": "-uuW4nCn7JNh"
      },
      "source": [
        "The preceding dependency parse tree is the same one as the one\n",
        "generated by the Stanford Parser. In fact, you can use `tree.draw() `to visualize the tree\n",
        "* Scaling these is always a challenge, and a lot of work is being done in large projects to generate these systems for rule-based dependency grammars. Some examples include the Lexical Functional Grammar (LFG) Pargram\n",
        "project and the Lexicalized Tree Adjoining Grammar XTAG project."
      ]
    },
    {
      "cell_type": "markdown",
      "metadata": {
        "id": "KXY0gw102oDL"
      },
      "source": [
        "#### Constituency Grammars\n",
        "* In general, a constituency-based grammar helps specify how we can break a\n",
        "sentence into various constituents. \n",
        "* Once that is done, it further helps in breaking down those constituents into further subdivisions, and this process repeats till we reach the level of individual tokens or words. \n",
        "* These grammars have various production rules and usually a context-free grammar (CFG) or phrase structured grammar is sufficient for this.\n",
        "\n",
        "Each and every word usually belongs to a specific lexical category in the case and forms the head word of different phrases. These phrases are formed based on rules called phrase structure rules . Hence, constituency grammars are also called phrase structure grammars.\n",
        "\n",
        "Once we have a set of grammar rules, a constituency parser can be built that will\n",
        "process input sentences according to these rules and help in building a parse tree. The\n",
        "parser is what brings the grammar to life and can be said to be a procedural interpretation\n",
        "of the grammar. There are various types of parsing algorithms, including the following:\n",
        "* Recursive Descent parsing\n",
        "* Shift Reduce parsing\n",
        "* Chart parsing\n",
        "* Bottom-up parsing\n",
        "* Top-down parsing\n",
        "* PCFG parsing\n",
        "\n",
        "\n",
        "\n",
        "*Recursive Descent* parsing usually follows a top-down parsing approach and it reads in tokens from the input sentence and tries to match them with the terminals from the grammar production rules. It keeps looking ahead by one token and advances the input read pointer each time it gets a match.\n",
        "* *Shift Reduce* parsing follows a bottom-up parsing approach where it finds sequences of tokens (words/phrases) that correspond to the righthand side of grammar productions and then replaces it with the lefthand side for that rule. This process continues until the whole sentence is reduced to give us a parse tree.\n",
        "* *Chart parsing* uses dynamic programming , which stores intermediate results and reuses them when needed to get significant efficiency gains. In this case, chart parsers store partial solutions and look them up when needed to get to the complete solution."
      ]
    },
    {
      "cell_type": "code",
      "metadata": {
        "id": "iC9sIsa0WSO0"
      },
      "source": [
        "# set java path\n",
        "import os\n",
        "java_path = r'C:\\Program Files\\Java\\jdk1.8.0_102\\bin\\java.exe'\n",
        "os.environ['JAVAHOME'] = java_path"
      ],
      "execution_count": null,
      "outputs": []
    },
    {
      "cell_type": "code",
      "metadata": {
        "id": "XAaMwKZQWSTO"
      },
      "source": [
        "sentence = 'The brown fox is quick and he is jumping over the lazy dog'"
      ],
      "execution_count": null,
      "outputs": []
    },
    {
      "cell_type": "code",
      "metadata": {
        "id": "F-QTqd2sWSU2"
      },
      "source": [
        "from nltk.parse.stanford import StanfordParser"
      ],
      "execution_count": null,
      "outputs": []
    },
    {
      "cell_type": "code",
      "metadata": {
        "id": "MAdcGde8WSZe",
        "colab": {
          "base_uri": "https://localhost:8080/"
        },
        "outputId": "43260a14-9102-4ec1-d883-c24628b9e916"
      },
      "source": [
        "from google.colab import drive\n",
        "drive.mount('/content/drive')"
      ],
      "execution_count": 107,
      "outputs": [
        {
          "output_type": "stream",
          "text": [
            "Mounted at /content/drive\n"
          ],
          "name": "stdout"
        }
      ]
    },
    {
      "cell_type": "code",
      "metadata": {
        "colab": {
          "base_uri": "https://localhost:8080/",
          "height": 341
        },
        "id": "JvTxyv9-WSW6",
        "outputId": "697258d3-7f4b-451b-bb80-b8ef07f2232b"
      },
      "source": [
        "# create parser object\n",
        "scp = StanfordParser(path_to_jar='content/drive/stanford/stanford-parserfull-2015-04-20/stanford-parser.jar', \n",
        "                     path_to_models_jar='content/drive/stanford/stanford-parser-full-2015-04-20/stanford-parser-3.5.2-models.jar')"
      ],
      "execution_count": 109,
      "outputs": [
        {
          "output_type": "error",
          "ename": "LookupError",
          "evalue": "ignored",
          "traceback": [
            "\u001b[0;31m---------------------------------------------------------------------------\u001b[0m",
            "\u001b[0;31mLookupError\u001b[0m                               Traceback (most recent call last)",
            "\u001b[0;32m<ipython-input-109-908ccf446ee1>\u001b[0m in \u001b[0;36m<module>\u001b[0;34m()\u001b[0m\n\u001b[1;32m      1\u001b[0m \u001b[0;31m# create parser object\u001b[0m\u001b[0;34m\u001b[0m\u001b[0;34m\u001b[0m\u001b[0;34m\u001b[0m\u001b[0m\n\u001b[1;32m      2\u001b[0m scp = StanfordParser(path_to_jar='content/drive/stanford/stanford-parserfull-2015-04-20/stanford-parser.jar', \n\u001b[0;32m----> 3\u001b[0;31m                      path_to_models_jar='content/drive/stanford/stanford-parser-full-2015-04-20/stanford-parser-3.5.2-models.jar')\n\u001b[0m",
            "\u001b[0;32m/usr/local/lib/python3.7/dist-packages/nltk/parse/stanford.py\u001b[0m in \u001b[0;36m__init__\u001b[0;34m(self, path_to_jar, path_to_models_jar, model_path, encoding, verbose, java_options, corenlp_options)\u001b[0m\n\u001b[1;32m     50\u001b[0m                 \u001b[0mverbose\u001b[0m\u001b[0;34m=\u001b[0m\u001b[0mverbose\u001b[0m\u001b[0;34m,\u001b[0m \u001b[0mis_regex\u001b[0m\u001b[0;34m=\u001b[0m\u001b[0;32mTrue\u001b[0m\u001b[0;34m\u001b[0m\u001b[0;34m\u001b[0m\u001b[0m\n\u001b[1;32m     51\u001b[0m             ),\n\u001b[0;32m---> 52\u001b[0;31m             \u001b[0mkey\u001b[0m\u001b[0;34m=\u001b[0m\u001b[0;32mlambda\u001b[0m \u001b[0mmodel_path\u001b[0m\u001b[0;34m:\u001b[0m \u001b[0mos\u001b[0m\u001b[0;34m.\u001b[0m\u001b[0mpath\u001b[0m\u001b[0;34m.\u001b[0m\u001b[0mdirname\u001b[0m\u001b[0;34m(\u001b[0m\u001b[0mmodel_path\u001b[0m\u001b[0;34m)\u001b[0m\u001b[0;34m\u001b[0m\u001b[0;34m\u001b[0m\u001b[0m\n\u001b[0m\u001b[1;32m     53\u001b[0m         )\n\u001b[1;32m     54\u001b[0m \u001b[0;34m\u001b[0m\u001b[0m\n",
            "\u001b[0;32m/usr/local/lib/python3.7/dist-packages/nltk/__init__.py\u001b[0m in \u001b[0;36mfind_jar_iter\u001b[0;34m(name_pattern, path_to_jar, env_vars, searchpath, url, verbose, is_regex)\u001b[0m\n\u001b[1;32m    635\u001b[0m         \u001b[0;32melse\u001b[0m\u001b[0;34m:\u001b[0m\u001b[0;34m\u001b[0m\u001b[0;34m\u001b[0m\u001b[0m\n\u001b[1;32m    636\u001b[0m             raise LookupError('Could not find %s jar file at %s' %\n\u001b[0;32m--> 637\u001b[0;31m                             (name_pattern, path_to_jar))\n\u001b[0m\u001b[1;32m    638\u001b[0m \u001b[0;34m\u001b[0m\u001b[0m\n\u001b[1;32m    639\u001b[0m     \u001b[0;31m# Check environment variables\u001b[0m\u001b[0;34m\u001b[0m\u001b[0;34m\u001b[0m\u001b[0;34m\u001b[0m\u001b[0m\n",
            "\u001b[0;31mLookupError\u001b[0m: Could not find stanford-parser\\.jar jar file at content/drive/stanford/stanford-parserfull-2015-04-20/stanford-parser.jar"
          ]
        }
      ]
    },
    {
      "cell_type": "code",
      "metadata": {
        "id": "6rh07TVMWSec"
      },
      "source": [
        ""
      ],
      "execution_count": null,
      "outputs": []
    },
    {
      "cell_type": "markdown",
      "metadata": {
        "id": "mHMM--cHdxQt"
      },
      "source": [
        "####constituency parser that scales well and is efficient (Recommended)\n",
        "weighted grammars like `PCFG` (Probabilistic Context Free Grammar) and probabilistic parsers like the `Viterbi` parser prove to be more effective.\n",
        "* A PCFG is a context-free grammar that associates a\n",
        "probability with each of its production rules. The probability of a parse tree generated from a PCFG is simply the production of the individual probabilities of the productions used to generate it."
      ]
    },
    {
      "cell_type": "code",
      "metadata": {
        "id": "jzdwrMHcWShU"
      },
      "source": [
        "import nltk\n",
        "from nltk.grammar import Nonterminal\n",
        "from nltk.corpus import treebank"
      ],
      "execution_count": 110,
      "outputs": []
    },
    {
      "cell_type": "code",
      "metadata": {
        "id": "DJEbhnOJWSjt"
      },
      "source": [
        "# get training data\n",
        "training_set = treebank.parsed_sents()"
      ],
      "execution_count": 111,
      "outputs": []
    },
    {
      "cell_type": "code",
      "metadata": {
        "id": "p9AFVQiJWSms",
        "colab": {
          "base_uri": "https://localhost:8080/"
        },
        "outputId": "ea4ad343-70f9-474b-aebe-84bfbbf498f8"
      },
      "source": [
        "# view a sample training sentence\n",
        "print (training_set[1])"
      ],
      "execution_count": 112,
      "outputs": [
        {
          "output_type": "stream",
          "text": [
            "(S\n",
            "  (NP-SBJ (NNP Mr.) (NNP Vinken))\n",
            "  (VP\n",
            "    (VBZ is)\n",
            "    (NP-PRD\n",
            "      (NP (NN chairman))\n",
            "      (PP\n",
            "        (IN of)\n",
            "        (NP\n",
            "          (NP (NNP Elsevier) (NNP N.V.))\n",
            "          (, ,)\n",
            "          (NP (DT the) (NNP Dutch) (VBG publishing) (NN group))))))\n",
            "  (. .))\n"
          ],
          "name": "stdout"
        }
      ]
    },
    {
      "cell_type": "markdown",
      "metadata": {
        "id": "syYhQ2jtfHjw"
      },
      "source": [
        "Now we will build the production rules for our grammar by extracting the\n",
        "productions from the tagged and annotated training sentences and adding them:"
      ]
    },
    {
      "cell_type": "code",
      "metadata": {
        "id": "Ndsube5Je5fa"
      },
      "source": [
        "# extract the productions for all annotated training sentences\n",
        "treebank_productions = list(\n",
        "                        set(production \n",
        "                            for sent in training_set  \n",
        "                            for production in sent.productions()\n",
        "                        )\n",
        "                    )"
      ],
      "execution_count": 113,
      "outputs": []
    },
    {
      "cell_type": "code",
      "metadata": {
        "colab": {
          "base_uri": "https://localhost:8080/"
        },
        "id": "pzjYZ6dxe5jU",
        "outputId": "e555de51-6e20-48b7-8aef-71a8980964d5"
      },
      "source": [
        "# view sample productions\n",
        "treebank_productions[0:10]"
      ],
      "execution_count": 114,
      "outputs": [
        {
          "output_type": "execute_result",
          "data": {
            "text/plain": [
              "[RB -> 'adequately',\n",
              " VP -> VBD NP-PRD ADVP-TMP SBAR-1,\n",
              " VP -> VBD NP-CLR PP-LOC , PP,\n",
              " VBD -> 'bled',\n",
              " NP-SBJ -> DT NNS NN,\n",
              " VBG -> 'mating',\n",
              " CD -> '13.73',\n",
              " NN -> 'claim',\n",
              " PRN -> , PP-TMP ,,\n",
              " TO -> 'to']"
            ]
          },
          "metadata": {
            "tags": []
          },
          "execution_count": 114
        }
      ]
    },
    {
      "cell_type": "code",
      "metadata": {
        "id": "VBWXp5p4WSo9"
      },
      "source": [
        "# add productions for each word, POS tag\n",
        "for word, tag in treebank.tagged_words():\n",
        "\tt = nltk.Tree.fromstring(\"(\"+ tag + \" \" + word  +\")\")\n",
        "\tfor production in t.productions():\n",
        "\t\ttreebank_productions.append(production)"
      ],
      "execution_count": 115,
      "outputs": []
    },
    {
      "cell_type": "code",
      "metadata": {
        "id": "wtM1VuSKfkBy"
      },
      "source": [
        "# build the PCFG based grammar  \n",
        "treebank_grammar = nltk.grammar.induce_pcfg(Nonterminal('S'), \n",
        "                                         treebank_productions)\n"
      ],
      "execution_count": 116,
      "outputs": []
    },
    {
      "cell_type": "markdown",
      "metadata": {
        "id": "uHXioCXwf2mp"
      },
      "source": [
        "Now that we have our necessary grammar with production rules, we will create\n",
        "our parser using the following snippet by training it on the grammar and then trying to evaluate it on our sample sentence:"
      ]
    },
    {
      "cell_type": "code",
      "metadata": {
        "id": "vQQQNHGVfkFE"
      },
      "source": [
        "# build the parser\n",
        "viterbi_parser = nltk.ViterbiParser(treebank_grammar)"
      ],
      "execution_count": 117,
      "outputs": []
    },
    {
      "cell_type": "code",
      "metadata": {
        "id": "hBRJWodjgdfe"
      },
      "source": [
        "sentence = 'The brown fox is quick and he is jumping over the lazy dog'"
      ],
      "execution_count": 120,
      "outputs": []
    },
    {
      "cell_type": "code",
      "metadata": {
        "id": "KYxPdVXZfywZ"
      },
      "source": [
        "# get sample sentence tokens\n",
        "tokens = nltk.word_tokenize(sentence)"
      ],
      "execution_count": 121,
      "outputs": []
    },
    {
      "cell_type": "code",
      "metadata": {
        "colab": {
          "base_uri": "https://localhost:8080/",
          "height": 324
        },
        "id": "FMnH0CVTfyzm",
        "outputId": "baaa9e74-3bac-41d8-88e0-97924cba9229"
      },
      "source": [
        "# get parse tree\n",
        "result = list(viterbi_parser.parse(tokens))"
      ],
      "execution_count": 122,
      "outputs": [
        {
          "output_type": "error",
          "ename": "ValueError",
          "evalue": "ignored",
          "traceback": [
            "\u001b[0;31m---------------------------------------------------------------------------\u001b[0m",
            "\u001b[0;31mValueError\u001b[0m                                Traceback (most recent call last)",
            "\u001b[0;32m<ipython-input-122-cb5a0d50cd47>\u001b[0m in \u001b[0;36m<module>\u001b[0;34m()\u001b[0m\n\u001b[1;32m      1\u001b[0m \u001b[0;31m# get parse tree\u001b[0m\u001b[0;34m\u001b[0m\u001b[0;34m\u001b[0m\u001b[0;34m\u001b[0m\u001b[0m\n\u001b[0;32m----> 2\u001b[0;31m \u001b[0mresult\u001b[0m \u001b[0;34m=\u001b[0m \u001b[0mlist\u001b[0m\u001b[0;34m(\u001b[0m\u001b[0mviterbi_parser\u001b[0m\u001b[0;34m.\u001b[0m\u001b[0mparse\u001b[0m\u001b[0;34m(\u001b[0m\u001b[0mtokens\u001b[0m\u001b[0;34m)\u001b[0m\u001b[0;34m)\u001b[0m\u001b[0;34m\u001b[0m\u001b[0;34m\u001b[0m\u001b[0m\n\u001b[0m",
            "\u001b[0;32m/usr/local/lib/python3.7/dist-packages/nltk/parse/viterbi.py\u001b[0m in \u001b[0;36mparse\u001b[0;34m(self, tokens)\u001b[0m\n\u001b[1;32m    110\u001b[0m \u001b[0;34m\u001b[0m\u001b[0m\n\u001b[1;32m    111\u001b[0m         \u001b[0mtokens\u001b[0m \u001b[0;34m=\u001b[0m \u001b[0mlist\u001b[0m\u001b[0;34m(\u001b[0m\u001b[0mtokens\u001b[0m\u001b[0;34m)\u001b[0m\u001b[0;34m\u001b[0m\u001b[0;34m\u001b[0m\u001b[0m\n\u001b[0;32m--> 112\u001b[0;31m         \u001b[0mself\u001b[0m\u001b[0;34m.\u001b[0m\u001b[0m_grammar\u001b[0m\u001b[0;34m.\u001b[0m\u001b[0mcheck_coverage\u001b[0m\u001b[0;34m(\u001b[0m\u001b[0mtokens\u001b[0m\u001b[0;34m)\u001b[0m\u001b[0;34m\u001b[0m\u001b[0;34m\u001b[0m\u001b[0m\n\u001b[0m\u001b[1;32m    113\u001b[0m \u001b[0;34m\u001b[0m\u001b[0m\n\u001b[1;32m    114\u001b[0m         \u001b[0;31m# The most likely constituent table.  This table specifies the\u001b[0m\u001b[0;34m\u001b[0m\u001b[0;34m\u001b[0m\u001b[0;34m\u001b[0m\u001b[0m\n",
            "\u001b[0;32m/usr/local/lib/python3.7/dist-packages/nltk/grammar.py\u001b[0m in \u001b[0;36mcheck_coverage\u001b[0;34m(self, tokens)\u001b[0m\n\u001b[1;32m    646\u001b[0m             \u001b[0mmissing\u001b[0m \u001b[0;34m=\u001b[0m \u001b[0;34m', '\u001b[0m\u001b[0;34m.\u001b[0m\u001b[0mjoin\u001b[0m\u001b[0;34m(\u001b[0m\u001b[0;34m'%r'\u001b[0m \u001b[0;34m%\u001b[0m \u001b[0;34m(\u001b[0m\u001b[0mw\u001b[0m\u001b[0;34m,\u001b[0m\u001b[0;34m)\u001b[0m \u001b[0;32mfor\u001b[0m \u001b[0mw\u001b[0m \u001b[0;32min\u001b[0m \u001b[0mmissing\u001b[0m\u001b[0;34m)\u001b[0m\u001b[0;34m\u001b[0m\u001b[0;34m\u001b[0m\u001b[0m\n\u001b[1;32m    647\u001b[0m             raise ValueError(\"Grammar does not cover some of the \"\n\u001b[0;32m--> 648\u001b[0;31m                              \"input words: %r.\" % missing)\n\u001b[0m\u001b[1;32m    649\u001b[0m \u001b[0;34m\u001b[0m\u001b[0m\n\u001b[1;32m    650\u001b[0m     \u001b[0;32mdef\u001b[0m \u001b[0m_calculate_grammar_forms\u001b[0m\u001b[0;34m(\u001b[0m\u001b[0mself\u001b[0m\u001b[0;34m)\u001b[0m\u001b[0;34m:\u001b[0m\u001b[0;34m\u001b[0m\u001b[0;34m\u001b[0m\u001b[0m\n",
            "\u001b[0;31mValueError\u001b[0m: Grammar does not cover some of the input words: \"'brown', 'fox', 'lazy', 'dog'\"."
          ]
        }
      ]
    },
    {
      "cell_type": "markdown",
      "metadata": {
        "id": "DBIlMfwUgn-0"
      },
      "source": [
        "Unfortunately, we get an error when we try to parse our sample sentence tokens\n",
        "with our newly built parser. The reason is quite clear from the error: Some of the words in our sample sentence are not covered by the treebank -based grammar because they are not present in our `treebank` corpus. \n",
        "* Now, because this constituency-based grammar uses `POS` tags and phrase tags to build the tree based on the training data, we will add the token and `POS `tags for our sample sentence in our grammar and rebuild the parser:"
      ]
    },
    {
      "cell_type": "code",
      "metadata": {
        "id": "kewJHciBfy4N"
      },
      "source": [
        "# get tokens and their POS tags\n",
        "from pattern.en import tag as pos_tagger\n",
        "tagged_sent = pos_tagger(sentence)"
      ],
      "execution_count": 123,
      "outputs": []
    },
    {
      "cell_type": "code",
      "metadata": {
        "colab": {
          "base_uri": "https://localhost:8080/"
        },
        "id": "5_iiBlCdfy7l",
        "outputId": "62f949a5-b220-40b1-f37e-f978f5a420a3"
      },
      "source": [
        "# check the tokens and their POS tags\n",
        "tagged_sent"
      ],
      "execution_count": 124,
      "outputs": [
        {
          "output_type": "execute_result",
          "data": {
            "text/plain": [
              "[('The', 'DT'),\n",
              " ('brown', 'JJ'),\n",
              " ('fox', 'NN'),\n",
              " ('is', 'VBZ'),\n",
              " ('quick', 'JJ'),\n",
              " ('and', 'CC'),\n",
              " ('he', 'PRP'),\n",
              " ('is', 'VBZ'),\n",
              " ('jumping', 'VBG'),\n",
              " ('over', 'IN'),\n",
              " ('the', 'DT'),\n",
              " ('lazy', 'JJ'),\n",
              " ('dog', 'NN')]"
            ]
          },
          "metadata": {
            "tags": []
          },
          "execution_count": 124
        }
      ]
    },
    {
      "cell_type": "code",
      "metadata": {
        "id": "r96cHyq1fkHi"
      },
      "source": [
        "# extend productions for sample sentence tokens\n",
        "for word, tag in tagged_sent:\n",
        "    t = nltk.Tree.fromstring(\"(\"+ tag + \" \" + word  +\")\")\n",
        "    for production in t.productions():\n",
        "\t\t    treebank_productions.append(production)"
      ],
      "execution_count": 127,
      "outputs": []
    },
    {
      "cell_type": "code",
      "metadata": {
        "id": "rLEy3m3tWSuM"
      },
      "source": [
        "# rebuild grammar\n",
        "treebank_grammar = nltk.grammar.induce_pcfg(Nonterminal('S'), \n",
        "                                         treebank_productions)"
      ],
      "execution_count": 128,
      "outputs": []
    },
    {
      "cell_type": "code",
      "metadata": {
        "id": "YX4oZqgnhLUL"
      },
      "source": [
        "# rebuild parser\n",
        "viterbi_parser = nltk.ViterbiParser(treebank_grammar)"
      ],
      "execution_count": 129,
      "outputs": []
    },
    {
      "cell_type": "code",
      "metadata": {
        "id": "NVgN2plWhLXW"
      },
      "source": [
        "# get parse tree for sample sentence\n",
        "result = list(viterbi_parser.parse(tokens))"
      ],
      "execution_count": 130,
      "outputs": []
    },
    {
      "cell_type": "code",
      "metadata": {
        "colab": {
          "base_uri": "https://localhost:8080/"
        },
        "id": "0TtXb5S7hLZx",
        "outputId": "6cc351b9-4dcd-456a-caf4-23a474127ea4"
      },
      "source": [
        "print (result[0])\n",
        "       "
      ],
      "execution_count": 131,
      "outputs": [
        {
          "output_type": "stream",
          "text": [
            "(S\n",
            "  (NP-SBJ-125 (DT The) (JJ brown) (NN fox))\n",
            "  (VP\n",
            "    (VBZ is)\n",
            "    (PRT (JJ quick))\n",
            "    (S\n",
            "      (CC and)\n",
            "      (NP-SBJ (PRP he))\n",
            "      (VP\n",
            "        (VBZ is)\n",
            "        (PP-1\n",
            "          (VBG jumping)\n",
            "          (NP (IN over) (DT the) (JJ lazy) (NN dog))))))) (p=2.02604e-48)\n"
          ],
          "name": "stdout"
        }
      ]
    },
    {
      "cell_type": "code",
      "metadata": {
        "colab": {
          "base_uri": "https://localhost:8080/",
          "height": 324
        },
        "id": "rl224-fwhLcv",
        "outputId": "e7bcf3ea-8b05-4a8d-9451-29a8bc63c2d1"
      },
      "source": [
        "#Visualize\n",
        "result[0].draw() #this draw() breaks all the time. why?"
      ],
      "execution_count": 132,
      "outputs": [
        {
          "output_type": "error",
          "ename": "TclError",
          "evalue": "ignored",
          "traceback": [
            "\u001b[0;31m---------------------------------------------------------------------------\u001b[0m",
            "\u001b[0;31mTclError\u001b[0m                                  Traceback (most recent call last)",
            "\u001b[0;32m<ipython-input-132-d89da3bfad95>\u001b[0m in \u001b[0;36m<module>\u001b[0;34m()\u001b[0m\n\u001b[1;32m      1\u001b[0m \u001b[0;31m#Visualize\u001b[0m\u001b[0;34m\u001b[0m\u001b[0;34m\u001b[0m\u001b[0;34m\u001b[0m\u001b[0m\n\u001b[0;32m----> 2\u001b[0;31m \u001b[0mresult\u001b[0m\u001b[0;34m[\u001b[0m\u001b[0;36m0\u001b[0m\u001b[0;34m]\u001b[0m\u001b[0;34m.\u001b[0m\u001b[0mdraw\u001b[0m\u001b[0;34m(\u001b[0m\u001b[0;34m)\u001b[0m\u001b[0;34m\u001b[0m\u001b[0;34m\u001b[0m\u001b[0m\n\u001b[0m",
            "\u001b[0;32m/usr/local/lib/python3.7/dist-packages/nltk/tree.py\u001b[0m in \u001b[0;36mdraw\u001b[0;34m(self)\u001b[0m\n\u001b[1;32m    688\u001b[0m         \"\"\"\n\u001b[1;32m    689\u001b[0m         \u001b[0;32mfrom\u001b[0m \u001b[0mnltk\u001b[0m\u001b[0;34m.\u001b[0m\u001b[0mdraw\u001b[0m\u001b[0;34m.\u001b[0m\u001b[0mtree\u001b[0m \u001b[0;32mimport\u001b[0m \u001b[0mdraw_trees\u001b[0m\u001b[0;34m\u001b[0m\u001b[0;34m\u001b[0m\u001b[0m\n\u001b[0;32m--> 690\u001b[0;31m         \u001b[0mdraw_trees\u001b[0m\u001b[0;34m(\u001b[0m\u001b[0mself\u001b[0m\u001b[0;34m)\u001b[0m\u001b[0;34m\u001b[0m\u001b[0;34m\u001b[0m\u001b[0m\n\u001b[0m\u001b[1;32m    691\u001b[0m \u001b[0;34m\u001b[0m\u001b[0m\n\u001b[1;32m    692\u001b[0m     \u001b[0;32mdef\u001b[0m \u001b[0mpretty_print\u001b[0m\u001b[0;34m(\u001b[0m\u001b[0mself\u001b[0m\u001b[0;34m,\u001b[0m \u001b[0msentence\u001b[0m\u001b[0;34m=\u001b[0m\u001b[0;32mNone\u001b[0m\u001b[0;34m,\u001b[0m \u001b[0mhighlight\u001b[0m\u001b[0;34m=\u001b[0m\u001b[0;34m(\u001b[0m\u001b[0;34m)\u001b[0m\u001b[0;34m,\u001b[0m \u001b[0mstream\u001b[0m\u001b[0;34m=\u001b[0m\u001b[0;32mNone\u001b[0m\u001b[0;34m,\u001b[0m \u001b[0;34m**\u001b[0m\u001b[0mkwargs\u001b[0m\u001b[0;34m)\u001b[0m\u001b[0;34m:\u001b[0m\u001b[0;34m\u001b[0m\u001b[0;34m\u001b[0m\u001b[0m\n",
            "\u001b[0;32m/usr/local/lib/python3.7/dist-packages/nltk/draw/tree.py\u001b[0m in \u001b[0;36mdraw_trees\u001b[0;34m(*trees)\u001b[0m\n\u001b[1;32m    861\u001b[0m     \u001b[0;34m:\u001b[0m\u001b[0mrtype\u001b[0m\u001b[0;34m:\u001b[0m \u001b[0;32mNone\u001b[0m\u001b[0;34m\u001b[0m\u001b[0;34m\u001b[0m\u001b[0m\n\u001b[1;32m    862\u001b[0m     \"\"\"\n\u001b[0;32m--> 863\u001b[0;31m     \u001b[0mTreeView\u001b[0m\u001b[0;34m(\u001b[0m\u001b[0;34m*\u001b[0m\u001b[0mtrees\u001b[0m\u001b[0;34m)\u001b[0m\u001b[0;34m.\u001b[0m\u001b[0mmainloop\u001b[0m\u001b[0;34m(\u001b[0m\u001b[0;34m)\u001b[0m\u001b[0;34m\u001b[0m\u001b[0;34m\u001b[0m\u001b[0m\n\u001b[0m\u001b[1;32m    864\u001b[0m     \u001b[0;32mreturn\u001b[0m\u001b[0;34m\u001b[0m\u001b[0;34m\u001b[0m\u001b[0m\n\u001b[1;32m    865\u001b[0m \u001b[0;34m\u001b[0m\u001b[0m\n",
            "\u001b[0;32m/usr/local/lib/python3.7/dist-packages/nltk/draw/tree.py\u001b[0m in \u001b[0;36m__init__\u001b[0;34m(self, *trees)\u001b[0m\n\u001b[1;32m    754\u001b[0m         \u001b[0mself\u001b[0m\u001b[0;34m.\u001b[0m\u001b[0m_trees\u001b[0m \u001b[0;34m=\u001b[0m \u001b[0mtrees\u001b[0m\u001b[0;34m\u001b[0m\u001b[0;34m\u001b[0m\u001b[0m\n\u001b[1;32m    755\u001b[0m \u001b[0;34m\u001b[0m\u001b[0m\n\u001b[0;32m--> 756\u001b[0;31m         \u001b[0mself\u001b[0m\u001b[0;34m.\u001b[0m\u001b[0m_top\u001b[0m \u001b[0;34m=\u001b[0m \u001b[0mTk\u001b[0m\u001b[0;34m(\u001b[0m\u001b[0;34m)\u001b[0m\u001b[0;34m\u001b[0m\u001b[0;34m\u001b[0m\u001b[0m\n\u001b[0m\u001b[1;32m    757\u001b[0m         \u001b[0mself\u001b[0m\u001b[0;34m.\u001b[0m\u001b[0m_top\u001b[0m\u001b[0;34m.\u001b[0m\u001b[0mtitle\u001b[0m\u001b[0;34m(\u001b[0m\u001b[0;34m'NLTK'\u001b[0m\u001b[0;34m)\u001b[0m\u001b[0;34m\u001b[0m\u001b[0;34m\u001b[0m\u001b[0m\n\u001b[1;32m    758\u001b[0m         \u001b[0mself\u001b[0m\u001b[0;34m.\u001b[0m\u001b[0m_top\u001b[0m\u001b[0;34m.\u001b[0m\u001b[0mbind\u001b[0m\u001b[0;34m(\u001b[0m\u001b[0;34m'<Control-x>'\u001b[0m\u001b[0;34m,\u001b[0m \u001b[0mself\u001b[0m\u001b[0;34m.\u001b[0m\u001b[0mdestroy\u001b[0m\u001b[0;34m)\u001b[0m\u001b[0;34m\u001b[0m\u001b[0;34m\u001b[0m\u001b[0m\n",
            "\u001b[0;32m/usr/lib/python3.7/tkinter/__init__.py\u001b[0m in \u001b[0;36m__init__\u001b[0;34m(self, screenName, baseName, className, useTk, sync, use)\u001b[0m\n\u001b[1;32m   2021\u001b[0m                 \u001b[0mbaseName\u001b[0m \u001b[0;34m=\u001b[0m \u001b[0mbaseName\u001b[0m \u001b[0;34m+\u001b[0m \u001b[0mext\u001b[0m\u001b[0;34m\u001b[0m\u001b[0;34m\u001b[0m\u001b[0m\n\u001b[1;32m   2022\u001b[0m         \u001b[0minteractive\u001b[0m \u001b[0;34m=\u001b[0m \u001b[0;36m0\u001b[0m\u001b[0;34m\u001b[0m\u001b[0;34m\u001b[0m\u001b[0m\n\u001b[0;32m-> 2023\u001b[0;31m         \u001b[0mself\u001b[0m\u001b[0;34m.\u001b[0m\u001b[0mtk\u001b[0m \u001b[0;34m=\u001b[0m \u001b[0m_tkinter\u001b[0m\u001b[0;34m.\u001b[0m\u001b[0mcreate\u001b[0m\u001b[0;34m(\u001b[0m\u001b[0mscreenName\u001b[0m\u001b[0;34m,\u001b[0m \u001b[0mbaseName\u001b[0m\u001b[0;34m,\u001b[0m \u001b[0mclassName\u001b[0m\u001b[0;34m,\u001b[0m \u001b[0minteractive\u001b[0m\u001b[0;34m,\u001b[0m \u001b[0mwantobjects\u001b[0m\u001b[0;34m,\u001b[0m \u001b[0museTk\u001b[0m\u001b[0;34m,\u001b[0m \u001b[0msync\u001b[0m\u001b[0;34m,\u001b[0m \u001b[0muse\u001b[0m\u001b[0;34m)\u001b[0m\u001b[0;34m\u001b[0m\u001b[0;34m\u001b[0m\u001b[0m\n\u001b[0m\u001b[1;32m   2024\u001b[0m         \u001b[0;32mif\u001b[0m \u001b[0museTk\u001b[0m\u001b[0;34m:\u001b[0m\u001b[0;34m\u001b[0m\u001b[0;34m\u001b[0m\u001b[0m\n\u001b[1;32m   2025\u001b[0m             \u001b[0mself\u001b[0m\u001b[0;34m.\u001b[0m\u001b[0m_loadtk\u001b[0m\u001b[0;34m(\u001b[0m\u001b[0;34m)\u001b[0m\u001b[0;34m\u001b[0m\u001b[0;34m\u001b[0m\u001b[0m\n",
            "\u001b[0;31mTclError\u001b[0m: no display name and no $DISPLAY environment variable"
          ]
        }
      ]
    },
    {
      "cell_type": "markdown",
      "metadata": {
        "id": "rTAW72PZiBTu"
      },
      "source": [
        "We are now able to successfully generate the parse tree for our sample sentence.\n",
        "You can see the visual representation of the tree in Figure 3-7 . Remember that this is a probabilistic PCFG parser , and you can see the overall probability of this tree mentioned in the output earlier when we printed our parse tree. The notations of the tags followed here are all based on the Treebank annotations we discussed earlier. Thus this shows how to build our own constituency-based parser."
      ]
    },
    {
      "cell_type": "code",
      "metadata": {
        "id": "4f_S4ZmVhj89"
      },
      "source": [
        ""
      ],
      "execution_count": null,
      "outputs": []
    },
    {
      "cell_type": "code",
      "metadata": {
        "id": "XyjDD6BQhkFJ"
      },
      "source": [
        ""
      ],
      "execution_count": null,
      "outputs": []
    },
    {
      "cell_type": "code",
      "metadata": {
        "id": "xyo7VUJthkKR"
      },
      "source": [
        ""
      ],
      "execution_count": null,
      "outputs": []
    },
    {
      "cell_type": "code",
      "metadata": {
        "id": "BfV6zu4QhkN_"
      },
      "source": [
        ""
      ],
      "execution_count": null,
      "outputs": []
    }
  ]
}